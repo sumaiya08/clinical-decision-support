{
  "nbformat": 4,
  "nbformat_minor": 0,
  "metadata": {
    "colab": {
      "name": "EDA.ipynb",
      "provenance": [],
      "collapsed_sections": [],
      "authorship_tag": "ABX9TyP6t8kZLRuqOXpCy1qyENvX",
      "include_colab_link": true
    },
    "kernelspec": {
      "name": "python3",
      "display_name": "Python 3"
    }
  },
  "cells": [
    {
      "cell_type": "markdown",
      "metadata": {
        "id": "view-in-github",
        "colab_type": "text"
      },
      "source": [
        "<a href=\"https://colab.research.google.com/github/sumaiya08/medicaldata/blob/master/EDA.ipynb\" target=\"_parent\"><img src=\"https://colab.research.google.com/assets/colab-badge.svg\" alt=\"Open In Colab\"/></a>"
      ]
    },
    {
      "cell_type": "code",
      "metadata": {
        "id": "CF91RAclQKQw",
        "colab_type": "code",
        "colab": {}
      },
      "source": [
        "import os\n",
        "import numpy as np\n",
        "import pandas as pd\n",
        "import matplotlib.pyplot as plt\n",
        "import seaborn as sns\n",
        "import pandas.util.testing as tm\n",
        "sns.set()\n",
        "# Access data using Google BigQuery.\n",
        "from google.colab import auth\n",
        "from google.cloud import bigquery"
      ],
      "execution_count": 0,
      "outputs": []
    },
    {
      "cell_type": "code",
      "metadata": {
        "id": "nlvum-qEQYrx",
        "colab_type": "code",
        "outputId": "0585dfbc-7910-4795-dbc9-ae994343c48d",
        "colab": {
          "base_uri": "https://localhost:8080/",
          "height": 34
        }
      },
      "source": [
        "auth.authenticate_user()\n",
        "print('Authenticated')\n"
      ],
      "execution_count": 0,
      "outputs": [
        {
          "output_type": "stream",
          "text": [
            "Authenticated\n"
          ],
          "name": "stdout"
        }
      ]
    },
    {
      "cell_type": "code",
      "metadata": {
        "id": "7-ZgHULDQyj5",
        "colab_type": "code",
        "colab": {}
      },
      "source": [
        "project_id='eicudata'"
      ],
      "execution_count": 0,
      "outputs": []
    },
    {
      "cell_type": "markdown",
      "metadata": {
        "id": "23FHQWios2ez",
        "colab_type": "text"
      },
      "source": [
        "Total number of hospitals in the database -"
      ]
    },
    {
      "cell_type": "code",
      "metadata": {
        "id": "cP645fqjs2_k",
        "colab_type": "code",
        "colab": {}
      },
      "source": [
        "%%bigquery --project $project_id totalhosp\n",
        "Select COUNT (DISTINCT hospitalid)\n",
        "from `physionet-data.eicu_crd.hospital`;"
      ],
      "execution_count": 0,
      "outputs": []
    },
    {
      "cell_type": "code",
      "metadata": {
        "id": "LYBC4g20tTRa",
        "colab_type": "code",
        "outputId": "150de5ad-b59b-426b-bd29-6d4162667e33",
        "colab": {
          "base_uri": "https://localhost:8080/",
          "height": 77
        }
      },
      "source": [
        "totalhosp"
      ],
      "execution_count": 0,
      "outputs": [
        {
          "output_type": "execute_result",
          "data": {
            "text/html": [
              "<div>\n",
              "<style scoped>\n",
              "    .dataframe tbody tr th:only-of-type {\n",
              "        vertical-align: middle;\n",
              "    }\n",
              "\n",
              "    .dataframe tbody tr th {\n",
              "        vertical-align: top;\n",
              "    }\n",
              "\n",
              "    .dataframe thead th {\n",
              "        text-align: right;\n",
              "    }\n",
              "</style>\n",
              "<table border=\"1\" class=\"dataframe\">\n",
              "  <thead>\n",
              "    <tr style=\"text-align: right;\">\n",
              "      <th></th>\n",
              "      <th>f0_</th>\n",
              "    </tr>\n",
              "  </thead>\n",
              "  <tbody>\n",
              "    <tr>\n",
              "      <th>0</th>\n",
              "      <td>208</td>\n",
              "    </tr>\n",
              "  </tbody>\n",
              "</table>\n",
              "</div>"
            ],
            "text/plain": [
              "   f0_\n",
              "0  208"
            ]
          },
          "metadata": {
            "tags": []
          },
          "execution_count": 5
        }
      ]
    },
    {
      "cell_type": "markdown",
      "metadata": {
        "id": "ixE6fSZzspXP",
        "colab_type": "text"
      },
      "source": [
        "Total number of ICU'S - "
      ]
    },
    {
      "cell_type": "code",
      "metadata": {
        "id": "fimNNmkQRA9w",
        "colab_type": "code",
        "colab": {}
      },
      "source": [
        "%%bigquery --project $project_id totalicu\n",
        "SELECT COUNT (DISTINCT wardid )\n",
        "FROM `physionet-data.eicu_crd.patient`\n"
      ],
      "execution_count": 0,
      "outputs": []
    },
    {
      "cell_type": "code",
      "metadata": {
        "id": "L67HY-U1RjR8",
        "colab_type": "code",
        "outputId": "52a17c68-b6a3-480e-8305-db2cf2feae18",
        "colab": {
          "base_uri": "https://localhost:8080/",
          "height": 77
        }
      },
      "source": [
        "totalicu"
      ],
      "execution_count": 0,
      "outputs": [
        {
          "output_type": "execute_result",
          "data": {
            "text/html": [
              "<div>\n",
              "<style scoped>\n",
              "    .dataframe tbody tr th:only-of-type {\n",
              "        vertical-align: middle;\n",
              "    }\n",
              "\n",
              "    .dataframe tbody tr th {\n",
              "        vertical-align: top;\n",
              "    }\n",
              "\n",
              "    .dataframe thead th {\n",
              "        text-align: right;\n",
              "    }\n",
              "</style>\n",
              "<table border=\"1\" class=\"dataframe\">\n",
              "  <thead>\n",
              "    <tr style=\"text-align: right;\">\n",
              "      <th></th>\n",
              "      <th>f0_</th>\n",
              "    </tr>\n",
              "  </thead>\n",
              "  <tbody>\n",
              "    <tr>\n",
              "      <th>0</th>\n",
              "      <td>335</td>\n",
              "    </tr>\n",
              "  </tbody>\n",
              "</table>\n",
              "</div>"
            ],
            "text/plain": [
              "   f0_\n",
              "0  335"
            ]
          },
          "metadata": {
            "tags": []
          },
          "execution_count": 7
        }
      ]
    },
    {
      "cell_type": "markdown",
      "metadata": {
        "id": "riATLPBHtoOP",
        "colab_type": "text"
      },
      "source": [
        "Procedures that have ICD 9/10 codes available -"
      ]
    },
    {
      "cell_type": "code",
      "metadata": {
        "id": "QmjhviPloidy",
        "colab_type": "code",
        "colab": {}
      },
      "source": [
        "%%bigquery --project $project_id icdcode\n",
        "select diagnosisstring,icd9code,count(*) as count\n",
        "from `physionet-data.eicu_crd.diagnosis` \n",
        "where icd9code is not null\n",
        "group by diagnosisstring, icd9code\n"
      ],
      "execution_count": 0,
      "outputs": []
    },
    {
      "cell_type": "code",
      "metadata": {
        "id": "C5_09LQfpJP9",
        "colab_type": "code",
        "outputId": "cdef9d9f-0ba9-479d-82eb-080631a84e22",
        "colab": {
          "base_uri": "https://localhost:8080/",
          "height": 402
        }
      },
      "source": [
        "icdcode"
      ],
      "execution_count": 0,
      "outputs": [
        {
          "output_type": "execute_result",
          "data": {
            "text/html": [
              "<div>\n",
              "<style scoped>\n",
              "    .dataframe tbody tr th:only-of-type {\n",
              "        vertical-align: middle;\n",
              "    }\n",
              "\n",
              "    .dataframe tbody tr th {\n",
              "        vertical-align: top;\n",
              "    }\n",
              "\n",
              "    .dataframe thead th {\n",
              "        text-align: right;\n",
              "    }\n",
              "</style>\n",
              "<table border=\"1\" class=\"dataframe\">\n",
              "  <thead>\n",
              "    <tr style=\"text-align: right;\">\n",
              "      <th></th>\n",
              "      <th>diagnosisstring</th>\n",
              "      <th>icd9code</th>\n",
              "      <th>count</th>\n",
              "    </tr>\n",
              "  </thead>\n",
              "  <tbody>\n",
              "    <tr>\n",
              "      <th>0</th>\n",
              "      <td>cardiovascular|shock / hypotension|hypovolemic...</td>\n",
              "      <td>785.59, R57.1, R58</td>\n",
              "      <td>3249</td>\n",
              "    </tr>\n",
              "    <tr>\n",
              "      <th>1</th>\n",
              "      <td>cardiovascular|diseases of the aorta|aortic an...</td>\n",
              "      <td>441.4, I71.4</td>\n",
              "      <td>727</td>\n",
              "    </tr>\n",
              "    <tr>\n",
              "      <th>2</th>\n",
              "      <td>cardiovascular|diseases of the aorta|aortic an...</td>\n",
              "      <td>441.9, I71.9</td>\n",
              "      <td>81</td>\n",
              "    </tr>\n",
              "    <tr>\n",
              "      <th>3</th>\n",
              "      <td>pulmonary|disorders of the airways|asthma / br...</td>\n",
              "      <td>493.90, J45</td>\n",
              "      <td>7593</td>\n",
              "    </tr>\n",
              "    <tr>\n",
              "      <th>4</th>\n",
              "      <td>oncology|hematologic malignancy|leukemia|chron...</td>\n",
              "      <td>204.10, C91.10</td>\n",
              "      <td>394</td>\n",
              "    </tr>\n",
              "    <tr>\n",
              "      <th>...</th>\n",
              "      <td>...</td>\n",
              "      <td>...</td>\n",
              "      <td>...</td>\n",
              "    </tr>\n",
              "    <tr>\n",
              "      <th>3928</th>\n",
              "      <td>renal|disorder of acid base|metabolic acidosis...</td>\n",
              "      <td>276.2, E87.2</td>\n",
              "      <td>5</td>\n",
              "    </tr>\n",
              "    <tr>\n",
              "      <th>3929</th>\n",
              "      <td>surgery|neurosurgical issues|seizures|from tumor</td>\n",
              "      <td>345.90, R56.9</td>\n",
              "      <td>1</td>\n",
              "    </tr>\n",
              "    <tr>\n",
              "      <th>3930</th>\n",
              "      <td>pulmonary|respiratory failure|acute respirator...</td>\n",
              "      <td>518.81, J96.00</td>\n",
              "      <td>1</td>\n",
              "    </tr>\n",
              "    <tr>\n",
              "      <th>3931</th>\n",
              "      <td>surgery|respiratory failure|ventilatory failur...</td>\n",
              "      <td>518.81, J96.00</td>\n",
              "      <td>1</td>\n",
              "    </tr>\n",
              "    <tr>\n",
              "      <th>3932</th>\n",
              "      <td>surgery|respiratory failure|ventilatory failur...</td>\n",
              "      <td>518.81, J96.00</td>\n",
              "      <td>1</td>\n",
              "    </tr>\n",
              "  </tbody>\n",
              "</table>\n",
              "<p>3933 rows × 3 columns</p>\n",
              "</div>"
            ],
            "text/plain": [
              "                                        diagnosisstring  ... count\n",
              "0     cardiovascular|shock / hypotension|hypovolemic...  ...  3249\n",
              "1     cardiovascular|diseases of the aorta|aortic an...  ...   727\n",
              "2     cardiovascular|diseases of the aorta|aortic an...  ...    81\n",
              "3     pulmonary|disorders of the airways|asthma / br...  ...  7593\n",
              "4     oncology|hematologic malignancy|leukemia|chron...  ...   394\n",
              "...                                                 ...  ...   ...\n",
              "3928  renal|disorder of acid base|metabolic acidosis...  ...     5\n",
              "3929   surgery|neurosurgical issues|seizures|from tumor  ...     1\n",
              "3930  pulmonary|respiratory failure|acute respirator...  ...     1\n",
              "3931  surgery|respiratory failure|ventilatory failur...  ...     1\n",
              "3932  surgery|respiratory failure|ventilatory failur...  ...     1\n",
              "\n",
              "[3933 rows x 3 columns]"
            ]
          },
          "metadata": {
            "tags": []
          },
          "execution_count": 9
        }
      ]
    },
    {
      "cell_type": "markdown",
      "metadata": {
        "id": "K5BO3YPsuSnx",
        "colab_type": "text"
      },
      "source": [
        "Top 10 diseases common amongst patients -"
      ]
    },
    {
      "cell_type": "code",
      "metadata": {
        "id": "kbArsf8JvH-y",
        "colab_type": "code",
        "colab": {}
      },
      "source": [
        "%%bigquery --project $project_id topdiseases \n",
        "select apacheadmissiondx, count(apacheadmissiondx) as count\n",
        "from `physionet-data.eicu_crd.patient` \n",
        "group by apacheadmissiondx \n",
        "order by count(apacheadmissiondx) desc\n",
        "limit 10;"
      ],
      "execution_count": 0,
      "outputs": []
    },
    {
      "cell_type": "code",
      "metadata": {
        "id": "Bq13MRMZvQCj",
        "colab_type": "code",
        "outputId": "ad08e47a-677c-4669-88cf-c879cd33bd87",
        "colab": {
          "base_uri": "https://localhost:8080/",
          "height": 343
        }
      },
      "source": [
        "topdiseases"
      ],
      "execution_count": 0,
      "outputs": [
        {
          "output_type": "execute_result",
          "data": {
            "text/html": [
              "<div>\n",
              "<style scoped>\n",
              "    .dataframe tbody tr th:only-of-type {\n",
              "        vertical-align: middle;\n",
              "    }\n",
              "\n",
              "    .dataframe tbody tr th {\n",
              "        vertical-align: top;\n",
              "    }\n",
              "\n",
              "    .dataframe thead th {\n",
              "        text-align: right;\n",
              "    }\n",
              "</style>\n",
              "<table border=\"1\" class=\"dataframe\">\n",
              "  <thead>\n",
              "    <tr style=\"text-align: right;\">\n",
              "      <th></th>\n",
              "      <th>apacheadmissiondx</th>\n",
              "      <th>count</th>\n",
              "    </tr>\n",
              "  </thead>\n",
              "  <tbody>\n",
              "    <tr>\n",
              "      <th>0</th>\n",
              "      <td></td>\n",
              "      <td>22996</td>\n",
              "    </tr>\n",
              "    <tr>\n",
              "      <th>1</th>\n",
              "      <td>Sepsis, pulmonary</td>\n",
              "      <td>8862</td>\n",
              "    </tr>\n",
              "    <tr>\n",
              "      <th>2</th>\n",
              "      <td>Infarction, acute myocardial (MI)</td>\n",
              "      <td>7228</td>\n",
              "    </tr>\n",
              "    <tr>\n",
              "      <th>3</th>\n",
              "      <td>CVA, cerebrovascular accident/stroke</td>\n",
              "      <td>6647</td>\n",
              "    </tr>\n",
              "    <tr>\n",
              "      <th>4</th>\n",
              "      <td>CHF, congestive heart failure</td>\n",
              "      <td>6617</td>\n",
              "    </tr>\n",
              "    <tr>\n",
              "      <th>5</th>\n",
              "      <td>Sepsis, renal/UTI (including bladder)</td>\n",
              "      <td>5273</td>\n",
              "    </tr>\n",
              "    <tr>\n",
              "      <th>6</th>\n",
              "      <td>Rhythm disturbance (atrial, supraventricular)</td>\n",
              "      <td>4827</td>\n",
              "    </tr>\n",
              "    <tr>\n",
              "      <th>7</th>\n",
              "      <td>Diabetic ketoacidosis</td>\n",
              "      <td>4825</td>\n",
              "    </tr>\n",
              "    <tr>\n",
              "      <th>8</th>\n",
              "      <td>Cardiac arrest (with or without respiratory ar...</td>\n",
              "      <td>4580</td>\n",
              "    </tr>\n",
              "    <tr>\n",
              "      <th>9</th>\n",
              "      <td>CABG alone, coronary artery bypass grafting</td>\n",
              "      <td>4543</td>\n",
              "    </tr>\n",
              "  </tbody>\n",
              "</table>\n",
              "</div>"
            ],
            "text/plain": [
              "                                   apacheadmissiondx  count\n",
              "0                                                     22996\n",
              "1                                  Sepsis, pulmonary   8862\n",
              "2                  Infarction, acute myocardial (MI)   7228\n",
              "3               CVA, cerebrovascular accident/stroke   6647\n",
              "4                      CHF, congestive heart failure   6617\n",
              "5              Sepsis, renal/UTI (including bladder)   5273\n",
              "6      Rhythm disturbance (atrial, supraventricular)   4827\n",
              "7                              Diabetic ketoacidosis   4825\n",
              "8  Cardiac arrest (with or without respiratory ar...   4580\n",
              "9        CABG alone, coronary artery bypass grafting   4543"
            ]
          },
          "metadata": {
            "tags": []
          },
          "execution_count": 11
        }
      ]
    },
    {
      "cell_type": "markdown",
      "metadata": {
        "id": "lT0Yw_qQv9Gh",
        "colab_type": "text"
      },
      "source": [
        "Identifying patients with heart diseases using related drug name - "
      ]
    },
    {
      "cell_type": "code",
      "metadata": {
        "id": "SEPh3tqrvRN9",
        "colab_type": "code",
        "colab": {}
      },
      "source": [
        "%%bigquery --project $project_id heartpatients \n",
        "select gender, age, ethnicity,apacheadmissiondx,drugname\n",
        "from `physionet-data.eicu_crd.admissiondrug` a\n",
        "join `physionet-data.eicu_crd.patient` b ON (\n",
        "a.patientunitstayid =b.patientunitstayid\n",
        ")\n",
        "where drugname like '%CLOPIDOGREL%' # can also look for drug WARFARIN"
      ],
      "execution_count": 0,
      "outputs": []
    },
    {
      "cell_type": "code",
      "metadata": {
        "id": "xfSqUfSxwie7",
        "colab_type": "code",
        "outputId": "4c8327a3-cd68-4ec3-d4ae-f39ba83ae3f1",
        "colab": {
          "base_uri": "https://localhost:8080/",
          "height": 402
        }
      },
      "source": [
        "heartpatients"
      ],
      "execution_count": 0,
      "outputs": [
        {
          "output_type": "execute_result",
          "data": {
            "text/html": [
              "<div>\n",
              "<style scoped>\n",
              "    .dataframe tbody tr th:only-of-type {\n",
              "        vertical-align: middle;\n",
              "    }\n",
              "\n",
              "    .dataframe tbody tr th {\n",
              "        vertical-align: top;\n",
              "    }\n",
              "\n",
              "    .dataframe thead th {\n",
              "        text-align: right;\n",
              "    }\n",
              "</style>\n",
              "<table border=\"1\" class=\"dataframe\">\n",
              "  <thead>\n",
              "    <tr style=\"text-align: right;\">\n",
              "      <th></th>\n",
              "      <th>gender</th>\n",
              "      <th>age</th>\n",
              "      <th>ethnicity</th>\n",
              "      <th>apacheadmissiondx</th>\n",
              "      <th>drugname</th>\n",
              "    </tr>\n",
              "  </thead>\n",
              "  <tbody>\n",
              "    <tr>\n",
              "      <th>0</th>\n",
              "      <td>Male</td>\n",
              "      <td>74</td>\n",
              "      <td></td>\n",
              "      <td>Endarterectomy, carotid</td>\n",
              "      <td>CLOPIDOGREL                                   ...</td>\n",
              "    </tr>\n",
              "    <tr>\n",
              "      <th>1</th>\n",
              "      <td>Male</td>\n",
              "      <td>68</td>\n",
              "      <td>Hispanic</td>\n",
              "      <td>Bleeding, upper GI</td>\n",
              "      <td>CLOPIDOGREL                                   ...</td>\n",
              "    </tr>\n",
              "    <tr>\n",
              "      <th>2</th>\n",
              "      <td>Female</td>\n",
              "      <td>74</td>\n",
              "      <td></td>\n",
              "      <td>Endarterectomy, carotid</td>\n",
              "      <td>CLOPIDOGREL                                   ...</td>\n",
              "    </tr>\n",
              "    <tr>\n",
              "      <th>3</th>\n",
              "      <td>Male</td>\n",
              "      <td>69</td>\n",
              "      <td>Caucasian</td>\n",
              "      <td>Hematoma subdural, surgery for</td>\n",
              "      <td>CLOPIDOGREL                                   ...</td>\n",
              "    </tr>\n",
              "    <tr>\n",
              "      <th>4</th>\n",
              "      <td>Male</td>\n",
              "      <td>53</td>\n",
              "      <td>Caucasian</td>\n",
              "      <td>Hemorrhage (for gastrointestinal bleeding GI-s...</td>\n",
              "      <td>CLOPIDOGREL                                   ...</td>\n",
              "    </tr>\n",
              "    <tr>\n",
              "      <th>...</th>\n",
              "      <td>...</td>\n",
              "      <td>...</td>\n",
              "      <td>...</td>\n",
              "      <td>...</td>\n",
              "      <td>...</td>\n",
              "    </tr>\n",
              "    <tr>\n",
              "      <th>1724</th>\n",
              "      <td>Female</td>\n",
              "      <td>85</td>\n",
              "      <td>African American</td>\n",
              "      <td>Hematologic medical, other</td>\n",
              "      <td>CLOPIDOGREL                                   ...</td>\n",
              "    </tr>\n",
              "    <tr>\n",
              "      <th>1725</th>\n",
              "      <td>Male</td>\n",
              "      <td>77</td>\n",
              "      <td>Caucasian</td>\n",
              "      <td>Infarction, acute myocardial (MI)</td>\n",
              "      <td>CLOPIDOGREL                                   ...</td>\n",
              "    </tr>\n",
              "    <tr>\n",
              "      <th>1726</th>\n",
              "      <td>Male</td>\n",
              "      <td>73</td>\n",
              "      <td>African American</td>\n",
              "      <td>Seizures (primary-no structural brain disease)</td>\n",
              "      <td>CLOPIDOGREL                                   ...</td>\n",
              "    </tr>\n",
              "    <tr>\n",
              "      <th>1727</th>\n",
              "      <td>Male</td>\n",
              "      <td>73</td>\n",
              "      <td>African American</td>\n",
              "      <td>CVA, cerebrovascular accident/stroke</td>\n",
              "      <td>CLOPIDOGREL                                   ...</td>\n",
              "    </tr>\n",
              "    <tr>\n",
              "      <th>1728</th>\n",
              "      <td>Male</td>\n",
              "      <td>72</td>\n",
              "      <td>Caucasian</td>\n",
              "      <td>Sepsis, renal/UTI (including bladder)</td>\n",
              "      <td>CLOPIDOGREL                                   ...</td>\n",
              "    </tr>\n",
              "  </tbody>\n",
              "</table>\n",
              "<p>1729 rows × 5 columns</p>\n",
              "</div>"
            ],
            "text/plain": [
              "      gender  ...                                           drugname\n",
              "0       Male  ...  CLOPIDOGREL                                   ...\n",
              "1       Male  ...  CLOPIDOGREL                                   ...\n",
              "2     Female  ...  CLOPIDOGREL                                   ...\n",
              "3       Male  ...  CLOPIDOGREL                                   ...\n",
              "4       Male  ...  CLOPIDOGREL                                   ...\n",
              "...      ...  ...                                                ...\n",
              "1724  Female  ...  CLOPIDOGREL                                   ...\n",
              "1725    Male  ...  CLOPIDOGREL                                   ...\n",
              "1726    Male  ...  CLOPIDOGREL                                   ...\n",
              "1727    Male  ...  CLOPIDOGREL                                   ...\n",
              "1728    Male  ...  CLOPIDOGREL                                   ...\n",
              "\n",
              "[1729 rows x 5 columns]"
            ]
          },
          "metadata": {
            "tags": []
          },
          "execution_count": 13
        }
      ]
    },
    {
      "cell_type": "markdown",
      "metadata": {
        "id": "yAl61GKXpavR",
        "colab_type": "text"
      },
      "source": [
        "Indentifying diabetic patients using drug name -"
      ]
    },
    {
      "cell_type": "code",
      "metadata": {
        "id": "B3hVxHi0pe3X",
        "colab_type": "code",
        "colab": {}
      },
      "source": [
        "%%bigquery --project $project_id diabpatients \n",
        "select gender,age,ethnicity,apacheadmissiondx,admissionheight,drugname\n",
        "from `physionet-data.eicu_crd.admissiondrug` a\n",
        "join `physionet-data.eicu_crd.patient` b ON (\n",
        "a.patientunitstayid =b.patientunitstayid\n",
        ")\n",
        "where drugname like '%GLUCAGON%'    #can also look for drug HUMULIN"
      ],
      "execution_count": 0,
      "outputs": []
    },
    {
      "cell_type": "code",
      "metadata": {
        "id": "sx_VhW23p2Tw",
        "colab_type": "code",
        "outputId": "19cd741b-c32d-44ce-ac3f-01b07d28a2b6",
        "colab": {
          "base_uri": "https://localhost:8080/",
          "height": 402
        }
      },
      "source": [
        "diabpatients"
      ],
      "execution_count": 0,
      "outputs": [
        {
          "output_type": "execute_result",
          "data": {
            "text/html": [
              "<div>\n",
              "<style scoped>\n",
              "    .dataframe tbody tr th:only-of-type {\n",
              "        vertical-align: middle;\n",
              "    }\n",
              "\n",
              "    .dataframe tbody tr th {\n",
              "        vertical-align: top;\n",
              "    }\n",
              "\n",
              "    .dataframe thead th {\n",
              "        text-align: right;\n",
              "    }\n",
              "</style>\n",
              "<table border=\"1\" class=\"dataframe\">\n",
              "  <thead>\n",
              "    <tr style=\"text-align: right;\">\n",
              "      <th></th>\n",
              "      <th>gender</th>\n",
              "      <th>age</th>\n",
              "      <th>ethnicity</th>\n",
              "      <th>apacheadmissiondx</th>\n",
              "      <th>admissionheight</th>\n",
              "      <th>drugname</th>\n",
              "    </tr>\n",
              "  </thead>\n",
              "  <tbody>\n",
              "    <tr>\n",
              "      <th>0</th>\n",
              "      <td>Female</td>\n",
              "      <td>71</td>\n",
              "      <td>African American</td>\n",
              "      <td>Embolus, pulmonary</td>\n",
              "      <td>162.6</td>\n",
              "      <td>GLUCAGON,HUMAN RECOMBINANT                    ...</td>\n",
              "    </tr>\n",
              "    <tr>\n",
              "      <th>1</th>\n",
              "      <td>Female</td>\n",
              "      <td>71</td>\n",
              "      <td>African American</td>\n",
              "      <td>Embolus, pulmonary</td>\n",
              "      <td>162.6</td>\n",
              "      <td>GLUCAGON,HUMAN RECOMBINANT                    ...</td>\n",
              "    </tr>\n",
              "    <tr>\n",
              "      <th>2</th>\n",
              "      <td>Female</td>\n",
              "      <td>71</td>\n",
              "      <td>African American</td>\n",
              "      <td>Embolus, pulmonary</td>\n",
              "      <td>162.6</td>\n",
              "      <td>GLUCAGON,HUMAN RECOMBINANT                    ...</td>\n",
              "    </tr>\n",
              "    <tr>\n",
              "      <th>3</th>\n",
              "      <td>Female</td>\n",
              "      <td>71</td>\n",
              "      <td>African American</td>\n",
              "      <td>Embolus, pulmonary</td>\n",
              "      <td>162.6</td>\n",
              "      <td>GLUCAGON,HUMAN RECOMBINANT                    ...</td>\n",
              "    </tr>\n",
              "    <tr>\n",
              "      <th>4</th>\n",
              "      <td>Female</td>\n",
              "      <td>71</td>\n",
              "      <td>African American</td>\n",
              "      <td>Embolus, pulmonary</td>\n",
              "      <td>162.6</td>\n",
              "      <td>GLUCAGON,HUMAN RECOMBINANT                    ...</td>\n",
              "    </tr>\n",
              "    <tr>\n",
              "      <th>...</th>\n",
              "      <td>...</td>\n",
              "      <td>...</td>\n",
              "      <td>...</td>\n",
              "      <td>...</td>\n",
              "      <td>...</td>\n",
              "      <td>...</td>\n",
              "    </tr>\n",
              "    <tr>\n",
              "      <th>143</th>\n",
              "      <td>Female</td>\n",
              "      <td>78</td>\n",
              "      <td>Asian</td>\n",
              "      <td>Emphysema/bronchitis</td>\n",
              "      <td>154.9</td>\n",
              "      <td>GLUCAGON EMERGENCY KIT                        ...</td>\n",
              "    </tr>\n",
              "    <tr>\n",
              "      <th>144</th>\n",
              "      <td>Female</td>\n",
              "      <td>53</td>\n",
              "      <td>Caucasian</td>\n",
              "      <td>Anaphylaxis</td>\n",
              "      <td>177.8</td>\n",
              "      <td>GLUCAGON EMERGENCY KIT                        ...</td>\n",
              "    </tr>\n",
              "    <tr>\n",
              "      <th>145</th>\n",
              "      <td>Male</td>\n",
              "      <td>60</td>\n",
              "      <td>Caucasian</td>\n",
              "      <td>Seizures (primary-no structural brain disease)</td>\n",
              "      <td>170.2</td>\n",
              "      <td>GLUCAGON EMERGENCY KIT                        ...</td>\n",
              "    </tr>\n",
              "    <tr>\n",
              "      <th>146</th>\n",
              "      <td>Male</td>\n",
              "      <td>22</td>\n",
              "      <td>Other/Unknown</td>\n",
              "      <td>Overdose, street drugs (opiates, cocaine, amph...</td>\n",
              "      <td>170.2</td>\n",
              "      <td>GLUCAGON EMERGENCY KIT                        ...</td>\n",
              "    </tr>\n",
              "    <tr>\n",
              "      <th>147</th>\n",
              "      <td>Female</td>\n",
              "      <td>75</td>\n",
              "      <td>Caucasian</td>\n",
              "      <td>Pneumonia, bacterial</td>\n",
              "      <td>154.9</td>\n",
              "      <td>GLUCAGON EMERGENCY KIT                        ...</td>\n",
              "    </tr>\n",
              "  </tbody>\n",
              "</table>\n",
              "<p>148 rows × 6 columns</p>\n",
              "</div>"
            ],
            "text/plain": [
              "     gender  ...                                           drugname\n",
              "0    Female  ...  GLUCAGON,HUMAN RECOMBINANT                    ...\n",
              "1    Female  ...  GLUCAGON,HUMAN RECOMBINANT                    ...\n",
              "2    Female  ...  GLUCAGON,HUMAN RECOMBINANT                    ...\n",
              "3    Female  ...  GLUCAGON,HUMAN RECOMBINANT                    ...\n",
              "4    Female  ...  GLUCAGON,HUMAN RECOMBINANT                    ...\n",
              "..      ...  ...                                                ...\n",
              "143  Female  ...  GLUCAGON EMERGENCY KIT                        ...\n",
              "144  Female  ...  GLUCAGON EMERGENCY KIT                        ...\n",
              "145    Male  ...  GLUCAGON EMERGENCY KIT                        ...\n",
              "146    Male  ...  GLUCAGON EMERGENCY KIT                        ...\n",
              "147  Female  ...  GLUCAGON EMERGENCY KIT                        ...\n",
              "\n",
              "[148 rows x 6 columns]"
            ]
          },
          "metadata": {
            "tags": []
          },
          "execution_count": 15
        }
      ]
    },
    {
      "cell_type": "markdown",
      "metadata": {
        "id": "qOCYPxaIqKsM",
        "colab_type": "text"
      },
      "source": [
        "Types of procedures patients come for -"
      ]
    },
    {
      "cell_type": "code",
      "metadata": {
        "id": "w6MVXALYqPgT",
        "colab_type": "code",
        "colab": {}
      },
      "source": [
        "%%bigquery --project $project_id procedures \n",
        "select treatmentstring, count (treatmentstring) as count\n",
        "from `physionet-data.eicu_crd.treatment` \n",
        "group by treatmentstring\n",
        "order by count(treatmentstring) desc\n",
        "limit 5;"
      ],
      "execution_count": 0,
      "outputs": []
    },
    {
      "cell_type": "code",
      "metadata": {
        "id": "I1f4CG43qZgh",
        "colab_type": "code",
        "outputId": "5be05e80-cd6e-4e4f-814b-82987b10c090",
        "colab": {
          "base_uri": "https://localhost:8080/",
          "height": 195
        }
      },
      "source": [
        "procedures"
      ],
      "execution_count": 0,
      "outputs": [
        {
          "output_type": "execute_result",
          "data": {
            "text/html": [
              "<div>\n",
              "<style scoped>\n",
              "    .dataframe tbody tr th:only-of-type {\n",
              "        vertical-align: middle;\n",
              "    }\n",
              "\n",
              "    .dataframe tbody tr th {\n",
              "        vertical-align: top;\n",
              "    }\n",
              "\n",
              "    .dataframe thead th {\n",
              "        text-align: right;\n",
              "    }\n",
              "</style>\n",
              "<table border=\"1\" class=\"dataframe\">\n",
              "  <thead>\n",
              "    <tr style=\"text-align: right;\">\n",
              "      <th></th>\n",
              "      <th>treatmentstring</th>\n",
              "      <th>count</th>\n",
              "    </tr>\n",
              "  </thead>\n",
              "  <tbody>\n",
              "    <tr>\n",
              "      <th>0</th>\n",
              "      <td>pulmonary|ventilation and oxygenation|mechanic...</td>\n",
              "      <td>117481</td>\n",
              "    </tr>\n",
              "    <tr>\n",
              "      <th>1</th>\n",
              "      <td>pulmonary|radiologic procedures / bronchoscopy...</td>\n",
              "      <td>65148</td>\n",
              "    </tr>\n",
              "    <tr>\n",
              "      <th>2</th>\n",
              "      <td>neurologic|pain / agitation / altered mentatio...</td>\n",
              "      <td>46055</td>\n",
              "    </tr>\n",
              "    <tr>\n",
              "      <th>3</th>\n",
              "      <td>renal|urinary catheters|foley catheter</td>\n",
              "      <td>40672</td>\n",
              "    </tr>\n",
              "    <tr>\n",
              "      <th>4</th>\n",
              "      <td>cardiovascular|intravenous fluid|normal saline...</td>\n",
              "      <td>40522</td>\n",
              "    </tr>\n",
              "  </tbody>\n",
              "</table>\n",
              "</div>"
            ],
            "text/plain": [
              "                                     treatmentstring   count\n",
              "0  pulmonary|ventilation and oxygenation|mechanic...  117481\n",
              "1  pulmonary|radiologic procedures / bronchoscopy...   65148\n",
              "2  neurologic|pain / agitation / altered mentatio...   46055\n",
              "3             renal|urinary catheters|foley catheter   40672\n",
              "4  cardiovascular|intravenous fluid|normal saline...   40522"
            ]
          },
          "metadata": {
            "tags": []
          },
          "execution_count": 17
        }
      ]
    },
    {
      "cell_type": "markdown",
      "metadata": {
        "id": "1qbdcL__qjrT",
        "colab_type": "text"
      },
      "source": [
        "Identifying patients that underwent heart procedures -"
      ]
    },
    {
      "cell_type": "code",
      "metadata": {
        "id": "tolbongPqrqO",
        "colab_type": "code",
        "colab": {}
      },
      "source": [
        "%%bigquery --project $project_id heartprocedure \n",
        "select gender,age,ethnicity,apacheadmissiondx,treatmentstring\n",
        "from `physionet-data.eicu_crd.treatment`  a\n",
        "join `physionet-data.eicu_crd.patient` b ON (\n",
        "a.patientunitstayid =b.patientunitstayid\n",
        ")\n",
        "where a.treatmentstring  like '%cardio%'"
      ],
      "execution_count": 0,
      "outputs": []
    },
    {
      "cell_type": "code",
      "metadata": {
        "id": "c6_8yJSFqagz",
        "colab_type": "code",
        "outputId": "0a0bfb1f-14cf-450f-bafb-447b96f57bfa",
        "colab": {
          "base_uri": "https://localhost:8080/",
          "height": 402
        }
      },
      "source": [
        "heartprocedure"
      ],
      "execution_count": 0,
      "outputs": [
        {
          "output_type": "execute_result",
          "data": {
            "text/html": [
              "<div>\n",
              "<style scoped>\n",
              "    .dataframe tbody tr th:only-of-type {\n",
              "        vertical-align: middle;\n",
              "    }\n",
              "\n",
              "    .dataframe tbody tr th {\n",
              "        vertical-align: top;\n",
              "    }\n",
              "\n",
              "    .dataframe thead th {\n",
              "        text-align: right;\n",
              "    }\n",
              "</style>\n",
              "<table border=\"1\" class=\"dataframe\">\n",
              "  <thead>\n",
              "    <tr style=\"text-align: right;\">\n",
              "      <th></th>\n",
              "      <th>gender</th>\n",
              "      <th>age</th>\n",
              "      <th>ethnicity</th>\n",
              "      <th>apacheadmissiondx</th>\n",
              "      <th>treatmentstring</th>\n",
              "    </tr>\n",
              "  </thead>\n",
              "  <tbody>\n",
              "    <tr>\n",
              "      <th>0</th>\n",
              "      <td>Female</td>\n",
              "      <td>75</td>\n",
              "      <td>Other/Unknown</td>\n",
              "      <td>Emphysema/bronchitis</td>\n",
              "      <td>cardiovascular|arrhythmias|digoxin</td>\n",
              "    </tr>\n",
              "    <tr>\n",
              "      <th>1</th>\n",
              "      <td>Female</td>\n",
              "      <td>75</td>\n",
              "      <td>Other/Unknown</td>\n",
              "      <td>Emphysema/bronchitis</td>\n",
              "      <td>cardiovascular|arrhythmias|digoxin</td>\n",
              "    </tr>\n",
              "    <tr>\n",
              "      <th>2</th>\n",
              "      <td>Female</td>\n",
              "      <td>75</td>\n",
              "      <td>Other/Unknown</td>\n",
              "      <td>Emphysema/bronchitis</td>\n",
              "      <td>cardiovascular|arrhythmias|calcium channel blo...</td>\n",
              "    </tr>\n",
              "    <tr>\n",
              "      <th>3</th>\n",
              "      <td>Female</td>\n",
              "      <td>75</td>\n",
              "      <td>Other/Unknown</td>\n",
              "      <td>Emphysema/bronchitis</td>\n",
              "      <td>cardiovascular|arrhythmias|calcium channel blo...</td>\n",
              "    </tr>\n",
              "    <tr>\n",
              "      <th>4</th>\n",
              "      <td>Male</td>\n",
              "      <td>46</td>\n",
              "      <td>Caucasian</td>\n",
              "      <td>Pneumonia, other</td>\n",
              "      <td>cardiovascular|non-operative procedures|diagno...</td>\n",
              "    </tr>\n",
              "    <tr>\n",
              "      <th>...</th>\n",
              "      <td>...</td>\n",
              "      <td>...</td>\n",
              "      <td>...</td>\n",
              "      <td>...</td>\n",
              "      <td>...</td>\n",
              "    </tr>\n",
              "    <tr>\n",
              "      <th>860530</th>\n",
              "      <td>Male</td>\n",
              "      <td>74</td>\n",
              "      <td>Caucasian</td>\n",
              "      <td>Hematomas</td>\n",
              "      <td>cardiovascular|hypertension|vasodilating agent...</td>\n",
              "    </tr>\n",
              "    <tr>\n",
              "      <th>860531</th>\n",
              "      <td>Male</td>\n",
              "      <td>74</td>\n",
              "      <td>Caucasian</td>\n",
              "      <td>Hematomas</td>\n",
              "      <td>cardiovascular|myocardial ischemia / infarctio...</td>\n",
              "    </tr>\n",
              "    <tr>\n",
              "      <th>860532</th>\n",
              "      <td>Male</td>\n",
              "      <td>74</td>\n",
              "      <td>Caucasian</td>\n",
              "      <td>Hematomas</td>\n",
              "      <td>cardiovascular|intravenous fluid|Lactated Ring...</td>\n",
              "    </tr>\n",
              "    <tr>\n",
              "      <th>860533</th>\n",
              "      <td>Male</td>\n",
              "      <td>76</td>\n",
              "      <td>Caucasian</td>\n",
              "      <td>Encephalopathies (excluding hepatic)</td>\n",
              "      <td>cardiovascular|intravenous fluid|normal saline...</td>\n",
              "    </tr>\n",
              "    <tr>\n",
              "      <th>860534</th>\n",
              "      <td>Male</td>\n",
              "      <td>66</td>\n",
              "      <td>Caucasian</td>\n",
              "      <td>Pneumonia, bacterial</td>\n",
              "      <td>cardiovascular|arrhythmias|antiarrhythmics|cla...</td>\n",
              "    </tr>\n",
              "  </tbody>\n",
              "</table>\n",
              "<p>860535 rows × 5 columns</p>\n",
              "</div>"
            ],
            "text/plain": [
              "        gender  ...                                    treatmentstring\n",
              "0       Female  ...                 cardiovascular|arrhythmias|digoxin\n",
              "1       Female  ...                 cardiovascular|arrhythmias|digoxin\n",
              "2       Female  ...  cardiovascular|arrhythmias|calcium channel blo...\n",
              "3       Female  ...  cardiovascular|arrhythmias|calcium channel blo...\n",
              "4         Male  ...  cardiovascular|non-operative procedures|diagno...\n",
              "...        ...  ...                                                ...\n",
              "860530    Male  ...  cardiovascular|hypertension|vasodilating agent...\n",
              "860531    Male  ...  cardiovascular|myocardial ischemia / infarctio...\n",
              "860532    Male  ...  cardiovascular|intravenous fluid|Lactated Ring...\n",
              "860533    Male  ...  cardiovascular|intravenous fluid|normal saline...\n",
              "860534    Male  ...  cardiovascular|arrhythmias|antiarrhythmics|cla...\n",
              "\n",
              "[860535 rows x 5 columns]"
            ]
          },
          "metadata": {
            "tags": []
          },
          "execution_count": 19
        }
      ]
    },
    {
      "cell_type": "markdown",
      "metadata": {
        "id": "pFao-T-drXud",
        "colab_type": "text"
      },
      "source": [
        "Indentifying heart patients that die before being released from their stay -"
      ]
    },
    {
      "cell_type": "code",
      "metadata": {
        "id": "CDRynjQvrnkV",
        "colab_type": "code",
        "colab": {}
      },
      "source": [
        "%%bigquery --project $project_id death_heart\n",
        "select gender, age, ethnicity,apacheadmissiondx,hospitaldischargestatus\n",
        "from `physionet-data.eicu_crd.patient` \n",
        "where apacheadmissiondx like '%Cardi%' and hospitaldischargestatus like '%Expire%';"
      ],
      "execution_count": 0,
      "outputs": []
    },
    {
      "cell_type": "code",
      "metadata": {
        "id": "c2QlefXJryBJ",
        "colab_type": "code",
        "outputId": "c7d4bcc2-cad1-4194-b9e6-dfce020f2b00",
        "colab": {
          "base_uri": "https://localhost:8080/",
          "height": 402
        }
      },
      "source": [
        "death_heart"
      ],
      "execution_count": 0,
      "outputs": [
        {
          "output_type": "execute_result",
          "data": {
            "text/html": [
              "<div>\n",
              "<style scoped>\n",
              "    .dataframe tbody tr th:only-of-type {\n",
              "        vertical-align: middle;\n",
              "    }\n",
              "\n",
              "    .dataframe tbody tr th {\n",
              "        vertical-align: top;\n",
              "    }\n",
              "\n",
              "    .dataframe thead th {\n",
              "        text-align: right;\n",
              "    }\n",
              "</style>\n",
              "<table border=\"1\" class=\"dataframe\">\n",
              "  <thead>\n",
              "    <tr style=\"text-align: right;\">\n",
              "      <th></th>\n",
              "      <th>gender</th>\n",
              "      <th>age</th>\n",
              "      <th>ethnicity</th>\n",
              "      <th>apacheadmissiondx</th>\n",
              "      <th>hospitaldischargestatus</th>\n",
              "    </tr>\n",
              "  </thead>\n",
              "  <tbody>\n",
              "    <tr>\n",
              "      <th>0</th>\n",
              "      <td>Male</td>\n",
              "      <td>88</td>\n",
              "      <td>Caucasian</td>\n",
              "      <td>Cardiovascular medical, other</td>\n",
              "      <td>Expired</td>\n",
              "    </tr>\n",
              "    <tr>\n",
              "      <th>1</th>\n",
              "      <td>Female</td>\n",
              "      <td>63</td>\n",
              "      <td>African American</td>\n",
              "      <td>Cardiac arrest (with or without respiratory ar...</td>\n",
              "      <td>Expired</td>\n",
              "    </tr>\n",
              "    <tr>\n",
              "      <th>2</th>\n",
              "      <td>Male</td>\n",
              "      <td>84</td>\n",
              "      <td>Caucasian</td>\n",
              "      <td>Cardiac arrest (with or without respiratory ar...</td>\n",
              "      <td>Expired</td>\n",
              "    </tr>\n",
              "    <tr>\n",
              "      <th>3</th>\n",
              "      <td>Male</td>\n",
              "      <td>80</td>\n",
              "      <td>Hispanic</td>\n",
              "      <td>Cardiac arrest (with or without respiratory ar...</td>\n",
              "      <td>Expired</td>\n",
              "    </tr>\n",
              "    <tr>\n",
              "      <th>4</th>\n",
              "      <td>Male</td>\n",
              "      <td>59</td>\n",
              "      <td>Caucasian</td>\n",
              "      <td>Cardiac arrest (with or without respiratory ar...</td>\n",
              "      <td>Expired</td>\n",
              "    </tr>\n",
              "    <tr>\n",
              "      <th>...</th>\n",
              "      <td>...</td>\n",
              "      <td>...</td>\n",
              "      <td>...</td>\n",
              "      <td>...</td>\n",
              "      <td>...</td>\n",
              "    </tr>\n",
              "    <tr>\n",
              "      <th>2461</th>\n",
              "      <td>Male</td>\n",
              "      <td>83</td>\n",
              "      <td>Caucasian</td>\n",
              "      <td>Cardiac arrest (with or without respiratory ar...</td>\n",
              "      <td>Expired</td>\n",
              "    </tr>\n",
              "    <tr>\n",
              "      <th>2462</th>\n",
              "      <td>Female</td>\n",
              "      <td>78</td>\n",
              "      <td>Caucasian</td>\n",
              "      <td>Cardiac arrest (with or without respiratory ar...</td>\n",
              "      <td>Expired</td>\n",
              "    </tr>\n",
              "    <tr>\n",
              "      <th>2463</th>\n",
              "      <td>Male</td>\n",
              "      <td>86</td>\n",
              "      <td>Caucasian</td>\n",
              "      <td>Cardiac arrest (with or without respiratory ar...</td>\n",
              "      <td>Expired</td>\n",
              "    </tr>\n",
              "    <tr>\n",
              "      <th>2464</th>\n",
              "      <td>Male</td>\n",
              "      <td>88</td>\n",
              "      <td>Caucasian</td>\n",
              "      <td>Cardiac arrest (with or without respiratory ar...</td>\n",
              "      <td>Expired</td>\n",
              "    </tr>\n",
              "    <tr>\n",
              "      <th>2465</th>\n",
              "      <td>Male</td>\n",
              "      <td>75</td>\n",
              "      <td>Caucasian</td>\n",
              "      <td>Cardiac arrest (with or without respiratory ar...</td>\n",
              "      <td>Expired</td>\n",
              "    </tr>\n",
              "  </tbody>\n",
              "</table>\n",
              "<p>2466 rows × 5 columns</p>\n",
              "</div>"
            ],
            "text/plain": [
              "      gender  ... hospitaldischargestatus\n",
              "0       Male  ...                 Expired\n",
              "1     Female  ...                 Expired\n",
              "2       Male  ...                 Expired\n",
              "3       Male  ...                 Expired\n",
              "4       Male  ...                 Expired\n",
              "...      ...  ...                     ...\n",
              "2461    Male  ...                 Expired\n",
              "2462  Female  ...                 Expired\n",
              "2463    Male  ...                 Expired\n",
              "2464    Male  ...                 Expired\n",
              "2465    Male  ...                 Expired\n",
              "\n",
              "[2466 rows x 5 columns]"
            ]
          },
          "metadata": {
            "tags": []
          },
          "execution_count": 21
        }
      ]
    },
    {
      "cell_type": "code",
      "metadata": {
        "id": "pd_JZl95rzdP",
        "colab_type": "code",
        "outputId": "0f0e0830-1262-44a5-e252-36a9f693eb98",
        "colab": {
          "base_uri": "https://localhost:8080/",
          "height": 34
        }
      },
      "source": [
        "print('Number of Heart patients that die during their stay in the hospital - ', len(death_heart))"
      ],
      "execution_count": 0,
      "outputs": [
        {
          "output_type": "stream",
          "text": [
            "Number of Heart patients that die during their stay in the hospital -  2466\n"
          ],
          "name": "stdout"
        }
      ]
    },
    {
      "cell_type": "markdown",
      "metadata": {
        "id": "SWNSCrNhsaoX",
        "colab_type": "text"
      },
      "source": [
        "Identifying diabetic patients that die before being released from the stay -"
      ]
    },
    {
      "cell_type": "code",
      "metadata": {
        "id": "_Yg8nVg-suRq",
        "colab_type": "code",
        "colab": {}
      },
      "source": [
        "%%bigquery --project $project_id death_diab\n",
        "select gender, age, ethnicity,apacheadmissiondx,hospitaldischargestatus\n",
        "from `physionet-data.eicu_crd.patient` \n",
        "where apacheadmissiondx like '%Diab%' and hospitaldischargestatus like '%Expire%'"
      ],
      "execution_count": 0,
      "outputs": []
    },
    {
      "cell_type": "code",
      "metadata": {
        "id": "q3juK9wts3Mg",
        "colab_type": "code",
        "outputId": "5a69a16c-1c37-4102-8156-82543e10efce",
        "colab": {
          "base_uri": "https://localhost:8080/",
          "height": 1000
        }
      },
      "source": [
        "death_diab"
      ],
      "execution_count": 0,
      "outputs": [
        {
          "output_type": "execute_result",
          "data": {
            "text/html": [
              "<div>\n",
              "<style scoped>\n",
              "    .dataframe tbody tr th:only-of-type {\n",
              "        vertical-align: middle;\n",
              "    }\n",
              "\n",
              "    .dataframe tbody tr th {\n",
              "        vertical-align: top;\n",
              "    }\n",
              "\n",
              "    .dataframe thead th {\n",
              "        text-align: right;\n",
              "    }\n",
              "</style>\n",
              "<table border=\"1\" class=\"dataframe\">\n",
              "  <thead>\n",
              "    <tr style=\"text-align: right;\">\n",
              "      <th></th>\n",
              "      <th>gender</th>\n",
              "      <th>age</th>\n",
              "      <th>ethnicity</th>\n",
              "      <th>apacheadmissiondx</th>\n",
              "      <th>hospitaldischargestatus</th>\n",
              "    </tr>\n",
              "  </thead>\n",
              "  <tbody>\n",
              "    <tr>\n",
              "      <th>0</th>\n",
              "      <td>Male</td>\n",
              "      <td>28</td>\n",
              "      <td>Caucasian</td>\n",
              "      <td>Diabetic ketoacidosis</td>\n",
              "      <td>Expired</td>\n",
              "    </tr>\n",
              "    <tr>\n",
              "      <th>1</th>\n",
              "      <td>Male</td>\n",
              "      <td>36</td>\n",
              "      <td>Hispanic</td>\n",
              "      <td>Diabetic ketoacidosis</td>\n",
              "      <td>Expired</td>\n",
              "    </tr>\n",
              "    <tr>\n",
              "      <th>2</th>\n",
              "      <td>Female</td>\n",
              "      <td>44</td>\n",
              "      <td>Hispanic</td>\n",
              "      <td>Diabetic ketoacidosis</td>\n",
              "      <td>Expired</td>\n",
              "    </tr>\n",
              "    <tr>\n",
              "      <th>3</th>\n",
              "      <td>Female</td>\n",
              "      <td>53</td>\n",
              "      <td>Hispanic</td>\n",
              "      <td>Diabetic hyperglycemic hyperosmolar nonketotic...</td>\n",
              "      <td>Expired</td>\n",
              "    </tr>\n",
              "    <tr>\n",
              "      <th>4</th>\n",
              "      <td>Female</td>\n",
              "      <td>35</td>\n",
              "      <td>Caucasian</td>\n",
              "      <td>Diabetic ketoacidosis</td>\n",
              "      <td>Expired</td>\n",
              "    </tr>\n",
              "    <tr>\n",
              "      <th>5</th>\n",
              "      <td>Female</td>\n",
              "      <td>64</td>\n",
              "      <td>Caucasian</td>\n",
              "      <td>Diabetic ketoacidosis</td>\n",
              "      <td>Expired</td>\n",
              "    </tr>\n",
              "    <tr>\n",
              "      <th>6</th>\n",
              "      <td>Male</td>\n",
              "      <td>28</td>\n",
              "      <td>Caucasian</td>\n",
              "      <td>Diabetic ketoacidosis</td>\n",
              "      <td>Expired</td>\n",
              "    </tr>\n",
              "    <tr>\n",
              "      <th>7</th>\n",
              "      <td>Male</td>\n",
              "      <td>44</td>\n",
              "      <td>Caucasian</td>\n",
              "      <td>Diabetic ketoacidosis</td>\n",
              "      <td>Expired</td>\n",
              "    </tr>\n",
              "    <tr>\n",
              "      <th>8</th>\n",
              "      <td>Female</td>\n",
              "      <td>89</td>\n",
              "      <td>Caucasian</td>\n",
              "      <td>Diabetic hyperglycemic hyperosmolar nonketotic...</td>\n",
              "      <td>Expired</td>\n",
              "    </tr>\n",
              "    <tr>\n",
              "      <th>9</th>\n",
              "      <td>Female</td>\n",
              "      <td>63</td>\n",
              "      <td>Caucasian</td>\n",
              "      <td>Diabetic ketoacidosis</td>\n",
              "      <td>Expired</td>\n",
              "    </tr>\n",
              "    <tr>\n",
              "      <th>10</th>\n",
              "      <td>Male</td>\n",
              "      <td>39</td>\n",
              "      <td>African American</td>\n",
              "      <td>Diabetic ketoacidosis</td>\n",
              "      <td>Expired</td>\n",
              "    </tr>\n",
              "    <tr>\n",
              "      <th>11</th>\n",
              "      <td>Female</td>\n",
              "      <td>86</td>\n",
              "      <td>Asian</td>\n",
              "      <td>Diabetic ketoacidosis</td>\n",
              "      <td>Expired</td>\n",
              "    </tr>\n",
              "    <tr>\n",
              "      <th>12</th>\n",
              "      <td>Female</td>\n",
              "      <td>&gt; 89</td>\n",
              "      <td>Caucasian</td>\n",
              "      <td>Diabetic ketoacidosis</td>\n",
              "      <td>Expired</td>\n",
              "    </tr>\n",
              "    <tr>\n",
              "      <th>13</th>\n",
              "      <td>Female</td>\n",
              "      <td>83</td>\n",
              "      <td>Hispanic</td>\n",
              "      <td>Diabetic ketoacidosis</td>\n",
              "      <td>Expired</td>\n",
              "    </tr>\n",
              "    <tr>\n",
              "      <th>14</th>\n",
              "      <td>Male</td>\n",
              "      <td>60</td>\n",
              "      <td>Hispanic</td>\n",
              "      <td>Diabetic ketoacidosis</td>\n",
              "      <td>Expired</td>\n",
              "    </tr>\n",
              "    <tr>\n",
              "      <th>15</th>\n",
              "      <td>Male</td>\n",
              "      <td>81</td>\n",
              "      <td>Caucasian</td>\n",
              "      <td>Diabetic ketoacidosis</td>\n",
              "      <td>Expired</td>\n",
              "    </tr>\n",
              "    <tr>\n",
              "      <th>16</th>\n",
              "      <td>Male</td>\n",
              "      <td>64</td>\n",
              "      <td>Caucasian</td>\n",
              "      <td>Diabetic ketoacidosis</td>\n",
              "      <td>Expired</td>\n",
              "    </tr>\n",
              "    <tr>\n",
              "      <th>17</th>\n",
              "      <td>Female</td>\n",
              "      <td>87</td>\n",
              "      <td>Caucasian</td>\n",
              "      <td>Diabetic ketoacidosis</td>\n",
              "      <td>Expired</td>\n",
              "    </tr>\n",
              "    <tr>\n",
              "      <th>18</th>\n",
              "      <td>Female</td>\n",
              "      <td>51</td>\n",
              "      <td>Caucasian</td>\n",
              "      <td>Diabetic ketoacidosis</td>\n",
              "      <td>Expired</td>\n",
              "    </tr>\n",
              "    <tr>\n",
              "      <th>19</th>\n",
              "      <td>Male</td>\n",
              "      <td>68</td>\n",
              "      <td>Caucasian</td>\n",
              "      <td>Diabetic ketoacidosis</td>\n",
              "      <td>Expired</td>\n",
              "    </tr>\n",
              "    <tr>\n",
              "      <th>20</th>\n",
              "      <td>Male</td>\n",
              "      <td>64</td>\n",
              "      <td>Caucasian</td>\n",
              "      <td>Diabetic ketoacidosis</td>\n",
              "      <td>Expired</td>\n",
              "    </tr>\n",
              "    <tr>\n",
              "      <th>21</th>\n",
              "      <td>Male</td>\n",
              "      <td>21</td>\n",
              "      <td>African American</td>\n",
              "      <td>Diabetic ketoacidosis</td>\n",
              "      <td>Expired</td>\n",
              "    </tr>\n",
              "    <tr>\n",
              "      <th>22</th>\n",
              "      <td>Male</td>\n",
              "      <td>67</td>\n",
              "      <td>Caucasian</td>\n",
              "      <td>Diabetic ketoacidosis</td>\n",
              "      <td>Expired</td>\n",
              "    </tr>\n",
              "    <tr>\n",
              "      <th>23</th>\n",
              "      <td>Female</td>\n",
              "      <td>64</td>\n",
              "      <td>Caucasian</td>\n",
              "      <td>Diabetic ketoacidosis</td>\n",
              "      <td>Expired</td>\n",
              "    </tr>\n",
              "    <tr>\n",
              "      <th>24</th>\n",
              "      <td>Female</td>\n",
              "      <td>28</td>\n",
              "      <td>Caucasian</td>\n",
              "      <td>Diabetic hyperglycemic hyperosmolar nonketotic...</td>\n",
              "      <td>Expired</td>\n",
              "    </tr>\n",
              "    <tr>\n",
              "      <th>25</th>\n",
              "      <td>Male</td>\n",
              "      <td>44</td>\n",
              "      <td>Caucasian</td>\n",
              "      <td>Diabetic ketoacidosis</td>\n",
              "      <td>Expired</td>\n",
              "    </tr>\n",
              "    <tr>\n",
              "      <th>26</th>\n",
              "      <td>Male</td>\n",
              "      <td>80</td>\n",
              "      <td>Caucasian</td>\n",
              "      <td>Diabetic ketoacidosis</td>\n",
              "      <td>Expired</td>\n",
              "    </tr>\n",
              "    <tr>\n",
              "      <th>27</th>\n",
              "      <td>Male</td>\n",
              "      <td>39</td>\n",
              "      <td>African American</td>\n",
              "      <td>Diabetic ketoacidosis</td>\n",
              "      <td>Expired</td>\n",
              "    </tr>\n",
              "    <tr>\n",
              "      <th>28</th>\n",
              "      <td>Male</td>\n",
              "      <td>45</td>\n",
              "      <td>Caucasian</td>\n",
              "      <td>Diabetic ketoacidosis</td>\n",
              "      <td>Expired</td>\n",
              "    </tr>\n",
              "    <tr>\n",
              "      <th>29</th>\n",
              "      <td>Male</td>\n",
              "      <td>83</td>\n",
              "      <td>Caucasian</td>\n",
              "      <td>Diabetic ketoacidosis</td>\n",
              "      <td>Expired</td>\n",
              "    </tr>\n",
              "    <tr>\n",
              "      <th>30</th>\n",
              "      <td>Male</td>\n",
              "      <td>39</td>\n",
              "      <td>Caucasian</td>\n",
              "      <td>Diabetic ketoacidosis</td>\n",
              "      <td>Expired</td>\n",
              "    </tr>\n",
              "    <tr>\n",
              "      <th>31</th>\n",
              "      <td>Female</td>\n",
              "      <td>&gt; 89</td>\n",
              "      <td>Caucasian</td>\n",
              "      <td>Diabetic ketoacidosis</td>\n",
              "      <td>Expired</td>\n",
              "    </tr>\n",
              "    <tr>\n",
              "      <th>32</th>\n",
              "      <td>Female</td>\n",
              "      <td>&gt; 89</td>\n",
              "      <td>Caucasian</td>\n",
              "      <td>Diabetic ketoacidosis</td>\n",
              "      <td>Expired</td>\n",
              "    </tr>\n",
              "    <tr>\n",
              "      <th>33</th>\n",
              "      <td>Male</td>\n",
              "      <td>49</td>\n",
              "      <td>Caucasian</td>\n",
              "      <td>Diabetic ketoacidosis</td>\n",
              "      <td>Expired</td>\n",
              "    </tr>\n",
              "    <tr>\n",
              "      <th>34</th>\n",
              "      <td>Female</td>\n",
              "      <td>86</td>\n",
              "      <td>Caucasian</td>\n",
              "      <td>Diabetic ketoacidosis</td>\n",
              "      <td>Expired</td>\n",
              "    </tr>\n",
              "    <tr>\n",
              "      <th>35</th>\n",
              "      <td>Female</td>\n",
              "      <td>38</td>\n",
              "      <td>Caucasian</td>\n",
              "      <td>Diabetic ketoacidosis</td>\n",
              "      <td>Expired</td>\n",
              "    </tr>\n",
              "    <tr>\n",
              "      <th>36</th>\n",
              "      <td>Male</td>\n",
              "      <td>60</td>\n",
              "      <td>Caucasian</td>\n",
              "      <td>Diabetic hyperglycemic hyperosmolar nonketotic...</td>\n",
              "      <td>Expired</td>\n",
              "    </tr>\n",
              "    <tr>\n",
              "      <th>37</th>\n",
              "      <td>Female</td>\n",
              "      <td>75</td>\n",
              "      <td>Caucasian</td>\n",
              "      <td>Diabetic hyperglycemic hyperosmolar nonketotic...</td>\n",
              "      <td>Expired</td>\n",
              "    </tr>\n",
              "    <tr>\n",
              "      <th>38</th>\n",
              "      <td>Female</td>\n",
              "      <td>59</td>\n",
              "      <td>Caucasian</td>\n",
              "      <td>Diabetic hyperglycemic hyperosmolar nonketotic...</td>\n",
              "      <td>Expired</td>\n",
              "    </tr>\n",
              "  </tbody>\n",
              "</table>\n",
              "</div>"
            ],
            "text/plain": [
              "    gender  ... hospitaldischargestatus\n",
              "0     Male  ...                 Expired\n",
              "1     Male  ...                 Expired\n",
              "2   Female  ...                 Expired\n",
              "3   Female  ...                 Expired\n",
              "4   Female  ...                 Expired\n",
              "5   Female  ...                 Expired\n",
              "6     Male  ...                 Expired\n",
              "7     Male  ...                 Expired\n",
              "8   Female  ...                 Expired\n",
              "9   Female  ...                 Expired\n",
              "10    Male  ...                 Expired\n",
              "11  Female  ...                 Expired\n",
              "12  Female  ...                 Expired\n",
              "13  Female  ...                 Expired\n",
              "14    Male  ...                 Expired\n",
              "15    Male  ...                 Expired\n",
              "16    Male  ...                 Expired\n",
              "17  Female  ...                 Expired\n",
              "18  Female  ...                 Expired\n",
              "19    Male  ...                 Expired\n",
              "20    Male  ...                 Expired\n",
              "21    Male  ...                 Expired\n",
              "22    Male  ...                 Expired\n",
              "23  Female  ...                 Expired\n",
              "24  Female  ...                 Expired\n",
              "25    Male  ...                 Expired\n",
              "26    Male  ...                 Expired\n",
              "27    Male  ...                 Expired\n",
              "28    Male  ...                 Expired\n",
              "29    Male  ...                 Expired\n",
              "30    Male  ...                 Expired\n",
              "31  Female  ...                 Expired\n",
              "32  Female  ...                 Expired\n",
              "33    Male  ...                 Expired\n",
              "34  Female  ...                 Expired\n",
              "35  Female  ...                 Expired\n",
              "36    Male  ...                 Expired\n",
              "37  Female  ...                 Expired\n",
              "38  Female  ...                 Expired\n",
              "\n",
              "[39 rows x 5 columns]"
            ]
          },
          "metadata": {
            "tags": []
          },
          "execution_count": 24
        }
      ]
    },
    {
      "cell_type": "code",
      "metadata": {
        "id": "DPkO41nds6wF",
        "colab_type": "code",
        "outputId": "3459f6c5-e051-4fc2-e782-822682aaeb99",
        "colab": {
          "base_uri": "https://localhost:8080/",
          "height": 34
        }
      },
      "source": [
        "print(\"Number of Diabetic patients that die before being released from their stay -\", len(death_diab))"
      ],
      "execution_count": 0,
      "outputs": [
        {
          "output_type": "stream",
          "text": [
            "Number of Diabetic patients that die before being released from their stay - 39\n"
          ],
          "name": "stdout"
        }
      ]
    },
    {
      "cell_type": "markdown",
      "metadata": {
        "id": "kQkfjHz781aU",
        "colab_type": "text"
      },
      "source": [
        "Looking for data hiccup -"
      ]
    },
    {
      "cell_type": "code",
      "metadata": {
        "id": "67L6fE266Uto",
        "colab_type": "code",
        "colab": {}
      },
      "source": [
        "%%bigquery --project $project_id data_hic\n",
        "select uniquepid, count(patienthealthsystemstayid) as count_hosp,SUM(unitvisitnumber) as totalicuvisit\n",
        "from `physionet-data.eicu_crd.patient` \n",
        "group by uniquepid\n",
        "order by uniquepid"
      ],
      "execution_count": 0,
      "outputs": []
    },
    {
      "cell_type": "code",
      "metadata": {
        "id": "be656pTX6s3L",
        "colab_type": "code",
        "outputId": "d121d7fa-280e-42ee-b024-a1a9df12b020",
        "colab": {
          "base_uri": "https://localhost:8080/",
          "height": 402
        }
      },
      "source": [
        "data_hic"
      ],
      "execution_count": 0,
      "outputs": [
        {
          "output_type": "execute_result",
          "data": {
            "text/html": [
              "<div>\n",
              "<style scoped>\n",
              "    .dataframe tbody tr th:only-of-type {\n",
              "        vertical-align: middle;\n",
              "    }\n",
              "\n",
              "    .dataframe tbody tr th {\n",
              "        vertical-align: top;\n",
              "    }\n",
              "\n",
              "    .dataframe thead th {\n",
              "        text-align: right;\n",
              "    }\n",
              "</style>\n",
              "<table border=\"1\" class=\"dataframe\">\n",
              "  <thead>\n",
              "    <tr style=\"text-align: right;\">\n",
              "      <th></th>\n",
              "      <th>uniquepid</th>\n",
              "      <th>count_hosp</th>\n",
              "      <th>totalicuvisit</th>\n",
              "    </tr>\n",
              "  </thead>\n",
              "  <tbody>\n",
              "    <tr>\n",
              "      <th>0</th>\n",
              "      <td>002-10009</td>\n",
              "      <td>1</td>\n",
              "      <td>1</td>\n",
              "    </tr>\n",
              "    <tr>\n",
              "      <th>1</th>\n",
              "      <td>002-10018</td>\n",
              "      <td>1</td>\n",
              "      <td>1</td>\n",
              "    </tr>\n",
              "    <tr>\n",
              "      <th>2</th>\n",
              "      <td>002-10034</td>\n",
              "      <td>1</td>\n",
              "      <td>1</td>\n",
              "    </tr>\n",
              "    <tr>\n",
              "      <th>3</th>\n",
              "      <td>002-10050</td>\n",
              "      <td>3</td>\n",
              "      <td>4</td>\n",
              "    </tr>\n",
              "    <tr>\n",
              "      <th>4</th>\n",
              "      <td>002-10052</td>\n",
              "      <td>1</td>\n",
              "      <td>1</td>\n",
              "    </tr>\n",
              "    <tr>\n",
              "      <th>...</th>\n",
              "      <td>...</td>\n",
              "      <td>...</td>\n",
              "      <td>...</td>\n",
              "    </tr>\n",
              "    <tr>\n",
              "      <th>139362</th>\n",
              "      <td>035-9957</td>\n",
              "      <td>1</td>\n",
              "      <td>1</td>\n",
              "    </tr>\n",
              "    <tr>\n",
              "      <th>139363</th>\n",
              "      <td>035-9959</td>\n",
              "      <td>1</td>\n",
              "      <td>1</td>\n",
              "    </tr>\n",
              "    <tr>\n",
              "      <th>139364</th>\n",
              "      <td>035-996</td>\n",
              "      <td>1</td>\n",
              "      <td>1</td>\n",
              "    </tr>\n",
              "    <tr>\n",
              "      <th>139365</th>\n",
              "      <td>035-9966</td>\n",
              "      <td>1</td>\n",
              "      <td>1</td>\n",
              "    </tr>\n",
              "    <tr>\n",
              "      <th>139366</th>\n",
              "      <td>035-9975</td>\n",
              "      <td>1</td>\n",
              "      <td>1</td>\n",
              "    </tr>\n",
              "  </tbody>\n",
              "</table>\n",
              "<p>139367 rows × 3 columns</p>\n",
              "</div>"
            ],
            "text/plain": [
              "        uniquepid  count_hosp  totalicuvisit\n",
              "0       002-10009           1              1\n",
              "1       002-10018           1              1\n",
              "2       002-10034           1              1\n",
              "3       002-10050           3              4\n",
              "4       002-10052           1              1\n",
              "...           ...         ...            ...\n",
              "139362   035-9957           1              1\n",
              "139363   035-9959           1              1\n",
              "139364    035-996           1              1\n",
              "139365   035-9966           1              1\n",
              "139366   035-9975           1              1\n",
              "\n",
              "[139367 rows x 3 columns]"
            ]
          },
          "metadata": {
            "tags": []
          },
          "execution_count": 27
        }
      ]
    },
    {
      "cell_type": "code",
      "metadata": {
        "id": "K3uw1g--6ui6",
        "colab_type": "code",
        "outputId": "9c166a68-da33-42a6-c38b-88976af29336",
        "colab": {
          "base_uri": "https://localhost:8080/",
          "height": 101
        }
      },
      "source": [
        "rslt_df = data_hic[data_hic['count_hosp'] > data_hic['totalicuvisit']]\n",
        "print('\\n Data hiccup \\n', rslt_df)"
      ],
      "execution_count": 0,
      "outputs": [
        {
          "output_type": "stream",
          "text": [
            "\n",
            " Data hiccup \n",
            " Empty DataFrame\n",
            "Columns: [uniquepid, count_hosp, totalicuvisit]\n",
            "Index: []\n"
          ],
          "name": "stdout"
        }
      ]
    },
    {
      "cell_type": "markdown",
      "metadata": {
        "id": "Yh3zchOif3X-",
        "colab_type": "text"
      },
      "source": [
        "### Average length of stay for a patient in hospital - \n",
        "\n"
      ]
    },
    {
      "cell_type": "code",
      "metadata": {
        "id": "jXNCUrF4f_HL",
        "colab_type": "code",
        "colab": {}
      },
      "source": [
        "%%bigquery --project $project_id lengthofstay \n",
        "select patientunitstayid,patienthealthsystemstayid,(hospitaldischargeoffset-hospitaladmitoffset)/60/24 AS totalstayindays, apacheadmissiondx,uniquepid\n",
        "from `physionet-data.eicu_crd.patient` \n",
        "order by uniquepid"
      ],
      "execution_count": 0,
      "outputs": []
    },
    {
      "cell_type": "code",
      "metadata": {
        "id": "ovhoUnc49TCS",
        "colab_type": "code",
        "outputId": "04bf1c5d-1f03-4c4b-b732-c66b0058b48c",
        "colab": {
          "base_uri": "https://localhost:8080/",
          "height": 603
        }
      },
      "source": [
        "lengthofstay.info()\n",
        "lengthofstay"
      ],
      "execution_count": 0,
      "outputs": [
        {
          "output_type": "stream",
          "text": [
            "<class 'pandas.core.frame.DataFrame'>\n",
            "RangeIndex: 200859 entries, 0 to 200858\n",
            "Data columns (total 5 columns):\n",
            " #   Column                     Non-Null Count   Dtype  \n",
            "---  ------                     --------------   -----  \n",
            " 0   patientunitstayid          200859 non-null  int64  \n",
            " 1   patienthealthsystemstayid  200859 non-null  int64  \n",
            " 2   totalstayindays            200859 non-null  float64\n",
            " 3   apacheadmissiondx          200859 non-null  object \n",
            " 4   uniquepid                  200859 non-null  object \n",
            "dtypes: float64(1), int64(2), object(2)\n",
            "memory usage: 7.7+ MB\n"
          ],
          "name": "stdout"
        },
        {
          "output_type": "execute_result",
          "data": {
            "text/html": [
              "<div>\n",
              "<style scoped>\n",
              "    .dataframe tbody tr th:only-of-type {\n",
              "        vertical-align: middle;\n",
              "    }\n",
              "\n",
              "    .dataframe tbody tr th {\n",
              "        vertical-align: top;\n",
              "    }\n",
              "\n",
              "    .dataframe thead th {\n",
              "        text-align: right;\n",
              "    }\n",
              "</style>\n",
              "<table border=\"1\" class=\"dataframe\">\n",
              "  <thead>\n",
              "    <tr style=\"text-align: right;\">\n",
              "      <th></th>\n",
              "      <th>patientunitstayid</th>\n",
              "      <th>patienthealthsystemstayid</th>\n",
              "      <th>totalstayindays</th>\n",
              "      <th>apacheadmissiondx</th>\n",
              "      <th>uniquepid</th>\n",
              "    </tr>\n",
              "  </thead>\n",
              "  <tbody>\n",
              "    <tr>\n",
              "      <th>0</th>\n",
              "      <td>224606</td>\n",
              "      <td>193705</td>\n",
              "      <td>5.806944</td>\n",
              "      <td>GI perforation/rupture, surgery for</td>\n",
              "      <td>002-10009</td>\n",
              "    </tr>\n",
              "    <tr>\n",
              "      <th>1</th>\n",
              "      <td>204602</td>\n",
              "      <td>178200</td>\n",
              "      <td>16.508333</td>\n",
              "      <td>Cardiovascular medical, other</td>\n",
              "      <td>002-10018</td>\n",
              "    </tr>\n",
              "    <tr>\n",
              "      <th>2</th>\n",
              "      <td>157016</td>\n",
              "      <td>141169</td>\n",
              "      <td>5.210417</td>\n",
              "      <td>GI medical, other</td>\n",
              "      <td>002-10034</td>\n",
              "    </tr>\n",
              "    <tr>\n",
              "      <th>3</th>\n",
              "      <td>221004</td>\n",
              "      <td>190893</td>\n",
              "      <td>6.883333</td>\n",
              "      <td></td>\n",
              "      <td>002-10050</td>\n",
              "    </tr>\n",
              "    <tr>\n",
              "      <th>4</th>\n",
              "      <td>211144</td>\n",
              "      <td>183274</td>\n",
              "      <td>6.780556</td>\n",
              "      <td>Aortic valve replacement (isolated)</td>\n",
              "      <td>002-10050</td>\n",
              "    </tr>\n",
              "    <tr>\n",
              "      <th>...</th>\n",
              "      <td>...</td>\n",
              "      <td>...</td>\n",
              "      <td>...</td>\n",
              "      <td>...</td>\n",
              "      <td>...</td>\n",
              "    </tr>\n",
              "    <tr>\n",
              "      <th>200854</th>\n",
              "      <td>3351785</td>\n",
              "      <td>2741786</td>\n",
              "      <td>3.710417</td>\n",
              "      <td>Head only trauma</td>\n",
              "      <td>035-9957</td>\n",
              "    </tr>\n",
              "    <tr>\n",
              "      <th>200855</th>\n",
              "      <td>3340321</td>\n",
              "      <td>2731423</td>\n",
              "      <td>2.689583</td>\n",
              "      <td>Infarction, acute myocardial (MI)</td>\n",
              "      <td>035-9959</td>\n",
              "    </tr>\n",
              "    <tr>\n",
              "      <th>200856</th>\n",
              "      <td>3345874</td>\n",
              "      <td>2736458</td>\n",
              "      <td>7.965278</td>\n",
              "      <td>Rhythm disturbance (conduction defect)</td>\n",
              "      <td>035-996</td>\n",
              "    </tr>\n",
              "    <tr>\n",
              "      <th>200857</th>\n",
              "      <td>3352628</td>\n",
              "      <td>2742533</td>\n",
              "      <td>2.226389</td>\n",
              "      <td>Apnea-sleep; surgery for (i.e., UPPP - uvulopa...</td>\n",
              "      <td>035-9966</td>\n",
              "    </tr>\n",
              "    <tr>\n",
              "      <th>200858</th>\n",
              "      <td>3340712</td>\n",
              "      <td>2731781</td>\n",
              "      <td>8.013889</td>\n",
              "      <td>Aneurysm, abdominal aortic; with rupture</td>\n",
              "      <td>035-9975</td>\n",
              "    </tr>\n",
              "  </tbody>\n",
              "</table>\n",
              "<p>200859 rows × 5 columns</p>\n",
              "</div>"
            ],
            "text/plain": [
              "        patientunitstayid  ...  uniquepid\n",
              "0                  224606  ...  002-10009\n",
              "1                  204602  ...  002-10018\n",
              "2                  157016  ...  002-10034\n",
              "3                  221004  ...  002-10050\n",
              "4                  211144  ...  002-10050\n",
              "...                   ...  ...        ...\n",
              "200854            3351785  ...   035-9957\n",
              "200855            3340321  ...   035-9959\n",
              "200856            3345874  ...    035-996\n",
              "200857            3352628  ...   035-9966\n",
              "200858            3340712  ...   035-9975\n",
              "\n",
              "[200859 rows x 5 columns]"
            ]
          },
          "metadata": {
            "tags": []
          },
          "execution_count": 58
        }
      ]
    },
    {
      "cell_type": "markdown",
      "metadata": {
        "id": "kZlwLMT66VxZ",
        "colab_type": "text"
      },
      "source": [
        "### Dropping duplicate values for the same hospitalisation"
      ]
    },
    {
      "cell_type": "code",
      "metadata": {
        "id": "PeBTu3dL882D",
        "colab_type": "code",
        "outputId": "64921f53-854a-4689-8da4-0d02b1b69257",
        "colab": {
          "base_uri": "https://localhost:8080/",
          "height": 402
        }
      },
      "source": [
        "lengthofstay.drop_duplicates(subset='patienthealthsystemstayid',keep='first',inplace=True)\n",
        "lengthofstay"
      ],
      "execution_count": 0,
      "outputs": [
        {
          "output_type": "execute_result",
          "data": {
            "text/html": [
              "<div>\n",
              "<style scoped>\n",
              "    .dataframe tbody tr th:only-of-type {\n",
              "        vertical-align: middle;\n",
              "    }\n",
              "\n",
              "    .dataframe tbody tr th {\n",
              "        vertical-align: top;\n",
              "    }\n",
              "\n",
              "    .dataframe thead th {\n",
              "        text-align: right;\n",
              "    }\n",
              "</style>\n",
              "<table border=\"1\" class=\"dataframe\">\n",
              "  <thead>\n",
              "    <tr style=\"text-align: right;\">\n",
              "      <th></th>\n",
              "      <th>patientunitstayid</th>\n",
              "      <th>patienthealthsystemstayid</th>\n",
              "      <th>totalstayindays</th>\n",
              "      <th>apacheadmissiondx</th>\n",
              "      <th>uniquepid</th>\n",
              "    </tr>\n",
              "  </thead>\n",
              "  <tbody>\n",
              "    <tr>\n",
              "      <th>0</th>\n",
              "      <td>224606</td>\n",
              "      <td>193705</td>\n",
              "      <td>5.806944</td>\n",
              "      <td>GI perforation/rupture, surgery for</td>\n",
              "      <td>002-10009</td>\n",
              "    </tr>\n",
              "    <tr>\n",
              "      <th>1</th>\n",
              "      <td>204602</td>\n",
              "      <td>178200</td>\n",
              "      <td>16.508333</td>\n",
              "      <td>Cardiovascular medical, other</td>\n",
              "      <td>002-10018</td>\n",
              "    </tr>\n",
              "    <tr>\n",
              "      <th>2</th>\n",
              "      <td>157016</td>\n",
              "      <td>141169</td>\n",
              "      <td>5.210417</td>\n",
              "      <td>GI medical, other</td>\n",
              "      <td>002-10034</td>\n",
              "    </tr>\n",
              "    <tr>\n",
              "      <th>3</th>\n",
              "      <td>221004</td>\n",
              "      <td>190893</td>\n",
              "      <td>6.883333</td>\n",
              "      <td></td>\n",
              "      <td>002-10050</td>\n",
              "    </tr>\n",
              "    <tr>\n",
              "      <th>4</th>\n",
              "      <td>211144</td>\n",
              "      <td>183274</td>\n",
              "      <td>6.780556</td>\n",
              "      <td>Aortic valve replacement (isolated)</td>\n",
              "      <td>002-10050</td>\n",
              "    </tr>\n",
              "    <tr>\n",
              "      <th>...</th>\n",
              "      <td>...</td>\n",
              "      <td>...</td>\n",
              "      <td>...</td>\n",
              "      <td>...</td>\n",
              "      <td>...</td>\n",
              "    </tr>\n",
              "    <tr>\n",
              "      <th>200854</th>\n",
              "      <td>3351785</td>\n",
              "      <td>2741786</td>\n",
              "      <td>3.710417</td>\n",
              "      <td>Head only trauma</td>\n",
              "      <td>035-9957</td>\n",
              "    </tr>\n",
              "    <tr>\n",
              "      <th>200855</th>\n",
              "      <td>3340321</td>\n",
              "      <td>2731423</td>\n",
              "      <td>2.689583</td>\n",
              "      <td>Infarction, acute myocardial (MI)</td>\n",
              "      <td>035-9959</td>\n",
              "    </tr>\n",
              "    <tr>\n",
              "      <th>200856</th>\n",
              "      <td>3345874</td>\n",
              "      <td>2736458</td>\n",
              "      <td>7.965278</td>\n",
              "      <td>Rhythm disturbance (conduction defect)</td>\n",
              "      <td>035-996</td>\n",
              "    </tr>\n",
              "    <tr>\n",
              "      <th>200857</th>\n",
              "      <td>3352628</td>\n",
              "      <td>2742533</td>\n",
              "      <td>2.226389</td>\n",
              "      <td>Apnea-sleep; surgery for (i.e., UPPP - uvulopa...</td>\n",
              "      <td>035-9966</td>\n",
              "    </tr>\n",
              "    <tr>\n",
              "      <th>200858</th>\n",
              "      <td>3340712</td>\n",
              "      <td>2731781</td>\n",
              "      <td>8.013889</td>\n",
              "      <td>Aneurysm, abdominal aortic; with rupture</td>\n",
              "      <td>035-9975</td>\n",
              "    </tr>\n",
              "  </tbody>\n",
              "</table>\n",
              "<p>166355 rows × 5 columns</p>\n",
              "</div>"
            ],
            "text/plain": [
              "        patientunitstayid  ...  uniquepid\n",
              "0                  224606  ...  002-10009\n",
              "1                  204602  ...  002-10018\n",
              "2                  157016  ...  002-10034\n",
              "3                  221004  ...  002-10050\n",
              "4                  211144  ...  002-10050\n",
              "...                   ...  ...        ...\n",
              "200854            3351785  ...   035-9957\n",
              "200855            3340321  ...   035-9959\n",
              "200856            3345874  ...    035-996\n",
              "200857            3352628  ...   035-9966\n",
              "200858            3340712  ...   035-9975\n",
              "\n",
              "[166355 rows x 5 columns]"
            ]
          },
          "metadata": {
            "tags": []
          },
          "execution_count": 60
        }
      ]
    },
    {
      "cell_type": "markdown",
      "metadata": {
        "id": "-cksSSle67-0",
        "colab_type": "text"
      },
      "source": [
        "### Hospital stays over 400 days"
      ]
    },
    {
      "cell_type": "code",
      "metadata": {
        "id": "NLCOiQ9eD3IN",
        "colab_type": "code",
        "outputId": "4f737fbe-d0dc-40d8-d0f9-573b8fb9295e",
        "colab": {
          "base_uri": "https://localhost:8080/",
          "height": 284
        }
      },
      "source": [
        "lengthofstay[lengthofstay['totalstayindays']>400]"
      ],
      "execution_count": 0,
      "outputs": [
        {
          "output_type": "execute_result",
          "data": {
            "text/html": [
              "<div>\n",
              "<style scoped>\n",
              "    .dataframe tbody tr th:only-of-type {\n",
              "        vertical-align: middle;\n",
              "    }\n",
              "\n",
              "    .dataframe tbody tr th {\n",
              "        vertical-align: top;\n",
              "    }\n",
              "\n",
              "    .dataframe thead th {\n",
              "        text-align: right;\n",
              "    }\n",
              "</style>\n",
              "<table border=\"1\" class=\"dataframe\">\n",
              "  <thead>\n",
              "    <tr style=\"text-align: right;\">\n",
              "      <th></th>\n",
              "      <th>patientunitstayid</th>\n",
              "      <th>patienthealthsystemstayid</th>\n",
              "      <th>totalstayindays</th>\n",
              "      <th>apacheadmissiondx</th>\n",
              "      <th>uniquepid</th>\n",
              "    </tr>\n",
              "  </thead>\n",
              "  <tbody>\n",
              "    <tr>\n",
              "      <th>18288</th>\n",
              "      <td>324726</td>\n",
              "      <td>280163</td>\n",
              "      <td>731.280556</td>\n",
              "      <td>Vascular surgery, other</td>\n",
              "      <td>004-15917</td>\n",
              "    </tr>\n",
              "    <tr>\n",
              "      <th>19047</th>\n",
              "      <td>366449</td>\n",
              "      <td>314457</td>\n",
              "      <td>1096.877778</td>\n",
              "      <td>Overdose, other toxin, poison or drug</td>\n",
              "      <td>004-25072</td>\n",
              "    </tr>\n",
              "    <tr>\n",
              "      <th>25839</th>\n",
              "      <td>530777</td>\n",
              "      <td>448138</td>\n",
              "      <td>600.768056</td>\n",
              "      <td>CVA, cerebrovascular accident/stroke</td>\n",
              "      <td>005-33644</td>\n",
              "    </tr>\n",
              "    <tr>\n",
              "      <th>70522</th>\n",
              "      <td>1072288</td>\n",
              "      <td>797279</td>\n",
              "      <td>633.057639</td>\n",
              "      <td>Vascular medical, other</td>\n",
              "      <td>009-62</td>\n",
              "    </tr>\n",
              "    <tr>\n",
              "      <th>115909</th>\n",
              "      <td>1823388</td>\n",
              "      <td>1435255</td>\n",
              "      <td>413.519444</td>\n",
              "      <td>Pelvis/extremity trauma</td>\n",
              "      <td>018-29216</td>\n",
              "    </tr>\n",
              "    <tr>\n",
              "      <th>156984</th>\n",
              "      <td>2747640</td>\n",
              "      <td>2211954</td>\n",
              "      <td>506.520139</td>\n",
              "      <td>Head only trauma</td>\n",
              "      <td>027-195462</td>\n",
              "    </tr>\n",
              "    <tr>\n",
              "      <th>200132</th>\n",
              "      <td>3346975</td>\n",
              "      <td>2737468</td>\n",
              "      <td>763.275000</td>\n",
              "      <td>Cardiac arrest (with or without respiratory ar...</td>\n",
              "      <td>035-6284</td>\n",
              "    </tr>\n",
              "    <tr>\n",
              "      <th>200133</th>\n",
              "      <td>3351609</td>\n",
              "      <td>2741629</td>\n",
              "      <td>763.455556</td>\n",
              "      <td>Sepsis, GI</td>\n",
              "      <td>035-6284</td>\n",
              "    </tr>\n",
              "  </tbody>\n",
              "</table>\n",
              "</div>"
            ],
            "text/plain": [
              "        patientunitstayid  ...   uniquepid\n",
              "18288              324726  ...   004-15917\n",
              "19047              366449  ...   004-25072\n",
              "25839              530777  ...   005-33644\n",
              "70522             1072288  ...      009-62\n",
              "115909            1823388  ...   018-29216\n",
              "156984            2747640  ...  027-195462\n",
              "200132            3346975  ...    035-6284\n",
              "200133            3351609  ...    035-6284\n",
              "\n",
              "[8 rows x 5 columns]"
            ]
          },
          "metadata": {
            "tags": []
          },
          "execution_count": 61
        }
      ]
    },
    {
      "cell_type": "markdown",
      "metadata": {
        "id": "MdnM14xz7ACH",
        "colab_type": "text"
      },
      "source": [
        "Average length of Hospital stay (hospitalisation) and finding median value -(in days)"
      ]
    },
    {
      "cell_type": "code",
      "metadata": {
        "id": "MlDx8rpLjAoW",
        "colab_type": "code",
        "outputId": "0df8a3ea-b6db-42f7-faf7-a2e6b7a61f51",
        "colab": {
          "base_uri": "https://localhost:8080/",
          "height": 34
        }
      },
      "source": [
        "lengthofstay['totalstayindays'].mean()"
      ],
      "execution_count": 0,
      "outputs": [
        {
          "output_type": "execute_result",
          "data": {
            "text/plain": [
              "7.464949113174917"
            ]
          },
          "metadata": {
            "tags": []
          },
          "execution_count": 62
        }
      ]
    },
    {
      "cell_type": "code",
      "metadata": {
        "id": "SfitWMjs6DHi",
        "colab_type": "code",
        "outputId": "7bbf71bd-0282-469d-b693-849168ea292e",
        "colab": {
          "base_uri": "https://localhost:8080/",
          "height": 34
        }
      },
      "source": [
        "lengthofstay['totalstayindays'].median()"
      ],
      "execution_count": 0,
      "outputs": [
        {
          "output_type": "execute_result",
          "data": {
            "text/plain": [
              "5.054166666666666"
            ]
          },
          "metadata": {
            "tags": []
          },
          "execution_count": 63
        }
      ]
    },
    {
      "cell_type": "markdown",
      "metadata": {
        "id": "PIPpeN8t6vaT",
        "colab_type": "text"
      },
      "source": [
        "### Finding average length of stay in ICU"
      ]
    },
    {
      "cell_type": "code",
      "metadata": {
        "id": "bKLbwAkPDG1t",
        "colab_type": "code",
        "colab": {}
      },
      "source": [
        "%%bigquery --project $project_id los_i\n",
        "select patientunitstayid,(unitdischargeoffset-hospitaladmitoffset)/60/24 AS totalstayindays, apacheadmissiondx\n",
        "from `physionet-data.eicu_crd.patient` "
      ],
      "execution_count": 0,
      "outputs": []
    },
    {
      "cell_type": "code",
      "metadata": {
        "id": "47uEKR9hDUOt",
        "colab_type": "code",
        "outputId": "12edf030-0fee-464f-bd88-efe4ed907d8c",
        "colab": {
          "base_uri": "https://localhost:8080/",
          "height": 402
        }
      },
      "source": [
        "los_i"
      ],
      "execution_count": 0,
      "outputs": [
        {
          "output_type": "execute_result",
          "data": {
            "text/html": [
              "<div>\n",
              "<style scoped>\n",
              "    .dataframe tbody tr th:only-of-type {\n",
              "        vertical-align: middle;\n",
              "    }\n",
              "\n",
              "    .dataframe tbody tr th {\n",
              "        vertical-align: top;\n",
              "    }\n",
              "\n",
              "    .dataframe thead th {\n",
              "        text-align: right;\n",
              "    }\n",
              "</style>\n",
              "<table border=\"1\" class=\"dataframe\">\n",
              "  <thead>\n",
              "    <tr style=\"text-align: right;\">\n",
              "      <th></th>\n",
              "      <th>patientunitstayid</th>\n",
              "      <th>totalstayindays</th>\n",
              "      <th>apacheadmissiondx</th>\n",
              "    </tr>\n",
              "  </thead>\n",
              "  <tbody>\n",
              "    <tr>\n",
              "      <th>0</th>\n",
              "      <td>3036927</td>\n",
              "      <td>0.166667</td>\n",
              "      <td>Cardiovascular medical, other</td>\n",
              "    </tr>\n",
              "    <tr>\n",
              "      <th>1</th>\n",
              "      <td>3076905</td>\n",
              "      <td>0.000000</td>\n",
              "      <td>ARDS-adult respiratory distress syndrome, non-...</td>\n",
              "    </tr>\n",
              "    <tr>\n",
              "      <th>2</th>\n",
              "      <td>486998</td>\n",
              "      <td>0.358333</td>\n",
              "      <td>Pneumonia, other</td>\n",
              "    </tr>\n",
              "    <tr>\n",
              "      <th>3</th>\n",
              "      <td>3043878</td>\n",
              "      <td>0.109722</td>\n",
              "      <td>Abdomen only trauma</td>\n",
              "    </tr>\n",
              "    <tr>\n",
              "      <th>4</th>\n",
              "      <td>3125095</td>\n",
              "      <td>1.487500</td>\n",
              "      <td>Liver transplant</td>\n",
              "    </tr>\n",
              "    <tr>\n",
              "      <th>...</th>\n",
              "      <td>...</td>\n",
              "      <td>...</td>\n",
              "      <td>...</td>\n",
              "    </tr>\n",
              "    <tr>\n",
              "      <th>200854</th>\n",
              "      <td>1150928</td>\n",
              "      <td>0.367361</td>\n",
              "      <td>Coma/change in level of consciousness (for hep...</td>\n",
              "    </tr>\n",
              "    <tr>\n",
              "      <th>200855</th>\n",
              "      <td>1183913</td>\n",
              "      <td>3.119444</td>\n",
              "      <td>Coma/change in level of consciousness (for hep...</td>\n",
              "    </tr>\n",
              "    <tr>\n",
              "      <th>200856</th>\n",
              "      <td>1203462</td>\n",
              "      <td>0.840972</td>\n",
              "      <td>Coma/change in level of consciousness (for hep...</td>\n",
              "    </tr>\n",
              "    <tr>\n",
              "      <th>200857</th>\n",
              "      <td>3024410</td>\n",
              "      <td>26.475694</td>\n",
              "      <td>Coma/change in level of consciousness (for hep...</td>\n",
              "    </tr>\n",
              "    <tr>\n",
              "      <th>200858</th>\n",
              "      <td>2096032</td>\n",
              "      <td>10.400694</td>\n",
              "      <td>Coma/change in level of consciousness (for hep...</td>\n",
              "    </tr>\n",
              "  </tbody>\n",
              "</table>\n",
              "<p>200859 rows × 3 columns</p>\n",
              "</div>"
            ],
            "text/plain": [
              "        patientunitstayid  ...                                  apacheadmissiondx\n",
              "0                 3036927  ...                      Cardiovascular medical, other\n",
              "1                 3076905  ...  ARDS-adult respiratory distress syndrome, non-...\n",
              "2                  486998  ...                                   Pneumonia, other\n",
              "3                 3043878  ...                                Abdomen only trauma\n",
              "4                 3125095  ...                                   Liver transplant\n",
              "...                   ...  ...                                                ...\n",
              "200854            1150928  ...  Coma/change in level of consciousness (for hep...\n",
              "200855            1183913  ...  Coma/change in level of consciousness (for hep...\n",
              "200856            1203462  ...  Coma/change in level of consciousness (for hep...\n",
              "200857            3024410  ...  Coma/change in level of consciousness (for hep...\n",
              "200858            2096032  ...  Coma/change in level of consciousness (for hep...\n",
              "\n",
              "[200859 rows x 3 columns]"
            ]
          },
          "metadata": {
            "tags": []
          },
          "execution_count": 67
        }
      ]
    },
    {
      "cell_type": "code",
      "metadata": {
        "id": "Ww7grYbdDXjn",
        "colab_type": "code",
        "outputId": "fcb81c57-b29e-4977-e0ef-aa4b5c8fdba2",
        "colab": {
          "base_uri": "https://localhost:8080/",
          "height": 34
        }
      },
      "source": [
        "los_i.totalstayindays.median()"
      ],
      "execution_count": 0,
      "outputs": [
        {
          "output_type": "execute_result",
          "data": {
            "text/plain": [
              "2.279166666666667"
            ]
          },
          "metadata": {
            "tags": []
          },
          "execution_count": 68
        }
      ]
    },
    {
      "cell_type": "code",
      "metadata": {
        "id": "omHA7ZGS7lQN",
        "colab_type": "code",
        "outputId": "e61d2f3a-65f8-4637-9cfb-b26a340d1541",
        "colab": {
          "base_uri": "https://localhost:8080/",
          "height": 34
        }
      },
      "source": [
        "los_i.totalstayindays.mean()"
      ],
      "execution_count": 0,
      "outputs": [
        {
          "output_type": "execute_result",
          "data": {
            "text/plain": [
              "4.317779263065072"
            ]
          },
          "metadata": {
            "tags": []
          },
          "execution_count": 71
        }
      ]
    },
    {
      "cell_type": "markdown",
      "metadata": {
        "id": "UIvwVVQekjmg",
        "colab_type": "text"
      },
      "source": [
        "Average length of stay for a heart patient in ICU -"
      ]
    },
    {
      "cell_type": "code",
      "metadata": {
        "id": "F2Er7wEjkqpK",
        "colab_type": "code",
        "colab": {}
      },
      "source": [
        "%%bigquery --project $project_id stay_heart\n",
        "select patienthealthsystemstayid, (unitdischargeoffset-hospitaladmitoffset)/60/24 AS lengthofstay, uniquepid\n",
        "from `physionet-data.eicu_crd.patient`\n",
        "where apacheadmissiondx like '%Cardi%' \n",
        "ORDER BY uniquepid"
      ],
      "execution_count": 0,
      "outputs": []
    },
    {
      "cell_type": "code",
      "metadata": {
        "id": "knF3SObT_0p3",
        "colab_type": "code",
        "outputId": "f77ba062-3e1d-45f9-beb6-b1fe18940ba1",
        "colab": {
          "base_uri": "https://localhost:8080/",
          "height": 402
        }
      },
      "source": [
        "stay_heart"
      ],
      "execution_count": 0,
      "outputs": [
        {
          "output_type": "execute_result",
          "data": {
            "text/html": [
              "<div>\n",
              "<style scoped>\n",
              "    .dataframe tbody tr th:only-of-type {\n",
              "        vertical-align: middle;\n",
              "    }\n",
              "\n",
              "    .dataframe tbody tr th {\n",
              "        vertical-align: top;\n",
              "    }\n",
              "\n",
              "    .dataframe thead th {\n",
              "        text-align: right;\n",
              "    }\n",
              "</style>\n",
              "<table border=\"1\" class=\"dataframe\">\n",
              "  <thead>\n",
              "    <tr style=\"text-align: right;\">\n",
              "      <th></th>\n",
              "      <th>patienthealthsystemstayid</th>\n",
              "      <th>lengthofstay</th>\n",
              "      <th>uniquepid</th>\n",
              "    </tr>\n",
              "  </thead>\n",
              "  <tbody>\n",
              "    <tr>\n",
              "      <th>0</th>\n",
              "      <td>178200</td>\n",
              "      <td>4.201389</td>\n",
              "      <td>002-10018</td>\n",
              "    </tr>\n",
              "    <tr>\n",
              "      <th>1</th>\n",
              "      <td>202765</td>\n",
              "      <td>10.308333</td>\n",
              "      <td>002-10308</td>\n",
              "    </tr>\n",
              "    <tr>\n",
              "      <th>2</th>\n",
              "      <td>139618</td>\n",
              "      <td>8.779167</td>\n",
              "      <td>002-10665</td>\n",
              "    </tr>\n",
              "    <tr>\n",
              "      <th>3</th>\n",
              "      <td>204487</td>\n",
              "      <td>0.822917</td>\n",
              "      <td>002-11232</td>\n",
              "    </tr>\n",
              "    <tr>\n",
              "      <th>4</th>\n",
              "      <td>139664</td>\n",
              "      <td>9.372222</td>\n",
              "      <td>002-11370</td>\n",
              "    </tr>\n",
              "    <tr>\n",
              "      <th>...</th>\n",
              "      <td>...</td>\n",
              "      <td>...</td>\n",
              "      <td>...</td>\n",
              "    </tr>\n",
              "    <tr>\n",
              "      <th>6412</th>\n",
              "      <td>2728674</td>\n",
              "      <td>1.540278</td>\n",
              "      <td>035-9585</td>\n",
              "    </tr>\n",
              "    <tr>\n",
              "      <th>6413</th>\n",
              "      <td>2738220</td>\n",
              "      <td>2.200000</td>\n",
              "      <td>035-9599</td>\n",
              "    </tr>\n",
              "    <tr>\n",
              "      <th>6414</th>\n",
              "      <td>2727436</td>\n",
              "      <td>7.116667</td>\n",
              "      <td>035-9799</td>\n",
              "    </tr>\n",
              "    <tr>\n",
              "      <th>6415</th>\n",
              "      <td>2741806</td>\n",
              "      <td>0.576389</td>\n",
              "      <td>035-9825</td>\n",
              "    </tr>\n",
              "    <tr>\n",
              "      <th>6416</th>\n",
              "      <td>2728153</td>\n",
              "      <td>0.675000</td>\n",
              "      <td>035-9839</td>\n",
              "    </tr>\n",
              "  </tbody>\n",
              "</table>\n",
              "<p>6417 rows × 3 columns</p>\n",
              "</div>"
            ],
            "text/plain": [
              "      patienthealthsystemstayid  lengthofstay  uniquepid\n",
              "0                        178200      4.201389  002-10018\n",
              "1                        202765     10.308333  002-10308\n",
              "2                        139618      8.779167  002-10665\n",
              "3                        204487      0.822917  002-11232\n",
              "4                        139664      9.372222  002-11370\n",
              "...                         ...           ...        ...\n",
              "6412                    2728674      1.540278   035-9585\n",
              "6413                    2738220      2.200000   035-9599\n",
              "6414                    2727436      7.116667   035-9799\n",
              "6415                    2741806      0.576389   035-9825\n",
              "6416                    2728153      0.675000   035-9839\n",
              "\n",
              "[6417 rows x 3 columns]"
            ]
          },
          "metadata": {
            "tags": []
          },
          "execution_count": 74
        }
      ]
    },
    {
      "cell_type": "code",
      "metadata": {
        "id": "NzaapdJSk8uE",
        "colab_type": "code",
        "outputId": "3062bf23-ce1b-4444-846f-ae47ddaaeb5c",
        "colab": {
          "base_uri": "https://localhost:8080/",
          "height": 50
        }
      },
      "source": [
        "print('Average length of stay for a heart patient ',stay_heart['lengthofstay'].mean(),'days')\n",
        "print(f'Maximum length of stay for a heart patient: {stay_heart.lengthofstay.max()} days')"
      ],
      "execution_count": 0,
      "outputs": [
        {
          "output_type": "stream",
          "text": [
            "Average length of stay for a heart patient  5.841445682475378 days\n",
            "Maximum length of stay for a heart patient: 165.94166666666666 days\n"
          ],
          "name": "stdout"
        }
      ]
    },
    {
      "cell_type": "markdown",
      "metadata": {
        "id": "yBSSq75qlZnN",
        "colab_type": "text"
      },
      "source": [
        "## Average length of ICU stay for a diabetic patient - "
      ]
    },
    {
      "cell_type": "code",
      "metadata": {
        "id": "BBrCCVOklFzQ",
        "colab_type": "code",
        "colab": {}
      },
      "source": [
        "%%bigquery --project $project_id stay_diab \n",
        "select patienthealthsystemstayid, (unitdischargeoffset-hospitaladmitoffset)/60/24 AS lengthofstay, uniquepid\n",
        "from `physionet-data.eicu_crd.patient` \n",
        "where apacheadmissiondx like '%diab%'\n",
        "ORDER BY uniquepid"
      ],
      "execution_count": 0,
      "outputs": []
    },
    {
      "cell_type": "code",
      "metadata": {
        "id": "t6sX0Tq3lRll",
        "colab_type": "code",
        "outputId": "3dbfe4dc-0ef0-4920-8654-a540c1f23129",
        "colab": {
          "base_uri": "https://localhost:8080/",
          "height": 402
        }
      },
      "source": [
        "stay_diab"
      ],
      "execution_count": 0,
      "outputs": [
        {
          "output_type": "execute_result",
          "data": {
            "text/html": [
              "<div>\n",
              "<style scoped>\n",
              "    .dataframe tbody tr th:only-of-type {\n",
              "        vertical-align: middle;\n",
              "    }\n",
              "\n",
              "    .dataframe tbody tr th {\n",
              "        vertical-align: top;\n",
              "    }\n",
              "\n",
              "    .dataframe thead th {\n",
              "        text-align: right;\n",
              "    }\n",
              "</style>\n",
              "<table border=\"1\" class=\"dataframe\">\n",
              "  <thead>\n",
              "    <tr style=\"text-align: right;\">\n",
              "      <th></th>\n",
              "      <th>patienthealthsystemstayid</th>\n",
              "      <th>lengthofstay</th>\n",
              "      <th>uniquepid</th>\n",
              "    </tr>\n",
              "  </thead>\n",
              "  <tbody>\n",
              "    <tr>\n",
              "      <th>0</th>\n",
              "      <td>134042</td>\n",
              "      <td>1.653472</td>\n",
              "      <td>002-10424</td>\n",
              "    </tr>\n",
              "    <tr>\n",
              "      <th>1</th>\n",
              "      <td>150300</td>\n",
              "      <td>1.025694</td>\n",
              "      <td>002-10541</td>\n",
              "    </tr>\n",
              "    <tr>\n",
              "      <th>2</th>\n",
              "      <td>143252</td>\n",
              "      <td>4.046528</td>\n",
              "      <td>002-10669</td>\n",
              "    </tr>\n",
              "    <tr>\n",
              "      <th>3</th>\n",
              "      <td>163687</td>\n",
              "      <td>4.171528</td>\n",
              "      <td>002-12088</td>\n",
              "    </tr>\n",
              "    <tr>\n",
              "      <th>4</th>\n",
              "      <td>180195</td>\n",
              "      <td>2.222917</td>\n",
              "      <td>002-12387</td>\n",
              "    </tr>\n",
              "    <tr>\n",
              "      <th>...</th>\n",
              "      <td>...</td>\n",
              "      <td>...</td>\n",
              "      <td>...</td>\n",
              "    </tr>\n",
              "    <tr>\n",
              "      <th>2897</th>\n",
              "      <td>2731472</td>\n",
              "      <td>4.254167</td>\n",
              "      <td>035-9445</td>\n",
              "    </tr>\n",
              "    <tr>\n",
              "      <th>2898</th>\n",
              "      <td>2733190</td>\n",
              "      <td>16.348611</td>\n",
              "      <td>035-9582</td>\n",
              "    </tr>\n",
              "    <tr>\n",
              "      <th>2899</th>\n",
              "      <td>2731083</td>\n",
              "      <td>2.338194</td>\n",
              "      <td>035-969</td>\n",
              "    </tr>\n",
              "    <tr>\n",
              "      <th>2900</th>\n",
              "      <td>2720045</td>\n",
              "      <td>14.685417</td>\n",
              "      <td>035-9738</td>\n",
              "    </tr>\n",
              "    <tr>\n",
              "      <th>2901</th>\n",
              "      <td>2740051</td>\n",
              "      <td>11.909722</td>\n",
              "      <td>035-9833</td>\n",
              "    </tr>\n",
              "  </tbody>\n",
              "</table>\n",
              "<p>2902 rows × 3 columns</p>\n",
              "</div>"
            ],
            "text/plain": [
              "      patienthealthsystemstayid  lengthofstay  uniquepid\n",
              "0                        134042      1.653472  002-10424\n",
              "1                        150300      1.025694  002-10541\n",
              "2                        143252      4.046528  002-10669\n",
              "3                        163687      4.171528  002-12088\n",
              "4                        180195      2.222917  002-12387\n",
              "...                         ...           ...        ...\n",
              "2897                    2731472      4.254167   035-9445\n",
              "2898                    2733190     16.348611   035-9582\n",
              "2899                    2731083      2.338194    035-969\n",
              "2900                    2720045     14.685417   035-9738\n",
              "2901                    2740051     11.909722   035-9833\n",
              "\n",
              "[2902 rows x 3 columns]"
            ]
          },
          "metadata": {
            "tags": []
          },
          "execution_count": 83
        }
      ]
    },
    {
      "cell_type": "code",
      "metadata": {
        "id": "8rMb5HtRlSoy",
        "colab_type": "code",
        "outputId": "2d4c7d17-eef0-48c9-bf3c-9de3e3602e5a",
        "colab": {
          "base_uri": "https://localhost:8080/",
          "height": 34
        }
      },
      "source": [
        "print('Average length of stay for a diabetic patient ',stay_diab['lengthofstay'].mean(),'days')"
      ],
      "execution_count": 0,
      "outputs": [
        {
          "output_type": "stream",
          "text": [
            "Average length of stay for a diabetic patient  4.6079179110192205 days\n"
          ],
          "name": "stdout"
        }
      ]
    }
  ]
}
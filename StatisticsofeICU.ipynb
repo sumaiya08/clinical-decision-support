{
  "nbformat": 4,
  "nbformat_minor": 0,
  "metadata": {
    "colab": {
      "name": "StatisticsofeICU.ipynb",
      "provenance": [],
      "authorship_tag": "ABX9TyNgMke5uu2T0FKi3WDyafX6",
      "include_colab_link": true
    },
    "kernelspec": {
      "name": "python3",
      "display_name": "Python 3"
    }
  },
  "cells": [
    {
      "cell_type": "markdown",
      "metadata": {
        "id": "view-in-github",
        "colab_type": "text"
      },
      "source": [
        "<a href=\"https://colab.research.google.com/github/sumaiya08/medicaldata/blob/master/StatisticsofeICU.ipynb\" target=\"_parent\"><img src=\"https://colab.research.google.com/assets/colab-badge.svg\" alt=\"Open In Colab\"/></a>"
      ]
    },
    {
      "cell_type": "code",
      "metadata": {
        "id": "D5t70wmBd_eM",
        "colab_type": "code",
        "outputId": "811bd530-42d1-46fd-d04e-7f6fb4601dfb",
        "colab": {
          "base_uri": "https://localhost:8080/",
          "height": 70
        }
      },
      "source": [
        "import os\n",
        "import numpy as np\n",
        "import pandas as pd\n",
        "import matplotlib.pyplot as plt\n",
        "import seaborn as sns\n",
        "import pandas.util.testing as tm\n",
        "sns.set()\n",
        "\n",
        "# Access data using Google BigQuery.\n",
        "from google.colab import auth\n",
        "from google.cloud import bigquery"
      ],
      "execution_count": 0,
      "outputs": [
        {
          "output_type": "stream",
          "text": [
            "/usr/local/lib/python3.6/dist-packages/statsmodels/tools/_testing.py:19: FutureWarning: pandas.util.testing is deprecated. Use the functions in the public API at pandas.testing instead.\n",
            "  import pandas.util.testing as tm\n"
          ],
          "name": "stderr"
        }
      ]
    },
    {
      "cell_type": "code",
      "metadata": {
        "id": "fMg9moege770",
        "colab_type": "code",
        "outputId": "4f76da63-21a2-4c21-fec8-b5b9acf29588",
        "colab": {
          "base_uri": "https://localhost:8080/",
          "height": 34
        }
      },
      "source": [
        "auth.authenticate_user()\n",
        "print('Authenticated')"
      ],
      "execution_count": 0,
      "outputs": [
        {
          "output_type": "stream",
          "text": [
            "Authenticated\n"
          ],
          "name": "stdout"
        }
      ]
    },
    {
      "cell_type": "code",
      "metadata": {
        "id": "NDXCLFHYe-Cx",
        "colab_type": "code",
        "colab": {}
      },
      "source": [
        "project_id='eicudata'"
      ],
      "execution_count": 0,
      "outputs": []
    },
    {
      "cell_type": "markdown",
      "metadata": {
        "id": "g1BfGK8f8clf",
        "colab_type": "text"
      },
      "source": [
        "# Extracting dataset"
      ]
    },
    {
      "cell_type": "code",
      "metadata": {
        "id": "DsFN03KrfJj7",
        "colab_type": "code",
        "colab": {}
      },
      "source": [
        "%%bigquery --project $project_id patient\n",
        "select gender,age,ethnicity,apacheadmissiondx,hospitaladmitsource,unittype,unitdischargestatus,hospitaldischargestatus from `physionet-data.eicu_crd.patient`;"
      ],
      "execution_count": 0,
      "outputs": []
    },
    {
      "cell_type": "markdown",
      "metadata": {
        "id": "WEp47BPZ8fHO",
        "colab_type": "text"
      },
      "source": [
        "## Removing missing values"
      ]
    },
    {
      "cell_type": "code",
      "metadata": {
        "id": "wKeOp7WAfwvC",
        "colab_type": "code",
        "outputId": "e77b8b61-bbba-418f-eb33-9c50eb39c262",
        "colab": {
          "base_uri": "https://localhost:8080/",
          "height": 402
        }
      },
      "source": [
        "missing = patient[(patient['gender'] == '') |(patient['gender'] == 'Other')|(patient['gender'] == 'Unknown')| (patient['ethnicity'] == '')|(patient['ethnicity'] == 'Other/Unknown')|(patient['unitdischargestatus']=='')|(patient['hospitaldischargestatus']=='')|(patient['age']=='')].index\n",
        "patient = patient.drop(index=missing)\n",
        "patient"
      ],
      "execution_count": 0,
      "outputs": [
        {
          "output_type": "execute_result",
          "data": {
            "text/html": [
              "<div>\n",
              "<style scoped>\n",
              "    .dataframe tbody tr th:only-of-type {\n",
              "        vertical-align: middle;\n",
              "    }\n",
              "\n",
              "    .dataframe tbody tr th {\n",
              "        vertical-align: top;\n",
              "    }\n",
              "\n",
              "    .dataframe thead th {\n",
              "        text-align: right;\n",
              "    }\n",
              "</style>\n",
              "<table border=\"1\" class=\"dataframe\">\n",
              "  <thead>\n",
              "    <tr style=\"text-align: right;\">\n",
              "      <th></th>\n",
              "      <th>gender</th>\n",
              "      <th>age</th>\n",
              "      <th>ethnicity</th>\n",
              "      <th>apacheadmissiondx</th>\n",
              "      <th>hospitaladmitsource</th>\n",
              "      <th>unittype</th>\n",
              "      <th>unitdischargestatus</th>\n",
              "      <th>hospitaldischargestatus</th>\n",
              "    </tr>\n",
              "  </thead>\n",
              "  <tbody>\n",
              "    <tr>\n",
              "      <th>1</th>\n",
              "      <td>Male</td>\n",
              "      <td>51</td>\n",
              "      <td>Caucasian</td>\n",
              "      <td>Cardiovascular medical, other</td>\n",
              "      <td>Emergency Department</td>\n",
              "      <td>Med-Surg ICU</td>\n",
              "      <td>Alive</td>\n",
              "      <td>Alive</td>\n",
              "    </tr>\n",
              "    <tr>\n",
              "      <th>2</th>\n",
              "      <td>Female</td>\n",
              "      <td>31</td>\n",
              "      <td>Caucasian</td>\n",
              "      <td>Diabetic ketoacidosis</td>\n",
              "      <td>Emergency Department</td>\n",
              "      <td>Med-Surg ICU</td>\n",
              "      <td>Alive</td>\n",
              "      <td>Alive</td>\n",
              "    </tr>\n",
              "    <tr>\n",
              "      <th>3</th>\n",
              "      <td>Male</td>\n",
              "      <td>58</td>\n",
              "      <td>Caucasian</td>\n",
              "      <td></td>\n",
              "      <td>Other Hospital</td>\n",
              "      <td>Med-Surg ICU</td>\n",
              "      <td>Alive</td>\n",
              "      <td>Alive</td>\n",
              "    </tr>\n",
              "    <tr>\n",
              "      <th>4</th>\n",
              "      <td>Female</td>\n",
              "      <td>68</td>\n",
              "      <td>Caucasian</td>\n",
              "      <td></td>\n",
              "      <td>Other Hospital</td>\n",
              "      <td>Med-Surg ICU</td>\n",
              "      <td>Alive</td>\n",
              "      <td>Expired</td>\n",
              "    </tr>\n",
              "    <tr>\n",
              "      <th>5</th>\n",
              "      <td>Female</td>\n",
              "      <td>51</td>\n",
              "      <td>Caucasian</td>\n",
              "      <td>ARDS-adult respiratory distress syndrome, non-...</td>\n",
              "      <td>Other Hospital</td>\n",
              "      <td>Med-Surg ICU</td>\n",
              "      <td>Alive</td>\n",
              "      <td>Expired</td>\n",
              "    </tr>\n",
              "    <tr>\n",
              "      <th>...</th>\n",
              "      <td>...</td>\n",
              "      <td>...</td>\n",
              "      <td>...</td>\n",
              "      <td>...</td>\n",
              "      <td>...</td>\n",
              "      <td>...</td>\n",
              "      <td>...</td>\n",
              "      <td>...</td>\n",
              "    </tr>\n",
              "    <tr>\n",
              "      <th>200854</th>\n",
              "      <td>Female</td>\n",
              "      <td>47</td>\n",
              "      <td>Caucasian</td>\n",
              "      <td>Coma/change in level of consciousness (for hep...</td>\n",
              "      <td></td>\n",
              "      <td>Med-Surg ICU</td>\n",
              "      <td>Expired</td>\n",
              "      <td>Expired</td>\n",
              "    </tr>\n",
              "    <tr>\n",
              "      <th>200855</th>\n",
              "      <td>Female</td>\n",
              "      <td>46</td>\n",
              "      <td>Asian</td>\n",
              "      <td>Asthma</td>\n",
              "      <td></td>\n",
              "      <td>Med-Surg ICU</td>\n",
              "      <td>Alive</td>\n",
              "      <td>Alive</td>\n",
              "    </tr>\n",
              "    <tr>\n",
              "      <th>200856</th>\n",
              "      <td>Male</td>\n",
              "      <td>66</td>\n",
              "      <td>Caucasian</td>\n",
              "      <td>Pneumonia, bacterial</td>\n",
              "      <td></td>\n",
              "      <td>Med-Surg ICU</td>\n",
              "      <td>Alive</td>\n",
              "      <td>Alive</td>\n",
              "    </tr>\n",
              "    <tr>\n",
              "      <th>200857</th>\n",
              "      <td>Male</td>\n",
              "      <td>69</td>\n",
              "      <td>Caucasian</td>\n",
              "      <td>GI obstruction</td>\n",
              "      <td></td>\n",
              "      <td>Med-Surg ICU</td>\n",
              "      <td>Alive</td>\n",
              "      <td>Alive</td>\n",
              "    </tr>\n",
              "    <tr>\n",
              "      <th>200858</th>\n",
              "      <td>Female</td>\n",
              "      <td>68</td>\n",
              "      <td>Caucasian</td>\n",
              "      <td>Sepsis, pulmonary</td>\n",
              "      <td></td>\n",
              "      <td>Med-Surg ICU</td>\n",
              "      <td>Alive</td>\n",
              "      <td>Expired</td>\n",
              "    </tr>\n",
              "  </tbody>\n",
              "</table>\n",
              "<p>187378 rows × 8 columns</p>\n",
              "</div>"
            ],
            "text/plain": [
              "        gender age  ... unitdischargestatus hospitaldischargestatus\n",
              "1         Male  51  ...               Alive                   Alive\n",
              "2       Female  31  ...               Alive                   Alive\n",
              "3         Male  58  ...               Alive                   Alive\n",
              "4       Female  68  ...               Alive                 Expired\n",
              "5       Female  51  ...               Alive                 Expired\n",
              "...        ...  ..  ...                 ...                     ...\n",
              "200854  Female  47  ...             Expired                 Expired\n",
              "200855  Female  46  ...               Alive                   Alive\n",
              "200856    Male  66  ...               Alive                   Alive\n",
              "200857    Male  69  ...               Alive                   Alive\n",
              "200858  Female  68  ...               Alive                 Expired\n",
              "\n",
              "[187378 rows x 8 columns]"
            ]
          },
          "metadata": {
            "tags": []
          },
          "execution_count": 6
        }
      ]
    },
    {
      "cell_type": "code",
      "metadata": {
        "id": "SOR3p5DRfzUZ",
        "colab_type": "code",
        "colab": {}
      },
      "source": [
        "patient['age'].replace({'> 89': '89'}, inplace=True)\n",
        "patient['age']=patient['age'].apply(pd.to_numeric)"
      ],
      "execution_count": 0,
      "outputs": []
    },
    {
      "cell_type": "markdown",
      "metadata": {
        "id": "uBLLTf-V8R9u",
        "colab_type": "text"
      },
      "source": [
        "### Finding mean values, Note - age is the only numerical column here"
      ]
    },
    {
      "cell_type": "code",
      "metadata": {
        "id": "CwSdTkwMf5Nj",
        "colab_type": "code",
        "outputId": "ab565a30-3185-4e4d-caf0-a2326e282dfc",
        "colab": {
          "base_uri": "https://localhost:8080/",
          "height": 34
        }
      },
      "source": [
        "patient.mean()"
      ],
      "execution_count": 0,
      "outputs": [
        {
          "output_type": "execute_result",
          "data": {
            "text/plain": [
              "Series([], dtype: float64)"
            ]
          },
          "metadata": {
            "tags": []
          },
          "execution_count": 8
        }
      ]
    },
    {
      "cell_type": "markdown",
      "metadata": {
        "id": "mvCbfqs68KEj",
        "colab_type": "text"
      },
      "source": [
        "## Descriptive statistics of all columns"
      ]
    },
    {
      "cell_type": "code",
      "metadata": {
        "id": "ttwVheOOgO8g",
        "colab_type": "code",
        "outputId": "564fbe2a-25dd-439b-9cf2-f73783f7c3ca",
        "colab": {
          "base_uri": "https://localhost:8080/",
          "height": 373
        }
      },
      "source": [
        "patient.describe(include='all')"
      ],
      "execution_count": 0,
      "outputs": [
        {
          "output_type": "execute_result",
          "data": {
            "text/html": [
              "<div>\n",
              "<style scoped>\n",
              "    .dataframe tbody tr th:only-of-type {\n",
              "        vertical-align: middle;\n",
              "    }\n",
              "\n",
              "    .dataframe tbody tr th {\n",
              "        vertical-align: top;\n",
              "    }\n",
              "\n",
              "    .dataframe thead th {\n",
              "        text-align: right;\n",
              "    }\n",
              "</style>\n",
              "<table border=\"1\" class=\"dataframe\">\n",
              "  <thead>\n",
              "    <tr style=\"text-align: right;\">\n",
              "      <th></th>\n",
              "      <th>gender</th>\n",
              "      <th>age</th>\n",
              "      <th>ethnicity</th>\n",
              "      <th>apacheadmissiondx</th>\n",
              "      <th>hospitaladmitsource</th>\n",
              "      <th>unittype</th>\n",
              "      <th>unitdischargestatus</th>\n",
              "      <th>hospitaldischargestatus</th>\n",
              "    </tr>\n",
              "  </thead>\n",
              "  <tbody>\n",
              "    <tr>\n",
              "      <th>count</th>\n",
              "      <td>187378</td>\n",
              "      <td>187378.000000</td>\n",
              "      <td>187378</td>\n",
              "      <td>187378</td>\n",
              "      <td>187378</td>\n",
              "      <td>187378</td>\n",
              "      <td>187378</td>\n",
              "      <td>187378</td>\n",
              "    </tr>\n",
              "    <tr>\n",
              "      <th>unique</th>\n",
              "      <td>2</td>\n",
              "      <td>NaN</td>\n",
              "      <td>5</td>\n",
              "      <td>392</td>\n",
              "      <td>16</td>\n",
              "      <td>8</td>\n",
              "      <td>2</td>\n",
              "      <td>2</td>\n",
              "    </tr>\n",
              "    <tr>\n",
              "      <th>top</th>\n",
              "      <td>Male</td>\n",
              "      <td>NaN</td>\n",
              "      <td>Caucasian</td>\n",
              "      <td></td>\n",
              "      <td>Emergency Department</td>\n",
              "      <td>Med-Surg ICU</td>\n",
              "      <td>Alive</td>\n",
              "      <td>Alive</td>\n",
              "    </tr>\n",
              "    <tr>\n",
              "      <th>freq</th>\n",
              "      <td>100860</td>\n",
              "      <td>NaN</td>\n",
              "      <td>153916</td>\n",
              "      <td>21491</td>\n",
              "      <td>77097</td>\n",
              "      <td>104836</td>\n",
              "      <td>177192</td>\n",
              "      <td>170403</td>\n",
              "    </tr>\n",
              "    <tr>\n",
              "      <th>mean</th>\n",
              "      <td>NaN</td>\n",
              "      <td>63.232146</td>\n",
              "      <td>NaN</td>\n",
              "      <td>NaN</td>\n",
              "      <td>NaN</td>\n",
              "      <td>NaN</td>\n",
              "      <td>NaN</td>\n",
              "      <td>NaN</td>\n",
              "    </tr>\n",
              "    <tr>\n",
              "      <th>std</th>\n",
              "      <td>NaN</td>\n",
              "      <td>17.038186</td>\n",
              "      <td>NaN</td>\n",
              "      <td>NaN</td>\n",
              "      <td>NaN</td>\n",
              "      <td>NaN</td>\n",
              "      <td>NaN</td>\n",
              "      <td>NaN</td>\n",
              "    </tr>\n",
              "    <tr>\n",
              "      <th>min</th>\n",
              "      <td>NaN</td>\n",
              "      <td>0.000000</td>\n",
              "      <td>NaN</td>\n",
              "      <td>NaN</td>\n",
              "      <td>NaN</td>\n",
              "      <td>NaN</td>\n",
              "      <td>NaN</td>\n",
              "      <td>NaN</td>\n",
              "    </tr>\n",
              "    <tr>\n",
              "      <th>25%</th>\n",
              "      <td>NaN</td>\n",
              "      <td>53.000000</td>\n",
              "      <td>NaN</td>\n",
              "      <td>NaN</td>\n",
              "      <td>NaN</td>\n",
              "      <td>NaN</td>\n",
              "      <td>NaN</td>\n",
              "      <td>NaN</td>\n",
              "    </tr>\n",
              "    <tr>\n",
              "      <th>50%</th>\n",
              "      <td>NaN</td>\n",
              "      <td>65.000000</td>\n",
              "      <td>NaN</td>\n",
              "      <td>NaN</td>\n",
              "      <td>NaN</td>\n",
              "      <td>NaN</td>\n",
              "      <td>NaN</td>\n",
              "      <td>NaN</td>\n",
              "    </tr>\n",
              "    <tr>\n",
              "      <th>75%</th>\n",
              "      <td>NaN</td>\n",
              "      <td>76.000000</td>\n",
              "      <td>NaN</td>\n",
              "      <td>NaN</td>\n",
              "      <td>NaN</td>\n",
              "      <td>NaN</td>\n",
              "      <td>NaN</td>\n",
              "      <td>NaN</td>\n",
              "    </tr>\n",
              "    <tr>\n",
              "      <th>max</th>\n",
              "      <td>NaN</td>\n",
              "      <td>89.000000</td>\n",
              "      <td>NaN</td>\n",
              "      <td>NaN</td>\n",
              "      <td>NaN</td>\n",
              "      <td>NaN</td>\n",
              "      <td>NaN</td>\n",
              "      <td>NaN</td>\n",
              "    </tr>\n",
              "  </tbody>\n",
              "</table>\n",
              "</div>"
            ],
            "text/plain": [
              "        gender            age  ... unitdischargestatus hospitaldischargestatus\n",
              "count   187378  187378.000000  ...              187378                  187378\n",
              "unique       2            NaN  ...                   2                       2\n",
              "top       Male            NaN  ...               Alive                   Alive\n",
              "freq    100860            NaN  ...              177192                  170403\n",
              "mean       NaN      63.232146  ...                 NaN                     NaN\n",
              "std        NaN      17.038186  ...                 NaN                     NaN\n",
              "min        NaN       0.000000  ...                 NaN                     NaN\n",
              "25%        NaN      53.000000  ...                 NaN                     NaN\n",
              "50%        NaN      65.000000  ...                 NaN                     NaN\n",
              "75%        NaN      76.000000  ...                 NaN                     NaN\n",
              "max        NaN      89.000000  ...                 NaN                     NaN\n",
              "\n",
              "[11 rows x 8 columns]"
            ]
          },
          "metadata": {
            "tags": []
          },
          "execution_count": 102
        }
      ]
    },
    {
      "cell_type": "markdown",
      "metadata": {
        "id": "JrSYoxzJ0DeQ",
        "colab_type": "text"
      },
      "source": [
        "## Statistics of the data grouped by gender and ethnicity"
      ]
    },
    {
      "cell_type": "code",
      "metadata": {
        "id": "11h2G-nZrq6c",
        "colab_type": "code",
        "outputId": "046d9ac0-f0de-4f19-b090-9427fe06210c",
        "colab": {
          "base_uri": "https://localhost:8080/",
          "height": 402
        }
      },
      "source": [
        "patient.groupby(['gender','ethnicity']).describe()"
      ],
      "execution_count": 0,
      "outputs": [
        {
          "output_type": "execute_result",
          "data": {
            "text/html": [
              "<div>\n",
              "<style scoped>\n",
              "    .dataframe tbody tr th:only-of-type {\n",
              "        vertical-align: middle;\n",
              "    }\n",
              "\n",
              "    .dataframe tbody tr th {\n",
              "        vertical-align: top;\n",
              "    }\n",
              "\n",
              "    .dataframe thead tr th {\n",
              "        text-align: left;\n",
              "    }\n",
              "\n",
              "    .dataframe thead tr:last-of-type th {\n",
              "        text-align: right;\n",
              "    }\n",
              "</style>\n",
              "<table border=\"1\" class=\"dataframe\">\n",
              "  <thead>\n",
              "    <tr>\n",
              "      <th></th>\n",
              "      <th></th>\n",
              "      <th colspan=\"8\" halign=\"left\">age</th>\n",
              "    </tr>\n",
              "    <tr>\n",
              "      <th></th>\n",
              "      <th></th>\n",
              "      <th>count</th>\n",
              "      <th>mean</th>\n",
              "      <th>std</th>\n",
              "      <th>min</th>\n",
              "      <th>25%</th>\n",
              "      <th>50%</th>\n",
              "      <th>75%</th>\n",
              "      <th>max</th>\n",
              "    </tr>\n",
              "    <tr>\n",
              "      <th>gender</th>\n",
              "      <th>ethnicity</th>\n",
              "      <th></th>\n",
              "      <th></th>\n",
              "      <th></th>\n",
              "      <th></th>\n",
              "      <th></th>\n",
              "      <th></th>\n",
              "      <th></th>\n",
              "      <th></th>\n",
              "    </tr>\n",
              "  </thead>\n",
              "  <tbody>\n",
              "    <tr>\n",
              "      <th rowspan=\"5\" valign=\"top\">Female</th>\n",
              "      <th>African American</th>\n",
              "      <td>10321.0</td>\n",
              "      <td>57.596454</td>\n",
              "      <td>17.551641</td>\n",
              "      <td>1.0</td>\n",
              "      <td>46.0</td>\n",
              "      <td>59.0</td>\n",
              "      <td>70.0</td>\n",
              "      <td>89.0</td>\n",
              "    </tr>\n",
              "    <tr>\n",
              "      <th>Asian</th>\n",
              "      <td>1541.0</td>\n",
              "      <td>63.525633</td>\n",
              "      <td>18.459331</td>\n",
              "      <td>16.0</td>\n",
              "      <td>51.0</td>\n",
              "      <td>67.0</td>\n",
              "      <td>79.0</td>\n",
              "      <td>89.0</td>\n",
              "    </tr>\n",
              "    <tr>\n",
              "      <th>Caucasian</th>\n",
              "      <td>70393.0</td>\n",
              "      <td>65.044834</td>\n",
              "      <td>17.236981</td>\n",
              "      <td>0.0</td>\n",
              "      <td>55.0</td>\n",
              "      <td>68.0</td>\n",
              "      <td>79.0</td>\n",
              "      <td>89.0</td>\n",
              "    </tr>\n",
              "    <tr>\n",
              "      <th>Hispanic</th>\n",
              "      <td>3423.0</td>\n",
              "      <td>62.046450</td>\n",
              "      <td>19.659415</td>\n",
              "      <td>0.0</td>\n",
              "      <td>48.0</td>\n",
              "      <td>65.0</td>\n",
              "      <td>79.0</td>\n",
              "      <td>89.0</td>\n",
              "    </tr>\n",
              "    <tr>\n",
              "      <th>Native American</th>\n",
              "      <td>840.0</td>\n",
              "      <td>53.132143</td>\n",
              "      <td>16.939784</td>\n",
              "      <td>16.0</td>\n",
              "      <td>40.0</td>\n",
              "      <td>54.0</td>\n",
              "      <td>65.0</td>\n",
              "      <td>89.0</td>\n",
              "    </tr>\n",
              "    <tr>\n",
              "      <th rowspan=\"5\" valign=\"top\">Male</th>\n",
              "      <th>African American</th>\n",
              "      <td>10806.0</td>\n",
              "      <td>56.060152</td>\n",
              "      <td>16.419762</td>\n",
              "      <td>1.0</td>\n",
              "      <td>45.0</td>\n",
              "      <td>57.0</td>\n",
              "      <td>67.0</td>\n",
              "      <td>89.0</td>\n",
              "    </tr>\n",
              "    <tr>\n",
              "      <th>Asian</th>\n",
              "      <td>1680.0</td>\n",
              "      <td>63.135714</td>\n",
              "      <td>16.918666</td>\n",
              "      <td>14.0</td>\n",
              "      <td>52.0</td>\n",
              "      <td>65.0</td>\n",
              "      <td>77.0</td>\n",
              "      <td>89.0</td>\n",
              "    </tr>\n",
              "    <tr>\n",
              "      <th>Caucasian</th>\n",
              "      <td>83523.0</td>\n",
              "      <td>63.765011</td>\n",
              "      <td>16.143166</td>\n",
              "      <td>0.0</td>\n",
              "      <td>54.0</td>\n",
              "      <td>66.0</td>\n",
              "      <td>76.0</td>\n",
              "      <td>89.0</td>\n",
              "    </tr>\n",
              "    <tr>\n",
              "      <th>Hispanic</th>\n",
              "      <td>4003.0</td>\n",
              "      <td>59.629278</td>\n",
              "      <td>18.891520</td>\n",
              "      <td>0.0</td>\n",
              "      <td>47.0</td>\n",
              "      <td>61.0</td>\n",
              "      <td>75.0</td>\n",
              "      <td>89.0</td>\n",
              "    </tr>\n",
              "    <tr>\n",
              "      <th>Native American</th>\n",
              "      <td>848.0</td>\n",
              "      <td>51.715802</td>\n",
              "      <td>16.554176</td>\n",
              "      <td>14.0</td>\n",
              "      <td>40.0</td>\n",
              "      <td>53.0</td>\n",
              "      <td>64.0</td>\n",
              "      <td>89.0</td>\n",
              "    </tr>\n",
              "  </tbody>\n",
              "</table>\n",
              "</div>"
            ],
            "text/plain": [
              "                             age                        ...                  \n",
              "                           count       mean        std  ...   50%   75%   max\n",
              "gender ethnicity                                        ...                  \n",
              "Female African American  10321.0  57.596454  17.551641  ...  59.0  70.0  89.0\n",
              "       Asian              1541.0  63.525633  18.459331  ...  67.0  79.0  89.0\n",
              "       Caucasian         70393.0  65.044834  17.236981  ...  68.0  79.0  89.0\n",
              "       Hispanic           3423.0  62.046450  19.659415  ...  65.0  79.0  89.0\n",
              "       Native American     840.0  53.132143  16.939784  ...  54.0  65.0  89.0\n",
              "Male   African American  10806.0  56.060152  16.419762  ...  57.0  67.0  89.0\n",
              "       Asian              1680.0  63.135714  16.918666  ...  65.0  77.0  89.0\n",
              "       Caucasian         83523.0  63.765011  16.143166  ...  66.0  76.0  89.0\n",
              "       Hispanic           4003.0  59.629278  18.891520  ...  61.0  75.0  89.0\n",
              "       Native American     848.0  51.715802  16.554176  ...  53.0  64.0  89.0\n",
              "\n",
              "[10 rows x 8 columns]"
            ]
          },
          "metadata": {
            "tags": []
          },
          "execution_count": 103
        }
      ]
    },
    {
      "cell_type": "markdown",
      "metadata": {
        "id": "6DKVLfS4z5xF",
        "colab_type": "text"
      },
      "source": [
        "## Finding 95th percentile for column age"
      ]
    },
    {
      "cell_type": "code",
      "metadata": {
        "id": "xDN66_kpuC9o",
        "colab_type": "code",
        "outputId": "0f5e94a7-2196-4109-88d2-424278909321",
        "colab": {
          "base_uri": "https://localhost:8080/",
          "height": 136
        }
      },
      "source": [
        "group1 = patient['age'].groupby(patient['gender']).quantile(0.95)\n",
        "group1 = pd.DataFrame(group1)\n",
        "group1\n",
        "#patient.age.quantile(0.95)"
      ],
      "execution_count": 0,
      "outputs": [
        {
          "output_type": "execute_result",
          "data": {
            "text/html": [
              "<div>\n",
              "<style scoped>\n",
              "    .dataframe tbody tr th:only-of-type {\n",
              "        vertical-align: middle;\n",
              "    }\n",
              "\n",
              "    .dataframe tbody tr th {\n",
              "        vertical-align: top;\n",
              "    }\n",
              "\n",
              "    .dataframe thead th {\n",
              "        text-align: right;\n",
              "    }\n",
              "</style>\n",
              "<table border=\"1\" class=\"dataframe\">\n",
              "  <thead>\n",
              "    <tr style=\"text-align: right;\">\n",
              "      <th></th>\n",
              "      <th>age</th>\n",
              "    </tr>\n",
              "    <tr>\n",
              "      <th>gender</th>\n",
              "      <th></th>\n",
              "    </tr>\n",
              "  </thead>\n",
              "  <tbody>\n",
              "    <tr>\n",
              "      <th>Female</th>\n",
              "      <td>89.0</td>\n",
              "    </tr>\n",
              "    <tr>\n",
              "      <th>Male</th>\n",
              "      <td>87.0</td>\n",
              "    </tr>\n",
              "  </tbody>\n",
              "</table>\n",
              "</div>"
            ],
            "text/plain": [
              "         age\n",
              "gender      \n",
              "Female  89.0\n",
              "Male    87.0"
            ]
          },
          "metadata": {
            "tags": []
          },
          "execution_count": 104
        }
      ]
    },
    {
      "cell_type": "code",
      "metadata": {
        "id": "HWrS6Pfy2JwD",
        "colab_type": "code",
        "outputId": "7d88e2c6-052d-40e1-bae8-b6b4a8c276c8",
        "colab": {
          "base_uri": "https://localhost:8080/",
          "height": 402
        }
      },
      "source": [
        "grouped_single = patient.groupby(['gender','ethnicity']).agg({'age': ['count','mean','std','min','max']})\n",
        "grouped_single"
      ],
      "execution_count": 0,
      "outputs": [
        {
          "output_type": "execute_result",
          "data": {
            "text/html": [
              "<div>\n",
              "<style scoped>\n",
              "    .dataframe tbody tr th:only-of-type {\n",
              "        vertical-align: middle;\n",
              "    }\n",
              "\n",
              "    .dataframe tbody tr th {\n",
              "        vertical-align: top;\n",
              "    }\n",
              "\n",
              "    .dataframe thead tr th {\n",
              "        text-align: left;\n",
              "    }\n",
              "\n",
              "    .dataframe thead tr:last-of-type th {\n",
              "        text-align: right;\n",
              "    }\n",
              "</style>\n",
              "<table border=\"1\" class=\"dataframe\">\n",
              "  <thead>\n",
              "    <tr>\n",
              "      <th></th>\n",
              "      <th></th>\n",
              "      <th colspan=\"5\" halign=\"left\">age</th>\n",
              "    </tr>\n",
              "    <tr>\n",
              "      <th></th>\n",
              "      <th></th>\n",
              "      <th>count</th>\n",
              "      <th>mean</th>\n",
              "      <th>std</th>\n",
              "      <th>min</th>\n",
              "      <th>max</th>\n",
              "    </tr>\n",
              "    <tr>\n",
              "      <th>gender</th>\n",
              "      <th>ethnicity</th>\n",
              "      <th></th>\n",
              "      <th></th>\n",
              "      <th></th>\n",
              "      <th></th>\n",
              "      <th></th>\n",
              "    </tr>\n",
              "  </thead>\n",
              "  <tbody>\n",
              "    <tr>\n",
              "      <th rowspan=\"5\" valign=\"top\">Female</th>\n",
              "      <th>African American</th>\n",
              "      <td>10321</td>\n",
              "      <td>57.596454</td>\n",
              "      <td>17.551641</td>\n",
              "      <td>1</td>\n",
              "      <td>89</td>\n",
              "    </tr>\n",
              "    <tr>\n",
              "      <th>Asian</th>\n",
              "      <td>1541</td>\n",
              "      <td>63.525633</td>\n",
              "      <td>18.459331</td>\n",
              "      <td>16</td>\n",
              "      <td>89</td>\n",
              "    </tr>\n",
              "    <tr>\n",
              "      <th>Caucasian</th>\n",
              "      <td>70393</td>\n",
              "      <td>65.044834</td>\n",
              "      <td>17.236981</td>\n",
              "      <td>0</td>\n",
              "      <td>89</td>\n",
              "    </tr>\n",
              "    <tr>\n",
              "      <th>Hispanic</th>\n",
              "      <td>3423</td>\n",
              "      <td>62.046450</td>\n",
              "      <td>19.659415</td>\n",
              "      <td>0</td>\n",
              "      <td>89</td>\n",
              "    </tr>\n",
              "    <tr>\n",
              "      <th>Native American</th>\n",
              "      <td>840</td>\n",
              "      <td>53.132143</td>\n",
              "      <td>16.939784</td>\n",
              "      <td>16</td>\n",
              "      <td>89</td>\n",
              "    </tr>\n",
              "    <tr>\n",
              "      <th rowspan=\"5\" valign=\"top\">Male</th>\n",
              "      <th>African American</th>\n",
              "      <td>10806</td>\n",
              "      <td>56.060152</td>\n",
              "      <td>16.419762</td>\n",
              "      <td>1</td>\n",
              "      <td>89</td>\n",
              "    </tr>\n",
              "    <tr>\n",
              "      <th>Asian</th>\n",
              "      <td>1680</td>\n",
              "      <td>63.135714</td>\n",
              "      <td>16.918666</td>\n",
              "      <td>14</td>\n",
              "      <td>89</td>\n",
              "    </tr>\n",
              "    <tr>\n",
              "      <th>Caucasian</th>\n",
              "      <td>83523</td>\n",
              "      <td>63.765011</td>\n",
              "      <td>16.143166</td>\n",
              "      <td>0</td>\n",
              "      <td>89</td>\n",
              "    </tr>\n",
              "    <tr>\n",
              "      <th>Hispanic</th>\n",
              "      <td>4003</td>\n",
              "      <td>59.629278</td>\n",
              "      <td>18.891520</td>\n",
              "      <td>0</td>\n",
              "      <td>89</td>\n",
              "    </tr>\n",
              "    <tr>\n",
              "      <th>Native American</th>\n",
              "      <td>848</td>\n",
              "      <td>51.715802</td>\n",
              "      <td>16.554176</td>\n",
              "      <td>14</td>\n",
              "      <td>89</td>\n",
              "    </tr>\n",
              "  </tbody>\n",
              "</table>\n",
              "</div>"
            ],
            "text/plain": [
              "                           age                              \n",
              "                         count       mean        std min max\n",
              "gender ethnicity                                            \n",
              "Female African American  10321  57.596454  17.551641   1  89\n",
              "       Asian              1541  63.525633  18.459331  16  89\n",
              "       Caucasian         70393  65.044834  17.236981   0  89\n",
              "       Hispanic           3423  62.046450  19.659415   0  89\n",
              "       Native American     840  53.132143  16.939784  16  89\n",
              "Male   African American  10806  56.060152  16.419762   1  89\n",
              "       Asian              1680  63.135714  16.918666  14  89\n",
              "       Caucasian         83523  63.765011  16.143166   0  89\n",
              "       Hispanic           4003  59.629278  18.891520   0  89\n",
              "       Native American     848  51.715802  16.554176  14  89"
            ]
          },
          "metadata": {
            "tags": []
          },
          "execution_count": 105
        }
      ]
    },
    {
      "cell_type": "markdown",
      "metadata": {
        "id": "PsHK3ZILxIty",
        "colab_type": "text"
      },
      "source": [
        "## Extracting features"
      ]
    },
    {
      "cell_type": "code",
      "metadata": {
        "id": "0qtDewJj50Jr",
        "colab_type": "code",
        "colab": {}
      },
      "source": [
        "%%bigquery --project $project_id variable\n",
        "select temperature,respiratoryrate,heartrate,glucose,fio2,creatinine,ph\n",
        "from `physionet-data.eicu_crd.apacheapsvar` a\n",
        "join `physionet-data.eicu_crd.patient` b ON (\n",
        "a.patientunitstayid =b.patientunitstayid\n",
        ")"
      ],
      "execution_count": 0,
      "outputs": []
    },
    {
      "cell_type": "code",
      "metadata": {
        "id": "qW4xIXgBw6bE",
        "colab_type": "code",
        "outputId": "29ea04bf-ffbc-4f8c-ba77-eddc1ac7c9d8",
        "colab": {
          "base_uri": "https://localhost:8080/",
          "height": 402
        }
      },
      "source": [
        "variable"
      ],
      "execution_count": 0,
      "outputs": [
        {
          "output_type": "execute_result",
          "data": {
            "text/html": [
              "<div>\n",
              "<style scoped>\n",
              "    .dataframe tbody tr th:only-of-type {\n",
              "        vertical-align: middle;\n",
              "    }\n",
              "\n",
              "    .dataframe tbody tr th {\n",
              "        vertical-align: top;\n",
              "    }\n",
              "\n",
              "    .dataframe thead th {\n",
              "        text-align: right;\n",
              "    }\n",
              "</style>\n",
              "<table border=\"1\" class=\"dataframe\">\n",
              "  <thead>\n",
              "    <tr style=\"text-align: right;\">\n",
              "      <th></th>\n",
              "      <th>temperature</th>\n",
              "      <th>respiratoryrate</th>\n",
              "      <th>heartrate</th>\n",
              "      <th>glucose</th>\n",
              "      <th>fio2</th>\n",
              "      <th>creatinine</th>\n",
              "      <th>ph</th>\n",
              "    </tr>\n",
              "  </thead>\n",
              "  <tbody>\n",
              "    <tr>\n",
              "      <th>0</th>\n",
              "      <td>36.2</td>\n",
              "      <td>23.0</td>\n",
              "      <td>152</td>\n",
              "      <td>266.0</td>\n",
              "      <td>40.0</td>\n",
              "      <td>0.76</td>\n",
              "      <td>7.393</td>\n",
              "    </tr>\n",
              "    <tr>\n",
              "      <th>1</th>\n",
              "      <td>36.4</td>\n",
              "      <td>17.0</td>\n",
              "      <td>48</td>\n",
              "      <td>102.0</td>\n",
              "      <td>-1.0</td>\n",
              "      <td>1.04</td>\n",
              "      <td>-1.000</td>\n",
              "    </tr>\n",
              "    <tr>\n",
              "      <th>2</th>\n",
              "      <td>36.4</td>\n",
              "      <td>57.0</td>\n",
              "      <td>101</td>\n",
              "      <td>101.0</td>\n",
              "      <td>50.0</td>\n",
              "      <td>0.60</td>\n",
              "      <td>7.390</td>\n",
              "    </tr>\n",
              "    <tr>\n",
              "      <th>3</th>\n",
              "      <td>36.3</td>\n",
              "      <td>57.0</td>\n",
              "      <td>43</td>\n",
              "      <td>86.0</td>\n",
              "      <td>-1.0</td>\n",
              "      <td>0.75</td>\n",
              "      <td>-1.000</td>\n",
              "    </tr>\n",
              "    <tr>\n",
              "      <th>4</th>\n",
              "      <td>36.9</td>\n",
              "      <td>23.0</td>\n",
              "      <td>106</td>\n",
              "      <td>-1.0</td>\n",
              "      <td>-1.0</td>\n",
              "      <td>0.80</td>\n",
              "      <td>-1.000</td>\n",
              "    </tr>\n",
              "    <tr>\n",
              "      <th>...</th>\n",
              "      <td>...</td>\n",
              "      <td>...</td>\n",
              "      <td>...</td>\n",
              "      <td>...</td>\n",
              "      <td>...</td>\n",
              "      <td>...</td>\n",
              "      <td>...</td>\n",
              "    </tr>\n",
              "    <tr>\n",
              "      <th>171172</th>\n",
              "      <td>36.3</td>\n",
              "      <td>59.0</td>\n",
              "      <td>106</td>\n",
              "      <td>200.0</td>\n",
              "      <td>-1.0</td>\n",
              "      <td>-1.00</td>\n",
              "      <td>-1.000</td>\n",
              "    </tr>\n",
              "    <tr>\n",
              "      <th>171173</th>\n",
              "      <td>36.3</td>\n",
              "      <td>59.0</td>\n",
              "      <td>218</td>\n",
              "      <td>-1.0</td>\n",
              "      <td>-1.0</td>\n",
              "      <td>-1.00</td>\n",
              "      <td>-1.000</td>\n",
              "    </tr>\n",
              "    <tr>\n",
              "      <th>171174</th>\n",
              "      <td>36.6</td>\n",
              "      <td>59.0</td>\n",
              "      <td>56</td>\n",
              "      <td>61.0</td>\n",
              "      <td>-1.0</td>\n",
              "      <td>8.76</td>\n",
              "      <td>-1.000</td>\n",
              "    </tr>\n",
              "    <tr>\n",
              "      <th>171175</th>\n",
              "      <td>-1.0</td>\n",
              "      <td>59.0</td>\n",
              "      <td>169</td>\n",
              "      <td>174.0</td>\n",
              "      <td>-1.0</td>\n",
              "      <td>7.12</td>\n",
              "      <td>-1.000</td>\n",
              "    </tr>\n",
              "    <tr>\n",
              "      <th>171176</th>\n",
              "      <td>35.9</td>\n",
              "      <td>59.0</td>\n",
              "      <td>112</td>\n",
              "      <td>205.0</td>\n",
              "      <td>100.0</td>\n",
              "      <td>1.60</td>\n",
              "      <td>7.079</td>\n",
              "    </tr>\n",
              "  </tbody>\n",
              "</table>\n",
              "<p>171177 rows × 7 columns</p>\n",
              "</div>"
            ],
            "text/plain": [
              "        temperature  respiratoryrate  heartrate  ...   fio2  creatinine     ph\n",
              "0              36.2             23.0        152  ...   40.0        0.76  7.393\n",
              "1              36.4             17.0         48  ...   -1.0        1.04 -1.000\n",
              "2              36.4             57.0        101  ...   50.0        0.60  7.390\n",
              "3              36.3             57.0         43  ...   -1.0        0.75 -1.000\n",
              "4              36.9             23.0        106  ...   -1.0        0.80 -1.000\n",
              "...             ...              ...        ...  ...    ...         ...    ...\n",
              "171172         36.3             59.0        106  ...   -1.0       -1.00 -1.000\n",
              "171173         36.3             59.0        218  ...   -1.0       -1.00 -1.000\n",
              "171174         36.6             59.0         56  ...   -1.0        8.76 -1.000\n",
              "171175         -1.0             59.0        169  ...   -1.0        7.12 -1.000\n",
              "171176         35.9             59.0        112  ...  100.0        1.60  7.079\n",
              "\n",
              "[171177 rows x 7 columns]"
            ]
          },
          "metadata": {
            "tags": []
          },
          "execution_count": 15
        }
      ]
    },
    {
      "cell_type": "markdown",
      "metadata": {
        "id": "uFX-MS5OxX5h",
        "colab_type": "text"
      },
      "source": [
        "## Statistics of features"
      ]
    },
    {
      "cell_type": "code",
      "metadata": {
        "id": "TGcH-E_cw-Tr",
        "colab_type": "code",
        "outputId": "b8bb9ae2-aa53-4fdd-f30b-70e306c29fe4",
        "colab": {
          "base_uri": "https://localhost:8080/",
          "height": 284
        }
      },
      "source": [
        "variable.describe()"
      ],
      "execution_count": 0,
      "outputs": [
        {
          "output_type": "execute_result",
          "data": {
            "text/html": [
              "<div>\n",
              "<style scoped>\n",
              "    .dataframe tbody tr th:only-of-type {\n",
              "        vertical-align: middle;\n",
              "    }\n",
              "\n",
              "    .dataframe tbody tr th {\n",
              "        vertical-align: top;\n",
              "    }\n",
              "\n",
              "    .dataframe thead th {\n",
              "        text-align: right;\n",
              "    }\n",
              "</style>\n",
              "<table border=\"1\" class=\"dataframe\">\n",
              "  <thead>\n",
              "    <tr style=\"text-align: right;\">\n",
              "      <th></th>\n",
              "      <th>temperature</th>\n",
              "      <th>respiratoryrate</th>\n",
              "      <th>heartrate</th>\n",
              "      <th>glucose</th>\n",
              "      <th>fio2</th>\n",
              "      <th>creatinine</th>\n",
              "      <th>ph</th>\n",
              "    </tr>\n",
              "  </thead>\n",
              "  <tbody>\n",
              "    <tr>\n",
              "      <th>count</th>\n",
              "      <td>171177.000000</td>\n",
              "      <td>171177.000000</td>\n",
              "      <td>171177.000000</td>\n",
              "      <td>171177.000000</td>\n",
              "      <td>171177.000000</td>\n",
              "      <td>171177.000000</td>\n",
              "      <td>171177.000000</td>\n",
              "    </tr>\n",
              "    <tr>\n",
              "      <th>mean</th>\n",
              "      <td>33.728719</td>\n",
              "      <td>24.784735</td>\n",
              "      <td>98.667993</td>\n",
              "      <td>141.184455</td>\n",
              "      <td>12.794373</td>\n",
              "      <td>0.999311</td>\n",
              "      <td>0.906831</td>\n",
              "    </tr>\n",
              "    <tr>\n",
              "      <th>std</th>\n",
              "      <td>9.725657</td>\n",
              "      <td>15.301895</td>\n",
              "      <td>33.263814</td>\n",
              "      <td>109.723423</td>\n",
              "      <td>28.329034</td>\n",
              "      <td>1.852455</td>\n",
              "      <td>3.506569</td>\n",
              "    </tr>\n",
              "    <tr>\n",
              "      <th>min</th>\n",
              "      <td>-1.000000</td>\n",
              "      <td>-1.000000</td>\n",
              "      <td>-1.000000</td>\n",
              "      <td>-1.000000</td>\n",
              "      <td>-1.000000</td>\n",
              "      <td>-1.000000</td>\n",
              "      <td>-1.000000</td>\n",
              "    </tr>\n",
              "    <tr>\n",
              "      <th>25%</th>\n",
              "      <td>36.100000</td>\n",
              "      <td>10.000000</td>\n",
              "      <td>84.000000</td>\n",
              "      <td>85.000000</td>\n",
              "      <td>-1.000000</td>\n",
              "      <td>0.470000</td>\n",
              "      <td>-1.000000</td>\n",
              "    </tr>\n",
              "    <tr>\n",
              "      <th>50%</th>\n",
              "      <td>36.400000</td>\n",
              "      <td>27.000000</td>\n",
              "      <td>104.000000</td>\n",
              "      <td>115.000000</td>\n",
              "      <td>-1.000000</td>\n",
              "      <td>0.810000</td>\n",
              "      <td>-1.000000</td>\n",
              "    </tr>\n",
              "    <tr>\n",
              "      <th>75%</th>\n",
              "      <td>36.700000</td>\n",
              "      <td>35.000000</td>\n",
              "      <td>120.000000</td>\n",
              "      <td>187.000000</td>\n",
              "      <td>-1.000000</td>\n",
              "      <td>1.360000</td>\n",
              "      <td>-1.000000</td>\n",
              "    </tr>\n",
              "    <tr>\n",
              "      <th>max</th>\n",
              "      <td>42.300000</td>\n",
              "      <td>60.000000</td>\n",
              "      <td>220.000000</td>\n",
              "      <td>2357.000000</td>\n",
              "      <td>100.000000</td>\n",
              "      <td>24.950000</td>\n",
              "      <td>7.810000</td>\n",
              "    </tr>\n",
              "  </tbody>\n",
              "</table>\n",
              "</div>"
            ],
            "text/plain": [
              "         temperature  respiratoryrate  ...     creatinine             ph\n",
              "count  171177.000000    171177.000000  ...  171177.000000  171177.000000\n",
              "mean       33.728719        24.784735  ...       0.999311       0.906831\n",
              "std         9.725657        15.301895  ...       1.852455       3.506569\n",
              "min        -1.000000        -1.000000  ...      -1.000000      -1.000000\n",
              "25%        36.100000        10.000000  ...       0.470000      -1.000000\n",
              "50%        36.400000        27.000000  ...       0.810000      -1.000000\n",
              "75%        36.700000        35.000000  ...       1.360000      -1.000000\n",
              "max        42.300000        60.000000  ...      24.950000       7.810000\n",
              "\n",
              "[8 rows x 7 columns]"
            ]
          },
          "metadata": {
            "tags": []
          },
          "execution_count": 16
        }
      ]
    },
    {
      "cell_type": "markdown",
      "metadata": {
        "id": "vKD6N90kxsQ1",
        "colab_type": "text"
      },
      "source": [
        "### 95% values"
      ]
    },
    {
      "cell_type": "code",
      "metadata": {
        "id": "rjndOD9UxQsa",
        "colab_type": "code",
        "outputId": "c30b4b8b-d99f-4024-cb76-cc796c417097",
        "colab": {
          "base_uri": "https://localhost:8080/",
          "height": 151
        }
      },
      "source": [
        "variable.quantile(0.95)"
      ],
      "execution_count": 0,
      "outputs": [
        {
          "output_type": "execute_result",
          "data": {
            "text/plain": [
              "temperature         37.300\n",
              "respiratoryrate     52.000\n",
              "heartrate          147.000\n",
              "glucose            333.000\n",
              "fio2               100.000\n",
              "creatinine           4.100\n",
              "ph                   7.428\n",
              "Name: 0.95, dtype: float64"
            ]
          },
          "metadata": {
            "tags": []
          },
          "execution_count": 17
        }
      ]
    },
    {
      "cell_type": "code",
      "metadata": {
        "id": "RI_pjS6PxqBC",
        "colab_type": "code",
        "colab": {}
      },
      "source": [
        ""
      ],
      "execution_count": 0,
      "outputs": []
    }
  ]
}
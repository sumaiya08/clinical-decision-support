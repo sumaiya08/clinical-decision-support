{
  "nbformat": 4,
  "nbformat_minor": 0,
  "metadata": {
    "colab": {
      "name": "EDA.ipynb",
      "provenance": [],
      "collapsed_sections": [],
      "authorship_tag": "ABX9TyONgkMFqccW+dPHNFcuJfNa",
      "include_colab_link": true
    },
    "kernelspec": {
      "name": "python3",
      "display_name": "Python 3"
    }
  },
  "cells": [
    {
      "cell_type": "markdown",
      "metadata": {
        "id": "view-in-github",
        "colab_type": "text"
      },
      "source": [
        "<a href=\"https://colab.research.google.com/github/sumaiya08/medicaldata/blob/master/EDA.ipynb\" target=\"_parent\"><img src=\"https://colab.research.google.com/assets/colab-badge.svg\" alt=\"Open In Colab\"/></a>"
      ]
    },
    {
      "cell_type": "code",
      "metadata": {
        "id": "CF91RAclQKQw",
        "colab_type": "code",
        "colab": {}
      },
      "source": [
        "import os\n",
        "import numpy as np\n",
        "import pandas as pd\n",
        "import matplotlib.pyplot as plt\n",
        "\n",
        "# Access data using Google BigQuery.\n",
        "from google.colab import auth\n",
        "from google.cloud import bigquery"
      ],
      "execution_count": 0,
      "outputs": []
    },
    {
      "cell_type": "code",
      "metadata": {
        "id": "nlvum-qEQYrx",
        "colab_type": "code",
        "colab": {
          "base_uri": "https://localhost:8080/",
          "height": 34
        },
        "outputId": "7e350e71-8eca-454d-f24d-b503a40a5f0c"
      },
      "source": [
        "auth.authenticate_user()\n",
        "print('Authenticated')\n"
      ],
      "execution_count": 14,
      "outputs": [
        {
          "output_type": "stream",
          "text": [
            "Authenticated\n"
          ],
          "name": "stdout"
        }
      ]
    },
    {
      "cell_type": "code",
      "metadata": {
        "id": "7-ZgHULDQyj5",
        "colab_type": "code",
        "colab": {}
      },
      "source": [
        "project_id='eicudata'\n"
      ],
      "execution_count": 0,
      "outputs": []
    },
    {
      "cell_type": "markdown",
      "metadata": {
        "id": "23FHQWios2ez",
        "colab_type": "text"
      },
      "source": [
        "Total number of hospitals in the database -"
      ]
    },
    {
      "cell_type": "code",
      "metadata": {
        "id": "cP645fqjs2_k",
        "colab_type": "code",
        "colab": {}
      },
      "source": [
        "%%bigquery --project $project_id totalhosp\n",
        "Select COUNT (DISTINCT hospitalid)\n",
        "from `physionet-data.eicu_crd.hospital`;"
      ],
      "execution_count": 0,
      "outputs": []
    },
    {
      "cell_type": "code",
      "metadata": {
        "id": "LYBC4g20tTRa",
        "colab_type": "code",
        "colab": {
          "base_uri": "https://localhost:8080/",
          "height": 77
        },
        "outputId": "dc5e7d52-2e32-4dbe-956e-209b0626522a"
      },
      "source": [
        "totalhosp"
      ],
      "execution_count": 17,
      "outputs": [
        {
          "output_type": "execute_result",
          "data": {
            "text/html": [
              "<div>\n",
              "<style scoped>\n",
              "    .dataframe tbody tr th:only-of-type {\n",
              "        vertical-align: middle;\n",
              "    }\n",
              "\n",
              "    .dataframe tbody tr th {\n",
              "        vertical-align: top;\n",
              "    }\n",
              "\n",
              "    .dataframe thead th {\n",
              "        text-align: right;\n",
              "    }\n",
              "</style>\n",
              "<table border=\"1\" class=\"dataframe\">\n",
              "  <thead>\n",
              "    <tr style=\"text-align: right;\">\n",
              "      <th></th>\n",
              "      <th>f0_</th>\n",
              "    </tr>\n",
              "  </thead>\n",
              "  <tbody>\n",
              "    <tr>\n",
              "      <th>0</th>\n",
              "      <td>208</td>\n",
              "    </tr>\n",
              "  </tbody>\n",
              "</table>\n",
              "</div>"
            ],
            "text/plain": [
              "   f0_\n",
              "0  208"
            ]
          },
          "metadata": {
            "tags": []
          },
          "execution_count": 17
        }
      ]
    },
    {
      "cell_type": "markdown",
      "metadata": {
        "id": "ixE6fSZzspXP",
        "colab_type": "text"
      },
      "source": [
        "Total number of ICU'S - "
      ]
    },
    {
      "cell_type": "code",
      "metadata": {
        "id": "fimNNmkQRA9w",
        "colab_type": "code",
        "colab": {}
      },
      "source": [
        "%%bigquery --project $project_id totalicu\n",
        "SELECT COUNT (DISTINCT wardid )\n",
        "FROM `physionet-data.eicu_crd.patient`\n"
      ],
      "execution_count": 0,
      "outputs": []
    },
    {
      "cell_type": "code",
      "metadata": {
        "id": "L67HY-U1RjR8",
        "colab_type": "code",
        "outputId": "a179f21b-4227-434e-9bc3-b89f3e106f6f",
        "colab": {
          "base_uri": "https://localhost:8080/",
          "height": 77
        }
      },
      "source": [
        "totalicu"
      ],
      "execution_count": 19,
      "outputs": [
        {
          "output_type": "execute_result",
          "data": {
            "text/html": [
              "<div>\n",
              "<style scoped>\n",
              "    .dataframe tbody tr th:only-of-type {\n",
              "        vertical-align: middle;\n",
              "    }\n",
              "\n",
              "    .dataframe tbody tr th {\n",
              "        vertical-align: top;\n",
              "    }\n",
              "\n",
              "    .dataframe thead th {\n",
              "        text-align: right;\n",
              "    }\n",
              "</style>\n",
              "<table border=\"1\" class=\"dataframe\">\n",
              "  <thead>\n",
              "    <tr style=\"text-align: right;\">\n",
              "      <th></th>\n",
              "      <th>f0_</th>\n",
              "    </tr>\n",
              "  </thead>\n",
              "  <tbody>\n",
              "    <tr>\n",
              "      <th>0</th>\n",
              "      <td>335</td>\n",
              "    </tr>\n",
              "  </tbody>\n",
              "</table>\n",
              "</div>"
            ],
            "text/plain": [
              "   f0_\n",
              "0  335"
            ]
          },
          "metadata": {
            "tags": []
          },
          "execution_count": 19
        }
      ]
    },
    {
      "cell_type": "markdown",
      "metadata": {
        "id": "riATLPBHtoOP",
        "colab_type": "text"
      },
      "source": [
        "Procedures that have ICD 9/10 codes available -"
      ]
    },
    {
      "cell_type": "code",
      "metadata": {
        "id": "QmjhviPloidy",
        "colab_type": "code",
        "colab": {}
      },
      "source": [
        "%%bigquery --project $project_id icdcode\n",
        "select diagnosisstring,icd9code,count(*) as count\n",
        "from `physionet-data.eicu_crd.diagnosis` \n",
        "where icd9code is not null\n",
        "group by diagnosisstring, icd9code\n"
      ],
      "execution_count": 0,
      "outputs": []
    },
    {
      "cell_type": "code",
      "metadata": {
        "id": "C5_09LQfpJP9",
        "colab_type": "code",
        "colab": {
          "base_uri": "https://localhost:8080/",
          "height": 402
        },
        "outputId": "7e8ce7e6-88a8-4659-bb0e-e23127a042cb"
      },
      "source": [
        "icdcode"
      ],
      "execution_count": 21,
      "outputs": [
        {
          "output_type": "execute_result",
          "data": {
            "text/html": [
              "<div>\n",
              "<style scoped>\n",
              "    .dataframe tbody tr th:only-of-type {\n",
              "        vertical-align: middle;\n",
              "    }\n",
              "\n",
              "    .dataframe tbody tr th {\n",
              "        vertical-align: top;\n",
              "    }\n",
              "\n",
              "    .dataframe thead th {\n",
              "        text-align: right;\n",
              "    }\n",
              "</style>\n",
              "<table border=\"1\" class=\"dataframe\">\n",
              "  <thead>\n",
              "    <tr style=\"text-align: right;\">\n",
              "      <th></th>\n",
              "      <th>diagnosisstring</th>\n",
              "      <th>icd9code</th>\n",
              "      <th>count</th>\n",
              "    </tr>\n",
              "  </thead>\n",
              "  <tbody>\n",
              "    <tr>\n",
              "      <th>0</th>\n",
              "      <td>cardiovascular|shock / hypotension|hypovolemic...</td>\n",
              "      <td>785.59, R57.1, R58</td>\n",
              "      <td>3249</td>\n",
              "    </tr>\n",
              "    <tr>\n",
              "      <th>1</th>\n",
              "      <td>cardiovascular|diseases of the aorta|aortic an...</td>\n",
              "      <td>441.4, I71.4</td>\n",
              "      <td>727</td>\n",
              "    </tr>\n",
              "    <tr>\n",
              "      <th>2</th>\n",
              "      <td>cardiovascular|diseases of the aorta|aortic an...</td>\n",
              "      <td>441.9, I71.9</td>\n",
              "      <td>81</td>\n",
              "    </tr>\n",
              "    <tr>\n",
              "      <th>3</th>\n",
              "      <td>pulmonary|disorders of the airways|asthma / br...</td>\n",
              "      <td>493.90, J45</td>\n",
              "      <td>7593</td>\n",
              "    </tr>\n",
              "    <tr>\n",
              "      <th>4</th>\n",
              "      <td>oncology|hematologic malignancy|leukemia|chron...</td>\n",
              "      <td>204.10, C91.10</td>\n",
              "      <td>394</td>\n",
              "    </tr>\n",
              "    <tr>\n",
              "      <th>...</th>\n",
              "      <td>...</td>\n",
              "      <td>...</td>\n",
              "      <td>...</td>\n",
              "    </tr>\n",
              "    <tr>\n",
              "      <th>3928</th>\n",
              "      <td>renal|disorder of acid base|metabolic acidosis...</td>\n",
              "      <td>276.2, E87.2</td>\n",
              "      <td>5</td>\n",
              "    </tr>\n",
              "    <tr>\n",
              "      <th>3929</th>\n",
              "      <td>surgery|neurosurgical issues|seizures|from tumor</td>\n",
              "      <td>345.90, R56.9</td>\n",
              "      <td>1</td>\n",
              "    </tr>\n",
              "    <tr>\n",
              "      <th>3930</th>\n",
              "      <td>pulmonary|respiratory failure|acute respirator...</td>\n",
              "      <td>518.81, J96.00</td>\n",
              "      <td>1</td>\n",
              "    </tr>\n",
              "    <tr>\n",
              "      <th>3931</th>\n",
              "      <td>surgery|respiratory failure|ventilatory failur...</td>\n",
              "      <td>518.81, J96.00</td>\n",
              "      <td>1</td>\n",
              "    </tr>\n",
              "    <tr>\n",
              "      <th>3932</th>\n",
              "      <td>surgery|respiratory failure|ventilatory failur...</td>\n",
              "      <td>518.81, J96.00</td>\n",
              "      <td>1</td>\n",
              "    </tr>\n",
              "  </tbody>\n",
              "</table>\n",
              "<p>3933 rows × 3 columns</p>\n",
              "</div>"
            ],
            "text/plain": [
              "                                        diagnosisstring  ... count\n",
              "0     cardiovascular|shock / hypotension|hypovolemic...  ...  3249\n",
              "1     cardiovascular|diseases of the aorta|aortic an...  ...   727\n",
              "2     cardiovascular|diseases of the aorta|aortic an...  ...    81\n",
              "3     pulmonary|disorders of the airways|asthma / br...  ...  7593\n",
              "4     oncology|hematologic malignancy|leukemia|chron...  ...   394\n",
              "...                                                 ...  ...   ...\n",
              "3928  renal|disorder of acid base|metabolic acidosis...  ...     5\n",
              "3929   surgery|neurosurgical issues|seizures|from tumor  ...     1\n",
              "3930  pulmonary|respiratory failure|acute respirator...  ...     1\n",
              "3931  surgery|respiratory failure|ventilatory failur...  ...     1\n",
              "3932  surgery|respiratory failure|ventilatory failur...  ...     1\n",
              "\n",
              "[3933 rows x 3 columns]"
            ]
          },
          "metadata": {
            "tags": []
          },
          "execution_count": 21
        }
      ]
    },
    {
      "cell_type": "markdown",
      "metadata": {
        "id": "K5BO3YPsuSnx",
        "colab_type": "text"
      },
      "source": [
        "Top 10 diseases common amongst patients -"
      ]
    },
    {
      "cell_type": "code",
      "metadata": {
        "id": "kbArsf8JvH-y",
        "colab_type": "code",
        "colab": {}
      },
      "source": [
        "%%bigquery --project $project_id topdiseases \n",
        "select apacheadmissiondx, count(apacheadmissiondx) as count\n",
        "from `physionet-data.eicu_crd.patient` \n",
        "group by apacheadmissiondx \n",
        "order by count(apacheadmissiondx) desc\n",
        "limit 10;"
      ],
      "execution_count": 0,
      "outputs": []
    },
    {
      "cell_type": "code",
      "metadata": {
        "id": "Bq13MRMZvQCj",
        "colab_type": "code",
        "colab": {
          "base_uri": "https://localhost:8080/",
          "height": 343
        },
        "outputId": "722c1fa9-9a92-4bde-b1af-095a0a322afa"
      },
      "source": [
        "topdiseases"
      ],
      "execution_count": 23,
      "outputs": [
        {
          "output_type": "execute_result",
          "data": {
            "text/html": [
              "<div>\n",
              "<style scoped>\n",
              "    .dataframe tbody tr th:only-of-type {\n",
              "        vertical-align: middle;\n",
              "    }\n",
              "\n",
              "    .dataframe tbody tr th {\n",
              "        vertical-align: top;\n",
              "    }\n",
              "\n",
              "    .dataframe thead th {\n",
              "        text-align: right;\n",
              "    }\n",
              "</style>\n",
              "<table border=\"1\" class=\"dataframe\">\n",
              "  <thead>\n",
              "    <tr style=\"text-align: right;\">\n",
              "      <th></th>\n",
              "      <th>apacheadmissiondx</th>\n",
              "      <th>count</th>\n",
              "    </tr>\n",
              "  </thead>\n",
              "  <tbody>\n",
              "    <tr>\n",
              "      <th>0</th>\n",
              "      <td></td>\n",
              "      <td>22996</td>\n",
              "    </tr>\n",
              "    <tr>\n",
              "      <th>1</th>\n",
              "      <td>Sepsis, pulmonary</td>\n",
              "      <td>8862</td>\n",
              "    </tr>\n",
              "    <tr>\n",
              "      <th>2</th>\n",
              "      <td>Infarction, acute myocardial (MI)</td>\n",
              "      <td>7228</td>\n",
              "    </tr>\n",
              "    <tr>\n",
              "      <th>3</th>\n",
              "      <td>CVA, cerebrovascular accident/stroke</td>\n",
              "      <td>6647</td>\n",
              "    </tr>\n",
              "    <tr>\n",
              "      <th>4</th>\n",
              "      <td>CHF, congestive heart failure</td>\n",
              "      <td>6617</td>\n",
              "    </tr>\n",
              "    <tr>\n",
              "      <th>5</th>\n",
              "      <td>Sepsis, renal/UTI (including bladder)</td>\n",
              "      <td>5273</td>\n",
              "    </tr>\n",
              "    <tr>\n",
              "      <th>6</th>\n",
              "      <td>Rhythm disturbance (atrial, supraventricular)</td>\n",
              "      <td>4827</td>\n",
              "    </tr>\n",
              "    <tr>\n",
              "      <th>7</th>\n",
              "      <td>Diabetic ketoacidosis</td>\n",
              "      <td>4825</td>\n",
              "    </tr>\n",
              "    <tr>\n",
              "      <th>8</th>\n",
              "      <td>Cardiac arrest (with or without respiratory ar...</td>\n",
              "      <td>4580</td>\n",
              "    </tr>\n",
              "    <tr>\n",
              "      <th>9</th>\n",
              "      <td>CABG alone, coronary artery bypass grafting</td>\n",
              "      <td>4543</td>\n",
              "    </tr>\n",
              "  </tbody>\n",
              "</table>\n",
              "</div>"
            ],
            "text/plain": [
              "                                   apacheadmissiondx  count\n",
              "0                                                     22996\n",
              "1                                  Sepsis, pulmonary   8862\n",
              "2                  Infarction, acute myocardial (MI)   7228\n",
              "3               CVA, cerebrovascular accident/stroke   6647\n",
              "4                      CHF, congestive heart failure   6617\n",
              "5              Sepsis, renal/UTI (including bladder)   5273\n",
              "6      Rhythm disturbance (atrial, supraventricular)   4827\n",
              "7                              Diabetic ketoacidosis   4825\n",
              "8  Cardiac arrest (with or without respiratory ar...   4580\n",
              "9        CABG alone, coronary artery bypass grafting   4543"
            ]
          },
          "metadata": {
            "tags": []
          },
          "execution_count": 23
        }
      ]
    },
    {
      "cell_type": "markdown",
      "metadata": {
        "id": "lT0Yw_qQv9Gh",
        "colab_type": "text"
      },
      "source": [
        "Identifying patients with heart diseases using related drug name - "
      ]
    },
    {
      "cell_type": "code",
      "metadata": {
        "id": "SEPh3tqrvRN9",
        "colab_type": "code",
        "colab": {}
      },
      "source": [
        "%%bigquery --project $project_id heartpatients \n",
        "select gender, age, ethnicity,apacheadmissiondx,drugname\n",
        "from `physionet-data.eicu_crd.admissiondrug` a\n",
        "join `physionet-data.eicu_crd.patient` b ON (\n",
        "a.patientunitstayid =b.patientunitstayid\n",
        ")\n",
        "where drugname like '%CLOPIDOGREL%' # can also look for drug WARFARIN"
      ],
      "execution_count": 0,
      "outputs": []
    },
    {
      "cell_type": "code",
      "metadata": {
        "id": "xfSqUfSxwie7",
        "colab_type": "code",
        "colab": {
          "base_uri": "https://localhost:8080/",
          "height": 402
        },
        "outputId": "d8b31cd7-65f0-43de-b5f4-8261addf693d"
      },
      "source": [
        "heartpatients"
      ],
      "execution_count": 25,
      "outputs": [
        {
          "output_type": "execute_result",
          "data": {
            "text/html": [
              "<div>\n",
              "<style scoped>\n",
              "    .dataframe tbody tr th:only-of-type {\n",
              "        vertical-align: middle;\n",
              "    }\n",
              "\n",
              "    .dataframe tbody tr th {\n",
              "        vertical-align: top;\n",
              "    }\n",
              "\n",
              "    .dataframe thead th {\n",
              "        text-align: right;\n",
              "    }\n",
              "</style>\n",
              "<table border=\"1\" class=\"dataframe\">\n",
              "  <thead>\n",
              "    <tr style=\"text-align: right;\">\n",
              "      <th></th>\n",
              "      <th>gender</th>\n",
              "      <th>age</th>\n",
              "      <th>ethnicity</th>\n",
              "      <th>apacheadmissiondx</th>\n",
              "      <th>drugname</th>\n",
              "    </tr>\n",
              "  </thead>\n",
              "  <tbody>\n",
              "    <tr>\n",
              "      <th>0</th>\n",
              "      <td>Male</td>\n",
              "      <td>74</td>\n",
              "      <td></td>\n",
              "      <td>Endarterectomy, carotid</td>\n",
              "      <td>CLOPIDOGREL                                   ...</td>\n",
              "    </tr>\n",
              "    <tr>\n",
              "      <th>1</th>\n",
              "      <td>Male</td>\n",
              "      <td>68</td>\n",
              "      <td>Hispanic</td>\n",
              "      <td>Bleeding, upper GI</td>\n",
              "      <td>CLOPIDOGREL                                   ...</td>\n",
              "    </tr>\n",
              "    <tr>\n",
              "      <th>2</th>\n",
              "      <td>Female</td>\n",
              "      <td>74</td>\n",
              "      <td></td>\n",
              "      <td>Endarterectomy, carotid</td>\n",
              "      <td>CLOPIDOGREL                                   ...</td>\n",
              "    </tr>\n",
              "    <tr>\n",
              "      <th>3</th>\n",
              "      <td>Male</td>\n",
              "      <td>69</td>\n",
              "      <td>Caucasian</td>\n",
              "      <td>Hematoma subdural, surgery for</td>\n",
              "      <td>CLOPIDOGREL                                   ...</td>\n",
              "    </tr>\n",
              "    <tr>\n",
              "      <th>4</th>\n",
              "      <td>Male</td>\n",
              "      <td>53</td>\n",
              "      <td>Caucasian</td>\n",
              "      <td>Hemorrhage (for gastrointestinal bleeding GI-s...</td>\n",
              "      <td>CLOPIDOGREL                                   ...</td>\n",
              "    </tr>\n",
              "    <tr>\n",
              "      <th>...</th>\n",
              "      <td>...</td>\n",
              "      <td>...</td>\n",
              "      <td>...</td>\n",
              "      <td>...</td>\n",
              "      <td>...</td>\n",
              "    </tr>\n",
              "    <tr>\n",
              "      <th>1724</th>\n",
              "      <td>Female</td>\n",
              "      <td>85</td>\n",
              "      <td>African American</td>\n",
              "      <td>Hematologic medical, other</td>\n",
              "      <td>CLOPIDOGREL                                   ...</td>\n",
              "    </tr>\n",
              "    <tr>\n",
              "      <th>1725</th>\n",
              "      <td>Male</td>\n",
              "      <td>77</td>\n",
              "      <td>Caucasian</td>\n",
              "      <td>Infarction, acute myocardial (MI)</td>\n",
              "      <td>CLOPIDOGREL                                   ...</td>\n",
              "    </tr>\n",
              "    <tr>\n",
              "      <th>1726</th>\n",
              "      <td>Male</td>\n",
              "      <td>73</td>\n",
              "      <td>African American</td>\n",
              "      <td>Seizures (primary-no structural brain disease)</td>\n",
              "      <td>CLOPIDOGREL                                   ...</td>\n",
              "    </tr>\n",
              "    <tr>\n",
              "      <th>1727</th>\n",
              "      <td>Male</td>\n",
              "      <td>73</td>\n",
              "      <td>African American</td>\n",
              "      <td>CVA, cerebrovascular accident/stroke</td>\n",
              "      <td>CLOPIDOGREL                                   ...</td>\n",
              "    </tr>\n",
              "    <tr>\n",
              "      <th>1728</th>\n",
              "      <td>Male</td>\n",
              "      <td>72</td>\n",
              "      <td>Caucasian</td>\n",
              "      <td>Sepsis, renal/UTI (including bladder)</td>\n",
              "      <td>CLOPIDOGREL                                   ...</td>\n",
              "    </tr>\n",
              "  </tbody>\n",
              "</table>\n",
              "<p>1729 rows × 5 columns</p>\n",
              "</div>"
            ],
            "text/plain": [
              "      gender  ...                                           drugname\n",
              "0       Male  ...  CLOPIDOGREL                                   ...\n",
              "1       Male  ...  CLOPIDOGREL                                   ...\n",
              "2     Female  ...  CLOPIDOGREL                                   ...\n",
              "3       Male  ...  CLOPIDOGREL                                   ...\n",
              "4       Male  ...  CLOPIDOGREL                                   ...\n",
              "...      ...  ...                                                ...\n",
              "1724  Female  ...  CLOPIDOGREL                                   ...\n",
              "1725    Male  ...  CLOPIDOGREL                                   ...\n",
              "1726    Male  ...  CLOPIDOGREL                                   ...\n",
              "1727    Male  ...  CLOPIDOGREL                                   ...\n",
              "1728    Male  ...  CLOPIDOGREL                                   ...\n",
              "\n",
              "[1729 rows x 5 columns]"
            ]
          },
          "metadata": {
            "tags": []
          },
          "execution_count": 25
        }
      ]
    },
    {
      "cell_type": "markdown",
      "metadata": {
        "id": "yAl61GKXpavR",
        "colab_type": "text"
      },
      "source": [
        "Indentifying diabetic patients using drug name -"
      ]
    },
    {
      "cell_type": "code",
      "metadata": {
        "id": "B3hVxHi0pe3X",
        "colab_type": "code",
        "colab": {}
      },
      "source": [
        "%%bigquery --project $project_id diabpatients \n",
        "select gender,age,ethnicity,apacheadmissiondx,admissionheight,drugname\n",
        "from `physionet-data.eicu_crd.admissiondrug` a\n",
        "join `physionet-data.eicu_crd.patient` b ON (\n",
        "a.patientunitstayid =b.patientunitstayid\n",
        ")\n",
        "where drugname like '%GLUCAGON%'    #can also look for drug HUMULIN"
      ],
      "execution_count": 0,
      "outputs": []
    },
    {
      "cell_type": "code",
      "metadata": {
        "id": "sx_VhW23p2Tw",
        "colab_type": "code",
        "colab": {
          "base_uri": "https://localhost:8080/",
          "height": 402
        },
        "outputId": "c67d56d5-ffd4-4d87-bff9-0dc17adc80fa"
      },
      "source": [
        "diabpatients"
      ],
      "execution_count": 27,
      "outputs": [
        {
          "output_type": "execute_result",
          "data": {
            "text/html": [
              "<div>\n",
              "<style scoped>\n",
              "    .dataframe tbody tr th:only-of-type {\n",
              "        vertical-align: middle;\n",
              "    }\n",
              "\n",
              "    .dataframe tbody tr th {\n",
              "        vertical-align: top;\n",
              "    }\n",
              "\n",
              "    .dataframe thead th {\n",
              "        text-align: right;\n",
              "    }\n",
              "</style>\n",
              "<table border=\"1\" class=\"dataframe\">\n",
              "  <thead>\n",
              "    <tr style=\"text-align: right;\">\n",
              "      <th></th>\n",
              "      <th>gender</th>\n",
              "      <th>age</th>\n",
              "      <th>ethnicity</th>\n",
              "      <th>apacheadmissiondx</th>\n",
              "      <th>admissionheight</th>\n",
              "      <th>drugname</th>\n",
              "    </tr>\n",
              "  </thead>\n",
              "  <tbody>\n",
              "    <tr>\n",
              "      <th>0</th>\n",
              "      <td>Female</td>\n",
              "      <td>71</td>\n",
              "      <td>African American</td>\n",
              "      <td>Embolus, pulmonary</td>\n",
              "      <td>162.6</td>\n",
              "      <td>GLUCAGON,HUMAN RECOMBINANT                    ...</td>\n",
              "    </tr>\n",
              "    <tr>\n",
              "      <th>1</th>\n",
              "      <td>Female</td>\n",
              "      <td>71</td>\n",
              "      <td>African American</td>\n",
              "      <td>Embolus, pulmonary</td>\n",
              "      <td>162.6</td>\n",
              "      <td>GLUCAGON,HUMAN RECOMBINANT                    ...</td>\n",
              "    </tr>\n",
              "    <tr>\n",
              "      <th>2</th>\n",
              "      <td>Female</td>\n",
              "      <td>71</td>\n",
              "      <td>African American</td>\n",
              "      <td>Embolus, pulmonary</td>\n",
              "      <td>162.6</td>\n",
              "      <td>GLUCAGON,HUMAN RECOMBINANT                    ...</td>\n",
              "    </tr>\n",
              "    <tr>\n",
              "      <th>3</th>\n",
              "      <td>Female</td>\n",
              "      <td>71</td>\n",
              "      <td>African American</td>\n",
              "      <td>Embolus, pulmonary</td>\n",
              "      <td>162.6</td>\n",
              "      <td>GLUCAGON,HUMAN RECOMBINANT                    ...</td>\n",
              "    </tr>\n",
              "    <tr>\n",
              "      <th>4</th>\n",
              "      <td>Female</td>\n",
              "      <td>71</td>\n",
              "      <td>African American</td>\n",
              "      <td>Embolus, pulmonary</td>\n",
              "      <td>162.6</td>\n",
              "      <td>GLUCAGON,HUMAN RECOMBINANT                    ...</td>\n",
              "    </tr>\n",
              "    <tr>\n",
              "      <th>...</th>\n",
              "      <td>...</td>\n",
              "      <td>...</td>\n",
              "      <td>...</td>\n",
              "      <td>...</td>\n",
              "      <td>...</td>\n",
              "      <td>...</td>\n",
              "    </tr>\n",
              "    <tr>\n",
              "      <th>143</th>\n",
              "      <td>Female</td>\n",
              "      <td>78</td>\n",
              "      <td>Asian</td>\n",
              "      <td>Emphysema/bronchitis</td>\n",
              "      <td>154.9</td>\n",
              "      <td>GLUCAGON EMERGENCY KIT                        ...</td>\n",
              "    </tr>\n",
              "    <tr>\n",
              "      <th>144</th>\n",
              "      <td>Female</td>\n",
              "      <td>53</td>\n",
              "      <td>Caucasian</td>\n",
              "      <td>Anaphylaxis</td>\n",
              "      <td>177.8</td>\n",
              "      <td>GLUCAGON EMERGENCY KIT                        ...</td>\n",
              "    </tr>\n",
              "    <tr>\n",
              "      <th>145</th>\n",
              "      <td>Male</td>\n",
              "      <td>60</td>\n",
              "      <td>Caucasian</td>\n",
              "      <td>Seizures (primary-no structural brain disease)</td>\n",
              "      <td>170.2</td>\n",
              "      <td>GLUCAGON EMERGENCY KIT                        ...</td>\n",
              "    </tr>\n",
              "    <tr>\n",
              "      <th>146</th>\n",
              "      <td>Male</td>\n",
              "      <td>22</td>\n",
              "      <td>Other/Unknown</td>\n",
              "      <td>Overdose, street drugs (opiates, cocaine, amph...</td>\n",
              "      <td>170.2</td>\n",
              "      <td>GLUCAGON EMERGENCY KIT                        ...</td>\n",
              "    </tr>\n",
              "    <tr>\n",
              "      <th>147</th>\n",
              "      <td>Female</td>\n",
              "      <td>75</td>\n",
              "      <td>Caucasian</td>\n",
              "      <td>Pneumonia, bacterial</td>\n",
              "      <td>154.9</td>\n",
              "      <td>GLUCAGON EMERGENCY KIT                        ...</td>\n",
              "    </tr>\n",
              "  </tbody>\n",
              "</table>\n",
              "<p>148 rows × 6 columns</p>\n",
              "</div>"
            ],
            "text/plain": [
              "     gender  ...                                           drugname\n",
              "0    Female  ...  GLUCAGON,HUMAN RECOMBINANT                    ...\n",
              "1    Female  ...  GLUCAGON,HUMAN RECOMBINANT                    ...\n",
              "2    Female  ...  GLUCAGON,HUMAN RECOMBINANT                    ...\n",
              "3    Female  ...  GLUCAGON,HUMAN RECOMBINANT                    ...\n",
              "4    Female  ...  GLUCAGON,HUMAN RECOMBINANT                    ...\n",
              "..      ...  ...                                                ...\n",
              "143  Female  ...  GLUCAGON EMERGENCY KIT                        ...\n",
              "144  Female  ...  GLUCAGON EMERGENCY KIT                        ...\n",
              "145    Male  ...  GLUCAGON EMERGENCY KIT                        ...\n",
              "146    Male  ...  GLUCAGON EMERGENCY KIT                        ...\n",
              "147  Female  ...  GLUCAGON EMERGENCY KIT                        ...\n",
              "\n",
              "[148 rows x 6 columns]"
            ]
          },
          "metadata": {
            "tags": []
          },
          "execution_count": 27
        }
      ]
    },
    {
      "cell_type": "markdown",
      "metadata": {
        "id": "qOCYPxaIqKsM",
        "colab_type": "text"
      },
      "source": [
        "Types of procedures patients come for -"
      ]
    },
    {
      "cell_type": "code",
      "metadata": {
        "id": "w6MVXALYqPgT",
        "colab_type": "code",
        "colab": {}
      },
      "source": [
        "%%bigquery --project $project_id procedures \n",
        "select treatmentstring, count (treatmentstring) as count\n",
        "from `physionet-data.eicu_crd.treatment` \n",
        "group by treatmentstring\n",
        "order by count(treatmentstring) desc\n",
        "limit 5;"
      ],
      "execution_count": 0,
      "outputs": []
    },
    {
      "cell_type": "code",
      "metadata": {
        "id": "I1f4CG43qZgh",
        "colab_type": "code",
        "colab": {
          "base_uri": "https://localhost:8080/",
          "height": 195
        },
        "outputId": "1839bfd7-57c1-4140-e7c1-7cfed1d4cbc6"
      },
      "source": [
        "procedures"
      ],
      "execution_count": 29,
      "outputs": [
        {
          "output_type": "execute_result",
          "data": {
            "text/html": [
              "<div>\n",
              "<style scoped>\n",
              "    .dataframe tbody tr th:only-of-type {\n",
              "        vertical-align: middle;\n",
              "    }\n",
              "\n",
              "    .dataframe tbody tr th {\n",
              "        vertical-align: top;\n",
              "    }\n",
              "\n",
              "    .dataframe thead th {\n",
              "        text-align: right;\n",
              "    }\n",
              "</style>\n",
              "<table border=\"1\" class=\"dataframe\">\n",
              "  <thead>\n",
              "    <tr style=\"text-align: right;\">\n",
              "      <th></th>\n",
              "      <th>treatmentstring</th>\n",
              "      <th>count</th>\n",
              "    </tr>\n",
              "  </thead>\n",
              "  <tbody>\n",
              "    <tr>\n",
              "      <th>0</th>\n",
              "      <td>pulmonary|ventilation and oxygenation|mechanic...</td>\n",
              "      <td>117481</td>\n",
              "    </tr>\n",
              "    <tr>\n",
              "      <th>1</th>\n",
              "      <td>pulmonary|radiologic procedures / bronchoscopy...</td>\n",
              "      <td>65148</td>\n",
              "    </tr>\n",
              "    <tr>\n",
              "      <th>2</th>\n",
              "      <td>neurologic|pain / agitation / altered mentatio...</td>\n",
              "      <td>46055</td>\n",
              "    </tr>\n",
              "    <tr>\n",
              "      <th>3</th>\n",
              "      <td>renal|urinary catheters|foley catheter</td>\n",
              "      <td>40672</td>\n",
              "    </tr>\n",
              "    <tr>\n",
              "      <th>4</th>\n",
              "      <td>cardiovascular|intravenous fluid|normal saline...</td>\n",
              "      <td>40522</td>\n",
              "    </tr>\n",
              "  </tbody>\n",
              "</table>\n",
              "</div>"
            ],
            "text/plain": [
              "                                     treatmentstring   count\n",
              "0  pulmonary|ventilation and oxygenation|mechanic...  117481\n",
              "1  pulmonary|radiologic procedures / bronchoscopy...   65148\n",
              "2  neurologic|pain / agitation / altered mentatio...   46055\n",
              "3             renal|urinary catheters|foley catheter   40672\n",
              "4  cardiovascular|intravenous fluid|normal saline...   40522"
            ]
          },
          "metadata": {
            "tags": []
          },
          "execution_count": 29
        }
      ]
    },
    {
      "cell_type": "markdown",
      "metadata": {
        "id": "1qbdcL__qjrT",
        "colab_type": "text"
      },
      "source": [
        "Identifying patients that underwent heart procedures -"
      ]
    },
    {
      "cell_type": "code",
      "metadata": {
        "id": "tolbongPqrqO",
        "colab_type": "code",
        "colab": {}
      },
      "source": [
        "%%bigquery --project $project_id heartprocedure \n",
        "select gender,age,ethnicity,apacheadmissiondx,treatmentstring\n",
        "from `physionet-data.eicu_crd.treatment`  a\n",
        "join `physionet-data.eicu_crd.patient` b ON (\n",
        "a.patientunitstayid =b.patientunitstayid\n",
        ")\n",
        "where a.treatmentstring  like '%cardio%'"
      ],
      "execution_count": 0,
      "outputs": []
    },
    {
      "cell_type": "code",
      "metadata": {
        "id": "c6_8yJSFqagz",
        "colab_type": "code",
        "colab": {
          "base_uri": "https://localhost:8080/",
          "height": 402
        },
        "outputId": "8bed1b1d-f795-4177-8ab1-75fae66b3ae5"
      },
      "source": [
        "heartprocedure"
      ],
      "execution_count": 31,
      "outputs": [
        {
          "output_type": "execute_result",
          "data": {
            "text/html": [
              "<div>\n",
              "<style scoped>\n",
              "    .dataframe tbody tr th:only-of-type {\n",
              "        vertical-align: middle;\n",
              "    }\n",
              "\n",
              "    .dataframe tbody tr th {\n",
              "        vertical-align: top;\n",
              "    }\n",
              "\n",
              "    .dataframe thead th {\n",
              "        text-align: right;\n",
              "    }\n",
              "</style>\n",
              "<table border=\"1\" class=\"dataframe\">\n",
              "  <thead>\n",
              "    <tr style=\"text-align: right;\">\n",
              "      <th></th>\n",
              "      <th>gender</th>\n",
              "      <th>age</th>\n",
              "      <th>ethnicity</th>\n",
              "      <th>apacheadmissiondx</th>\n",
              "      <th>treatmentstring</th>\n",
              "    </tr>\n",
              "  </thead>\n",
              "  <tbody>\n",
              "    <tr>\n",
              "      <th>0</th>\n",
              "      <td>Female</td>\n",
              "      <td>75</td>\n",
              "      <td>Other/Unknown</td>\n",
              "      <td>Emphysema/bronchitis</td>\n",
              "      <td>cardiovascular|arrhythmias|digoxin</td>\n",
              "    </tr>\n",
              "    <tr>\n",
              "      <th>1</th>\n",
              "      <td>Female</td>\n",
              "      <td>75</td>\n",
              "      <td>Other/Unknown</td>\n",
              "      <td>Emphysema/bronchitis</td>\n",
              "      <td>cardiovascular|arrhythmias|digoxin</td>\n",
              "    </tr>\n",
              "    <tr>\n",
              "      <th>2</th>\n",
              "      <td>Female</td>\n",
              "      <td>75</td>\n",
              "      <td>Other/Unknown</td>\n",
              "      <td>Emphysema/bronchitis</td>\n",
              "      <td>cardiovascular|arrhythmias|calcium channel blo...</td>\n",
              "    </tr>\n",
              "    <tr>\n",
              "      <th>3</th>\n",
              "      <td>Female</td>\n",
              "      <td>75</td>\n",
              "      <td>Other/Unknown</td>\n",
              "      <td>Emphysema/bronchitis</td>\n",
              "      <td>cardiovascular|arrhythmias|calcium channel blo...</td>\n",
              "    </tr>\n",
              "    <tr>\n",
              "      <th>4</th>\n",
              "      <td>Male</td>\n",
              "      <td>46</td>\n",
              "      <td>Caucasian</td>\n",
              "      <td>Pneumonia, other</td>\n",
              "      <td>cardiovascular|non-operative procedures|diagno...</td>\n",
              "    </tr>\n",
              "    <tr>\n",
              "      <th>...</th>\n",
              "      <td>...</td>\n",
              "      <td>...</td>\n",
              "      <td>...</td>\n",
              "      <td>...</td>\n",
              "      <td>...</td>\n",
              "    </tr>\n",
              "    <tr>\n",
              "      <th>860530</th>\n",
              "      <td>Male</td>\n",
              "      <td>74</td>\n",
              "      <td>Caucasian</td>\n",
              "      <td>Hematomas</td>\n",
              "      <td>cardiovascular|hypertension|vasodilating agent...</td>\n",
              "    </tr>\n",
              "    <tr>\n",
              "      <th>860531</th>\n",
              "      <td>Male</td>\n",
              "      <td>74</td>\n",
              "      <td>Caucasian</td>\n",
              "      <td>Hematomas</td>\n",
              "      <td>cardiovascular|myocardial ischemia / infarctio...</td>\n",
              "    </tr>\n",
              "    <tr>\n",
              "      <th>860532</th>\n",
              "      <td>Male</td>\n",
              "      <td>74</td>\n",
              "      <td>Caucasian</td>\n",
              "      <td>Hematomas</td>\n",
              "      <td>cardiovascular|intravenous fluid|Lactated Ring...</td>\n",
              "    </tr>\n",
              "    <tr>\n",
              "      <th>860533</th>\n",
              "      <td>Male</td>\n",
              "      <td>76</td>\n",
              "      <td>Caucasian</td>\n",
              "      <td>Encephalopathies (excluding hepatic)</td>\n",
              "      <td>cardiovascular|intravenous fluid|normal saline...</td>\n",
              "    </tr>\n",
              "    <tr>\n",
              "      <th>860534</th>\n",
              "      <td>Male</td>\n",
              "      <td>66</td>\n",
              "      <td>Caucasian</td>\n",
              "      <td>Pneumonia, bacterial</td>\n",
              "      <td>cardiovascular|arrhythmias|antiarrhythmics|cla...</td>\n",
              "    </tr>\n",
              "  </tbody>\n",
              "</table>\n",
              "<p>860535 rows × 5 columns</p>\n",
              "</div>"
            ],
            "text/plain": [
              "        gender  ...                                    treatmentstring\n",
              "0       Female  ...                 cardiovascular|arrhythmias|digoxin\n",
              "1       Female  ...                 cardiovascular|arrhythmias|digoxin\n",
              "2       Female  ...  cardiovascular|arrhythmias|calcium channel blo...\n",
              "3       Female  ...  cardiovascular|arrhythmias|calcium channel blo...\n",
              "4         Male  ...  cardiovascular|non-operative procedures|diagno...\n",
              "...        ...  ...                                                ...\n",
              "860530    Male  ...  cardiovascular|hypertension|vasodilating agent...\n",
              "860531    Male  ...  cardiovascular|myocardial ischemia / infarctio...\n",
              "860532    Male  ...  cardiovascular|intravenous fluid|Lactated Ring...\n",
              "860533    Male  ...  cardiovascular|intravenous fluid|normal saline...\n",
              "860534    Male  ...  cardiovascular|arrhythmias|antiarrhythmics|cla...\n",
              "\n",
              "[860535 rows x 5 columns]"
            ]
          },
          "metadata": {
            "tags": []
          },
          "execution_count": 31
        }
      ]
    },
    {
      "cell_type": "markdown",
      "metadata": {
        "id": "pFao-T-drXud",
        "colab_type": "text"
      },
      "source": [
        "Indentifying heart patients that die before being released from their stay -"
      ]
    },
    {
      "cell_type": "code",
      "metadata": {
        "id": "CDRynjQvrnkV",
        "colab_type": "code",
        "colab": {}
      },
      "source": [
        "%%bigquery --project $project_id death_heart\n",
        "select gender, age, ethnicity,apacheadmissiondx,hospitaldischargestatus\n",
        "from `physionet-data.eicu_crd.patient` \n",
        "where apacheadmissiondx like '%Cardi%' and hospitaldischargestatus like '%Expire%';"
      ],
      "execution_count": 0,
      "outputs": []
    },
    {
      "cell_type": "code",
      "metadata": {
        "id": "c2QlefXJryBJ",
        "colab_type": "code",
        "colab": {
          "base_uri": "https://localhost:8080/",
          "height": 402
        },
        "outputId": "8c44507d-6d1c-4232-b435-2eeb73f1cb32"
      },
      "source": [
        "death_heart"
      ],
      "execution_count": 33,
      "outputs": [
        {
          "output_type": "execute_result",
          "data": {
            "text/html": [
              "<div>\n",
              "<style scoped>\n",
              "    .dataframe tbody tr th:only-of-type {\n",
              "        vertical-align: middle;\n",
              "    }\n",
              "\n",
              "    .dataframe tbody tr th {\n",
              "        vertical-align: top;\n",
              "    }\n",
              "\n",
              "    .dataframe thead th {\n",
              "        text-align: right;\n",
              "    }\n",
              "</style>\n",
              "<table border=\"1\" class=\"dataframe\">\n",
              "  <thead>\n",
              "    <tr style=\"text-align: right;\">\n",
              "      <th></th>\n",
              "      <th>gender</th>\n",
              "      <th>age</th>\n",
              "      <th>ethnicity</th>\n",
              "      <th>apacheadmissiondx</th>\n",
              "      <th>hospitaldischargestatus</th>\n",
              "    </tr>\n",
              "  </thead>\n",
              "  <tbody>\n",
              "    <tr>\n",
              "      <th>0</th>\n",
              "      <td>Male</td>\n",
              "      <td>88</td>\n",
              "      <td>Caucasian</td>\n",
              "      <td>Cardiovascular medical, other</td>\n",
              "      <td>Expired</td>\n",
              "    </tr>\n",
              "    <tr>\n",
              "      <th>1</th>\n",
              "      <td>Female</td>\n",
              "      <td>63</td>\n",
              "      <td>African American</td>\n",
              "      <td>Cardiac arrest (with or without respiratory ar...</td>\n",
              "      <td>Expired</td>\n",
              "    </tr>\n",
              "    <tr>\n",
              "      <th>2</th>\n",
              "      <td>Male</td>\n",
              "      <td>84</td>\n",
              "      <td>Caucasian</td>\n",
              "      <td>Cardiac arrest (with or without respiratory ar...</td>\n",
              "      <td>Expired</td>\n",
              "    </tr>\n",
              "    <tr>\n",
              "      <th>3</th>\n",
              "      <td>Male</td>\n",
              "      <td>80</td>\n",
              "      <td>Hispanic</td>\n",
              "      <td>Cardiac arrest (with or without respiratory ar...</td>\n",
              "      <td>Expired</td>\n",
              "    </tr>\n",
              "    <tr>\n",
              "      <th>4</th>\n",
              "      <td>Male</td>\n",
              "      <td>59</td>\n",
              "      <td>Caucasian</td>\n",
              "      <td>Cardiac arrest (with or without respiratory ar...</td>\n",
              "      <td>Expired</td>\n",
              "    </tr>\n",
              "    <tr>\n",
              "      <th>...</th>\n",
              "      <td>...</td>\n",
              "      <td>...</td>\n",
              "      <td>...</td>\n",
              "      <td>...</td>\n",
              "      <td>...</td>\n",
              "    </tr>\n",
              "    <tr>\n",
              "      <th>2461</th>\n",
              "      <td>Male</td>\n",
              "      <td>83</td>\n",
              "      <td>Caucasian</td>\n",
              "      <td>Cardiac arrest (with or without respiratory ar...</td>\n",
              "      <td>Expired</td>\n",
              "    </tr>\n",
              "    <tr>\n",
              "      <th>2462</th>\n",
              "      <td>Female</td>\n",
              "      <td>78</td>\n",
              "      <td>Caucasian</td>\n",
              "      <td>Cardiac arrest (with or without respiratory ar...</td>\n",
              "      <td>Expired</td>\n",
              "    </tr>\n",
              "    <tr>\n",
              "      <th>2463</th>\n",
              "      <td>Male</td>\n",
              "      <td>86</td>\n",
              "      <td>Caucasian</td>\n",
              "      <td>Cardiac arrest (with or without respiratory ar...</td>\n",
              "      <td>Expired</td>\n",
              "    </tr>\n",
              "    <tr>\n",
              "      <th>2464</th>\n",
              "      <td>Male</td>\n",
              "      <td>88</td>\n",
              "      <td>Caucasian</td>\n",
              "      <td>Cardiac arrest (with or without respiratory ar...</td>\n",
              "      <td>Expired</td>\n",
              "    </tr>\n",
              "    <tr>\n",
              "      <th>2465</th>\n",
              "      <td>Male</td>\n",
              "      <td>75</td>\n",
              "      <td>Caucasian</td>\n",
              "      <td>Cardiac arrest (with or without respiratory ar...</td>\n",
              "      <td>Expired</td>\n",
              "    </tr>\n",
              "  </tbody>\n",
              "</table>\n",
              "<p>2466 rows × 5 columns</p>\n",
              "</div>"
            ],
            "text/plain": [
              "      gender  ... hospitaldischargestatus\n",
              "0       Male  ...                 Expired\n",
              "1     Female  ...                 Expired\n",
              "2       Male  ...                 Expired\n",
              "3       Male  ...                 Expired\n",
              "4       Male  ...                 Expired\n",
              "...      ...  ...                     ...\n",
              "2461    Male  ...                 Expired\n",
              "2462  Female  ...                 Expired\n",
              "2463    Male  ...                 Expired\n",
              "2464    Male  ...                 Expired\n",
              "2465    Male  ...                 Expired\n",
              "\n",
              "[2466 rows x 5 columns]"
            ]
          },
          "metadata": {
            "tags": []
          },
          "execution_count": 33
        }
      ]
    },
    {
      "cell_type": "code",
      "metadata": {
        "id": "pd_JZl95rzdP",
        "colab_type": "code",
        "colab": {
          "base_uri": "https://localhost:8080/",
          "height": 34
        },
        "outputId": "8914fb30-c7ae-4411-fe6d-2c3b0ef5780d"
      },
      "source": [
        "print('Number of Heart patients that die during their stay in the hospital - ', len(death_heart))"
      ],
      "execution_count": 34,
      "outputs": [
        {
          "output_type": "stream",
          "text": [
            "Number of Heart patients that die during their stay in the hospital -  2466\n"
          ],
          "name": "stdout"
        }
      ]
    },
    {
      "cell_type": "markdown",
      "metadata": {
        "id": "SWNSCrNhsaoX",
        "colab_type": "text"
      },
      "source": [
        "Identifying diabetic patients that die before being released from the stay -"
      ]
    },
    {
      "cell_type": "code",
      "metadata": {
        "id": "_Yg8nVg-suRq",
        "colab_type": "code",
        "colab": {}
      },
      "source": [
        "%%bigquery --project $project_id death_diab\n",
        "select gender, age, ethnicity,apacheadmissiondx,hospitaldischargestatus\n",
        "from `physionet-data.eicu_crd.patient` \n",
        "where apacheadmissiondx like '%Diab%' and hospitaldischargestatus like '%Expire%'"
      ],
      "execution_count": 0,
      "outputs": []
    },
    {
      "cell_type": "code",
      "metadata": {
        "id": "q3juK9wts3Mg",
        "colab_type": "code",
        "colab": {
          "base_uri": "https://localhost:8080/",
          "height": 1000
        },
        "outputId": "fbbb2f34-a021-49d5-cc18-586491fcdeab"
      },
      "source": [
        "death_diab"
      ],
      "execution_count": 36,
      "outputs": [
        {
          "output_type": "execute_result",
          "data": {
            "text/html": [
              "<div>\n",
              "<style scoped>\n",
              "    .dataframe tbody tr th:only-of-type {\n",
              "        vertical-align: middle;\n",
              "    }\n",
              "\n",
              "    .dataframe tbody tr th {\n",
              "        vertical-align: top;\n",
              "    }\n",
              "\n",
              "    .dataframe thead th {\n",
              "        text-align: right;\n",
              "    }\n",
              "</style>\n",
              "<table border=\"1\" class=\"dataframe\">\n",
              "  <thead>\n",
              "    <tr style=\"text-align: right;\">\n",
              "      <th></th>\n",
              "      <th>gender</th>\n",
              "      <th>age</th>\n",
              "      <th>ethnicity</th>\n",
              "      <th>apacheadmissiondx</th>\n",
              "      <th>hospitaldischargestatus</th>\n",
              "    </tr>\n",
              "  </thead>\n",
              "  <tbody>\n",
              "    <tr>\n",
              "      <th>0</th>\n",
              "      <td>Male</td>\n",
              "      <td>28</td>\n",
              "      <td>Caucasian</td>\n",
              "      <td>Diabetic ketoacidosis</td>\n",
              "      <td>Expired</td>\n",
              "    </tr>\n",
              "    <tr>\n",
              "      <th>1</th>\n",
              "      <td>Male</td>\n",
              "      <td>36</td>\n",
              "      <td>Hispanic</td>\n",
              "      <td>Diabetic ketoacidosis</td>\n",
              "      <td>Expired</td>\n",
              "    </tr>\n",
              "    <tr>\n",
              "      <th>2</th>\n",
              "      <td>Female</td>\n",
              "      <td>44</td>\n",
              "      <td>Hispanic</td>\n",
              "      <td>Diabetic ketoacidosis</td>\n",
              "      <td>Expired</td>\n",
              "    </tr>\n",
              "    <tr>\n",
              "      <th>3</th>\n",
              "      <td>Female</td>\n",
              "      <td>53</td>\n",
              "      <td>Hispanic</td>\n",
              "      <td>Diabetic hyperglycemic hyperosmolar nonketotic...</td>\n",
              "      <td>Expired</td>\n",
              "    </tr>\n",
              "    <tr>\n",
              "      <th>4</th>\n",
              "      <td>Female</td>\n",
              "      <td>35</td>\n",
              "      <td>Caucasian</td>\n",
              "      <td>Diabetic ketoacidosis</td>\n",
              "      <td>Expired</td>\n",
              "    </tr>\n",
              "    <tr>\n",
              "      <th>5</th>\n",
              "      <td>Female</td>\n",
              "      <td>64</td>\n",
              "      <td>Caucasian</td>\n",
              "      <td>Diabetic ketoacidosis</td>\n",
              "      <td>Expired</td>\n",
              "    </tr>\n",
              "    <tr>\n",
              "      <th>6</th>\n",
              "      <td>Male</td>\n",
              "      <td>28</td>\n",
              "      <td>Caucasian</td>\n",
              "      <td>Diabetic ketoacidosis</td>\n",
              "      <td>Expired</td>\n",
              "    </tr>\n",
              "    <tr>\n",
              "      <th>7</th>\n",
              "      <td>Male</td>\n",
              "      <td>44</td>\n",
              "      <td>Caucasian</td>\n",
              "      <td>Diabetic ketoacidosis</td>\n",
              "      <td>Expired</td>\n",
              "    </tr>\n",
              "    <tr>\n",
              "      <th>8</th>\n",
              "      <td>Female</td>\n",
              "      <td>89</td>\n",
              "      <td>Caucasian</td>\n",
              "      <td>Diabetic hyperglycemic hyperosmolar nonketotic...</td>\n",
              "      <td>Expired</td>\n",
              "    </tr>\n",
              "    <tr>\n",
              "      <th>9</th>\n",
              "      <td>Female</td>\n",
              "      <td>63</td>\n",
              "      <td>Caucasian</td>\n",
              "      <td>Diabetic ketoacidosis</td>\n",
              "      <td>Expired</td>\n",
              "    </tr>\n",
              "    <tr>\n",
              "      <th>10</th>\n",
              "      <td>Male</td>\n",
              "      <td>39</td>\n",
              "      <td>African American</td>\n",
              "      <td>Diabetic ketoacidosis</td>\n",
              "      <td>Expired</td>\n",
              "    </tr>\n",
              "    <tr>\n",
              "      <th>11</th>\n",
              "      <td>Female</td>\n",
              "      <td>86</td>\n",
              "      <td>Asian</td>\n",
              "      <td>Diabetic ketoacidosis</td>\n",
              "      <td>Expired</td>\n",
              "    </tr>\n",
              "    <tr>\n",
              "      <th>12</th>\n",
              "      <td>Female</td>\n",
              "      <td>&gt; 89</td>\n",
              "      <td>Caucasian</td>\n",
              "      <td>Diabetic ketoacidosis</td>\n",
              "      <td>Expired</td>\n",
              "    </tr>\n",
              "    <tr>\n",
              "      <th>13</th>\n",
              "      <td>Female</td>\n",
              "      <td>83</td>\n",
              "      <td>Hispanic</td>\n",
              "      <td>Diabetic ketoacidosis</td>\n",
              "      <td>Expired</td>\n",
              "    </tr>\n",
              "    <tr>\n",
              "      <th>14</th>\n",
              "      <td>Male</td>\n",
              "      <td>60</td>\n",
              "      <td>Hispanic</td>\n",
              "      <td>Diabetic ketoacidosis</td>\n",
              "      <td>Expired</td>\n",
              "    </tr>\n",
              "    <tr>\n",
              "      <th>15</th>\n",
              "      <td>Male</td>\n",
              "      <td>81</td>\n",
              "      <td>Caucasian</td>\n",
              "      <td>Diabetic ketoacidosis</td>\n",
              "      <td>Expired</td>\n",
              "    </tr>\n",
              "    <tr>\n",
              "      <th>16</th>\n",
              "      <td>Male</td>\n",
              "      <td>64</td>\n",
              "      <td>Caucasian</td>\n",
              "      <td>Diabetic ketoacidosis</td>\n",
              "      <td>Expired</td>\n",
              "    </tr>\n",
              "    <tr>\n",
              "      <th>17</th>\n",
              "      <td>Female</td>\n",
              "      <td>87</td>\n",
              "      <td>Caucasian</td>\n",
              "      <td>Diabetic ketoacidosis</td>\n",
              "      <td>Expired</td>\n",
              "    </tr>\n",
              "    <tr>\n",
              "      <th>18</th>\n",
              "      <td>Female</td>\n",
              "      <td>51</td>\n",
              "      <td>Caucasian</td>\n",
              "      <td>Diabetic ketoacidosis</td>\n",
              "      <td>Expired</td>\n",
              "    </tr>\n",
              "    <tr>\n",
              "      <th>19</th>\n",
              "      <td>Male</td>\n",
              "      <td>68</td>\n",
              "      <td>Caucasian</td>\n",
              "      <td>Diabetic ketoacidosis</td>\n",
              "      <td>Expired</td>\n",
              "    </tr>\n",
              "    <tr>\n",
              "      <th>20</th>\n",
              "      <td>Male</td>\n",
              "      <td>64</td>\n",
              "      <td>Caucasian</td>\n",
              "      <td>Diabetic ketoacidosis</td>\n",
              "      <td>Expired</td>\n",
              "    </tr>\n",
              "    <tr>\n",
              "      <th>21</th>\n",
              "      <td>Male</td>\n",
              "      <td>21</td>\n",
              "      <td>African American</td>\n",
              "      <td>Diabetic ketoacidosis</td>\n",
              "      <td>Expired</td>\n",
              "    </tr>\n",
              "    <tr>\n",
              "      <th>22</th>\n",
              "      <td>Male</td>\n",
              "      <td>67</td>\n",
              "      <td>Caucasian</td>\n",
              "      <td>Diabetic ketoacidosis</td>\n",
              "      <td>Expired</td>\n",
              "    </tr>\n",
              "    <tr>\n",
              "      <th>23</th>\n",
              "      <td>Female</td>\n",
              "      <td>64</td>\n",
              "      <td>Caucasian</td>\n",
              "      <td>Diabetic ketoacidosis</td>\n",
              "      <td>Expired</td>\n",
              "    </tr>\n",
              "    <tr>\n",
              "      <th>24</th>\n",
              "      <td>Female</td>\n",
              "      <td>28</td>\n",
              "      <td>Caucasian</td>\n",
              "      <td>Diabetic hyperglycemic hyperosmolar nonketotic...</td>\n",
              "      <td>Expired</td>\n",
              "    </tr>\n",
              "    <tr>\n",
              "      <th>25</th>\n",
              "      <td>Male</td>\n",
              "      <td>44</td>\n",
              "      <td>Caucasian</td>\n",
              "      <td>Diabetic ketoacidosis</td>\n",
              "      <td>Expired</td>\n",
              "    </tr>\n",
              "    <tr>\n",
              "      <th>26</th>\n",
              "      <td>Male</td>\n",
              "      <td>80</td>\n",
              "      <td>Caucasian</td>\n",
              "      <td>Diabetic ketoacidosis</td>\n",
              "      <td>Expired</td>\n",
              "    </tr>\n",
              "    <tr>\n",
              "      <th>27</th>\n",
              "      <td>Male</td>\n",
              "      <td>39</td>\n",
              "      <td>African American</td>\n",
              "      <td>Diabetic ketoacidosis</td>\n",
              "      <td>Expired</td>\n",
              "    </tr>\n",
              "    <tr>\n",
              "      <th>28</th>\n",
              "      <td>Male</td>\n",
              "      <td>45</td>\n",
              "      <td>Caucasian</td>\n",
              "      <td>Diabetic ketoacidosis</td>\n",
              "      <td>Expired</td>\n",
              "    </tr>\n",
              "    <tr>\n",
              "      <th>29</th>\n",
              "      <td>Male</td>\n",
              "      <td>83</td>\n",
              "      <td>Caucasian</td>\n",
              "      <td>Diabetic ketoacidosis</td>\n",
              "      <td>Expired</td>\n",
              "    </tr>\n",
              "    <tr>\n",
              "      <th>30</th>\n",
              "      <td>Male</td>\n",
              "      <td>39</td>\n",
              "      <td>Caucasian</td>\n",
              "      <td>Diabetic ketoacidosis</td>\n",
              "      <td>Expired</td>\n",
              "    </tr>\n",
              "    <tr>\n",
              "      <th>31</th>\n",
              "      <td>Female</td>\n",
              "      <td>&gt; 89</td>\n",
              "      <td>Caucasian</td>\n",
              "      <td>Diabetic ketoacidosis</td>\n",
              "      <td>Expired</td>\n",
              "    </tr>\n",
              "    <tr>\n",
              "      <th>32</th>\n",
              "      <td>Female</td>\n",
              "      <td>&gt; 89</td>\n",
              "      <td>Caucasian</td>\n",
              "      <td>Diabetic ketoacidosis</td>\n",
              "      <td>Expired</td>\n",
              "    </tr>\n",
              "    <tr>\n",
              "      <th>33</th>\n",
              "      <td>Male</td>\n",
              "      <td>49</td>\n",
              "      <td>Caucasian</td>\n",
              "      <td>Diabetic ketoacidosis</td>\n",
              "      <td>Expired</td>\n",
              "    </tr>\n",
              "    <tr>\n",
              "      <th>34</th>\n",
              "      <td>Female</td>\n",
              "      <td>86</td>\n",
              "      <td>Caucasian</td>\n",
              "      <td>Diabetic ketoacidosis</td>\n",
              "      <td>Expired</td>\n",
              "    </tr>\n",
              "    <tr>\n",
              "      <th>35</th>\n",
              "      <td>Female</td>\n",
              "      <td>38</td>\n",
              "      <td>Caucasian</td>\n",
              "      <td>Diabetic ketoacidosis</td>\n",
              "      <td>Expired</td>\n",
              "    </tr>\n",
              "    <tr>\n",
              "      <th>36</th>\n",
              "      <td>Male</td>\n",
              "      <td>60</td>\n",
              "      <td>Caucasian</td>\n",
              "      <td>Diabetic hyperglycemic hyperosmolar nonketotic...</td>\n",
              "      <td>Expired</td>\n",
              "    </tr>\n",
              "    <tr>\n",
              "      <th>37</th>\n",
              "      <td>Female</td>\n",
              "      <td>75</td>\n",
              "      <td>Caucasian</td>\n",
              "      <td>Diabetic hyperglycemic hyperosmolar nonketotic...</td>\n",
              "      <td>Expired</td>\n",
              "    </tr>\n",
              "    <tr>\n",
              "      <th>38</th>\n",
              "      <td>Female</td>\n",
              "      <td>59</td>\n",
              "      <td>Caucasian</td>\n",
              "      <td>Diabetic hyperglycemic hyperosmolar nonketotic...</td>\n",
              "      <td>Expired</td>\n",
              "    </tr>\n",
              "  </tbody>\n",
              "</table>\n",
              "</div>"
            ],
            "text/plain": [
              "    gender  ... hospitaldischargestatus\n",
              "0     Male  ...                 Expired\n",
              "1     Male  ...                 Expired\n",
              "2   Female  ...                 Expired\n",
              "3   Female  ...                 Expired\n",
              "4   Female  ...                 Expired\n",
              "5   Female  ...                 Expired\n",
              "6     Male  ...                 Expired\n",
              "7     Male  ...                 Expired\n",
              "8   Female  ...                 Expired\n",
              "9   Female  ...                 Expired\n",
              "10    Male  ...                 Expired\n",
              "11  Female  ...                 Expired\n",
              "12  Female  ...                 Expired\n",
              "13  Female  ...                 Expired\n",
              "14    Male  ...                 Expired\n",
              "15    Male  ...                 Expired\n",
              "16    Male  ...                 Expired\n",
              "17  Female  ...                 Expired\n",
              "18  Female  ...                 Expired\n",
              "19    Male  ...                 Expired\n",
              "20    Male  ...                 Expired\n",
              "21    Male  ...                 Expired\n",
              "22    Male  ...                 Expired\n",
              "23  Female  ...                 Expired\n",
              "24  Female  ...                 Expired\n",
              "25    Male  ...                 Expired\n",
              "26    Male  ...                 Expired\n",
              "27    Male  ...                 Expired\n",
              "28    Male  ...                 Expired\n",
              "29    Male  ...                 Expired\n",
              "30    Male  ...                 Expired\n",
              "31  Female  ...                 Expired\n",
              "32  Female  ...                 Expired\n",
              "33    Male  ...                 Expired\n",
              "34  Female  ...                 Expired\n",
              "35  Female  ...                 Expired\n",
              "36    Male  ...                 Expired\n",
              "37  Female  ...                 Expired\n",
              "38  Female  ...                 Expired\n",
              "\n",
              "[39 rows x 5 columns]"
            ]
          },
          "metadata": {
            "tags": []
          },
          "execution_count": 36
        }
      ]
    },
    {
      "cell_type": "code",
      "metadata": {
        "id": "DPkO41nds6wF",
        "colab_type": "code",
        "colab": {
          "base_uri": "https://localhost:8080/",
          "height": 34
        },
        "outputId": "2e80e2db-f438-43ec-bb66-66bfc944bf8e"
      },
      "source": [
        "print(\"Number of Diabetic patients that die before being released from their stay -\", len(death_diab))"
      ],
      "execution_count": 37,
      "outputs": [
        {
          "output_type": "stream",
          "text": [
            "Number of Diabetic patients that die before being released from their stay - 39\n"
          ],
          "name": "stdout"
        }
      ]
    },
    {
      "cell_type": "markdown",
      "metadata": {
        "id": "kQkfjHz781aU",
        "colab_type": "text"
      },
      "source": [
        "Looking for data hiccup -"
      ]
    },
    {
      "cell_type": "code",
      "metadata": {
        "id": "67L6fE266Uto",
        "colab_type": "code",
        "colab": {}
      },
      "source": [
        "%%bigquery --project $project_id data_hic\n",
        "select uniquepid, count(patienthealthsystemstayid) as count_hosp,SUM(unitvisitnumber) as totalicuvisit\n",
        "from `physionet-data.eicu_crd.patient` \n",
        "group by uniquepid\n",
        "order by uniquepid"
      ],
      "execution_count": 0,
      "outputs": []
    },
    {
      "cell_type": "code",
      "metadata": {
        "id": "be656pTX6s3L",
        "colab_type": "code",
        "colab": {
          "base_uri": "https://localhost:8080/",
          "height": 402
        },
        "outputId": "c8c7056d-3bf7-46a8-958a-1e1c4e860af4"
      },
      "source": [
        "data_hic"
      ],
      "execution_count": 39,
      "outputs": [
        {
          "output_type": "execute_result",
          "data": {
            "text/html": [
              "<div>\n",
              "<style scoped>\n",
              "    .dataframe tbody tr th:only-of-type {\n",
              "        vertical-align: middle;\n",
              "    }\n",
              "\n",
              "    .dataframe tbody tr th {\n",
              "        vertical-align: top;\n",
              "    }\n",
              "\n",
              "    .dataframe thead th {\n",
              "        text-align: right;\n",
              "    }\n",
              "</style>\n",
              "<table border=\"1\" class=\"dataframe\">\n",
              "  <thead>\n",
              "    <tr style=\"text-align: right;\">\n",
              "      <th></th>\n",
              "      <th>uniquepid</th>\n",
              "      <th>count_hosp</th>\n",
              "      <th>totalicuvisit</th>\n",
              "    </tr>\n",
              "  </thead>\n",
              "  <tbody>\n",
              "    <tr>\n",
              "      <th>0</th>\n",
              "      <td>002-10009</td>\n",
              "      <td>1</td>\n",
              "      <td>1</td>\n",
              "    </tr>\n",
              "    <tr>\n",
              "      <th>1</th>\n",
              "      <td>002-10018</td>\n",
              "      <td>1</td>\n",
              "      <td>1</td>\n",
              "    </tr>\n",
              "    <tr>\n",
              "      <th>2</th>\n",
              "      <td>002-10034</td>\n",
              "      <td>1</td>\n",
              "      <td>1</td>\n",
              "    </tr>\n",
              "    <tr>\n",
              "      <th>3</th>\n",
              "      <td>002-10050</td>\n",
              "      <td>3</td>\n",
              "      <td>4</td>\n",
              "    </tr>\n",
              "    <tr>\n",
              "      <th>4</th>\n",
              "      <td>002-10052</td>\n",
              "      <td>1</td>\n",
              "      <td>1</td>\n",
              "    </tr>\n",
              "    <tr>\n",
              "      <th>...</th>\n",
              "      <td>...</td>\n",
              "      <td>...</td>\n",
              "      <td>...</td>\n",
              "    </tr>\n",
              "    <tr>\n",
              "      <th>139362</th>\n",
              "      <td>035-9957</td>\n",
              "      <td>1</td>\n",
              "      <td>1</td>\n",
              "    </tr>\n",
              "    <tr>\n",
              "      <th>139363</th>\n",
              "      <td>035-9959</td>\n",
              "      <td>1</td>\n",
              "      <td>1</td>\n",
              "    </tr>\n",
              "    <tr>\n",
              "      <th>139364</th>\n",
              "      <td>035-996</td>\n",
              "      <td>1</td>\n",
              "      <td>1</td>\n",
              "    </tr>\n",
              "    <tr>\n",
              "      <th>139365</th>\n",
              "      <td>035-9966</td>\n",
              "      <td>1</td>\n",
              "      <td>1</td>\n",
              "    </tr>\n",
              "    <tr>\n",
              "      <th>139366</th>\n",
              "      <td>035-9975</td>\n",
              "      <td>1</td>\n",
              "      <td>1</td>\n",
              "    </tr>\n",
              "  </tbody>\n",
              "</table>\n",
              "<p>139367 rows × 3 columns</p>\n",
              "</div>"
            ],
            "text/plain": [
              "        uniquepid  count_hosp  totalicuvisit\n",
              "0       002-10009           1              1\n",
              "1       002-10018           1              1\n",
              "2       002-10034           1              1\n",
              "3       002-10050           3              4\n",
              "4       002-10052           1              1\n",
              "...           ...         ...            ...\n",
              "139362   035-9957           1              1\n",
              "139363   035-9959           1              1\n",
              "139364    035-996           1              1\n",
              "139365   035-9966           1              1\n",
              "139366   035-9975           1              1\n",
              "\n",
              "[139367 rows x 3 columns]"
            ]
          },
          "metadata": {
            "tags": []
          },
          "execution_count": 39
        }
      ]
    },
    {
      "cell_type": "code",
      "metadata": {
        "id": "K3uw1g--6ui6",
        "colab_type": "code",
        "colab": {
          "base_uri": "https://localhost:8080/",
          "height": 101
        },
        "outputId": "838654be-a139-4f4a-d602-2db24a29a981"
      },
      "source": [
        "rslt_df = data_hic[data_hic['count_hosp'] > data_hic['totalicuvisit']]\n",
        "print('\\n Data hiccup \\n', rslt_df)"
      ],
      "execution_count": 40,
      "outputs": [
        {
          "output_type": "stream",
          "text": [
            "\n",
            " Data hiccup \n",
            " Empty DataFrame\n",
            "Columns: [uniquepid, count_hosp, totalicuvisit]\n",
            "Index: []\n"
          ],
          "name": "stdout"
        }
      ]
    }
  ]
}
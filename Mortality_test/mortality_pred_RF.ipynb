{
  "nbformat": 4,
  "nbformat_minor": 0,
  "metadata": {
    "colab": {
      "name": "mortality_pred_RF.ipynb",
      "provenance": []
    },
    "kernelspec": {
      "name": "python3",
      "display_name": "Python 3"
    }
  },
  "cells": [
    {
      "cell_type": "markdown",
      "metadata": {
        "id": "4rI_toB0aqE4",
        "colab_type": "text"
      },
      "source": [
        "# Random Forest model for mortality prediction\n",
        "### We're going to do the following in this notebook : \n",
        "    1) Random Forest\n",
        "    2) Random forest model with only selecting important features"
      ]
    },
    {
      "cell_type": "markdown",
      "metadata": {
        "id": "QjSwTELkawJ0",
        "colab_type": "text"
      },
      "source": [
        "### Importing necessary libraries"
      ]
    },
    {
      "cell_type": "code",
      "metadata": {
        "id": "xDb5fsVnXcXr",
        "colab_type": "code",
        "colab": {
          "base_uri": "https://localhost:8080/",
          "height": 222
        },
        "outputId": "9ac4141b-e3c8-469b-b618-3a2caa3a489b"
      },
      "source": [
        "import pandas as pd \n",
        "import numpy as np\n",
        "import matplotlib.pyplot as plt\n",
        "import seaborn as sns\n",
        "from sklearn import metrics\n",
        "from sklearn.preprocessing import StandardScaler\n",
        "from imblearn.over_sampling import SMOTE\n",
        "from sklearn.metrics import classification_report\n",
        "from sklearn.ensemble import RandomForestClassifier\n",
        "from sklearn.model_selection import train_test_split\n",
        "from sklearn import model_selection\n",
        "from sklearn.model_selection import KFold\n",
        "from sklearn.model_selection import cross_val_score\n",
        "import os\n",
        "sns.set()\n",
        "# Access data.\n",
        "from google.colab import drive\n",
        "drive.mount('/content/gdrive')\n",
        "from google.colab import files"
      ],
      "execution_count": null,
      "outputs": [
        {
          "output_type": "stream",
          "text": [
            "/usr/local/lib/python3.6/dist-packages/statsmodels/tools/_testing.py:19: FutureWarning: pandas.util.testing is deprecated. Use the functions in the public API at pandas.testing instead.\n",
            "  import pandas.util.testing as tm\n",
            "/usr/local/lib/python3.6/dist-packages/sklearn/externals/six.py:31: FutureWarning: The module is deprecated in version 0.21 and will be removed in version 0.23 since we've dropped support for Python 2.7. Please rely on the official version of six (https://pypi.org/project/six/).\n",
            "  \"(https://pypi.org/project/six/).\", FutureWarning)\n",
            "/usr/local/lib/python3.6/dist-packages/sklearn/utils/deprecation.py:144: FutureWarning: The sklearn.neighbors.base module is  deprecated in version 0.22 and will be removed in version 0.24. The corresponding classes / functions should instead be imported from sklearn.neighbors. Anything that cannot be imported from sklearn.neighbors is now part of the private API.\n",
            "  warnings.warn(message, FutureWarning)\n"
          ],
          "name": "stderr"
        },
        {
          "output_type": "stream",
          "text": [
            "Go to this URL in a browser: https://accounts.google.com/o/oauth2/auth?client_id=947318989803-6bn6qk8qdgf4n4g3pfee6491hc0brc4i.apps.googleusercontent.com&redirect_uri=urn%3aietf%3awg%3aoauth%3a2.0%3aoob&response_type=code&scope=email%20https%3a%2f%2fwww.googleapis.com%2fauth%2fdocs.test%20https%3a%2f%2fwww.googleapis.com%2fauth%2fdrive%20https%3a%2f%2fwww.googleapis.com%2fauth%2fdrive.photos.readonly%20https%3a%2f%2fwww.googleapis.com%2fauth%2fpeopleapi.readonly\n",
            "\n",
            "Enter your authorization code:\n",
            "··········\n",
            "Mounted at /content/gdrive\n"
          ],
          "name": "stdout"
        }
      ]
    },
    {
      "cell_type": "code",
      "metadata": {
        "id": "HRslcajiXxUV",
        "colab_type": "code",
        "colab": {}
      },
      "source": [
        "oversample = SMOTE()\n",
        "scaler = StandardScaler()"
      ],
      "execution_count": null,
      "outputs": []
    },
    {
      "cell_type": "markdown",
      "metadata": {
        "id": "ecGhO2mrbL8Q",
        "colab_type": "text"
      },
      "source": [
        "## Load dataset"
      ]
    },
    {
      "cell_type": "code",
      "metadata": {
        "id": "kWPshCNqXil3",
        "colab_type": "code",
        "colab": {
          "resources": {
            "http://localhost:8080/nbextensions/google.colab/files.js": {
              "data": "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",
              "ok": true,
              "headers": [
                [
                  "content-type",
                  "application/javascript"
                ]
              ],
              "status": 200,
              "status_text": ""
            }
          },
          "base_uri": "https://localhost:8080/",
          "height": 73
        },
        "outputId": "c2c6daaf-608e-4b2d-8538-9d60d87763f8"
      },
      "source": [
        "uploaded = files.upload()"
      ],
      "execution_count": null,
      "outputs": [
        {
          "output_type": "display_data",
          "data": {
            "text/html": [
              "\n",
              "     <input type=\"file\" id=\"files-ecf6b985-6def-480c-ac4e-2f2abd3f6cd0\" name=\"files[]\" multiple disabled\n",
              "        style=\"border:none\" />\n",
              "     <output id=\"result-ecf6b985-6def-480c-ac4e-2f2abd3f6cd0\">\n",
              "      Upload widget is only available when the cell has been executed in the\n",
              "      current browser session. Please rerun this cell to enable.\n",
              "      </output>\n",
              "      <script src=\"/nbextensions/google.colab/files.js\"></script> "
            ],
            "text/plain": [
              "<IPython.core.display.HTML object>"
            ]
          },
          "metadata": {
            "tags": []
          }
        },
        {
          "output_type": "stream",
          "text": [
            "Saving rawdata.csv to rawdata.csv\n"
          ],
          "name": "stdout"
        }
      ]
    },
    {
      "cell_type": "code",
      "metadata": {
        "id": "8vwQhaA3Xpmu",
        "colab_type": "code",
        "colab": {}
      },
      "source": [
        "import io\n",
        "icudata = pd.read_csv(io.BytesIO(uploaded['rawdata.csv']))"
      ],
      "execution_count": null,
      "outputs": []
    },
    {
      "cell_type": "code",
      "metadata": {
        "id": "uaztGvOyXrZR",
        "colab_type": "code",
        "colab": {
          "base_uri": "https://localhost:8080/",
          "height": 422
        },
        "outputId": "242f8afb-a1ee-4f62-9ed7-76ffd34ec365"
      },
      "source": [
        "icudata"
      ],
      "execution_count": null,
      "outputs": [
        {
          "output_type": "execute_result",
          "data": {
            "text/html": [
              "<div>\n",
              "<style scoped>\n",
              "    .dataframe tbody tr th:only-of-type {\n",
              "        vertical-align: middle;\n",
              "    }\n",
              "\n",
              "    .dataframe tbody tr th {\n",
              "        vertical-align: top;\n",
              "    }\n",
              "\n",
              "    .dataframe thead th {\n",
              "        text-align: right;\n",
              "    }\n",
              "</style>\n",
              "<table border=\"1\" class=\"dataframe\">\n",
              "  <thead>\n",
              "    <tr style=\"text-align: right;\">\n",
              "      <th></th>\n",
              "      <th>age</th>\n",
              "      <th>height</th>\n",
              "      <th>weight</th>\n",
              "      <th>eyes</th>\n",
              "      <th>motor</th>\n",
              "      <th>verbal</th>\n",
              "      <th>GCSTotal</th>\n",
              "      <th>temperature</th>\n",
              "      <th>respiratoryrate</th>\n",
              "      <th>heartrate</th>\n",
              "      <th>glucose</th>\n",
              "      <th>O2</th>\n",
              "      <th>fio2</th>\n",
              "      <th>ph</th>\n",
              "      <th>los</th>\n",
              "      <th>SBP</th>\n",
              "      <th>DBP</th>\n",
              "      <th>MAP</th>\n",
              "      <th>ethnicity</th>\n",
              "      <th>gender</th>\n",
              "      <th>hosp_alive</th>\n",
              "      <th>icu_alive</th>\n",
              "    </tr>\n",
              "  </thead>\n",
              "  <tbody>\n",
              "    <tr>\n",
              "      <th>0</th>\n",
              "      <td>81.0</td>\n",
              "      <td>165.1</td>\n",
              "      <td>61.70</td>\n",
              "      <td>4.0</td>\n",
              "      <td>6.0</td>\n",
              "      <td>5.0</td>\n",
              "      <td>15.0</td>\n",
              "      <td>34.8</td>\n",
              "      <td>5.0</td>\n",
              "      <td>114.0</td>\n",
              "      <td>185.0</td>\n",
              "      <td>95.0</td>\n",
              "      <td>60.0</td>\n",
              "      <td>7.390</td>\n",
              "      <td>10.893056</td>\n",
              "      <td>103.366634</td>\n",
              "      <td>55.650501</td>\n",
              "      <td>71.555879</td>\n",
              "      <td>1.0</td>\n",
              "      <td>1</td>\n",
              "      <td>0</td>\n",
              "      <td>0</td>\n",
              "    </tr>\n",
              "    <tr>\n",
              "      <th>1</th>\n",
              "      <td>59.0</td>\n",
              "      <td>180.3</td>\n",
              "      <td>92.30</td>\n",
              "      <td>4.0</td>\n",
              "      <td>6.0</td>\n",
              "      <td>5.0</td>\n",
              "      <td>15.0</td>\n",
              "      <td>37.2</td>\n",
              "      <td>10.0</td>\n",
              "      <td>114.0</td>\n",
              "      <td>121.0</td>\n",
              "      <td>98.0</td>\n",
              "      <td>21.0</td>\n",
              "      <td>6.700</td>\n",
              "      <td>10.679861</td>\n",
              "      <td>132.334862</td>\n",
              "      <td>57.155963</td>\n",
              "      <td>82.215596</td>\n",
              "      <td>1.0</td>\n",
              "      <td>0</td>\n",
              "      <td>0</td>\n",
              "      <td>0</td>\n",
              "    </tr>\n",
              "    <tr>\n",
              "      <th>2</th>\n",
              "      <td>80.0</td>\n",
              "      <td>170.2</td>\n",
              "      <td>103.30</td>\n",
              "      <td>4.0</td>\n",
              "      <td>6.0</td>\n",
              "      <td>5.0</td>\n",
              "      <td>15.0</td>\n",
              "      <td>36.6</td>\n",
              "      <td>55.0</td>\n",
              "      <td>102.0</td>\n",
              "      <td>273.0</td>\n",
              "      <td>97.0</td>\n",
              "      <td>21.0</td>\n",
              "      <td>6.700</td>\n",
              "      <td>3.610417</td>\n",
              "      <td>112.200000</td>\n",
              "      <td>59.900000</td>\n",
              "      <td>77.333333</td>\n",
              "      <td>1.0</td>\n",
              "      <td>0</td>\n",
              "      <td>0</td>\n",
              "      <td>0</td>\n",
              "    </tr>\n",
              "    <tr>\n",
              "      <th>3</th>\n",
              "      <td>63.0</td>\n",
              "      <td>183.0</td>\n",
              "      <td>118.00</td>\n",
              "      <td>4.0</td>\n",
              "      <td>6.0</td>\n",
              "      <td>5.0</td>\n",
              "      <td>15.0</td>\n",
              "      <td>37.3</td>\n",
              "      <td>26.0</td>\n",
              "      <td>100.0</td>\n",
              "      <td>143.0</td>\n",
              "      <td>97.0</td>\n",
              "      <td>60.0</td>\n",
              "      <td>7.450</td>\n",
              "      <td>2.949306</td>\n",
              "      <td>128.652968</td>\n",
              "      <td>60.463470</td>\n",
              "      <td>83.193303</td>\n",
              "      <td>1.0</td>\n",
              "      <td>0</td>\n",
              "      <td>0</td>\n",
              "      <td>0</td>\n",
              "    </tr>\n",
              "    <tr>\n",
              "      <th>4</th>\n",
              "      <td>60.0</td>\n",
              "      <td>165.1</td>\n",
              "      <td>79.90</td>\n",
              "      <td>4.0</td>\n",
              "      <td>6.0</td>\n",
              "      <td>4.0</td>\n",
              "      <td>14.0</td>\n",
              "      <td>34.5</td>\n",
              "      <td>37.0</td>\n",
              "      <td>137.0</td>\n",
              "      <td>273.0</td>\n",
              "      <td>99.0</td>\n",
              "      <td>40.0</td>\n",
              "      <td>7.070</td>\n",
              "      <td>3.611806</td>\n",
              "      <td>117.556477</td>\n",
              "      <td>62.197927</td>\n",
              "      <td>80.650777</td>\n",
              "      <td>1.0</td>\n",
              "      <td>1</td>\n",
              "      <td>0</td>\n",
              "      <td>0</td>\n",
              "    </tr>\n",
              "    <tr>\n",
              "      <th>...</th>\n",
              "      <td>...</td>\n",
              "      <td>...</td>\n",
              "      <td>...</td>\n",
              "      <td>...</td>\n",
              "      <td>...</td>\n",
              "      <td>...</td>\n",
              "      <td>...</td>\n",
              "      <td>...</td>\n",
              "      <td>...</td>\n",
              "      <td>...</td>\n",
              "      <td>...</td>\n",
              "      <td>...</td>\n",
              "      <td>...</td>\n",
              "      <td>...</td>\n",
              "      <td>...</td>\n",
              "      <td>...</td>\n",
              "      <td>...</td>\n",
              "      <td>...</td>\n",
              "      <td>...</td>\n",
              "      <td>...</td>\n",
              "      <td>...</td>\n",
              "      <td>...</td>\n",
              "    </tr>\n",
              "    <tr>\n",
              "      <th>17888</th>\n",
              "      <td>51.0</td>\n",
              "      <td>180.3</td>\n",
              "      <td>59.00</td>\n",
              "      <td>4.0</td>\n",
              "      <td>6.0</td>\n",
              "      <td>3.0</td>\n",
              "      <td>13.0</td>\n",
              "      <td>34.5</td>\n",
              "      <td>26.0</td>\n",
              "      <td>56.0</td>\n",
              "      <td>192.0</td>\n",
              "      <td>92.0</td>\n",
              "      <td>100.0</td>\n",
              "      <td>7.444</td>\n",
              "      <td>11.053472</td>\n",
              "      <td>130.552042</td>\n",
              "      <td>67.630504</td>\n",
              "      <td>88.604350</td>\n",
              "      <td>3.0</td>\n",
              "      <td>0</td>\n",
              "      <td>0</td>\n",
              "      <td>0</td>\n",
              "    </tr>\n",
              "    <tr>\n",
              "      <th>17889</th>\n",
              "      <td>51.0</td>\n",
              "      <td>170.2</td>\n",
              "      <td>63.05</td>\n",
              "      <td>1.0</td>\n",
              "      <td>1.0</td>\n",
              "      <td>1.0</td>\n",
              "      <td>3.0</td>\n",
              "      <td>34.5</td>\n",
              "      <td>33.0</td>\n",
              "      <td>86.0</td>\n",
              "      <td>273.0</td>\n",
              "      <td>88.0</td>\n",
              "      <td>100.0</td>\n",
              "      <td>7.404</td>\n",
              "      <td>2.611111</td>\n",
              "      <td>115.167622</td>\n",
              "      <td>61.166189</td>\n",
              "      <td>79.166667</td>\n",
              "      <td>0.0</td>\n",
              "      <td>1</td>\n",
              "      <td>1</td>\n",
              "      <td>1</td>\n",
              "    </tr>\n",
              "    <tr>\n",
              "      <th>17890</th>\n",
              "      <td>66.0</td>\n",
              "      <td>157.5</td>\n",
              "      <td>71.50</td>\n",
              "      <td>4.0</td>\n",
              "      <td>6.0</td>\n",
              "      <td>3.0</td>\n",
              "      <td>13.0</td>\n",
              "      <td>35.8</td>\n",
              "      <td>50.0</td>\n",
              "      <td>115.0</td>\n",
              "      <td>209.0</td>\n",
              "      <td>81.0</td>\n",
              "      <td>100.0</td>\n",
              "      <td>7.494</td>\n",
              "      <td>29.383333</td>\n",
              "      <td>122.685241</td>\n",
              "      <td>49.463950</td>\n",
              "      <td>73.871047</td>\n",
              "      <td>1.0</td>\n",
              "      <td>1</td>\n",
              "      <td>0</td>\n",
              "      <td>0</td>\n",
              "    </tr>\n",
              "    <tr>\n",
              "      <th>17891</th>\n",
              "      <td>50.0</td>\n",
              "      <td>165.1</td>\n",
              "      <td>59.00</td>\n",
              "      <td>1.0</td>\n",
              "      <td>5.0</td>\n",
              "      <td>1.0</td>\n",
              "      <td>7.0</td>\n",
              "      <td>34.9</td>\n",
              "      <td>14.0</td>\n",
              "      <td>62.0</td>\n",
              "      <td>182.0</td>\n",
              "      <td>97.0</td>\n",
              "      <td>100.0</td>\n",
              "      <td>7.185</td>\n",
              "      <td>2.145833</td>\n",
              "      <td>134.452465</td>\n",
              "      <td>77.519366</td>\n",
              "      <td>96.497066</td>\n",
              "      <td>3.0</td>\n",
              "      <td>1</td>\n",
              "      <td>0</td>\n",
              "      <td>0</td>\n",
              "    </tr>\n",
              "    <tr>\n",
              "      <th>17892</th>\n",
              "      <td>73.0</td>\n",
              "      <td>177.8</td>\n",
              "      <td>102.00</td>\n",
              "      <td>1.0</td>\n",
              "      <td>1.0</td>\n",
              "      <td>1.0</td>\n",
              "      <td>3.0</td>\n",
              "      <td>34.5</td>\n",
              "      <td>34.0</td>\n",
              "      <td>104.0</td>\n",
              "      <td>273.0</td>\n",
              "      <td>93.0</td>\n",
              "      <td>100.0</td>\n",
              "      <td>7.224</td>\n",
              "      <td>11.434028</td>\n",
              "      <td>131.617030</td>\n",
              "      <td>57.336898</td>\n",
              "      <td>82.096942</td>\n",
              "      <td>3.0</td>\n",
              "      <td>0</td>\n",
              "      <td>0</td>\n",
              "      <td>0</td>\n",
              "    </tr>\n",
              "  </tbody>\n",
              "</table>\n",
              "<p>17893 rows × 22 columns</p>\n",
              "</div>"
            ],
            "text/plain": [
              "        age  height  weight  eyes  ...  ethnicity  gender  hosp_alive  icu_alive\n",
              "0      81.0   165.1   61.70   4.0  ...        1.0       1           0          0\n",
              "1      59.0   180.3   92.30   4.0  ...        1.0       0           0          0\n",
              "2      80.0   170.2  103.30   4.0  ...        1.0       0           0          0\n",
              "3      63.0   183.0  118.00   4.0  ...        1.0       0           0          0\n",
              "4      60.0   165.1   79.90   4.0  ...        1.0       1           0          0\n",
              "...     ...     ...     ...   ...  ...        ...     ...         ...        ...\n",
              "17888  51.0   180.3   59.00   4.0  ...        3.0       0           0          0\n",
              "17889  51.0   170.2   63.05   1.0  ...        0.0       1           1          1\n",
              "17890  66.0   157.5   71.50   4.0  ...        1.0       1           0          0\n",
              "17891  50.0   165.1   59.00   1.0  ...        3.0       1           0          0\n",
              "17892  73.0   177.8  102.00   1.0  ...        3.0       0           0          0\n",
              "\n",
              "[17893 rows x 22 columns]"
            ]
          },
          "metadata": {
            "tags": []
          },
          "execution_count": 107
        }
      ]
    },
    {
      "cell_type": "markdown",
      "metadata": {
        "id": "wXqdR1sxbQdD",
        "colab_type": "text"
      },
      "source": [
        "### Dropping any null values"
      ]
    },
    {
      "cell_type": "code",
      "metadata": {
        "id": "wj5FQkZeXtRA",
        "colab_type": "code",
        "colab": {
          "base_uri": "https://localhost:8080/",
          "height": 487
        },
        "outputId": "abdd1bf7-b078-4fd5-8b15-ae4441254a3a"
      },
      "source": [
        "icudata = icudata.dropna()\n",
        "icudata = icudata.drop('icu_alive',axis=1)\n",
        "icudata.info()"
      ],
      "execution_count": null,
      "outputs": [
        {
          "output_type": "stream",
          "text": [
            "<class 'pandas.core.frame.DataFrame'>\n",
            "Int64Index: 17764 entries, 0 to 17892\n",
            "Data columns (total 21 columns):\n",
            " #   Column           Non-Null Count  Dtype  \n",
            "---  ------           --------------  -----  \n",
            " 0   age              17764 non-null  float64\n",
            " 1   height           17764 non-null  float64\n",
            " 2   weight           17764 non-null  float64\n",
            " 3   eyes             17764 non-null  float64\n",
            " 4   motor            17764 non-null  float64\n",
            " 5   verbal           17764 non-null  float64\n",
            " 6   GCSTotal         17764 non-null  float64\n",
            " 7   temperature      17764 non-null  float64\n",
            " 8   respiratoryrate  17764 non-null  float64\n",
            " 9   heartrate        17764 non-null  float64\n",
            " 10  glucose          17764 non-null  float64\n",
            " 11  O2               17764 non-null  float64\n",
            " 12  fio2             17764 non-null  float64\n",
            " 13  ph               17764 non-null  float64\n",
            " 14  los              17764 non-null  float64\n",
            " 15  SBP              17764 non-null  float64\n",
            " 16  DBP              17764 non-null  float64\n",
            " 17  MAP              17764 non-null  float64\n",
            " 18  ethnicity        17764 non-null  float64\n",
            " 19  gender           17764 non-null  int64  \n",
            " 20  hosp_alive       17764 non-null  int64  \n",
            "dtypes: float64(19), int64(2)\n",
            "memory usage: 3.0 MB\n"
          ],
          "name": "stdout"
        }
      ]
    },
    {
      "cell_type": "markdown",
      "metadata": {
        "id": "9mrAkhsRbTZv",
        "colab_type": "text"
      },
      "source": [
        "## Splitting into train and test dataset"
      ]
    },
    {
      "cell_type": "code",
      "metadata": {
        "id": "1_wZbKIdX6PM",
        "colab_type": "code",
        "colab": {
          "base_uri": "https://localhost:8080/",
          "height": 70
        },
        "outputId": "2f855c1e-3296-4f41-e1e9-c4f1e2745d6c"
      },
      "source": [
        "feature_cols = ['age','height','weight','eyes','motor','verbal','GCSTotal','temperature','respiratoryrate','heartrate','glucose','O2','fio2','ph','los','SBP','DBP','MAP','ethnicity','gender']\n",
        "x = icudata.drop('hosp_alive',axis=1)\n",
        "y = icudata.hosp_alive\n",
        "#x,y = oversample.fit_resample(x,y)\n",
        "x_train, x_test, y_train, y_test = train_test_split(x, \n",
        "                                                    y,    #splitting \n",
        "                                                    test_size=0.25, \n",
        "                                                    random_state=0)\n",
        "x_train, y_train = oversample.fit_resample(x_train,y_train)"
      ],
      "execution_count": null,
      "outputs": [
        {
          "output_type": "stream",
          "text": [
            "/usr/local/lib/python3.6/dist-packages/sklearn/utils/deprecation.py:87: FutureWarning: Function safe_indexing is deprecated; safe_indexing is deprecated in version 0.22 and will be removed in version 0.24.\n",
            "  warnings.warn(msg, category=FutureWarning)\n"
          ],
          "name": "stderr"
        }
      ]
    },
    {
      "cell_type": "markdown",
      "metadata": {
        "id": "o8Vgny9QbbiB",
        "colab_type": "text"
      },
      "source": [
        "## Feature Scaling"
      ]
    },
    {
      "cell_type": "code",
      "metadata": {
        "id": "XtTxQVVxYAn1",
        "colab_type": "code",
        "colab": {}
      },
      "source": [
        "x_train = scaler.fit_transform(x_train)\n",
        "x_test = scaler.transform(x_test)"
      ],
      "execution_count": null,
      "outputs": []
    },
    {
      "cell_type": "markdown",
      "metadata": {
        "id": "CDQhwv0gbec4",
        "colab_type": "text"
      },
      "source": [
        "## Random Forest classifier"
      ]
    },
    {
      "cell_type": "code",
      "metadata": {
        "id": "VThxYVUXYChy",
        "colab_type": "code",
        "colab": {
          "base_uri": "https://localhost:8080/",
          "height": 151
        },
        "outputId": "6971e20c-058f-43f1-aaed-ec6f5c9b80bc"
      },
      "source": [
        "rfmodel = RandomForestClassifier(n_estimators =1000, max_depth = 22 )\n",
        "rfmodel.fit(x_train,y_train)"
      ],
      "execution_count": null,
      "outputs": [
        {
          "output_type": "execute_result",
          "data": {
            "text/plain": [
              "RandomForestClassifier(bootstrap=True, ccp_alpha=0.0, class_weight=None,\n",
              "                       criterion='gini', max_depth=22, max_features='auto',\n",
              "                       max_leaf_nodes=None, max_samples=None,\n",
              "                       min_impurity_decrease=0.0, min_impurity_split=None,\n",
              "                       min_samples_leaf=1, min_samples_split=2,\n",
              "                       min_weight_fraction_leaf=0.0, n_estimators=1000,\n",
              "                       n_jobs=None, oob_score=False, random_state=None,\n",
              "                       verbose=0, warm_start=False)"
            ]
          },
          "metadata": {
            "tags": []
          },
          "execution_count": 111
        }
      ]
    },
    {
      "cell_type": "code",
      "metadata": {
        "id": "opEE4sYzYFZr",
        "colab_type": "code",
        "colab": {}
      },
      "source": [
        "predictions_rf = rfmodel.predict(x_test)\n",
        "rf_prob = rfmodel.predict_proba(x_test)"
      ],
      "execution_count": null,
      "outputs": []
    },
    {
      "cell_type": "markdown",
      "metadata": {
        "id": "e4qVeKAWbiYP",
        "colab_type": "text"
      },
      "source": [
        "### Keeping positive outcomes only (expired patient)"
      ]
    },
    {
      "cell_type": "code",
      "metadata": {
        "id": "nYdBrpSZYHYV",
        "colab_type": "code",
        "colab": {}
      },
      "source": [
        "rf_prob = rf_prob[:,1]"
      ],
      "execution_count": null,
      "outputs": []
    },
    {
      "cell_type": "markdown",
      "metadata": {
        "id": "22eEFSIvbnwp",
        "colab_type": "text"
      },
      "source": [
        "## Classification Report"
      ]
    },
    {
      "cell_type": "code",
      "metadata": {
        "id": "3nFH1eQyYLEG",
        "colab_type": "code",
        "colab": {
          "base_uri": "https://localhost:8080/",
          "height": 168
        },
        "outputId": "4645b086-8340-4f65-8928-97dbcdac399c"
      },
      "source": [
        "rf_acc = rfmodel.score(x_test, y_test)\n",
        "print(classification_report(y_test,predictions_rf))"
      ],
      "execution_count": null,
      "outputs": [
        {
          "output_type": "stream",
          "text": [
            "              precision    recall  f1-score   support\n",
            "\n",
            "           0       0.88      0.94      0.91      3730\n",
            "           1       0.54      0.36      0.43       711\n",
            "\n",
            "    accuracy                           0.85      4441\n",
            "   macro avg       0.71      0.65      0.67      4441\n",
            "weighted avg       0.83      0.85      0.84      4441\n",
            "\n"
          ],
          "name": "stdout"
        }
      ]
    },
    {
      "cell_type": "code",
      "metadata": {
        "id": "bFi6UlazYNrt",
        "colab_type": "code",
        "colab": {}
      },
      "source": [
        "p = metrics.precision_score(y_test, predictions_rf)\n",
        "r = metrics.recall_score(y_test, predictions_rf)\n",
        "f1 = metrics.f1_score(y_test, predictions_rf)"
      ],
      "execution_count": null,
      "outputs": []
    },
    {
      "cell_type": "code",
      "metadata": {
        "id": "0FD5IhPbYQdT",
        "colab_type": "code",
        "colab": {}
      },
      "source": [
        "rf_fpr, rf_tpr, thresholds = metrics.roc_curve(y_test, rf_prob)\n",
        "rf_auc = metrics.roc_auc_score(y_test, rf_prob)"
      ],
      "execution_count": null,
      "outputs": []
    },
    {
      "cell_type": "code",
      "metadata": {
        "id": "HYotmo46YTGx",
        "colab_type": "code",
        "colab": {
          "base_uri": "https://localhost:8080/",
          "height": 168
        },
        "outputId": "2805677c-8b04-4387-a49c-bd5e796e621d"
      },
      "source": [
        "print('*'*30)\n",
        "print(f'Random Forest results: \\n')\n",
        "print(f'\\t Acc = {rf_acc:.3f} \\n\\t Precision={p:.3f} \\n\\t Recall={r:.3f} \\n\\t F1={f1:.3f} \\n\\t AUC={rf_auc:.3f} \\n\\t')"
      ],
      "execution_count": null,
      "outputs": [
        {
          "output_type": "stream",
          "text": [
            "******************************\n",
            "Random Forest results: \n",
            "\n",
            "\t Acc = 0.849 \n",
            "\t Precision=0.543 \n",
            "\t Recall=0.356 \n",
            "\t F1=0.430 \n",
            "\t AUC=0.819 \n",
            "\t\n"
          ],
          "name": "stdout"
        }
      ]
    },
    {
      "cell_type": "code",
      "metadata": {
        "id": "RQox9VP4YU0c",
        "colab_type": "code",
        "colab": {}
      },
      "source": [
        "precision1, recall1, _ = metrics.precision_recall_curve(y_test, rf_prob)"
      ],
      "execution_count": null,
      "outputs": []
    },
    {
      "cell_type": "markdown",
      "metadata": {
        "id": "j9Z038xbbscF",
        "colab_type": "text"
      },
      "source": [
        "## Confusion Matrix"
      ]
    },
    {
      "cell_type": "code",
      "metadata": {
        "id": "S5FtdqinYW3a",
        "colab_type": "code",
        "colab": {
          "base_uri": "https://localhost:8080/"
        },
        "outputId": "1619a1b7-6105-4a21-ec48-4e1281154258"
      },
      "source": [
        "cm1 = metrics.confusion_matrix(y_test, predictions_rf)\n",
        "plt.figure(figsize=(9,9))\n",
        "sns.heatmap(cm1, annot=True, fmt=\".3f\", linewidths=.5, \n",
        "            square = True, cmap = 'Blues_r');\n",
        "plt.ylabel('Actual label');\n",
        "plt.xlabel('Predicted label');\n",
        "all_sample_title = 'Accuracy Score: {0}'.format(rf_acc)\n",
        "plt.title(all_sample_title, size = 15);"
      ],
      "execution_count": null,
      "outputs": [
        {
          "output_type": "display_data",
          "data": {
            "image/png": "[encoded data removed]",
            "text/plain": [
              "<Figure size 648x648 with 2 Axes>"
            ]
          },
          "metadata": {
            "tags": [],
            "needs_background": "light"
          }
        }
      ]
    },
    {
      "cell_type": "markdown",
      "metadata": {
        "id": "5nziYkiXbuke",
        "colab_type": "text"
      },
      "source": [
        "## ROC Curve"
      ]
    },
    {
      "cell_type": "code",
      "metadata": {
        "id": "wtJ1kYNmYYrd",
        "colab_type": "code",
        "colab": {
          "base_uri": "https://localhost:8080/"
        },
        "outputId": "cc193bc5-c82b-4424-c356-632150920f37"
      },
      "source": [
        "plt.figure(figsize=(12,9))\n",
        "plt.plot(rf_fpr, rf_tpr, marker='+', label='RF')\n",
        "plt.grid()\n",
        "plt.ylabel('True Positive Rate')\n",
        "plt.xlabel('False Positive Rate')\n",
        "plt.legend()\n",
        "plt.title(f'ROC Curve, AUC = {rf_auc:.3f}')"
      ],
      "execution_count": null,
      "outputs": [
        {
          "output_type": "execute_result",
          "data": {
            "text/plain": [
              "Text(0.5, 1.0, 'ROC Curve, AUC = 0.819')"
            ]
          },
          "metadata": {
            "tags": []
          },
          "execution_count": 120
        },
        {
          "output_type": "display_data",
          "data": {
            "image/png": "[encoded data removed]",
            "text/plain": [
              "<Figure size 864x648 with 1 Axes>"
            ]
          },
          "metadata": {
            "tags": [],
            "needs_background": "light"
          }
        }
      ]
    },
    {
      "cell_type": "markdown",
      "metadata": {
        "id": "3m8e9M_CbxQp",
        "colab_type": "text"
      },
      "source": [
        "## Precision - Recall Curve"
      ]
    },
    {
      "cell_type": "code",
      "metadata": {
        "id": "-TEy1LKUYcCV",
        "colab_type": "code",
        "colab": {
          "base_uri": "https://localhost:8080/",
          "height": 590
        },
        "outputId": "85988f2a-0806-42cb-a435-320669f3884b"
      },
      "source": [
        "plt.figure(figsize=(12,9))\n",
        "plt.plot(recall1, precision1, marker='.', label='RF')\n",
        "plt.grid()\n",
        "plt.legend()\n",
        "plt.ylabel('Precision')\n",
        "plt.xlabel('Recall')\n",
        "plt.title(f'Precision-Recall curve')"
      ],
      "execution_count": null,
      "outputs": [
        {
          "output_type": "execute_result",
          "data": {
            "text/plain": [
              "Text(0.5, 1.0, 'Precision-Recall curve')"
            ]
          },
          "metadata": {
            "tags": []
          },
          "execution_count": 121
        },
        {
          "output_type": "display_data",
          "data": {
            "image/png": "[encoded data removed]",
            "text/plain": [
              "<Figure size 864x648 with 1 Axes>"
            ]
          },
          "metadata": {
            "tags": [],
            "needs_background": "light"
          }
        }
      ]
    },
    {
      "cell_type": "markdown",
      "metadata": {
        "id": "zvb4Xjw6b3Jp",
        "colab_type": "text"
      },
      "source": [
        "## Cross Evaluation of this model"
      ]
    },
    {
      "cell_type": "code",
      "metadata": {
        "id": "6x-ykE_cYpaf",
        "colab_type": "code",
        "colab": {
          "base_uri": "https://localhost:8080/",
          "height": 459
        },
        "outputId": "4360bded-c680-45df-f816-2d9da4824a01"
      },
      "source": [
        "x = scaler.fit_transform(x)\n",
        "# prepare models\n",
        "models = []\n",
        "models.append(('Random Forest', rfmodel))\n",
        "print('Model Evaluation - Random Forest')\n",
        "# evaluate each model in turn\n",
        "results = []\n",
        "names = []\n",
        "\n",
        "for name, model in models:\n",
        "\tkfold = model_selection.KFold(n_splits=5,random_state=7,shuffle=True)\n",
        "\tcv_results = model_selection.cross_val_score(model,x,y,cv=kfold,scoring='accuracy')\n",
        "\tcv_results2 = model_selection.cross_val_score(model,x,y,cv=kfold,scoring='roc_auc')\n",
        "\tcv_results3 = model_selection.cross_val_score(model,x,y,cv=kfold,scoring='precision')\n",
        "\tcv_results4 = model_selection.cross_val_score(model,x,y,cv=kfold,scoring='recall')\n",
        "\tresults.append(cv_results)\n",
        "\tnames.append(name)\n",
        "\tprint(f' {name} - Accuracy result {cv_results.mean()} +/- {cv_results.std()}')\n",
        "\tprint(f' {name} - ROC_AUC result {cv_results2.mean()} +/- {cv_results2.std()}')\n",
        "\tprint(f' {name} - Precision result {cv_results3.mean()} +/- {cv_results3.std()}')\n",
        "\tprint(f' {name} - Recall result {cv_results4.mean()} +/- {cv_results4.std()}')\n",
        "\n",
        "fig = plt.figure(figsize=(5,5))\n",
        "fig.suptitle('Boxplot View')\n",
        "ax = fig.add_subplot(111)\n",
        "sns.boxplot(data=results)\n",
        "ax.set_xticklabels(names)\n",
        "plt.ylabel('Accuracy')\n",
        "plt.xlabel('Model')\n",
        "plt.show()"
      ],
      "execution_count": null,
      "outputs": [
        {
          "output_type": "stream",
          "text": [
            "Model Evaluation - Random Forest\n",
            " Random Forest - Accuracy result 0.8519472346678227 +/- 0.007378567676337129\n",
            " Random Forest - ROC_AUC result 0.8148273774444176 +/- 0.006091408015679651\n",
            " Random Forest - Precision result 0.6842688841776852 +/- 0.019625096340161758\n",
            " Random Forest - Recall result 0.2138755995515292 +/- 0.014925028074386833\n"
          ],
          "name": "stdout"
        },
        {
          "output_type": "display_data",
          "data": {
            "image/png": "[encoded data removed]",
            "text/plain": [
              "<Figure size 360x360 with 1 Axes>"
            ]
          },
          "metadata": {
            "tags": [],
            "needs_background": "light"
          }
        }
      ]
    },
    {
      "cell_type": "markdown",
      "metadata": {
        "id": "5f1JPuCiccMx",
        "colab_type": "text"
      },
      "source": [
        "## RF model with important features\n",
        "### Selecting important features -"
      ]
    },
    {
      "cell_type": "code",
      "metadata": {
        "id": "k4tFYNX4Yg1K",
        "colab_type": "code",
        "colab": {
          "base_uri": "https://localhost:8080/"
        },
        "outputId": "d52e7234-147d-4f55-cd39-a278d2a7f471"
      },
      "source": [
        "feature_imp = pd.DataFrame(rfmodel.feature_importances_,index=feature_cols,columns=['importance']).sort_values('importance',ascending=False)\n",
        "feature_imp"
      ],
      "execution_count": null,
      "outputs": [
        {
          "output_type": "execute_result",
          "data": {
            "text/html": [
              "<div>\n",
              "<style scoped>\n",
              "    .dataframe tbody tr th:only-of-type {\n",
              "        vertical-align: middle;\n",
              "    }\n",
              "\n",
              "    .dataframe tbody tr th {\n",
              "        vertical-align: top;\n",
              "    }\n",
              "\n",
              "    .dataframe thead th {\n",
              "        text-align: right;\n",
              "    }\n",
              "</style>\n",
              "<table border=\"1\" class=\"dataframe\">\n",
              "  <thead>\n",
              "    <tr style=\"text-align: right;\">\n",
              "      <th></th>\n",
              "      <th>importance</th>\n",
              "    </tr>\n",
              "  </thead>\n",
              "  <tbody>\n",
              "    <tr>\n",
              "      <th>motor</th>\n",
              "      <td>0.114332</td>\n",
              "    </tr>\n",
              "    <tr>\n",
              "      <th>O2</th>\n",
              "      <td>0.082551</td>\n",
              "    </tr>\n",
              "    <tr>\n",
              "      <th>verbal</th>\n",
              "      <td>0.077214</td>\n",
              "    </tr>\n",
              "    <tr>\n",
              "      <th>GCSTotal</th>\n",
              "      <td>0.075791</td>\n",
              "    </tr>\n",
              "    <tr>\n",
              "      <th>eyes</th>\n",
              "      <td>0.073045</td>\n",
              "    </tr>\n",
              "    <tr>\n",
              "      <th>los</th>\n",
              "      <td>0.051961</td>\n",
              "    </tr>\n",
              "    <tr>\n",
              "      <th>MAP</th>\n",
              "      <td>0.051132</td>\n",
              "    </tr>\n",
              "    <tr>\n",
              "      <th>SBP</th>\n",
              "      <td>0.047012</td>\n",
              "    </tr>\n",
              "    <tr>\n",
              "      <th>heartrate</th>\n",
              "      <td>0.046193</td>\n",
              "    </tr>\n",
              "    <tr>\n",
              "      <th>temperature</th>\n",
              "      <td>0.045877</td>\n",
              "    </tr>\n",
              "    <tr>\n",
              "      <th>glucose</th>\n",
              "      <td>0.042387</td>\n",
              "    </tr>\n",
              "    <tr>\n",
              "      <th>respiratoryrate</th>\n",
              "      <td>0.042007</td>\n",
              "    </tr>\n",
              "    <tr>\n",
              "      <th>age</th>\n",
              "      <td>0.040254</td>\n",
              "    </tr>\n",
              "    <tr>\n",
              "      <th>DBP</th>\n",
              "      <td>0.037032</td>\n",
              "    </tr>\n",
              "    <tr>\n",
              "      <th>height</th>\n",
              "      <td>0.036899</td>\n",
              "    </tr>\n",
              "    <tr>\n",
              "      <th>weight</th>\n",
              "      <td>0.033679</td>\n",
              "    </tr>\n",
              "    <tr>\n",
              "      <th>ph</th>\n",
              "      <td>0.031760</td>\n",
              "    </tr>\n",
              "    <tr>\n",
              "      <th>gender</th>\n",
              "      <td>0.030663</td>\n",
              "    </tr>\n",
              "    <tr>\n",
              "      <th>fio2</th>\n",
              "      <td>0.022911</td>\n",
              "    </tr>\n",
              "    <tr>\n",
              "      <th>ethnicity</th>\n",
              "      <td>0.017299</td>\n",
              "    </tr>\n",
              "  </tbody>\n",
              "</table>\n",
              "</div>"
            ],
            "text/plain": [
              "                 importance\n",
              "motor              0.114332\n",
              "O2                 0.082551\n",
              "verbal             0.077214\n",
              "GCSTotal           0.075791\n",
              "eyes               0.073045\n",
              "los                0.051961\n",
              "MAP                0.051132\n",
              "SBP                0.047012\n",
              "heartrate          0.046193\n",
              "temperature        0.045877\n",
              "glucose            0.042387\n",
              "respiratoryrate    0.042007\n",
              "age                0.040254\n",
              "DBP                0.037032\n",
              "height             0.036899\n",
              "weight             0.033679\n",
              "ph                 0.031760\n",
              "gender             0.030663\n",
              "fio2               0.022911\n",
              "ethnicity          0.017299"
            ]
          },
          "metadata": {
            "tags": []
          },
          "execution_count": 123
        }
      ]
    },
    {
      "cell_type": "markdown",
      "metadata": {
        "id": "ZyRBwAmUckFZ",
        "colab_type": "text"
      },
      "source": [
        "## Visualizing important features"
      ]
    },
    {
      "cell_type": "code",
      "metadata": {
        "id": "ztx4vr-eY2x5",
        "colab_type": "code",
        "colab": {
          "base_uri": "https://localhost:8080/",
          "height": 301
        },
        "outputId": "84b6fcfa-5242-469d-a622-286cf819de32"
      },
      "source": [
        "sns.barplot(x=feature_imp.importance,y=feature_imp.index)\n",
        "plt.xlabel('Feature Importance Score')\n",
        "plt.ylabel('Features')\n",
        "plt.title('Visualizing Important Features')\n",
        "plt.show()"
      ],
      "execution_count": null,
      "outputs": [
        {
          "output_type": "display_data",
          "data": {
            "image/png": "[encoded data removed]",
            "text/plain": [
              "<Figure size 432x288 with 1 Axes>"
            ]
          },
          "metadata": {
            "tags": [],
            "needs_background": "light"
          }
        }
      ]
    },
    {
      "cell_type": "markdown",
      "metadata": {
        "id": "vFlokygNcorO",
        "colab_type": "text"
      },
      "source": [
        "## Finding what features were important - "
      ]
    },
    {
      "cell_type": "code",
      "metadata": {
        "id": "9fsJWLBuY58G",
        "colab_type": "code",
        "colab": {
          "base_uri": "https://localhost:8080/",
          "height": 34
        },
        "outputId": "9f5189f5-8b99-4ba9-c957-5530e7041a8c"
      },
      "source": [
        "from sklearn.feature_selection import SelectFromModel\n",
        "feature = SelectFromModel(rfmodel)\n",
        "fit = feature.fit_transform(x_train,y_train)\n",
        "print(f'Number of features selected are :  {fit.shape[1]}')"
      ],
      "execution_count": null,
      "outputs": [
        {
          "output_type": "stream",
          "text": [
            "Number of features selected are :  7\n"
          ],
          "name": "stdout"
        }
      ]
    },
    {
      "cell_type": "code",
      "metadata": {
        "id": "Wsbt8XwBY9jl",
        "colab_type": "code",
        "colab": {
          "base_uri": "https://localhost:8080/"
        },
        "outputId": "31e66e71-538a-40ce-ac6c-7d9c8f3b0cc2"
      },
      "source": [
        "for feature_list_index in feature.get_support(indices=True):\n",
        "    print(f'Features selected are : {feature_imp.index[feature_list_index]}')"
      ],
      "execution_count": null,
      "outputs": [
        {
          "output_type": "stream",
          "text": [
            "Features selected are : GCSTotal\n",
            "Features selected are : eyes\n",
            "Features selected are : los\n",
            "Features selected are : MAP\n",
            "Features selected are : respiratoryrate\n",
            "Features selected are : height\n",
            "Features selected are : gender\n"
          ],
          "name": "stdout"
        }
      ]
    },
    {
      "cell_type": "code",
      "metadata": {
        "id": "tXyJ66IzZAvn",
        "colab_type": "code",
        "colab": {}
      },
      "source": [
        "x_imp_train = feature.transform(x_train)\n",
        "x_imp_test = feature.transform(x_test)"
      ],
      "execution_count": null,
      "outputs": []
    },
    {
      "cell_type": "markdown",
      "metadata": {
        "id": "jj4F27-Gcxfm",
        "colab_type": "text"
      },
      "source": [
        "## RF model for important features"
      ]
    },
    {
      "cell_type": "code",
      "metadata": {
        "id": "kC2FNAq4ZDL5",
        "colab_type": "code",
        "colab": {
          "base_uri": "https://localhost:8080/",
          "height": 151
        },
        "outputId": "399411e8-9161-409b-cd5c-1190974fb359"
      },
      "source": [
        "rf_imp = RandomForestClassifier(n_estimators=100,class_weight='balanced')\n",
        "rf_imp.fit(x_imp_train,y_train)"
      ],
      "execution_count": null,
      "outputs": [
        {
          "output_type": "execute_result",
          "data": {
            "text/plain": [
              "RandomForestClassifier(bootstrap=True, ccp_alpha=0.0, class_weight='balanced',\n",
              "                       criterion='gini', max_depth=None, max_features='auto',\n",
              "                       max_leaf_nodes=None, max_samples=None,\n",
              "                       min_impurity_decrease=0.0, min_impurity_split=None,\n",
              "                       min_samples_leaf=1, min_samples_split=2,\n",
              "                       min_weight_fraction_leaf=0.0, n_estimators=100,\n",
              "                       n_jobs=None, oob_score=False, random_state=None,\n",
              "                       verbose=0, warm_start=False)"
            ]
          },
          "metadata": {
            "tags": []
          },
          "execution_count": 128
        }
      ]
    },
    {
      "cell_type": "code",
      "metadata": {
        "id": "cr44LbrYZFeJ",
        "colab_type": "code",
        "colab": {}
      },
      "source": [
        "pred_imp = rf_imp.predict(x_imp_test)\n",
        "rfimp_proba = rf_imp.predict_proba(x_imp_test)"
      ],
      "execution_count": null,
      "outputs": []
    },
    {
      "cell_type": "code",
      "metadata": {
        "id": "Vhs20XIlZHn8",
        "colab_type": "code",
        "colab": {}
      },
      "source": [
        "rfimp_proba=rfimp_proba[:,1]"
      ],
      "execution_count": null,
      "outputs": []
    },
    {
      "cell_type": "markdown",
      "metadata": {
        "id": "Ve51j6XOc0oT",
        "colab_type": "text"
      },
      "source": [
        "## Classification report"
      ]
    },
    {
      "cell_type": "code",
      "metadata": {
        "id": "ZXQJA9rEZKvR",
        "colab_type": "code",
        "colab": {
          "base_uri": "https://localhost:8080/"
        },
        "outputId": "7c9def7b-ba5a-4dba-9bff-623b1324a561"
      },
      "source": [
        "acc_imp = rf_imp.score(x_imp_test,y_test)\n",
        "print(classification_report(y_test,pred_imp))"
      ],
      "execution_count": null,
      "outputs": [
        {
          "output_type": "stream",
          "text": [
            "              precision    recall  f1-score   support\n",
            "\n",
            "           0       0.88      0.90      0.89      3730\n",
            "           1       0.39      0.34      0.37       711\n",
            "\n",
            "    accuracy                           0.81      4441\n",
            "   macro avg       0.63      0.62      0.63      4441\n",
            "weighted avg       0.80      0.81      0.80      4441\n",
            "\n"
          ],
          "name": "stdout"
        }
      ]
    },
    {
      "cell_type": "code",
      "metadata": {
        "id": "Xa99-vBpZMvL",
        "colab_type": "code",
        "colab": {}
      },
      "source": [
        "p = metrics.precision_score(y_test, pred_imp)\n",
        "r = metrics.recall_score(y_test, pred_imp)\n",
        "f1 = metrics.f1_score(y_test, pred_imp)"
      ],
      "execution_count": null,
      "outputs": []
    },
    {
      "cell_type": "code",
      "metadata": {
        "id": "s6YezU7BZOnc",
        "colab_type": "code",
        "colab": {}
      },
      "source": [
        "rf1_fpr, rf1_tpr, thresholds = metrics.roc_curve(y_test,rfimp_proba)\n",
        "rf1auc= metrics.roc_auc_score(y_test,rfimp_proba)"
      ],
      "execution_count": null,
      "outputs": []
    },
    {
      "cell_type": "code",
      "metadata": {
        "id": "QxRzGYO7ZRV1",
        "colab_type": "code",
        "colab": {
          "base_uri": "https://localhost:8080/",
          "height": 168
        },
        "outputId": "ff710c34-5bf7-4c68-efb0-fc524b5873ae"
      },
      "source": [
        "print('*'*30)\n",
        "print(f'Random Forest after Feature selection: \\n')\n",
        "print(f'\\t Acc = {acc_imp:.3f} \\n\\t Precision={p:.3f} \\n\\t Recall={r:.3f} \\n\\t F1={f1:.3f} \\n\\t AUC={rf1auc:.3f} \\n\\t')"
      ],
      "execution_count": null,
      "outputs": [
        {
          "output_type": "stream",
          "text": [
            "******************************\n",
            "Random Forest after Feature selection: \n",
            "\n",
            "\t Acc = 0.809 \n",
            "\t Precision=0.390 \n",
            "\t Recall=0.345 \n",
            "\t F1=0.366 \n",
            "\t AUC=0.734 \n",
            "\t\n"
          ],
          "name": "stdout"
        }
      ]
    },
    {
      "cell_type": "code",
      "metadata": {
        "id": "EDuVgaJPZTnE",
        "colab_type": "code",
        "colab": {}
      },
      "source": [
        "precision2, recall2, _ = metrics.precision_recall_curve(y_test, rfimp_proba)"
      ],
      "execution_count": null,
      "outputs": []
    },
    {
      "cell_type": "markdown",
      "metadata": {
        "id": "TCqhZEULbyr8",
        "colab_type": "text"
      },
      "source": [
        ""
      ]
    },
    {
      "cell_type": "markdown",
      "metadata": {
        "id": "-UCM6xjPc4Lb",
        "colab_type": "text"
      },
      "source": [
        "## Confusion Matrix"
      ]
    },
    {
      "cell_type": "code",
      "metadata": {
        "id": "RhVJYai7ZXAB",
        "colab_type": "code",
        "colab": {
          "base_uri": "https://localhost:8080/"
        },
        "outputId": "879bb53f-feeb-420a-d9df-fc1b4978b996"
      },
      "source": [
        "cm2 = metrics.confusion_matrix(y_test, pred_imp)\n",
        "plt.figure(figsize=(9,9))\n",
        "sns.heatmap(cm2, annot=True, fmt=\".3f\", linewidths=.5, \n",
        "            square = True, cmap = 'Blues_r');\n",
        "plt.ylabel('Actual label');\n",
        "plt.xlabel('Predicted label');\n",
        "all_sample_title = 'Accuracy Score: {0}'.format(acc_imp)\n",
        "plt.title(all_sample_title, size = 15);"
      ],
      "execution_count": null,
      "outputs": [
        {
          "output_type": "display_data",
          "data": {
            "image/png": "[encoded data removed]",
            "text/plain": [
              "<Figure size 648x648 with 2 Axes>"
            ]
          },
          "metadata": {
            "tags": [],
            "needs_background": "light"
          }
        }
      ]
    },
    {
      "cell_type": "markdown",
      "metadata": {
        "id": "FgS6WT9EdEr8",
        "colab_type": "text"
      },
      "source": [
        "## ROC Curve"
      ]
    },
    {
      "cell_type": "code",
      "metadata": {
        "id": "0Gfz3emeZZgN",
        "colab_type": "code",
        "colab": {
          "base_uri": "https://localhost:8080/"
        },
        "outputId": "7d4b614e-70b5-44d0-c30d-5b54da8044d4"
      },
      "source": [
        "plt.figure(figsize=(12,9))\n",
        "plt.plot(rf1_fpr, rf1_tpr, marker='+', label='RF_ImpFeatures')\n",
        "plt.grid()\n",
        "plt.ylabel('True Positive Rate')\n",
        "plt.xlabel('False Positive Rate')\n",
        "plt.legend()\n",
        "plt.title(f'ROC Curve, AUC = {rf1auc:.3f}')"
      ],
      "execution_count": null,
      "outputs": [
        {
          "output_type": "execute_result",
          "data": {
            "text/plain": [
              "Text(0.5, 1.0, 'ROC Curve, AUC = 0.734')"
            ]
          },
          "metadata": {
            "tags": []
          },
          "execution_count": 137
        },
        {
          "output_type": "display_data",
          "data": {
            "image/png": "[encoded data removed]",
            "text/plain": [
              "<Figure size 864x648 with 1 Axes>"
            ]
          },
          "metadata": {
            "tags": [],
            "needs_background": "light"
          }
        }
      ]
    },
    {
      "cell_type": "markdown",
      "metadata": {
        "id": "Jpz8Q9XidG3C",
        "colab_type": "text"
      },
      "source": [
        "## Precision - Recall curve"
      ]
    },
    {
      "cell_type": "code",
      "metadata": {
        "id": "a_6aW1XzZb_H",
        "colab_type": "code",
        "colab": {
          "base_uri": "https://localhost:8080/"
        },
        "outputId": "c241600f-61d1-4ba9-874b-79ef0575c5da"
      },
      "source": [
        "plt.figure(figsize=(12,9))\n",
        "plt.plot(recall2, precision2, marker='.', label='RF_ImpFeatures')\n",
        "plt.grid()\n",
        "plt.legend()\n",
        "plt.ylabel('Precision')\n",
        "plt.xlabel('Recall')\n",
        "plt.title(f'Precision-Recall curve')"
      ],
      "execution_count": null,
      "outputs": [
        {
          "output_type": "execute_result",
          "data": {
            "text/plain": [
              "Text(0.5, 1.0, 'Precision-Recall curve')"
            ]
          },
          "metadata": {
            "tags": []
          },
          "execution_count": 138
        },
        {
          "output_type": "display_data",
          "data": {
            "image/png": "[encoded data removed]",
            "text/plain": [
              "<Figure size 864x648 with 1 Axes>"
            ]
          },
          "metadata": {
            "tags": [],
            "needs_background": "light"
          }
        }
      ]
    },
    {
      "cell_type": "markdown",
      "metadata": {
        "id": "Zdkmj-RydKZF",
        "colab_type": "text"
      },
      "source": [
        "## Cross evaluation of this model"
      ]
    },
    {
      "cell_type": "code",
      "metadata": {
        "id": "xe6QGGtGY1Ed",
        "colab_type": "code",
        "colab": {
          "base_uri": "https://localhost:8080/",
          "height": 459
        },
        "outputId": "3c610642-5529-4cc0-e0da-88a56a40000f"
      },
      "source": [
        "x = scaler.fit_transform(x)\n",
        "x = feature.transform(x)\n",
        "# prepare models\n",
        "models1 = []\n",
        "models1.append(('RF with Important features', rf_imp))\n",
        "print('Model Evaluation - Random forest with Imp. Features')\n",
        "# evaluate each model in turn\n",
        "results1 = []\n",
        "names1 = []\n",
        "\n",
        "for name, model in models1:\n",
        "\tkfold = model_selection.KFold(n_splits=5,random_state=7,shuffle=True)\n",
        "\tcv_results = model_selection.cross_val_score(model,x,y,cv=kfold,scoring='accuracy')\n",
        "\tcv_results2 = model_selection.cross_val_score(model,x,y,cv=kfold,scoring='roc_auc')\n",
        "\tcv_results3 = model_selection.cross_val_score(model,x,y,cv=kfold,scoring='precision')\n",
        "\tcv_results4 = model_selection.cross_val_score(model,x,y,cv=kfold,scoring='recall')\n",
        "\tresults1.append(cv_results)\n",
        "\tnames1.append(name)\n",
        "\tprint(f' {name} - Accuracy result {cv_results.mean()} +/- {cv_results.std()}')\n",
        "\tprint(f' {name} - ROC_AUC result {cv_results2.mean()} +/- {cv_results2.std()}')\n",
        "\tprint(f' {name} - Precision result {cv_results3.mean()} +/- {cv_results3.std()}')\n",
        "\tprint(f' {name} - Recall result {cv_results4.mean()} +/- {cv_results4.std()}')\n",
        "\n",
        "fig = plt.figure(figsize=(5,5))\n",
        "fig.suptitle('Boxplot View')\n",
        "ax = fig.add_subplot(111)\n",
        "sns.boxplot(data=results1)\n",
        "ax.set_xticklabels(names)\n",
        "plt.ylabel('Accuracy')\n",
        "plt.xlabel('Model')\n",
        "plt.show()"
      ],
      "execution_count": null,
      "outputs": [
        {
          "output_type": "stream",
          "text": [
            "Model Evaluation - Random forest with Imp. Features\n",
            " RF with Important features - Accuracy result 0.8313997909392647 +/- 0.0099463011488367\n",
            " RF with Important features - ROC_AUC result 0.7316228662440392 +/- 0.008309959152575503\n",
            " RF with Important features - Precision result 0.4767211211757698 +/- 0.030512140437811325\n",
            " RF with Important features - Recall result 0.1959884512107471 +/- 0.016584293299147828\n"
          ],
          "name": "stdout"
        },
        {
          "output_type": "display_data",
          "data": {
            "image/png": "[encoded data removed]",
            "text/plain": [
              "<Figure size 360x360 with 1 Axes>"
            ]
          },
          "metadata": {
            "tags": [],
            "needs_background": "light"
          }
        }
      ]
    },
    {
      "cell_type": "markdown",
      "metadata": {
        "id": "9SlCjasLdnMr",
        "colab_type": "text"
      },
      "source": [
        "## Visual comparison of classifiers"
      ]
    },
    {
      "cell_type": "markdown",
      "metadata": {
        "id": "81p-ZcvbdquE",
        "colab_type": "text"
      },
      "source": [
        "## Confusion Matrix comparison"
      ]
    },
    {
      "cell_type": "code",
      "metadata": {
        "id": "SY0GAw7IaW1X",
        "colab_type": "code",
        "colab": {
          "base_uri": "https://localhost:8080/"
        },
        "outputId": "254d84e8-95e7-4f83-f816-2568f475ffbd"
      },
      "source": [
        "plt.figure(figsize=(20,20),dpi=100)\n",
        "fig, (ax,ax2) = plt.subplots(ncols=2)\n",
        "fig.subplots_adjust(right=2.9)\n",
        "sns.heatmap(cm1, annot=True, fmt=\".3f\", linewidths=.5, \n",
        "            square = True, cmap = 'Blues_r',ax=ax);\n",
        "ax.set_title('Random Forest')\n",
        "ax.set_xlabel('Predicted label')\n",
        "ax.set_ylabel('Actual label')\n",
        "sns.heatmap(cm2, annot=True, fmt=\".3f\", linewidths=.5, \n",
        "            square = True, cmap = 'Blues_r',ax=ax2);\n",
        "ax2.set_title('RF with Imp. Features')\n",
        "ax2.set_xlabel('Predicted label')\n",
        "ax2.set_ylabel('Actual label')"
      ],
      "execution_count": null,
      "outputs": [
        {
          "output_type": "execute_result",
          "data": {
            "text/plain": [
              "Text(902.8781818181819, 0.5, 'Actual label')"
            ]
          },
          "metadata": {
            "tags": []
          },
          "execution_count": 140
        },
        {
          "output_type": "display_data",
          "data": {
            "text/plain": [
              "<Figure size 2000x2000 with 0 Axes>"
            ]
          },
          "metadata": {
            "tags": []
          }
        },
        {
          "output_type": "display_data",
          "data": {
            "image/png": "[encoded data removed]",
            "text/plain": [
              "<Figure size 432x288 with 4 Axes>"
            ]
          },
          "metadata": {
            "tags": [],
            "needs_background": "light"
          }
        }
      ]
    },
    {
      "cell_type": "markdown",
      "metadata": {
        "id": "oPadVKpqeATU",
        "colab_type": "text"
      },
      "source": [
        "## ROC Curve comparison"
      ]
    },
    {
      "cell_type": "code",
      "metadata": {
        "id": "XQrnmB2raZox",
        "colab_type": "code",
        "colab": {
          "base_uri": "https://localhost:8080/"
        },
        "outputId": "12f7ae68-83a6-46b6-e15c-8cc262dd25cf"
      },
      "source": [
        "plt.figure(figsize=(8,8),dpi=100)\n",
        "plt.plot(rf_fpr, rf_tpr, marker='+', label='Random Forest (auc = %0.3f)' % rf_auc)\n",
        "plt.plot(rf1_fpr, rf1_tpr, marker='+', label='Random Forest with Imp. Features (auc = %0.3f)' % rf1auc)\n",
        "\n",
        "plt.xlabel('False Positive Rate  ---> ')\n",
        "plt.ylabel('True Positive Rate   ---> ')\n",
        "plt.legend()\n",
        "plt.title('ROC Comparison between different classifiers ')\n",
        "plt.show()"
      ],
      "execution_count": null,
      "outputs": [
        {
          "output_type": "display_data",
          "data": {
            "image/png": "[encoded data removed]",
            "text/plain": [
              "<Figure size 800x800 with 1 Axes>"
            ]
          },
          "metadata": {
            "tags": [],
            "needs_background": "light"
          }
        }
      ]
    },
    {
      "cell_type": "markdown",
      "metadata": {
        "id": "aGR1PlwxeXLP",
        "colab_type": "text"
      },
      "source": [
        "## Precision - Recall curve comparison"
      ]
    },
    {
      "cell_type": "code",
      "metadata": {
        "id": "9bDDbEhtacbj",
        "colab_type": "code",
        "colab": {
          "base_uri": "https://localhost:8080/"
        },
        "outputId": "b24e3f80-b15e-4941-bb16-0bbf401cd939"
      },
      "source": [
        "plt.figure(figsize=(8,8))\n",
        "plt.plot(recall1, precision1, marker='.', label='RF')\n",
        "plt.plot(recall2, precision2, marker='.', label='RF_ImpFeatures')\n",
        "\n",
        "plt.grid()\n",
        "plt.legend()\n",
        "plt.ylabel('Precision')\n",
        "plt.xlabel('Recall')\n",
        "plt.title(f'Precision-Recall curve')\n",
        "plt.show()"
      ],
      "execution_count": null,
      "outputs": [
        {
          "output_type": "display_data",
          "data": {
            "image/png": "[encoded data removed]",
            "text/plain": [
              "<Figure size 576x576 with 1 Axes>"
            ]
          },
          "metadata": {
            "tags": [],
            "needs_background": "light"
          }
        }
      ]
    },
    {
      "cell_type": "markdown",
      "metadata": {
        "id": "JmMB8EHiXCY4",
        "colab_type": "text"
      },
      "source": [
        "## Interpretation of model"
      ]
    },
    {
      "cell_type": "markdown",
      "metadata": {
        "id": "v3Ne2GqnXHZW",
        "colab_type": "text"
      },
      "source": [
        "### Installing shap package"
      ]
    },
    {
      "cell_type": "code",
      "metadata": {
        "id": "eNRx6FrerY2t",
        "colab_type": "code",
        "colab": {
          "base_uri": "https://localhost:8080/",
          "height": 336
        },
        "outputId": "bb76f9db-7b7f-4c90-fa2d-7bbe5cd10c86"
      },
      "source": [
        "!pip install shap"
      ],
      "execution_count": null,
      "outputs": [
        {
          "output_type": "stream",
          "text": [
            "Collecting shap\n",
            "\u001b[?25l  Downloading https://files.pythonhosted.org/packages/a8/77/b504e43e21a2ba543a1ac4696718beb500cfa708af2fb57cb54ce299045c/shap-0.35.0.tar.gz (273kB)\n",
            "\r\u001b[K     |█▏                              | 10kB 17.1MB/s eta 0:00:01\r\u001b[K     |██▍                             | 20kB 1.7MB/s eta 0:00:01\r\u001b[K     |███▋                            | 30kB 2.3MB/s eta 0:00:01\r\u001b[K     |████▉                           | 40kB 2.6MB/s eta 0:00:01\r\u001b[K     |██████                          | 51kB 2.0MB/s eta 0:00:01\r\u001b[K     |███████▏                        | 61kB 2.3MB/s eta 0:00:01\r\u001b[K     |████████▍                       | 71kB 2.5MB/s eta 0:00:01\r\u001b[K     |█████████▋                      | 81kB 2.7MB/s eta 0:00:01\r\u001b[K     |██████████▉                     | 92kB 2.9MB/s eta 0:00:01\r\u001b[K     |████████████                    | 102kB 2.8MB/s eta 0:00:01\r\u001b[K     |█████████████▏                  | 112kB 2.8MB/s eta 0:00:01\r\u001b[K     |██████████████▍                 | 122kB 2.8MB/s eta 0:00:01\r\u001b[K     |███████████████▋                | 133kB 2.8MB/s eta 0:00:01\r\u001b[K     |████████████████▉               | 143kB 2.8MB/s eta 0:00:01\r\u001b[K     |██████████████████              | 153kB 2.8MB/s eta 0:00:01\r\u001b[K     |███████████████████▏            | 163kB 2.8MB/s eta 0:00:01\r\u001b[K     |████████████████████▍           | 174kB 2.8MB/s eta 0:00:01\r\u001b[K     |█████████████████████▋          | 184kB 2.8MB/s eta 0:00:01\r\u001b[K     |██████████████████████▉         | 194kB 2.8MB/s eta 0:00:01\r\u001b[K     |████████████████████████        | 204kB 2.8MB/s eta 0:00:01\r\u001b[K     |█████████████████████████▏      | 215kB 2.8MB/s eta 0:00:01\r\u001b[K     |██████████████████████████▍     | 225kB 2.8MB/s eta 0:00:01\r\u001b[K     |███████████████████████████▋    | 235kB 2.8MB/s eta 0:00:01\r\u001b[K     |████████████████████████████▉   | 245kB 2.8MB/s eta 0:00:01\r\u001b[K     |██████████████████████████████  | 256kB 2.8MB/s eta 0:00:01\r\u001b[K     |███████████████████████████████▏| 266kB 2.8MB/s eta 0:00:01\r\u001b[K     |████████████████████████████████| 276kB 2.8MB/s \n",
            "\u001b[?25hRequirement already satisfied: numpy in /usr/local/lib/python3.6/dist-packages (from shap) (1.18.5)\n",
            "Requirement already satisfied: scipy in /usr/local/lib/python3.6/dist-packages (from shap) (1.4.1)\n",
            "Requirement already satisfied: scikit-learn in /usr/local/lib/python3.6/dist-packages (from shap) (0.22.2.post1)\n",
            "Requirement already satisfied: pandas in /usr/local/lib/python3.6/dist-packages (from shap) (1.0.5)\n",
            "Requirement already satisfied: tqdm>4.25.0 in /usr/local/lib/python3.6/dist-packages (from shap) (4.41.1)\n",
            "Requirement already satisfied: joblib>=0.11 in /usr/local/lib/python3.6/dist-packages (from scikit-learn->shap) (0.15.1)\n",
            "Requirement already satisfied: python-dateutil>=2.6.1 in /usr/local/lib/python3.6/dist-packages (from pandas->shap) (2.8.1)\n",
            "Requirement already satisfied: pytz>=2017.2 in /usr/local/lib/python3.6/dist-packages (from pandas->shap) (2018.9)\n",
            "Requirement already satisfied: six>=1.5 in /usr/local/lib/python3.6/dist-packages (from python-dateutil>=2.6.1->pandas->shap) (1.12.0)\n",
            "Building wheels for collected packages: shap\n",
            "  Building wheel for shap (setup.py) ... \u001b[?25l\u001b[?25hdone\n",
            "  Created wheel for shap: filename=shap-0.35.0-cp36-cp36m-linux_x86_64.whl size=394115 sha256=0712db5c20fe65da12dcd113d54ab2b674711d807760865f4ffdc4ddcf0c319a\n",
            "  Stored in directory: /root/.cache/pip/wheels/e7/f7/0f/b57055080cf8894906b3bd3616d2fc2bfd0b12d5161bcb24ac\n",
            "Successfully built shap\n",
            "Installing collected packages: shap\n",
            "Successfully installed shap-0.35.0\n"
          ],
          "name": "stdout"
        }
      ]
    },
    {
      "cell_type": "code",
      "metadata": {
        "id": "rJBF0zpPrSgv",
        "colab_type": "code",
        "colab": {}
      },
      "source": [
        "import shap"
      ],
      "execution_count": null,
      "outputs": []
    },
    {
      "cell_type": "markdown",
      "metadata": {
        "id": "lz9TwG16XK2e",
        "colab_type": "text"
      },
      "source": [
        "### Explaining model's prediciton using shap values on test set"
      ]
    },
    {
      "cell_type": "code",
      "metadata": {
        "id": "DQ6jxnSarPcc",
        "colab_type": "code",
        "colab": {
          "base_uri": "https://localhost:8080/",
          "height": 34
        },
        "outputId": "0be5021f-e82a-44fd-9243-76f118624e1c"
      },
      "source": [
        "explainer = shap.TreeExplainer(rfmodel)"
      ],
      "execution_count": null,
      "outputs": [
        {
          "output_type": "stream",
          "text": [
            "Setting feature_perturbation = \"tree_path_dependent\" because no background data was given.\n"
          ],
          "name": "stderr"
        }
      ]
    },
    {
      "cell_type": "code",
      "metadata": {
        "id": "bmtM3xxP7_0v",
        "colab_type": "code",
        "colab": {}
      },
      "source": [
        "shap_values = explainer.shap_values(x_test)"
      ],
      "execution_count": null,
      "outputs": []
    },
    {
      "cell_type": "code",
      "metadata": {
        "id": "ekXGucaX2ZvK",
        "colab_type": "code",
        "colab": {}
      },
      "source": [
        "feature_cols"
      ],
      "execution_count": null,
      "outputs": []
    },
    {
      "cell_type": "code",
      "metadata": {
        "id": "ZjFYVrhF2HVY",
        "colab_type": "code",
        "colab": {}
      },
      "source": [
        "x_test[0,:]"
      ],
      "execution_count": null,
      "outputs": []
    },
    {
      "cell_type": "markdown",
      "metadata": {
        "id": "2Fi5nmhXXv07",
        "colab_type": "text"
      },
      "source": [
        "### Explanation of the first row in test set"
      ]
    },
    {
      "cell_type": "code",
      "metadata": {
        "id": "xtwWnXZB0EL3",
        "colab_type": "code",
        "colab": {}
      },
      "source": [
        "shap.initjs()\n",
        "shap.force_plot(explainer.expected_value[1], shap_values[1][0,:], x_test[0,:],feature_names=feature_cols)"
      ],
      "execution_count": null,
      "outputs": []
    },
    {
      "cell_type": "markdown",
      "metadata": {
        "id": "m27pk3I3YE3E",
        "colab_type": "text"
      },
      "source": [
        "### Interactive Visualization of all feature's shapely values"
      ]
    },
    {
      "cell_type": "code",
      "metadata": {
        "id": "_gQbES2c0Mz2",
        "colab_type": "code",
        "colab": {}
      },
      "source": [
        "shap.initjs()\n",
        "shap.force_plot(explainer.expected_value[1], shap_values[1], x_test,feature_names=feature_cols)"
      ],
      "execution_count": null,
      "outputs": []
    },
    {
      "cell_type": "markdown",
      "metadata": {
        "id": "o1a_srB7YPGN",
        "colab_type": "text"
      },
      "source": [
        "### Summary plot with shapely values"
      ]
    },
    {
      "cell_type": "code",
      "metadata": {
        "id": "lt-opEDlkt8H",
        "colab_type": "code",
        "colab": {}
      },
      "source": [
        "shap.summary_plot(shap_values[1], x_test,feature_names=feature_cols)"
      ],
      "execution_count": null,
      "outputs": []
    },
    {
      "cell_type": "markdown",
      "metadata": {
        "id": "HuGDNfzGYWmp",
        "colab_type": "text"
      },
      "source": [
        "### Summary plot with plot type as 'violin'"
      ]
    },
    {
      "cell_type": "code",
      "metadata": {
        "id": "YoFf4NOzlDHq",
        "colab_type": "code",
        "colab": {}
      },
      "source": [
        "shap.summary_plot(shap_values[1], x_test, plot_type=\"violin\",feature_names=feature_cols)"
      ],
      "execution_count": null,
      "outputs": []
    }
  ]
}
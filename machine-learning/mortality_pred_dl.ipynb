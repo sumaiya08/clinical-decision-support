{
  "nbformat": 4,
  "nbformat_minor": 0,
  "metadata": {
    "colab": {
      "name": "mortality_pred_dl.ipynb",
      "provenance": []
    },
    "kernelspec": {
      "name": "python3",
      "display_name": "Python 3"
    }
  },
  "cells": [
    {
      "cell_type": "markdown",
      "metadata": {
        "id": "cRSLV62jd27u",
        "colab_type": "text"
      },
      "source": [
        "# Deep learning for mortality prediction\n",
        "## We're going to implement a model in keras to predict mortality\n",
        "## Visualize the results obtained"
      ]
    },
    {
      "cell_type": "markdown",
      "metadata": {
        "id": "MgUgWmrleG0y",
        "colab_type": "text"
      },
      "source": [
        "### Importing necessary libraries"
      ]
    },
    {
      "cell_type": "code",
      "metadata": {
        "id": "PvZ3-PJDAOCC",
        "colab_type": "code",
        "colab": {
          "base_uri": "https://localhost:8080/",
          "height": 238
        },
        "outputId": "49a590d8-d035-4347-c28f-e8abefdf3c1e"
      },
      "source": [
        "import pandas as pd \n",
        "import numpy as np\n",
        "import matplotlib.pyplot as plt\n",
        "import seaborn as sns\n",
        "from sklearn import metrics\n",
        "from sklearn.preprocessing import StandardScaler\n",
        "from sklearn.metrics import classification_report\n",
        "from sklearn.linear_model import LogisticRegression\n",
        "from sklearn.model_selection import train_test_split\n",
        "from sklearn import model_selection\n",
        "from sklearn.model_selection import KFold\n",
        "from sklearn.model_selection import cross_val_score\n",
        "from imblearn.over_sampling import SMOTE\n",
        "from sklearn.metrics import accuracy_score\n",
        "from sklearn.metrics import precision_score\n",
        "from sklearn.metrics import recall_score\n",
        "from sklearn.metrics import f1_score\n",
        "from sklearn.metrics import cohen_kappa_score\n",
        "from sklearn.metrics import roc_auc_score\n",
        "from sklearn.metrics import confusion_matrix\n",
        "import os\n",
        "sns.set()\n",
        "# Access data.\n",
        "from google.colab import drive\n",
        "drive.mount('/content/gdrive')\n",
        "from google.colab import files\n",
        "import tensorflow as tf\n",
        "import keras\n",
        "from keras.models import Sequential\n",
        "from keras.layers import Dense\n",
        "from keras.utils import to_categorical"
      ],
      "execution_count": null,
      "outputs": [
        {
          "output_type": "stream",
          "text": [
            "/usr/local/lib/python3.6/dist-packages/statsmodels/tools/_testing.py:19: FutureWarning: pandas.util.testing is deprecated. Use the functions in the public API at pandas.testing instead.\n",
            "  import pandas.util.testing as tm\n",
            "/usr/local/lib/python3.6/dist-packages/sklearn/externals/six.py:31: FutureWarning: The module is deprecated in version 0.21 and will be removed in version 0.23 since we've dropped support for Python 2.7. Please rely on the official version of six (https://pypi.org/project/six/).\n",
            "  \"(https://pypi.org/project/six/).\", FutureWarning)\n",
            "/usr/local/lib/python3.6/dist-packages/sklearn/utils/deprecation.py:144: FutureWarning: The sklearn.neighbors.base module is  deprecated in version 0.22 and will be removed in version 0.24. The corresponding classes / functions should instead be imported from sklearn.neighbors. Anything that cannot be imported from sklearn.neighbors is now part of the private API.\n",
            "  warnings.warn(message, FutureWarning)\n"
          ],
          "name": "stderr"
        },
        {
          "output_type": "stream",
          "text": [
            "Go to this URL in a browser: https://accounts.google.com/o/oauth2/auth?client_id=947318989803-6bn6qk8qdgf4n4g3pfee6491hc0brc4i.apps.googleusercontent.com&redirect_uri=urn%3aietf%3awg%3aoauth%3a2.0%3aoob&response_type=code&scope=email%20https%3a%2f%2fwww.googleapis.com%2fauth%2fdocs.test%20https%3a%2f%2fwww.googleapis.com%2fauth%2fdrive%20https%3a%2f%2fwww.googleapis.com%2fauth%2fdrive.photos.readonly%20https%3a%2f%2fwww.googleapis.com%2fauth%2fpeopleapi.readonly\n",
            "\n",
            "Enter your authorization code:\n",
            "··········\n",
            "Mounted at /content/gdrive\n"
          ],
          "name": "stdout"
        },
        {
          "output_type": "stream",
          "text": [
            "Using TensorFlow backend.\n"
          ],
          "name": "stderr"
        }
      ]
    },
    {
      "cell_type": "code",
      "metadata": {
        "id": "ytjECTB1zYsk",
        "colab_type": "code",
        "colab": {}
      },
      "source": [
        "oversample = SMOTE()\n",
        "scaler = StandardScaler()"
      ],
      "execution_count": null,
      "outputs": []
    },
    {
      "cell_type": "markdown",
      "metadata": {
        "id": "BuNFmVsMeKNW",
        "colab_type": "text"
      },
      "source": [
        "### Uploading the dataset "
      ]
    },
    {
      "cell_type": "code",
      "metadata": {
        "id": "O0rxYdx3zhqh",
        "colab_type": "code",
        "colab": {
          "resources": {
            "http://localhost:8080/nbextensions/google.colab/files.js": {
              "data": "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",
              "ok": true,
              "headers": [
                [
                  "content-type",
                  "application/javascript"
                ]
              ],
              "status": 200,
              "status_text": ""
            }
          },
          "base_uri": "https://localhost:8080/",
          "height": 73
        },
        "outputId": "cfdccf2c-2421-4964-bc50-b44b0e80a5b4"
      },
      "source": [
        "uploaded = files.upload()"
      ],
      "execution_count": null,
      "outputs": [
        {
          "output_type": "display_data",
          "data": {
            "text/html": [
              "\n",
              "     <input type=\"file\" id=\"files-81a1ca95-aa8e-47df-929e-f9c5f71f2904\" name=\"files[]\" multiple disabled\n",
              "        style=\"border:none\" />\n",
              "     <output id=\"result-81a1ca95-aa8e-47df-929e-f9c5f71f2904\">\n",
              "      Upload widget is only available when the cell has been executed in the\n",
              "      current browser session. Please rerun this cell to enable.\n",
              "      </output>\n",
              "      <script src=\"/nbextensions/google.colab/files.js\"></script> "
            ],
            "text/plain": [
              "<IPython.core.display.HTML object>"
            ]
          },
          "metadata": {
            "tags": []
          }
        },
        {
          "output_type": "stream",
          "text": [
            "Saving rawdata.csv to rawdata.csv\n"
          ],
          "name": "stdout"
        }
      ]
    },
    {
      "cell_type": "code",
      "metadata": {
        "id": "PAieLPSezkOM",
        "colab_type": "code",
        "colab": {}
      },
      "source": [
        "import io\n",
        "icudata = pd.read_csv(io.BytesIO(uploaded['rawdata.csv']))"
      ],
      "execution_count": null,
      "outputs": []
    },
    {
      "cell_type": "code",
      "metadata": {
        "id": "eZRnxW0xzqrT",
        "colab_type": "code",
        "colab": {
          "base_uri": "https://localhost:8080/",
          "height": 422
        },
        "outputId": "d8ebc684-8f89-46c8-bb87-7e08d8465457"
      },
      "source": [
        "icudata"
      ],
      "execution_count": null,
      "outputs": [
        {
          "output_type": "execute_result",
          "data": {
            "text/html": [
              "<div>\n",
              "<style scoped>\n",
              "    .dataframe tbody tr th:only-of-type {\n",
              "        vertical-align: middle;\n",
              "    }\n",
              "\n",
              "    .dataframe tbody tr th {\n",
              "        vertical-align: top;\n",
              "    }\n",
              "\n",
              "    .dataframe thead th {\n",
              "        text-align: right;\n",
              "    }\n",
              "</style>\n",
              "<table border=\"1\" class=\"dataframe\">\n",
              "  <thead>\n",
              "    <tr style=\"text-align: right;\">\n",
              "      <th></th>\n",
              "      <th>age</th>\n",
              "      <th>height</th>\n",
              "      <th>weight</th>\n",
              "      <th>eyes</th>\n",
              "      <th>motor</th>\n",
              "      <th>verbal</th>\n",
              "      <th>GCSTotal</th>\n",
              "      <th>temperature</th>\n",
              "      <th>respiratoryrate</th>\n",
              "      <th>heartrate</th>\n",
              "      <th>glucose</th>\n",
              "      <th>O2</th>\n",
              "      <th>fio2</th>\n",
              "      <th>ph</th>\n",
              "      <th>los</th>\n",
              "      <th>SBP</th>\n",
              "      <th>DBP</th>\n",
              "      <th>MAP</th>\n",
              "      <th>ethnicity</th>\n",
              "      <th>gender</th>\n",
              "      <th>hosp_alive</th>\n",
              "      <th>icu_alive</th>\n",
              "    </tr>\n",
              "  </thead>\n",
              "  <tbody>\n",
              "    <tr>\n",
              "      <th>0</th>\n",
              "      <td>81.0</td>\n",
              "      <td>165.1</td>\n",
              "      <td>61.70</td>\n",
              "      <td>4.0</td>\n",
              "      <td>6.0</td>\n",
              "      <td>5.0</td>\n",
              "      <td>15.0</td>\n",
              "      <td>34.8</td>\n",
              "      <td>5.0</td>\n",
              "      <td>114.0</td>\n",
              "      <td>185.0</td>\n",
              "      <td>95.0</td>\n",
              "      <td>60.0</td>\n",
              "      <td>7.390</td>\n",
              "      <td>10.893056</td>\n",
              "      <td>103.366634</td>\n",
              "      <td>55.650501</td>\n",
              "      <td>71.555879</td>\n",
              "      <td>1.0</td>\n",
              "      <td>1</td>\n",
              "      <td>0</td>\n",
              "      <td>0</td>\n",
              "    </tr>\n",
              "    <tr>\n",
              "      <th>1</th>\n",
              "      <td>59.0</td>\n",
              "      <td>180.3</td>\n",
              "      <td>92.30</td>\n",
              "      <td>4.0</td>\n",
              "      <td>6.0</td>\n",
              "      <td>5.0</td>\n",
              "      <td>15.0</td>\n",
              "      <td>37.2</td>\n",
              "      <td>10.0</td>\n",
              "      <td>114.0</td>\n",
              "      <td>121.0</td>\n",
              "      <td>98.0</td>\n",
              "      <td>21.0</td>\n",
              "      <td>6.700</td>\n",
              "      <td>10.679861</td>\n",
              "      <td>132.334862</td>\n",
              "      <td>57.155963</td>\n",
              "      <td>82.215596</td>\n",
              "      <td>1.0</td>\n",
              "      <td>0</td>\n",
              "      <td>0</td>\n",
              "      <td>0</td>\n",
              "    </tr>\n",
              "    <tr>\n",
              "      <th>2</th>\n",
              "      <td>80.0</td>\n",
              "      <td>170.2</td>\n",
              "      <td>103.30</td>\n",
              "      <td>4.0</td>\n",
              "      <td>6.0</td>\n",
              "      <td>5.0</td>\n",
              "      <td>15.0</td>\n",
              "      <td>36.6</td>\n",
              "      <td>55.0</td>\n",
              "      <td>102.0</td>\n",
              "      <td>273.0</td>\n",
              "      <td>97.0</td>\n",
              "      <td>21.0</td>\n",
              "      <td>6.700</td>\n",
              "      <td>3.610417</td>\n",
              "      <td>112.200000</td>\n",
              "      <td>59.900000</td>\n",
              "      <td>77.333333</td>\n",
              "      <td>1.0</td>\n",
              "      <td>0</td>\n",
              "      <td>0</td>\n",
              "      <td>0</td>\n",
              "    </tr>\n",
              "    <tr>\n",
              "      <th>3</th>\n",
              "      <td>63.0</td>\n",
              "      <td>183.0</td>\n",
              "      <td>118.00</td>\n",
              "      <td>4.0</td>\n",
              "      <td>6.0</td>\n",
              "      <td>5.0</td>\n",
              "      <td>15.0</td>\n",
              "      <td>37.3</td>\n",
              "      <td>26.0</td>\n",
              "      <td>100.0</td>\n",
              "      <td>143.0</td>\n",
              "      <td>97.0</td>\n",
              "      <td>60.0</td>\n",
              "      <td>7.450</td>\n",
              "      <td>2.949306</td>\n",
              "      <td>128.652968</td>\n",
              "      <td>60.463470</td>\n",
              "      <td>83.193303</td>\n",
              "      <td>1.0</td>\n",
              "      <td>0</td>\n",
              "      <td>0</td>\n",
              "      <td>0</td>\n",
              "    </tr>\n",
              "    <tr>\n",
              "      <th>4</th>\n",
              "      <td>60.0</td>\n",
              "      <td>165.1</td>\n",
              "      <td>79.90</td>\n",
              "      <td>4.0</td>\n",
              "      <td>6.0</td>\n",
              "      <td>4.0</td>\n",
              "      <td>14.0</td>\n",
              "      <td>34.5</td>\n",
              "      <td>37.0</td>\n",
              "      <td>137.0</td>\n",
              "      <td>273.0</td>\n",
              "      <td>99.0</td>\n",
              "      <td>40.0</td>\n",
              "      <td>7.070</td>\n",
              "      <td>3.611806</td>\n",
              "      <td>117.556477</td>\n",
              "      <td>62.197927</td>\n",
              "      <td>80.650777</td>\n",
              "      <td>1.0</td>\n",
              "      <td>1</td>\n",
              "      <td>0</td>\n",
              "      <td>0</td>\n",
              "    </tr>\n",
              "    <tr>\n",
              "      <th>...</th>\n",
              "      <td>...</td>\n",
              "      <td>...</td>\n",
              "      <td>...</td>\n",
              "      <td>...</td>\n",
              "      <td>...</td>\n",
              "      <td>...</td>\n",
              "      <td>...</td>\n",
              "      <td>...</td>\n",
              "      <td>...</td>\n",
              "      <td>...</td>\n",
              "      <td>...</td>\n",
              "      <td>...</td>\n",
              "      <td>...</td>\n",
              "      <td>...</td>\n",
              "      <td>...</td>\n",
              "      <td>...</td>\n",
              "      <td>...</td>\n",
              "      <td>...</td>\n",
              "      <td>...</td>\n",
              "      <td>...</td>\n",
              "      <td>...</td>\n",
              "      <td>...</td>\n",
              "    </tr>\n",
              "    <tr>\n",
              "      <th>17888</th>\n",
              "      <td>51.0</td>\n",
              "      <td>180.3</td>\n",
              "      <td>59.00</td>\n",
              "      <td>4.0</td>\n",
              "      <td>6.0</td>\n",
              "      <td>3.0</td>\n",
              "      <td>13.0</td>\n",
              "      <td>34.5</td>\n",
              "      <td>26.0</td>\n",
              "      <td>56.0</td>\n",
              "      <td>192.0</td>\n",
              "      <td>92.0</td>\n",
              "      <td>100.0</td>\n",
              "      <td>7.444</td>\n",
              "      <td>11.053472</td>\n",
              "      <td>130.552042</td>\n",
              "      <td>67.630504</td>\n",
              "      <td>88.604350</td>\n",
              "      <td>3.0</td>\n",
              "      <td>0</td>\n",
              "      <td>0</td>\n",
              "      <td>0</td>\n",
              "    </tr>\n",
              "    <tr>\n",
              "      <th>17889</th>\n",
              "      <td>51.0</td>\n",
              "      <td>170.2</td>\n",
              "      <td>63.05</td>\n",
              "      <td>1.0</td>\n",
              "      <td>1.0</td>\n",
              "      <td>1.0</td>\n",
              "      <td>3.0</td>\n",
              "      <td>34.5</td>\n",
              "      <td>33.0</td>\n",
              "      <td>86.0</td>\n",
              "      <td>273.0</td>\n",
              "      <td>88.0</td>\n",
              "      <td>100.0</td>\n",
              "      <td>7.404</td>\n",
              "      <td>2.611111</td>\n",
              "      <td>115.167622</td>\n",
              "      <td>61.166189</td>\n",
              "      <td>79.166667</td>\n",
              "      <td>0.0</td>\n",
              "      <td>1</td>\n",
              "      <td>1</td>\n",
              "      <td>1</td>\n",
              "    </tr>\n",
              "    <tr>\n",
              "      <th>17890</th>\n",
              "      <td>66.0</td>\n",
              "      <td>157.5</td>\n",
              "      <td>71.50</td>\n",
              "      <td>4.0</td>\n",
              "      <td>6.0</td>\n",
              "      <td>3.0</td>\n",
              "      <td>13.0</td>\n",
              "      <td>35.8</td>\n",
              "      <td>50.0</td>\n",
              "      <td>115.0</td>\n",
              "      <td>209.0</td>\n",
              "      <td>81.0</td>\n",
              "      <td>100.0</td>\n",
              "      <td>7.494</td>\n",
              "      <td>29.383333</td>\n",
              "      <td>122.685241</td>\n",
              "      <td>49.463950</td>\n",
              "      <td>73.871047</td>\n",
              "      <td>1.0</td>\n",
              "      <td>1</td>\n",
              "      <td>0</td>\n",
              "      <td>0</td>\n",
              "    </tr>\n",
              "    <tr>\n",
              "      <th>17891</th>\n",
              "      <td>50.0</td>\n",
              "      <td>165.1</td>\n",
              "      <td>59.00</td>\n",
              "      <td>1.0</td>\n",
              "      <td>5.0</td>\n",
              "      <td>1.0</td>\n",
              "      <td>7.0</td>\n",
              "      <td>34.9</td>\n",
              "      <td>14.0</td>\n",
              "      <td>62.0</td>\n",
              "      <td>182.0</td>\n",
              "      <td>97.0</td>\n",
              "      <td>100.0</td>\n",
              "      <td>7.185</td>\n",
              "      <td>2.145833</td>\n",
              "      <td>134.452465</td>\n",
              "      <td>77.519366</td>\n",
              "      <td>96.497066</td>\n",
              "      <td>3.0</td>\n",
              "      <td>1</td>\n",
              "      <td>0</td>\n",
              "      <td>0</td>\n",
              "    </tr>\n",
              "    <tr>\n",
              "      <th>17892</th>\n",
              "      <td>73.0</td>\n",
              "      <td>177.8</td>\n",
              "      <td>102.00</td>\n",
              "      <td>1.0</td>\n",
              "      <td>1.0</td>\n",
              "      <td>1.0</td>\n",
              "      <td>3.0</td>\n",
              "      <td>34.5</td>\n",
              "      <td>34.0</td>\n",
              "      <td>104.0</td>\n",
              "      <td>273.0</td>\n",
              "      <td>93.0</td>\n",
              "      <td>100.0</td>\n",
              "      <td>7.224</td>\n",
              "      <td>11.434028</td>\n",
              "      <td>131.617030</td>\n",
              "      <td>57.336898</td>\n",
              "      <td>82.096942</td>\n",
              "      <td>3.0</td>\n",
              "      <td>0</td>\n",
              "      <td>0</td>\n",
              "      <td>0</td>\n",
              "    </tr>\n",
              "  </tbody>\n",
              "</table>\n",
              "<p>17893 rows × 22 columns</p>\n",
              "</div>"
            ],
            "text/plain": [
              "        age  height  weight  eyes  ...  ethnicity  gender  hosp_alive  icu_alive\n",
              "0      81.0   165.1   61.70   4.0  ...        1.0       1           0          0\n",
              "1      59.0   180.3   92.30   4.0  ...        1.0       0           0          0\n",
              "2      80.0   170.2  103.30   4.0  ...        1.0       0           0          0\n",
              "3      63.0   183.0  118.00   4.0  ...        1.0       0           0          0\n",
              "4      60.0   165.1   79.90   4.0  ...        1.0       1           0          0\n",
              "...     ...     ...     ...   ...  ...        ...     ...         ...        ...\n",
              "17888  51.0   180.3   59.00   4.0  ...        3.0       0           0          0\n",
              "17889  51.0   170.2   63.05   1.0  ...        0.0       1           1          1\n",
              "17890  66.0   157.5   71.50   4.0  ...        1.0       1           0          0\n",
              "17891  50.0   165.1   59.00   1.0  ...        3.0       1           0          0\n",
              "17892  73.0   177.8  102.00   1.0  ...        3.0       0           0          0\n",
              "\n",
              "[17893 rows x 22 columns]"
            ]
          },
          "metadata": {
            "tags": []
          },
          "execution_count": 5
        }
      ]
    },
    {
      "cell_type": "markdown",
      "metadata": {
        "id": "olohuD2KePGe",
        "colab_type": "text"
      },
      "source": [
        "### Data pre-processing\n",
        "         Dropping any null values, looking for null values, making sure datatype is correct etc."
      ]
    },
    {
      "cell_type": "code",
      "metadata": {
        "id": "SVLLW0eRzuCI",
        "colab_type": "code",
        "colab": {
          "base_uri": "https://localhost:8080/",
          "height": 487
        },
        "outputId": "b2f470d3-3e90-44f2-c7fe-c6efc765f634"
      },
      "source": [
        "icudata = icudata.dropna()\n",
        "icudata = icudata.drop('icu_alive',axis=1)\n",
        "icudata.info()"
      ],
      "execution_count": null,
      "outputs": [
        {
          "output_type": "stream",
          "text": [
            "<class 'pandas.core.frame.DataFrame'>\n",
            "Int64Index: 17764 entries, 0 to 17892\n",
            "Data columns (total 21 columns):\n",
            " #   Column           Non-Null Count  Dtype  \n",
            "---  ------           --------------  -----  \n",
            " 0   age              17764 non-null  float64\n",
            " 1   height           17764 non-null  float64\n",
            " 2   weight           17764 non-null  float64\n",
            " 3   eyes             17764 non-null  float64\n",
            " 4   motor            17764 non-null  float64\n",
            " 5   verbal           17764 non-null  float64\n",
            " 6   GCSTotal         17764 non-null  float64\n",
            " 7   temperature      17764 non-null  float64\n",
            " 8   respiratoryrate  17764 non-null  float64\n",
            " 9   heartrate        17764 non-null  float64\n",
            " 10  glucose          17764 non-null  float64\n",
            " 11  O2               17764 non-null  float64\n",
            " 12  fio2             17764 non-null  float64\n",
            " 13  ph               17764 non-null  float64\n",
            " 14  los              17764 non-null  float64\n",
            " 15  SBP              17764 non-null  float64\n",
            " 16  DBP              17764 non-null  float64\n",
            " 17  MAP              17764 non-null  float64\n",
            " 18  ethnicity        17764 non-null  float64\n",
            " 19  gender           17764 non-null  int64  \n",
            " 20  hosp_alive       17764 non-null  int64  \n",
            "dtypes: float64(19), int64(2)\n",
            "memory usage: 3.0 MB\n"
          ],
          "name": "stdout"
        }
      ]
    },
    {
      "cell_type": "markdown",
      "metadata": {
        "id": "CxjV-G2zedIr",
        "colab_type": "text"
      },
      "source": [
        "### Checking the class imbalance by finding class %"
      ]
    },
    {
      "cell_type": "code",
      "metadata": {
        "id": "MGPnOBETrzQb",
        "colab_type": "code",
        "colab": {
          "base_uri": "https://localhost:8080/",
          "height": 101
        },
        "outputId": "72c0763e-3b5e-49d7-f4a2-0b4c976bd4fe"
      },
      "source": [
        "neg, pos = np.bincount(icudata['hosp_alive'])\n",
        "total = neg + pos\n",
        "print('Examples:\\n    Total: {}\\n    Expired: {} ({:.2f}% of total)\\n   Alive: {} ({:.2f}% of total)\\n'.format(\n",
        "    total, pos, 100 * pos / total,neg,100 * neg/total )) "
      ],
      "execution_count": null,
      "outputs": [
        {
          "output_type": "stream",
          "text": [
            "Examples:\n",
            "    Total: 17764\n",
            "    Expired: 2966 (16.70% of total)\n",
            "   Alive: 14798 (83.30% of total)\n",
            "\n"
          ],
          "name": "stdout"
        }
      ]
    },
    {
      "cell_type": "markdown",
      "metadata": {
        "id": "ckay0E5Xe4TY",
        "colab_type": "text"
      },
      "source": [
        "### Splitting data and resampling to fix the imbalance using SMOTE"
      ]
    },
    {
      "cell_type": "code",
      "metadata": {
        "id": "HpGx55VeR6mp",
        "colab_type": "code",
        "colab": {}
      },
      "source": [
        "x = icudata.drop('hosp_alive',axis=1)\n",
        "y = icudata.hosp_alive"
      ],
      "execution_count": null,
      "outputs": []
    },
    {
      "cell_type": "code",
      "metadata": {
        "id": "V5mZTLoxoZ-l",
        "colab_type": "code",
        "colab": {
          "base_uri": "https://localhost:8080/",
          "height": 70
        },
        "outputId": "f96c9fe6-bea5-4dd1-e5a6-7e8791a3939c"
      },
      "source": [
        "x,y = oversample.fit_resample(x,y)"
      ],
      "execution_count": null,
      "outputs": [
        {
          "output_type": "stream",
          "text": [
            "/usr/local/lib/python3.6/dist-packages/sklearn/utils/deprecation.py:87: FutureWarning: Function safe_indexing is deprecated; safe_indexing is deprecated in version 0.22 and will be removed in version 0.24.\n",
            "  warnings.warn(msg, category=FutureWarning)\n"
          ],
          "name": "stderr"
        }
      ]
    },
    {
      "cell_type": "code",
      "metadata": {
        "id": "x7Hg_aESRTH8",
        "colab_type": "code",
        "colab": {}
      },
      "source": [
        "x_train, x_test, y_train, y_test = train_test_split(x, \n",
        "                                                    y,    #splitting \n",
        "                                                    test_size=0.25, \n",
        "                                                    random_state=0)"
      ],
      "execution_count": null,
      "outputs": []
    },
    {
      "cell_type": "markdown",
      "metadata": {
        "id": "WSK4fU0JfDon",
        "colab_type": "text"
      },
      "source": [
        "### Applying class weight to the model"
      ]
    },
    {
      "cell_type": "code",
      "metadata": {
        "id": "6q28rbLniUrw",
        "colab_type": "code",
        "colab": {}
      },
      "source": [
        "from sklearn.utils import class_weight\n",
        "class_weights = class_weight.compute_class_weight('balanced',np.unique(y_train),  y_train)"
      ],
      "execution_count": null,
      "outputs": []
    },
    {
      "cell_type": "markdown",
      "metadata": {
        "id": "EmXd52pxfMXy",
        "colab_type": "text"
      },
      "source": [
        "### Feature scaling"
      ]
    },
    {
      "cell_type": "code",
      "metadata": {
        "id": "e34Ox4pnRcVi",
        "colab_type": "code",
        "colab": {}
      },
      "source": [
        "x_train = scaler.fit_transform(x_train)\n",
        "x_test = scaler.transform(x_test)"
      ],
      "execution_count": null,
      "outputs": []
    },
    {
      "cell_type": "markdown",
      "metadata": {
        "id": "cfDDLcaWfPFZ",
        "colab_type": "text"
      },
      "source": [
        "### Number of feature output and inputs to be defined here"
      ]
    },
    {
      "cell_type": "code",
      "metadata": {
        "id": "UWPFjc51UF-t",
        "colab_type": "code",
        "colab": {}
      },
      "source": [
        "feature_vector_length = 20\n",
        "num_classes = 1"
      ],
      "execution_count": null,
      "outputs": []
    },
    {
      "cell_type": "code",
      "metadata": {
        "id": "nrzxAimzUNOr",
        "colab_type": "code",
        "colab": {
          "base_uri": "https://localhost:8080/"
        },
        "outputId": "b49f96e3-ff5c-4519-c8d0-9d03c5fa3b42"
      },
      "source": [
        "input_shape = (feature_vector_length,)\n",
        "print(f'Feature shape: {input_shape}')"
      ],
      "execution_count": null,
      "outputs": [
        {
          "output_type": "stream",
          "text": [
            "Feature shape: (20,)\n"
          ],
          "name": "stdout"
        }
      ]
    },
    {
      "cell_type": "markdown",
      "metadata": {
        "id": "no1QbsBGfWFP",
        "colab_type": "text"
      },
      "source": [
        "### Adding layers to our deep learning model"
      ]
    },
    {
      "cell_type": "code",
      "metadata": {
        "id": "Nq-xANtVSxQG",
        "colab_type": "code",
        "colab": {}
      },
      "source": [
        "lrmodel = Sequential()\n",
        "lrmodel.add(Dense(20,input_shape=input_shape,activation='relu'))\n",
        "lrmodel.add(Dense(15,activation='relu'))\n",
        "lrmodel.add(Dense(7,activation='relu'))\n",
        "lrmodel.add(Dense(num_classes,activation='sigmoid'))"
      ],
      "execution_count": null,
      "outputs": []
    },
    {
      "cell_type": "code",
      "metadata": {
        "id": "dNItkPdcVoTt",
        "colab_type": "code",
        "colab": {
          "base_uri": "https://localhost:8080/"
        },
        "outputId": "101d634c-18ab-412c-9088-ac3605bf2886"
      },
      "source": [
        "lrmodel.output_shape"
      ],
      "execution_count": null,
      "outputs": [
        {
          "output_type": "execute_result",
          "data": {
            "text/plain": [
              "(None, 1)"
            ]
          },
          "metadata": {
            "tags": []
          },
          "execution_count": 16
        }
      ]
    },
    {
      "cell_type": "markdown",
      "metadata": {
        "id": "RzYvNKarWTV4",
        "colab_type": "text"
      },
      "source": [
        "### Listing all weight tensors"
      ]
    },
    {
      "cell_type": "code",
      "metadata": {
        "id": "jLhtBn9MWD6j",
        "colab_type": "code",
        "colab": {
          "base_uri": "https://localhost:8080/"
        },
        "outputId": "6dbe993f-36dd-4004-eb76-b79d8029a18d"
      },
      "source": [
        "lrmodel.get_weights()"
      ],
      "execution_count": null,
      "outputs": [
        {
          "output_type": "execute_result",
          "data": {
            "text/plain": [
              "[array([[ 0.20015222,  0.07288244,  0.13850027, -0.3502169 ,  0.05874819,\n",
              "          0.16454452, -0.3674036 , -0.02265301,  0.38578963,  0.24583268,\n",
              "          0.07018438,  0.2699455 , -0.0951575 ,  0.35303205,  0.3785016 ,\n",
              "          0.27899516,  0.09033   , -0.3544802 ,  0.07891607, -0.14947109],\n",
              "        [ 0.08355978, -0.23678032,  0.355327  ,  0.15213823,  0.32592976,\n",
              "          0.11923999,  0.09562972, -0.37724254, -0.22108866,  0.1480655 ,\n",
              "          0.0982925 ,  0.05975348, -0.03056306, -0.26316005, -0.21825053,\n",
              "          0.3026402 , -0.11052495, -0.32350615, -0.11434454,  0.14902085],\n",
              "        [-0.04047629,  0.12718356, -0.16151655,  0.00363502,  0.05883729,\n",
              "          0.14678067,  0.3711692 ,  0.23220623, -0.23272736,  0.0893355 ,\n",
              "          0.27844787,  0.37581807,  0.37187624, -0.24328339,  0.36116934,\n",
              "          0.34238553, -0.02344695, -0.04360271, -0.2559052 , -0.2750102 ],\n",
              "        [ 0.0011766 ,  0.03569877,  0.22344398,  0.01139215,  0.01485941,\n",
              "          0.26740313, -0.21161975,  0.1698395 , -0.32713795, -0.3710603 ,\n",
              "          0.36775422, -0.14305814,  0.08960837, -0.13166535,  0.24163848,\n",
              "          0.27641797,  0.10524407,  0.36693478, -0.08934698, -0.31819665],\n",
              "        [-0.38013348,  0.12237287,  0.10341963, -0.26363593, -0.04751354,\n",
              "          0.21684754, -0.13530692,  0.26838946, -0.2876348 , -0.33517006,\n",
              "          0.11549306,  0.25052047,  0.22740495,  0.06386867, -0.356838  ,\n",
              "         -0.20455535,  0.27346468, -0.29333887, -0.18253773,  0.209418  ],\n",
              "        [ 0.20795906,  0.1831069 , -0.3792665 , -0.16769181,  0.1271925 ,\n",
              "          0.25029176, -0.03139743,  0.15714169,  0.16015786,  0.02332422,\n",
              "          0.383345  , -0.20450954,  0.20033538, -0.13968065, -0.24313408,\n",
              "         -0.02725703,  0.10129592,  0.33896858, -0.30374363, -0.02847719],\n",
              "        [-0.384294  ,  0.09476155,  0.03437296, -0.281421  , -0.04172713,\n",
              "         -0.09404296,  0.2266137 , -0.27339223, -0.10275942, -0.10011148,\n",
              "         -0.24374619, -0.33401877, -0.19639976,  0.19515938,  0.23937207,\n",
              "         -0.00353473,  0.22372836, -0.38689047,  0.35697842, -0.12737969],\n",
              "        [-0.2497644 , -0.08588591,  0.18589276, -0.2561128 ,  0.11525023,\n",
              "          0.26165777,  0.16608107, -0.36458135, -0.02137354,  0.2949658 ,\n",
              "         -0.1166642 ,  0.10755071, -0.2678695 , -0.18426614,  0.17623043,\n",
              "         -0.24295558,  0.2367456 ,  0.13908303,  0.24528182, -0.10557926],\n",
              "        [-0.0674434 ,  0.26886976, -0.11578107, -0.01985523, -0.11766368,\n",
              "         -0.04382387, -0.3359178 ,  0.272281  ,  0.36783928, -0.03532684,\n",
              "         -0.06139758, -0.07026592, -0.14023672, -0.08931419, -0.0364975 ,\n",
              "         -0.14324762, -0.29755118,  0.06855673, -0.32972038,  0.19663101],\n",
              "        [ 0.37570423,  0.2764157 ,  0.1017023 ,  0.36793536, -0.03362963,\n",
              "         -0.3211177 ,  0.32115352, -0.11878172, -0.38383552,  0.1150732 ,\n",
              "          0.05233052,  0.17581517, -0.09069762, -0.28592357, -0.04287639,\n",
              "         -0.01986104,  0.08819613, -0.12660211, -0.35643336, -0.10244048],\n",
              "        [ 0.16661406, -0.3868892 , -0.09859666,  0.10960367,  0.14951664,\n",
              "         -0.06868628,  0.36303365,  0.25768542, -0.34107208,  0.03278354,\n",
              "         -0.03953388, -0.10736769,  0.29722   ,  0.0450578 ,  0.27514112,\n",
              "          0.08603975,  0.02717125,  0.09802121, -0.06288996, -0.26741004],\n",
              "        [ 0.0449132 ,  0.01776227,  0.08457109, -0.03745461,  0.0086939 ,\n",
              "          0.16003239,  0.36002553, -0.29882684,  0.1604178 , -0.1937765 ,\n",
              "         -0.26715627,  0.35473478, -0.3414166 , -0.00715399, -0.00051469,\n",
              "         -0.18608254, -0.30471265, -0.04654288, -0.30334464,  0.3422492 ],\n",
              "        [ 0.098847  , -0.13752306, -0.2303476 ,  0.20482415, -0.13095996,\n",
              "         -0.281585  ,  0.3715152 ,  0.06917399, -0.1608168 ,  0.16060168,\n",
              "         -0.03670728, -0.17001386, -0.3296721 , -0.36459252,  0.1796776 ,\n",
              "          0.17061824,  0.16444886,  0.33773237,  0.15682787,  0.02475336],\n",
              "        [ 0.3369547 , -0.06820187,  0.2724856 ,  0.13064998, -0.16546477,\n",
              "         -0.3452833 ,  0.17101896,  0.2578519 ,  0.22432137, -0.38369703,\n",
              "          0.31421846,  0.12833226,  0.29927933,  0.38240242, -0.13748574,\n",
              "          0.16932559,  0.09022817,  0.21193916, -0.33930278,  0.2855364 ],\n",
              "        [ 0.3356743 ,  0.3111636 ,  0.0090847 , -0.16667451, -0.3218373 ,\n",
              "          0.01423046,  0.29421312, -0.23518349,  0.23762208, -0.2949679 ,\n",
              "         -0.04704651,  0.03075927, -0.06427681, -0.25044662, -0.03907949,\n",
              "          0.19152129,  0.12874365,  0.27074754,  0.03794149,  0.19237238],\n",
              "        [-0.11490199, -0.06892738, -0.26381665,  0.16161454,  0.04275626,\n",
              "          0.16027188,  0.06700662,  0.31536627, -0.07014439, -0.18374644,\n",
              "          0.17728907, -0.24034046,  0.3593614 ,  0.32935673, -0.09222168,\n",
              "         -0.20722699, -0.38493454,  0.37934506, -0.08062202,  0.04453525],\n",
              "        [-0.06490186, -0.24554588, -0.02849901, -0.21527998, -0.3549561 ,\n",
              "          0.2501101 , -0.3076288 , -0.1714104 , -0.27458894,  0.11285836,\n",
              "         -0.19565311,  0.3525961 , -0.13070917, -0.00200063, -0.05266914,\n",
              "          0.10004243, -0.281026  ,  0.05962577, -0.3488356 , -0.03281862],\n",
              "        [ 0.32235336, -0.3255041 ,  0.26938903, -0.09488177, -0.10423121,\n",
              "         -0.31430796, -0.17875293,  0.2591709 , -0.37372845, -0.19368602,\n",
              "         -0.02894491, -0.29343286, -0.14390914, -0.13831255,  0.01068678,\n",
              "          0.07922947, -0.13624111,  0.29049826, -0.38729373, -0.2690317 ],\n",
              "        [ 0.17012733, -0.00963837,  0.0601846 , -0.05685699, -0.37194005,\n",
              "          0.2768374 ,  0.21627522,  0.06973073, -0.11277053, -0.21125972,\n",
              "         -0.12248129,  0.24567378, -0.02278367,  0.3585636 , -0.15037473,\n",
              "         -0.2853095 ,  0.17622036, -0.06332645, -0.24740486, -0.1432214 ],\n",
              "        [-0.02182776, -0.21858157, -0.18622336,  0.12471497, -0.15593982,\n",
              "          0.08531544,  0.37802047,  0.17763829,  0.05668876, -0.05141073,\n",
              "         -0.3464693 , -0.15121113,  0.06574509,  0.21631908, -0.05013433,\n",
              "         -0.36025786, -0.14048678, -0.28309014,  0.23579007,  0.19495642]],\n",
              "       dtype=float32),\n",
              " array([0., 0., 0., 0., 0., 0., 0., 0., 0., 0., 0., 0., 0., 0., 0., 0., 0.,\n",
              "        0., 0., 0.], dtype=float32),\n",
              " array([[ 0.31872925,  0.08384499, -0.2394891 , -0.19029267, -0.26794448,\n",
              "          0.4105697 ,  0.31607017, -0.31167233,  0.30593798, -0.37448516,\n",
              "          0.17294869,  0.3553382 ,  0.06250268,  0.03915182, -0.05710062],\n",
              "        [ 0.33293447, -0.23019896, -0.09153822, -0.40555838,  0.12163565,\n",
              "          0.21024272, -0.1695471 , -0.34623778, -0.18046048, -0.27949423,\n",
              "         -0.338548  , -0.15104192,  0.1978071 , -0.02446023, -0.16374394],\n",
              "        [-0.25303   ,  0.00732267, -0.37431812, -0.29420495, -0.29491895,\n",
              "          0.05855468,  0.29400322,  0.21523157, -0.03040037, -0.14152724,\n",
              "         -0.35705215,  0.25178507,  0.21188584,  0.19663486, -0.02240121],\n",
              "        [-0.18768463, -0.11587751, -0.29587513, -0.35085583, -0.10591659,\n",
              "         -0.06099442,  0.3731437 ,  0.09162596, -0.11091402,  0.39060667,\n",
              "         -0.05556569,  0.09911242,  0.3640075 ,  0.20792249,  0.06811085],\n",
              "        [ 0.11459312, -0.29805207, -0.16794455, -0.13442945,  0.40405354,\n",
              "          0.3013592 , -0.14976436, -0.17324208, -0.3833226 , -0.13276708,\n",
              "          0.01919329,  0.26928553, -0.28363687,  0.1517748 , -0.10476261],\n",
              "        [ 0.08167949,  0.20573857,  0.24101081, -0.4102111 ,  0.3870373 ,\n",
              "          0.18983415, -0.10005501, -0.18248522, -0.22241324, -0.18484569,\n",
              "         -0.1169838 , -0.2078089 , -0.2245514 ,  0.14564058, -0.17081568],\n",
              "        [ 0.03159234,  0.14858076,  0.06902149, -0.01679641,  0.03614703,\n",
              "         -0.0835351 ,  0.10561737,  0.0368036 ,  0.22910216,  0.39388773,\n",
              "         -0.03270251, -0.37519366, -0.22549719, -0.11081609,  0.20030835],\n",
              "        [ 0.03521666,  0.22751638,  0.30887315, -0.14021224,  0.15901968,\n",
              "          0.09028956, -0.20636164, -0.05576441,  0.01141575, -0.05099589,\n",
              "          0.35258678, -0.40154493, -0.3285631 ,  0.07392743,  0.07080171],\n",
              "        [ 0.15515557, -0.33778363, -0.37883186, -0.14257488, -0.35976255,\n",
              "         -0.005584  ,  0.17551193,  0.24275085, -0.13828841, -0.21487065,\n",
              "          0.14807466, -0.4007721 ,  0.1056321 , -0.19171248, -0.23167366],\n",
              "        [ 0.3195772 ,  0.24493805, -0.1028139 ,  0.27722147, -0.37819812,\n",
              "          0.1651071 ,  0.36838803, -0.21073875, -0.06369969,  0.02882034,\n",
              "         -0.25029814,  0.4082199 , -0.18002318,  0.4116831 ,  0.16615257],\n",
              "        [ 0.28149536,  0.07463095, -0.3009528 , -0.27753758,  0.08955434,\n",
              "          0.03976563,  0.2736508 , -0.27946973, -0.33394483,  0.1946002 ,\n",
              "          0.28521404,  0.36724147,  0.19282004,  0.04531407, -0.247239  ],\n",
              "        [-0.06926   , -0.06560332, -0.25950113,  0.39893726, -0.07340196,\n",
              "         -0.11683267,  0.17046455, -0.12484473,  0.3831084 ,  0.3685527 ,\n",
              "         -0.36876446, -0.32636926,  0.08930233,  0.1934453 ,  0.29975185],\n",
              "        [ 0.14384535,  0.07601711,  0.02987018, -0.33004975,  0.2521228 ,\n",
              "          0.23091719, -0.40915602,  0.25679633,  0.04288688,  0.16299114,\n",
              "          0.02379358, -0.03812796, -0.36158258,  0.00328749,  0.39509007],\n",
              "        [-0.10990745, -0.01464275, -0.07582629, -0.2161191 , -0.40722427,\n",
              "         -0.3318281 , -0.21216281,  0.3998045 ,  0.0006907 , -0.13665113,\n",
              "         -0.02276745,  0.21286711,  0.22250149,  0.2839732 ,  0.0401285 ],\n",
              "        [ 0.12598678, -0.02000916, -0.19707525,  0.21459857,  0.0926747 ,\n",
              "          0.08278596,  0.20060351, -0.1586408 ,  0.41341528, -0.10922876,\n",
              "         -0.03102946, -0.2736972 ,  0.12989429,  0.14615408,  0.21285245],\n",
              "        [-0.32351908,  0.26558176, -0.19765599,  0.12537178,  0.36375508,\n",
              "         -0.37752655,  0.32393673,  0.04999602,  0.03802046,  0.15123424,\n",
              "          0.21649167, -0.17769815,  0.33456   ,  0.11191729,  0.09794292],\n",
              "        [-0.11264202,  0.34472153, -0.14860407,  0.01242483, -0.02072918,\n",
              "          0.26196375, -0.20434618, -0.22182795, -0.03498963,  0.4095795 ,\n",
              "          0.21995887,  0.04591298,  0.32785007,  0.15206155, -0.03566867],\n",
              "        [-0.41276345, -0.10894576, -0.24096933, -0.04918489,  0.3364363 ,\n",
              "          0.08327037, -0.3107604 , -0.13695318,  0.4096476 , -0.33795917,\n",
              "         -0.33632433,  0.3513551 ,  0.12755266,  0.31832746,  0.25952443],\n",
              "        [-0.19769084,  0.01959053, -0.310691  , -0.1524738 ,  0.14868316,\n",
              "          0.2564021 ,  0.08863005,  0.18398055,  0.14916429,  0.20339754,\n",
              "         -0.09976125, -0.22861943,  0.26231638, -0.3691202 , -0.14794546],\n",
              "        [-0.22718461, -0.25742447, -0.15659788, -0.1382496 ,  0.24955651,\n",
              "          0.38131323,  0.34612712,  0.05117586, -0.15282482,  0.23010382,\n",
              "          0.12658271,  0.41298655, -0.20851609, -0.12236592, -0.19354384]],\n",
              "       dtype=float32),\n",
              " array([0., 0., 0., 0., 0., 0., 0., 0., 0., 0., 0., 0., 0., 0., 0.],\n",
              "       dtype=float32),\n",
              " array([[-0.43427855,  0.29520655, -0.19238892,  0.18540877,  0.24040908,\n",
              "          0.22264874, -0.40268403],\n",
              "        [-0.47292086, -0.28432104, -0.11633694, -0.26045707, -0.12651476,\n",
              "          0.27517152, -0.14695495],\n",
              "        [-0.35362804,  0.08535498,  0.39398128, -0.46833307, -0.15332302,\n",
              "          0.27461338, -0.24298757],\n",
              "        [ 0.51127285,  0.0909937 ,  0.02256918,  0.14002103,  0.12579638,\n",
              "          0.12702602,  0.1072523 ],\n",
              "        [ 0.190341  ,  0.14940655,  0.372584  ,  0.4051758 , -0.24186897,\n",
              "         -0.31807932,  0.17601484],\n",
              "        [ 0.20035684, -0.09677443,  0.27230185, -0.4680031 ,  0.5121862 ,\n",
              "         -0.1897091 ,  0.1729514 ],\n",
              "        [ 0.19605178, -0.26510477,  0.4642099 ,  0.49916822,  0.4670934 ,\n",
              "          0.0785839 ,  0.29079443],\n",
              "        [-0.5032373 , -0.3800233 , -0.16915846,  0.13589048, -0.03341761,\n",
              "          0.46454597,  0.39891684],\n",
              "        [-0.255456  ,  0.10861397,  0.18096441, -0.45585626, -0.2622032 ,\n",
              "         -0.383089  ,  0.0659827 ],\n",
              "        [-0.48336253, -0.19704634, -0.22082517,  0.00951481, -0.16995758,\n",
              "         -0.076271  ,  0.03430265],\n",
              "        [-0.18020937, -0.44744736,  0.38534975,  0.22809827,  0.39215857,\n",
              "          0.06523776,  0.39025515],\n",
              "        [-0.25267407,  0.4057542 ,  0.4137715 ,  0.3694992 , -0.24843064,\n",
              "         -0.4727722 , -0.0281851 ],\n",
              "        [-0.43016425,  0.2869879 ,  0.01195347, -0.0522916 , -0.34347427,\n",
              "          0.11886251, -0.2690133 ],\n",
              "        [ 0.21551216, -0.23595348,  0.03319937,  0.3119172 , -0.4455253 ,\n",
              "         -0.40583175,  0.29175282],\n",
              "        [ 0.3201508 , -0.11893809,  0.11158252,  0.2226054 , -0.10526726,\n",
              "          0.23453522, -0.32994974]], dtype=float32),\n",
              " array([0., 0., 0., 0., 0., 0., 0.], dtype=float32),\n",
              " array([[0.7856073 ],\n",
              "        [0.5678006 ],\n",
              "        [0.7141834 ],\n",
              "        [0.67013305],\n",
              "        [0.6103851 ],\n",
              "        [0.37147158],\n",
              "        [0.56465083]], dtype=float32),\n",
              " array([0.], dtype=float32)]"
            ]
          },
          "metadata": {
            "tags": []
          },
          "execution_count": 17
        }
      ]
    },
    {
      "cell_type": "markdown",
      "metadata": {
        "id": "jPLnvDZmfc_n",
        "colab_type": "text"
      },
      "source": [
        "### Compiling and validating the model using validation dataset"
      ]
    },
    {
      "cell_type": "code",
      "metadata": {
        "id": "JzGy2PzXWXi9",
        "colab_type": "code",
        "colab": {
          "base_uri": "https://localhost:8080/",
          "height": 1000
        },
        "outputId": "bb5fad79-fa71-40c0-aa6e-01db906a123b"
      },
      "source": [
        "lrmodel.compile(loss='binary_crossentropy', \n",
        "              optimizer='adam', # SGD, RMSProp, Adagrad\n",
        "              metrics=['accuracy'])\n",
        "history = lrmodel.fit(x_train, \n",
        "          y_train, \n",
        "          epochs=30, \n",
        "          batch_size=100, \n",
        "          verbose=1, \n",
        "          validation_split=0.2,class_weight=class_weights)"
      ],
      "execution_count": null,
      "outputs": [
        {
          "output_type": "stream",
          "text": [
            "Train on 17757 samples, validate on 4440 samples\n",
            "Epoch 1/30\n",
            "17757/17757 [==============================] - 1s 35us/step - loss: 0.6783 - accuracy: 0.6037 - val_loss: 0.6305 - val_accuracy: 0.6930\n",
            "Epoch 2/30\n",
            "17757/17757 [==============================] - 0s 16us/step - loss: 0.6171 - accuracy: 0.7050 - val_loss: 0.5992 - val_accuracy: 0.7108\n",
            "Epoch 3/30\n",
            "17757/17757 [==============================] - 0s 16us/step - loss: 0.5924 - accuracy: 0.7246 - val_loss: 0.5845 - val_accuracy: 0.7250\n",
            "Epoch 4/30\n",
            "17757/17757 [==============================] - 0s 16us/step - loss: 0.5758 - accuracy: 0.7342 - val_loss: 0.5685 - val_accuracy: 0.7320\n",
            "Epoch 5/30\n",
            "17757/17757 [==============================] - 0s 15us/step - loss: 0.5625 - accuracy: 0.7396 - val_loss: 0.5550 - val_accuracy: 0.7399\n",
            "Epoch 6/30\n",
            "17757/17757 [==============================] - 0s 16us/step - loss: 0.5500 - accuracy: 0.7479 - val_loss: 0.5455 - val_accuracy: 0.7441\n",
            "Epoch 7/30\n",
            "17757/17757 [==============================] - 0s 16us/step - loss: 0.5393 - accuracy: 0.7531 - val_loss: 0.5341 - val_accuracy: 0.7518\n",
            "Epoch 8/30\n",
            "17757/17757 [==============================] - 0s 17us/step - loss: 0.5275 - accuracy: 0.7595 - val_loss: 0.5246 - val_accuracy: 0.7581\n",
            "Epoch 9/30\n",
            "17757/17757 [==============================] - 0s 16us/step - loss: 0.5157 - accuracy: 0.7657 - val_loss: 0.5154 - val_accuracy: 0.7601\n",
            "Epoch 10/30\n",
            "17757/17757 [==============================] - 0s 15us/step - loss: 0.5064 - accuracy: 0.7695 - val_loss: 0.5069 - val_accuracy: 0.7705\n",
            "Epoch 11/30\n",
            "17757/17757 [==============================] - 0s 17us/step - loss: 0.4981 - accuracy: 0.7761 - val_loss: 0.5008 - val_accuracy: 0.7691\n",
            "Epoch 12/30\n",
            "17757/17757 [==============================] - 0s 16us/step - loss: 0.4901 - accuracy: 0.7801 - val_loss: 0.4926 - val_accuracy: 0.7698\n",
            "Epoch 13/30\n",
            "17757/17757 [==============================] - 0s 16us/step - loss: 0.4827 - accuracy: 0.7817 - val_loss: 0.4891 - val_accuracy: 0.7712\n",
            "Epoch 14/30\n",
            "17757/17757 [==============================] - 0s 15us/step - loss: 0.4768 - accuracy: 0.7849 - val_loss: 0.4858 - val_accuracy: 0.7770\n",
            "Epoch 15/30\n",
            "17757/17757 [==============================] - 0s 16us/step - loss: 0.4716 - accuracy: 0.7848 - val_loss: 0.4822 - val_accuracy: 0.7718\n",
            "Epoch 16/30\n",
            "17757/17757 [==============================] - 0s 16us/step - loss: 0.4662 - accuracy: 0.7876 - val_loss: 0.4778 - val_accuracy: 0.7777\n",
            "Epoch 17/30\n",
            "17757/17757 [==============================] - 0s 15us/step - loss: 0.4614 - accuracy: 0.7915 - val_loss: 0.4748 - val_accuracy: 0.7743\n",
            "Epoch 18/30\n",
            "17757/17757 [==============================] - 0s 15us/step - loss: 0.4570 - accuracy: 0.7943 - val_loss: 0.4680 - val_accuracy: 0.7833\n",
            "Epoch 19/30\n",
            "17757/17757 [==============================] - 0s 16us/step - loss: 0.4544 - accuracy: 0.7936 - val_loss: 0.4664 - val_accuracy: 0.7838\n",
            "Epoch 20/30\n",
            "17757/17757 [==============================] - 0s 16us/step - loss: 0.4509 - accuracy: 0.7962 - val_loss: 0.4623 - val_accuracy: 0.7899\n",
            "Epoch 21/30\n",
            "17757/17757 [==============================] - 0s 16us/step - loss: 0.4467 - accuracy: 0.7986 - val_loss: 0.4611 - val_accuracy: 0.7881\n",
            "Epoch 22/30\n",
            "17757/17757 [==============================] - 0s 16us/step - loss: 0.4439 - accuracy: 0.8006 - val_loss: 0.4581 - val_accuracy: 0.7872\n",
            "Epoch 23/30\n",
            "17757/17757 [==============================] - 0s 18us/step - loss: 0.4407 - accuracy: 0.8030 - val_loss: 0.4549 - val_accuracy: 0.7901\n",
            "Epoch 24/30\n",
            "17757/17757 [==============================] - 0s 15us/step - loss: 0.4380 - accuracy: 0.8025 - val_loss: 0.4561 - val_accuracy: 0.7899\n",
            "Epoch 25/30\n",
            "17757/17757 [==============================] - 0s 16us/step - loss: 0.4350 - accuracy: 0.8040 - val_loss: 0.4572 - val_accuracy: 0.7838\n",
            "Epoch 26/30\n",
            "17757/17757 [==============================] - 0s 16us/step - loss: 0.4335 - accuracy: 0.8067 - val_loss: 0.4522 - val_accuracy: 0.7950\n",
            "Epoch 27/30\n",
            "17757/17757 [==============================] - 0s 15us/step - loss: 0.4304 - accuracy: 0.8076 - val_loss: 0.4576 - val_accuracy: 0.7903\n",
            "Epoch 28/30\n",
            "17757/17757 [==============================] - 0s 16us/step - loss: 0.4296 - accuracy: 0.8068 - val_loss: 0.4505 - val_accuracy: 0.7962\n",
            "Epoch 29/30\n",
            "17757/17757 [==============================] - 0s 17us/step - loss: 0.4269 - accuracy: 0.8062 - val_loss: 0.4489 - val_accuracy: 0.7962\n",
            "Epoch 30/30\n",
            "17757/17757 [==============================] - 0s 16us/step - loss: 0.4242 - accuracy: 0.8115 - val_loss: 0.4487 - val_accuracy: 0.7995\n"
          ],
          "name": "stdout"
        }
      ]
    },
    {
      "cell_type": "markdown",
      "metadata": {
        "id": "pB2zZVADfnhi",
        "colab_type": "text"
      },
      "source": [
        "### Plot of Model Loss on Train and Validation Datasets"
      ]
    },
    {
      "cell_type": "code",
      "metadata": {
        "colab_type": "code",
        "id": "hB5Px1FOWZ73",
        "colab": {
          "base_uri": "https://localhost:8080/"
        },
        "outputId": "148c5cb7-5ce2-4b85-bbdf-ce54b5d940c8"
      },
      "source": [
        "plt.figure(1)\n",
        "plt.plot(history.history['loss'])\n",
        "plt.plot(history.history['val_loss'])\n",
        "plt.title('model loss')\n",
        "plt.ylabel('loss')\n",
        "plt.xlabel('epoch')\n",
        "plt.legend(['train_loss', 'val_loss'], loc='upper left')\n",
        "plt.grid()"
      ],
      "execution_count": null,
      "outputs": [
        {
          "output_type": "display_data",
          "data": {
            "image/png": "[encoded data removed]",
            "text/plain": [
              "<Figure size 432x288 with 1 Axes>"
            ]
          },
          "metadata": {
            "tags": [],
            "needs_background": "light"
          }
        }
      ]
    },
    {
      "cell_type": "markdown",
      "metadata": {
        "id": "tw6OPhqtf2qu",
        "colab_type": "text"
      },
      "source": [
        "### Plot of Model Accuracy on Train and Validation Datasets"
      ]
    },
    {
      "cell_type": "code",
      "metadata": {
        "id": "gZvgzkcvWHbZ",
        "colab_type": "code",
        "colab": {
          "base_uri": "https://localhost:8080/"
        },
        "outputId": "d848c5ce-05c6-4fd3-85a6-955b79a47482"
      },
      "source": [
        "plt.figure(2)\n",
        "plt.plot(history.history['accuracy'])\n",
        "plt.plot(history.history['val_accuracy'])\n",
        "plt.title('model accuracy')\n",
        "plt.ylabel('accuracy')\n",
        "plt.xlabel('epoch')\n",
        "plt.legend(['train_acc', 'val_acc'], loc='upper left')\n",
        "plt.grid()"
      ],
      "execution_count": null,
      "outputs": [
        {
          "output_type": "display_data",
          "data": {
            "image/png": "[encoded data removed]",
            "text/plain": [
              "<Figure size 432x288 with 1 Axes>"
            ]
          },
          "metadata": {
            "tags": [],
            "needs_background": "light"
          }
        }
      ]
    },
    {
      "cell_type": "code",
      "metadata": {
        "id": "Cj3IG8h0WXev",
        "colab_type": "code",
        "colab": {
          "base_uri": "https://localhost:8080/"
        },
        "outputId": "7265b5a9-5781-4377-c0f7-1aa29e5c7f2c"
      },
      "source": [
        "plt.plot(history.history['accuracy'],label='acc')\n",
        "\n",
        "plt.ylabel('accuracy')\n",
        "plt.xlabel('epoch')\n",
        "\n",
        "plt.plot(history.history['loss'],label='loss')\n",
        "\n",
        "plt.plot(history.history['val_accuracy'],label='val_acc')\n",
        "plt.plot(history.history['val_loss'],label='val_loss')\n",
        "plt.legend()\n",
        "\n",
        "\n",
        "plt.title('loss')\n",
        "plt.xlabel('epoch')"
      ],
      "execution_count": null,
      "outputs": [
        {
          "output_type": "execute_result",
          "data": {
            "text/plain": [
              "Text(0.5, 0, 'epoch')"
            ]
          },
          "metadata": {
            "tags": []
          },
          "execution_count": 21
        },
        {
          "output_type": "display_data",
          "data": {
            "image/png": "[encoded data removed]",
            "text/plain": [
              "<Figure size 432x288 with 1 Axes>"
            ]
          },
          "metadata": {
            "tags": [],
            "needs_background": "light"
          }
        }
      ]
    },
    {
      "cell_type": "markdown",
      "metadata": {
        "id": "fusRUXRKf8C0",
        "colab_type": "text"
      },
      "source": [
        "### Model evaluation results"
      ]
    },
    {
      "cell_type": "code",
      "metadata": {
        "id": "e1x8_LvoYhbO",
        "colab_type": "code",
        "colab": {
          "base_uri": "https://localhost:8080/"
        },
        "outputId": "e75dffba-7b9f-46f9-b6f2-dbf3f960878a"
      },
      "source": [
        "test_results = lrmodel.evaluate(x_test, y_test, verbose=1)\n",
        "print(f'Test results - Loss: {test_results[0]} - Accuracy: {test_results[1]}%')"
      ],
      "execution_count": null,
      "outputs": [
        {
          "output_type": "stream",
          "text": [
            "7399/7399 [==============================] - 0s 18us/step\n",
            "Test results - Loss: 0.4516208687252669 - Accuracy: 0.7984862923622131%\n"
          ],
          "name": "stdout"
        }
      ]
    },
    {
      "cell_type": "code",
      "metadata": {
        "id": "ekKu4zrkdvzc",
        "colab_type": "code",
        "colab": {
          "base_uri": "https://localhost:8080/"
        },
        "outputId": "41caa87e-a99a-4791-f47a-2ba7981ad288"
      },
      "source": [
        "lrmodel.summary()"
      ],
      "execution_count": null,
      "outputs": [
        {
          "output_type": "stream",
          "text": [
            "Model: \"sequential_1\"\n",
            "_________________________________________________________________\n",
            "Layer (type)                 Output Shape              Param #   \n",
            "=================================================================\n",
            "dense_1 (Dense)              (None, 20)                420       \n",
            "_________________________________________________________________\n",
            "dense_2 (Dense)              (None, 15)                315       \n",
            "_________________________________________________________________\n",
            "dense_3 (Dense)              (None, 7)                 112       \n",
            "_________________________________________________________________\n",
            "dense_4 (Dense)              (None, 1)                 8         \n",
            "=================================================================\n",
            "Total params: 855\n",
            "Trainable params: 855\n",
            "Non-trainable params: 0\n",
            "_________________________________________________________________\n"
          ],
          "name": "stdout"
        }
      ]
    },
    {
      "cell_type": "code",
      "metadata": {
        "id": "03tKPoKMbQoy",
        "colab_type": "code",
        "colab": {}
      },
      "source": [
        "probs = lrmodel.predict(x_test)\n",
        "classes = lrmodel.predict_classes(x_test)"
      ],
      "execution_count": null,
      "outputs": []
    },
    {
      "cell_type": "code",
      "metadata": {
        "id": "khmeINlDlbIo",
        "colab_type": "code",
        "colab": {}
      },
      "source": [
        "probs = probs[:, 0]\n",
        "classes = classes[:, 0]"
      ],
      "execution_count": null,
      "outputs": []
    },
    {
      "cell_type": "code",
      "metadata": {
        "id": "9p3RXdDJmFeN",
        "colab_type": "code",
        "colab": {
          "base_uri": "https://localhost:8080/"
        },
        "outputId": "90ce0bc3-d4ad-4f1b-af5f-a00b73c49962"
      },
      "source": [
        "# accuracy: (tp + tn) / (p + n)\n",
        "accuracy = accuracy_score(y_test, classes)\n",
        "print('Accuracy: %f' % accuracy)\n",
        "# precision tp / (tp + fp)\n",
        "precision = precision_score(y_test, classes)\n",
        "print('Precision: %f' % precision)\n",
        "# recall: tp / (tp + fn)\n",
        "recall = recall_score(y_test,classes)\n",
        "print('Recall: %f' % recall)\n",
        "# f1: 2 tp / (2 tp + fp + fn)\n",
        "f1 = f1_score(y_test, classes)\n",
        "print('F1 score: %f' % f1)"
      ],
      "execution_count": null,
      "outputs": [
        {
          "output_type": "stream",
          "text": [
            "Accuracy: 0.798486\n",
            "Precision: 0.778171\n",
            "Recall: 0.834010\n",
            "F1 score: 0.805124\n"
          ],
          "name": "stdout"
        }
      ]
    },
    {
      "cell_type": "code",
      "metadata": {
        "id": "ZnYg7k8SjSPS",
        "colab_type": "code",
        "colab": {
          "base_uri": "https://localhost:8080/"
        },
        "outputId": "397ac71a-0d5d-4046-f8d6-ff4065756aee"
      },
      "source": [
        "# ROC AUC\n",
        "auc = roc_auc_score(y_test, probs)\n",
        "print('ROC AUC: %f' % auc)\n",
        "# confusion matrix\n",
        "matrix = confusion_matrix(y_test, classes)\n",
        "print(matrix)"
      ],
      "execution_count": null,
      "outputs": [
        {
          "output_type": "stream",
          "text": [
            "ROC AUC: 0.874544\n",
            "[[2828  878]\n",
            " [ 613 3080]]\n"
          ],
          "name": "stdout"
        }
      ]
    },
    {
      "cell_type": "markdown",
      "metadata": {
        "id": "IOdgrd00gCop",
        "colab_type": "text"
      },
      "source": [
        "### Confusion Matrix"
      ]
    },
    {
      "cell_type": "code",
      "metadata": {
        "id": "ZZziLuJGbEG6",
        "colab_type": "code",
        "colab": {
          "base_uri": "https://localhost:8080/"
        },
        "outputId": "4f15bfec-bd4e-44a8-fb62-a911c84949c2"
      },
      "source": [
        "cm = matrix\n",
        "plt.figure(figsize=(9,9))\n",
        "sns.heatmap(cm, annot=True, fmt=\".3f\", linewidths=.5, \n",
        "            square = True, cmap = 'Blues_r');\n",
        "plt.ylabel('Actual label');\n",
        "plt.xlabel('Predicted label');\n",
        "all_sample_title = 'Accuracy Score: {0}'.format(accuracy)\n",
        "plt.title(all_sample_title, size = 15);"
      ],
      "execution_count": null,
      "outputs": [
        {
          "output_type": "display_data",
          "data": {
            "image/png": "[encoded data removed]",
            "text/plain": [
              "<Figure size 648x648 with 2 Axes>"
            ]
          },
          "metadata": {
            "tags": [],
            "needs_background": "light"
          }
        }
      ]
    },
    {
      "cell_type": "markdown",
      "metadata": {
        "id": "5daNjkTUgG7l",
        "colab_type": "text"
      },
      "source": [
        "### ROC Curve"
      ]
    },
    {
      "cell_type": "code",
      "metadata": {
        "id": "UpfvsstXcFnT",
        "colab_type": "code",
        "colab": {}
      },
      "source": [
        "from sklearn.metrics import roc_curve\n",
        "from sklearn.metrics import precision_recall_curve\n",
        "fpr_keras, tpr_keras, thresholds_keras = roc_curve(y_test, probs)\n",
        "precision, recall, _ = metrics.precision_recall_curve(y_test, probs)"
      ],
      "execution_count": null,
      "outputs": []
    },
    {
      "cell_type": "code",
      "metadata": {
        "id": "m8_vkexHbVFD",
        "colab_type": "code",
        "colab": {
          "base_uri": "https://localhost:8080/"
        },
        "outputId": "9789af60-3db0-46a9-97d0-1a6fb1b43a0e"
      },
      "source": [
        "plt.figure(figsize=(12,9))\n",
        "plt.plot(fpr_keras, tpr_keras, marker='+', label='Deep Learning classifier')\n",
        "plt.grid()\n",
        "plt.ylabel('True Positive Rate')\n",
        "plt.xlabel('False Positive Rate')\n",
        "plt.legend()\n",
        "plt.title(f'ROC Curve, AUC = {auc:.3f}')"
      ],
      "execution_count": null,
      "outputs": [
        {
          "output_type": "execute_result",
          "data": {
            "text/plain": [
              "Text(0.5, 1.0, 'ROC Curve, AUC = 0.875')"
            ]
          },
          "metadata": {
            "tags": []
          },
          "execution_count": 30
        },
        {
          "output_type": "display_data",
          "data": {
            "image/png": "[encoded data removed]",
            "text/plain": [
              "<Figure size 864x648 with 1 Axes>"
            ]
          },
          "metadata": {
            "tags": [],
            "needs_background": "light"
          }
        }
      ]
    },
    {
      "cell_type": "markdown",
      "metadata": {
        "id": "w4139zjBgJuV",
        "colab_type": "text"
      },
      "source": [
        "### Precision Recall Curve"
      ]
    },
    {
      "cell_type": "code",
      "metadata": {
        "id": "OvdSMNOtdHFW",
        "colab_type": "code",
        "colab": {
          "base_uri": "https://localhost:8080/"
        },
        "outputId": "8b36dd7f-a48f-4f29-c635-469ad2161625"
      },
      "source": [
        "plt.figure(figsize=(12,9))\n",
        "plt.plot(recall, precision, marker='.', label='Keras classifier')\n",
        "plt.grid()\n",
        "plt.legend()\n",
        "plt.ylabel('Precision')\n",
        "plt.xlabel('Recall')\n",
        "plt.title(f'Precision-Recall curve')"
      ],
      "execution_count": null,
      "outputs": [
        {
          "output_type": "execute_result",
          "data": {
            "text/plain": [
              "Text(0.5, 1.0, 'Precision-Recall curve')"
            ]
          },
          "metadata": {
            "tags": []
          },
          "execution_count": 31
        },
        {
          "output_type": "display_data",
          "data": {
            "image/png": "[encoded data removed]",
            "text/plain": [
              "<Figure size 864x648 with 1 Axes>"
            ]
          },
          "metadata": {
            "tags": [],
            "needs_background": "light"
          }
        }
      ]
    },
    {
      "cell_type": "markdown",
      "metadata": {
        "id": "H1ztQdmhgQPw",
        "colab_type": "text"
      },
      "source": [
        "### Plotting the Keras model"
      ]
    },
    {
      "cell_type": "code",
      "metadata": {
        "id": "V-D4otxPU8MG",
        "colab_type": "code",
        "colab": {
          "base_uri": "https://localhost:8080/"
        },
        "outputId": "849631e5-c496-40a3-dd65-bd7d8f763978"
      },
      "source": [
        "from keras.utils.vis_utils import plot_model\n",
        "plot_model(lrmodel, to_file='model.png', show_shapes=True)"
      ],
      "execution_count": null,
      "outputs": [
        {
          "output_type": "execute_result",
          "data": {
            "image/png": "[encoded data removed]",
            "text/plain": [
              "<IPython.core.display.Image object>"
            ]
          },
          "metadata": {
            "tags": []
          },
          "execution_count": 32
        }
      ]
    }
  ]
}
{
  "nbformat": 4,
  "nbformat_minor": 0,
  "metadata": {
    "colab": {
      "name": "Plots.ipynb",
      "provenance": [],
      "authorship_tag": "ABX9TyMj2Rv9ueU7vq2wMXU1dmwe",
      "include_colab_link": true
    },
    "kernelspec": {
      "name": "python3",
      "display_name": "Python 3"
    }
  },
  "cells": [
    {
      "cell_type": "markdown",
      "metadata": {
        "id": "view-in-github",
        "colab_type": "text"
      },
      "source": [
        "<a href=\"https://colab.research.google.com/github/sumaiya08/medicaldata/blob/master/Plots.ipynb\" target=\"_parent\"><img src=\"https://colab.research.google.com/assets/colab-badge.svg\" alt=\"Open In Colab\"/></a>"
      ]
    },
    {
      "cell_type": "code",
      "metadata": {
        "id": "2xE3MfvqUOc8",
        "colab_type": "code",
        "colab": {}
      },
      "source": [
        "import os\n",
        "import numpy as np\n",
        "import pandas as pd\n",
        "import matplotlib.pyplot as plt\n",
        "import seaborn as sns\n",
        "\n",
        "# Access data using Google BigQuery.\n",
        "from google.colab import auth\n",
        "from google.cloud import bigquery"
      ],
      "execution_count": 0,
      "outputs": []
    },
    {
      "cell_type": "code",
      "metadata": {
        "id": "zUIoyRGJUliZ",
        "colab_type": "code",
        "outputId": "11d2d571-a166-427e-f102-f992dd8875f0",
        "colab": {
          "base_uri": "https://localhost:8080/",
          "height": 34
        }
      },
      "source": [
        "auth.authenticate_user()\n",
        "print('Authenticated')"
      ],
      "execution_count": 74,
      "outputs": [
        {
          "output_type": "stream",
          "text": [
            "Authenticated\n"
          ],
          "name": "stdout"
        }
      ]
    },
    {
      "cell_type": "code",
      "metadata": {
        "id": "-bXGFBIpUns_",
        "colab_type": "code",
        "colab": {}
      },
      "source": [
        "project_id='eicudata'"
      ],
      "execution_count": 0,
      "outputs": []
    },
    {
      "cell_type": "markdown",
      "metadata": {
        "id": "IMamUZ2hYCXD",
        "colab_type": "text"
      },
      "source": [
        "Frequency of hospital admission"
      ]
    },
    {
      "cell_type": "code",
      "metadata": {
        "id": "4u7iOPniYE5C",
        "colab_type": "code",
        "colab": {}
      },
      "source": [
        "%%bigquery --project $project_id freq\n",
        "select uniquepid, count(patienthealthsystemstayid) as numvisit\n",
        "from `physionet-data.eicu_crd.patient` \n",
        "group by uniquepid\n",
        "order by uniquepid"
      ],
      "execution_count": 0,
      "outputs": []
    },
    {
      "cell_type": "code",
      "metadata": {
        "id": "l-xXh4mCYMOp",
        "colab_type": "code",
        "outputId": "e2a9a405-b913-41ec-fdb6-647ff184f18b",
        "colab": {
          "base_uri": "https://localhost:8080/",
          "height": 34
        }
      },
      "source": [
        "freq\n",
        "print('Total number of patients -', len(freq))"
      ],
      "execution_count": 77,
      "outputs": [
        {
          "output_type": "stream",
          "text": [
            "Total number of patients - 139367\n"
          ],
          "name": "stdout"
        }
      ]
    },
    {
      "cell_type": "code",
      "metadata": {
        "id": "MhCVpSi3Y7Gj",
        "colab_type": "code",
        "outputId": "386ac3d8-f63c-4036-bba1-20e478ccaae5",
        "colab": {
          "base_uri": "https://localhost:8080/",
          "height": 264
        }
      },
      "source": [
        "a=freq.numvisit[freq.numvisit==1].count()\n",
        "b=freq.numvisit[freq.numvisit==2].count()\n",
        "c=freq.numvisit[freq.numvisit==3].count()\n",
        "d=freq.numvisit[freq.numvisit>=4].count()\n",
        "visits = [a,b,c,d]\n",
        "\n",
        "\n",
        "labels = '1','2','3','4 or more'\n",
        "plt.pie(visits,autopct='%1.0f%%')\n",
        "plt.title('Frequency of patient visits')\n",
        "plt.legend(labels,title='Number of visits', loc =\"lower right\")\n",
        "plt.text(1.5,0.5,'Total number of patients = 139367 ',bbox=dict(facecolor='grey',alpha=0.5))\n",
        "plt.axis('equal')\n",
        "plt.show()"
      ],
      "execution_count": 78,
      "outputs": [
        {
          "output_type": "display_data",
          "data": {
            "image/png": "[encoded data removed]",
            "text/plain": [
              "<Figure size 432x288 with 1 Axes>"
            ]
          },
          "metadata": {
            "tags": []
          }
        }
      ]
    },
    {
      "cell_type": "code",
      "metadata": {
        "id": "Hb1gpMBKZTWZ",
        "colab_type": "code",
        "colab": {}
      },
      "source": [
        "%%bigquery --project $project_id patient\n",
        "select * from `physionet-data.eicu_crd.patient`;\n",
        "\n"
      ],
      "execution_count": 0,
      "outputs": []
    },
    {
      "cell_type": "code",
      "metadata": {
        "id": "70ChzG06r5cW",
        "colab_type": "code",
        "outputId": "b19d9a5b-74eb-4164-a3c3-03d05fec7653",
        "colab": {
          "base_uri": "https://localhost:8080/",
          "height": 346
        }
      },
      "source": [
        "ages=[\"15-19\",\"20-24\",\"25-29\",\"30-34\",\"35-39\",\"40-44\",\"45-49\",\"50-54\",\"55-59\",\"60-64\",\"65-69\",\"70-74\",\"75-79\",\"80-84\",\"85+\"]\n",
        "alive = patient[(patient.unitdischargestatus=='Alive')]\n",
        "#alive.dtypes\n",
        "#alive['age'] = pd.to_numeric(alive['age'])\n",
        "#alive.astype({\"age\":int})df[\"a\"] = pd.to_numeric(df[\"a\"])\n",
        "a1 = alive.age[(alive.age>='15') & (alive.age<'20')].count()\n",
        "a2 = alive.age[(alive.age>='20') & (alive.age<'25')].count()\n",
        "a3 = alive.age[(alive.age>='25') & (alive.age<'30')].count()\n",
        "a4 = alive.age[(alive.age>='30') & (alive.age<'35')].count()\n",
        "a5 = alive.age[(alive.age>='35') & (alive.age<'40')].count()\n",
        "a6 = alive.age[(alive.age>='40') & (alive.age<'45')].count()\n",
        "a7 = alive.age[(alive.age>='45') & (alive.age<'50')].count()\n",
        "a8 = alive.age[(alive.age>='50') & (alive.age<'55')].count()\n",
        "a9 = alive.age[(alive.age>='55') & (alive.age<'60')].count()\n",
        "a10 = alive.age[(alive.age>='60') & (alive.age<'65')].count()\n",
        "a11 = alive.age[(alive.age>='65') & (alive.age<'70')].count()\n",
        "a12 = alive.age[(alive.age>='70') & (alive.age<'75')].count()\n",
        "a13 = alive.age[(alive.age>='75') & (alive.age<'80')].count()\n",
        "a14 = alive.age[(alive.age>='80') & (alive.age<'85')].count()\n",
        "a15 = alive.age[(alive.age>='85') & (alive.age=='> 89')].count()\n",
        "print(a1,a2,a3,a4,a5,a6,a7,a8,a9,a10,a11,a12,a13,a14,a15)\n",
        "values = [a1,a2,a3,a4,a5,a6,a7,a8,a9,a10,a11,a12,a13,a14,a15]\n",
        "\n",
        "#a=freq.numvisit[freq.numvisit==1].count()\n",
        "#alive = alive.set_index(\"unitdischargestatus\")\n",
        "#alive = alive.drop(\"Expired\", axis=0)\n",
        "expired = patient[patient.unitdischargestatus=='Expired']\n",
        "e1 = expired.age[(expired.age>='15') & (expired.age<'20')].count()\n",
        "e2 = expired.age[(expired.age>='20') & (expired.age<'25')].count()\n",
        "e3 = expired.age[(expired.age>='25') & (expired.age<'30')].count()\n",
        "e4 = expired.age[(expired.age>='30') & (expired.age<'35')].count()\n",
        "e5 = expired.age[(expired.age>='35') & (expired.age<'40')].count()\n",
        "e6 = expired.age[(expired.age>='40') & (expired.age<'45')].count()\n",
        "e7 = expired.age[(expired.age>='45') & (expired.age<'50')].count()\n",
        "e8 = expired.age[(expired.age>='50') & (expired.age<'55')].count()\n",
        "e9 = expired.age[(expired.age>='55') & (expired.age<'60')].count()\n",
        "e10 = expired.age[(expired.age>='60') & (expired.age<'65')].count()\n",
        "e11 = expired.age[(expired.age>='65') & (expired.age<'70')].count()\n",
        "e12 = expired.age[(expired.age>='70') & (expired.age<'75')].count()\n",
        "e13 = expired.age[(expired.age>='75') & (expired.age<'80')].count()\n",
        "e14 = expired.age[(expired.age>='80') & (expired.age<'85')].count()\n",
        "e15 = expired.age[(expired.age>='85') & (expired.age=='> 89')].count()\n",
        "print(e1,e2,e3,e4,e5,e6,e7,e8,e9,e10,e11,e12,e13,e14,e15)\n",
        "values1 = [e1,e2,e3,e4,e5,e6,e7,e8,e9,e10,e11,e12,e13,e14,e15]\n",
        "\n",
        "#print(alive)\n",
        "#zero = alive.groupby('uniquepid')\n",
        "#len(zero.count())\n",
        "#zero1 = expired.groupby('uniquepid')\n",
        "#len(zero1.count())\n",
        "#zero = alive.unitdischargestatus.count()\n",
        "\n",
        "#zero1=expired.unitdischargestatus.count()\n",
        "#values = [zero,zero1]\n",
        "N=15\n",
        "ind = np.arange(N)\n",
        "#index = np.arange(len(ages))\n",
        "#score_label = np.arange(0,12500,2500)\n",
        "width = 0.75\n",
        "p1 = plt.bar(ages,values1,width,color=\"red\",label=\"Expired\")\n",
        "p2 = plt.bar(ages,values,width,color=\"blue\",label=\"Alive\",bottom=values1)\n",
        "plt.xlabel('Age')\n",
        "plt.ylabel('Frequency of ICU admission')\n",
        "plt.title('Patients ICU admission frequencies among different age group')\n",
        "plt.xticks(ind, ages,rotation =45)\n",
        "#plt.set_xticklabels(ages, rotation = 45, ha=\"right\")\n",
        "plt.yticks(np.arange(0, 25000, 2500))\n",
        "plt.legend((p1[0], p2[0]), ('Expired', 'Alive'))\n",
        "plt.show()\n"
      ],
      "execution_count": 80,
      "outputs": [
        {
          "output_type": "stream",
          "text": [
            "1628 3933 4553 5164 5832 7270 10460 15532 18709 20398 22222 21242 19058 15833 6437\n",
            "35 92 108 148 191 217 394 677 878 1145 1307 1350 1406 1319 644\n"
          ],
          "name": "stdout"
        },
        {
          "output_type": "display_data",
          "data": {
            "image/png": "[encoded data removed]",
            "text/plain": [
              "<Figure size 432x288 with 1 Axes>"
            ]
          },
          "metadata": {
            "tags": [],
            "needs_background": "light"
          }
        }
      ]
    },
    {
      "cell_type": "code",
      "metadata": {
        "id": "lrc5qJcIoKqy",
        "colab_type": "code",
        "colab": {
          "base_uri": "https://localhost:8080/",
          "height": 121
        },
        "outputId": "3dada8ed-fbed-4171-f17c-f6750bde81b7"
      },
      "source": [
        "expired\n",
        "female = expired[(expired.gender=='Female')]\n",
        "print(len(female))\n",
        "male = expired[(expired.gender=='Male')]\n",
        "f1 = female.age[(female.age>='15')&(female.age<'20')].count()\n",
        "f2 = female.age[(female.age>='20')&(female.age<'25')].count()\n",
        "f3 = female.age[(female.age>='25')&(female.age<'30')].count()\n",
        "f4 = female.age[(female.age>='30')&(female.age<'35')].count()\n",
        "f5 = female.age[(female.age>='35')&(female.age<'40')].count()\n",
        "f6 = female.age[(female.age>='40')&(female.age<'45')].count()\n",
        "f7 = female.age[(female.age>='45')&(female.age<'50')].count()\n",
        "f8 = female.age[(female.age>='50')&(female.age<'55')].count()\n",
        "f9 = female.age[(female.age>='55')&(female.age<'60')].count()\n",
        "f10 = female.age[(female.age>='60')&(female.age<'65')].count()\n",
        "f11 = female.age[(female.age>='65')&(female.age<'70')].count()\n",
        "f12 = female.age[(female.age>='70')&(female.age<'75')].count()\n",
        "f13 = female.age[(female.age>='75')&(female.age<'80')].count()\n",
        "f14 = female.age[(female.age>='80')&(female.age<'85')].count()\n",
        "f15 = female.age[(female.age>='85')&(female.age=='> 89')].count()\n",
        "\n",
        "print(f1,f2,f3,f4,f5,f6,f7,f8,f9,f10,f11,f12,f13,f14,f15)\n",
        "mor_fem = [f1/len(female),f2/len(female),f3/len(female),f4/len(female),f5/len(female),f6/len(female),f7/len(female),f8/len(female),f9/len(female),f10/len(female),f11/len(female),f12/len(female),f13/len(female),f14/len(female),f15/len(female)]\n",
        "print(mor_fem)\n",
        "\n",
        "m1 = male.age[(male.age>='15')&(male.age<'20')].count()\n",
        "m2 = male.age[(male.age>='20')&(male.age<'25')].count()\n",
        "m3 = male.age[(male.age>='25')&(male.age<'30')].count()\n",
        "m4 = male.age[(male.age>='30')&(male.age<'35')].count()\n",
        "m5 = male.age[(male.age>='35')&(male.age<'40')].count()\n",
        "m6 = male.age[(male.age>='40')&(male.age<'45')].count()\n",
        "m7 = male.age[(male.age>='45')&(male.age<'50')].count()\n",
        "m8 = male.age[(male.age>='50')&(male.age<'55')].count()\n",
        "m9 = male.age[(male.age>='55')&(male.age<'60')].count()\n",
        "m10 = male.age[(male.age>='60')&(male.age<'65')].count()\n",
        "m11 = male.age[(male.age>='65')&(male.age<'70')].count()\n",
        "m12 = male.age[(male.age>='70')&(male.age<'75')].count()\n",
        "m13 = male.age[(male.age>='75')&(male.age<'80')].count()\n",
        "m14 = male.age[(male.age>='80')&(male.age<'85')].count()\n",
        "m15 = male.age[(male.age>='85')&(male.age=='> 89')].count()\n",
        "\n",
        "print(m1,m2,m3,m4,m5,m6,m7,m8,m9,m10,m11,m12,m13,m14,m15)\n",
        "mor_male = [m1/len(male),m2/len(male),m3/len(male),m4/len(male),m5/len(male),m6/len(male),m7/len(male),m8/len(male),m9/len(male),m10/len(male),m11/len(male),m12/len(male),m13/len(male),m14/len(male),m15/len(male)]\n",
        "print(mor_male)\n"
      ],
      "execution_count": 81,
      "outputs": [
        {
          "output_type": "stream",
          "text": [
            "4965\n",
            "12 30 45 56 76 99 156 297 383 472 626 573 640 633 366\n",
            "[0.002416918429003021, 0.006042296072507553, 0.00906344410876133, 0.011278952668680765, 0.015307150050352467, 0.019939577039274924, 0.03141993957703928, 0.05981873111782477, 0.0771399798590131, 0.09506545820745217, 0.12608257804632428, 0.11540785498489425, 0.12890231621349446, 0.12749244712990937, 0.07371601208459215]\n",
            "23 62 63 92 115 118 238 380 495 673 681 777 765 685 266\n",
            "[0.003883167313861219, 0.010467668411278068, 0.010636501772750296, 0.015532669255444876, 0.019415836569306094, 0.019922336653722776, 0.04018234003039001, 0.06415667735944623, 0.08357251392875233, 0.11362485227080871, 0.11497551916258653, 0.13118352186392032, 0.1291575215262536, 0.11565085260847544, 0.04490967415161236]\n"
          ],
          "name": "stdout"
        }
      ]
    },
    {
      "cell_type": "code",
      "metadata": {
        "id": "gE48vmt5MOYg",
        "colab_type": "code",
        "colab": {
          "base_uri": "https://localhost:8080/",
          "height": 313
        },
        "outputId": "604d2ddc-8bda-4ffc-b201-63631803e65c"
      },
      "source": [
        "N=15\n",
        "ind = np.arange(N)\n",
        "#index = np.arange(len(ages))\n",
        "#score_label = np.arange(0,12500,2500)\n",
        "width = 0.4\n",
        "p1 = plt.bar(ind,mor_fem,width,color=\"red\",label=\"Female\")\n",
        "p2 = plt.bar(ind+width,mor_male,width,color=\"blue\",label=\"Male\")\n",
        "plt.xlabel('Age')\n",
        "plt.ylabel('Unit Mortality Rate')\n",
        "plt.title('Patients ICU mortality rate per age group and gender')\n",
        "plt.xticks(ind + width/2, ages,rotation =45)\n",
        "#plt.set_xticklabels(ages, rotation = 45, ha=\"right\")\n",
        "plt.yticks(np.arange(0.0, 0.005))\n",
        "plt.legend((p1[0], p2[0]), ('Female', 'Male'))\n",
        "plt.show()"
      ],
      "execution_count": 82,
      "outputs": [
        {
          "output_type": "display_data",
          "data": {
            "image/png": "[encoded data removed]",
            "text/plain": [
              "<Figure size 432x288 with 1 Axes>"
            ]
          },
          "metadata": {
            "tags": [],
            "needs_background": "light"
          }
        }
      ]
    },
    {
      "cell_type": "code",
      "metadata": {
        "id": "J4jDS-FZQGz9",
        "colab_type": "code",
        "colab": {
          "base_uri": "https://localhost:8080/",
          "height": 502
        },
        "outputId": "3fa6cd92-5f02-4310-b12f-9af9c7011366"
      },
      "source": [
        "#expired.boxplot(column='age',by='gender')\n",
        "expired['age'].replace({'> 89': '90'}, inplace=True)\n",
        "expired['age'] = pd.to_numeric(expired['age'])\n",
        "#print(expired)\n",
        "#expired.dtypes\n",
        "#expired.drop(expired.age=='> 89')\n",
        "#expired['age'] = pd.to_numeric(expired['age'])\n",
        "\n",
        "expired.boxplot(column='age',by='gender',patch_artist = True, grid = False)\n",
        "#bp.ylabel('Age')"
      ],
      "execution_count": 83,
      "outputs": [
        {
          "output_type": "stream",
          "text": [
            "/usr/local/lib/python3.6/dist-packages/pandas/core/generic.py:6746: SettingWithCopyWarning: \n",
            "A value is trying to be set on a copy of a slice from a DataFrame\n",
            "\n",
            "See the caveats in the documentation: https://pandas.pydata.org/pandas-docs/stable/user_guide/indexing.html#returning-a-view-versus-a-copy\n",
            "  self._update_inplace(new_data)\n",
            "/usr/local/lib/python3.6/dist-packages/ipykernel_launcher.py:3: SettingWithCopyWarning: \n",
            "A value is trying to be set on a copy of a slice from a DataFrame.\n",
            "Try using .loc[row_indexer,col_indexer] = value instead\n",
            "\n",
            "See the caveats in the documentation: https://pandas.pydata.org/pandas-docs/stable/user_guide/indexing.html#returning-a-view-versus-a-copy\n",
            "  This is separate from the ipykernel package so we can avoid doing imports until\n"
          ],
          "name": "stderr"
        },
        {
          "output_type": "execute_result",
          "data": {
            "text/plain": [
              "<matplotlib.axes._subplots.AxesSubplot at 0x7f7c1ddc3160>"
            ]
          },
          "metadata": {
            "tags": []
          },
          "execution_count": 83
        },
        {
          "output_type": "display_data",
          "data": {
            "image/png": "[encoded data removed]",
            "text/plain": [
              "<Figure size 432x288 with 1 Axes>"
            ]
          },
          "metadata": {
            "tags": [],
            "needs_background": "light"
          }
        }
      ]
    },
    {
      "cell_type": "markdown",
      "metadata": {
        "id": "MZUDwFCZK1gP",
        "colab_type": "text"
      },
      "source": [
        "Age distribution of patients who died in ICU based on gender \n"
      ]
    },
    {
      "cell_type": "code",
      "metadata": {
        "id": "TOnHkan9JbBJ",
        "colab_type": "code",
        "colab": {
          "base_uri": "https://localhost:8080/",
          "height": 279
        },
        "outputId": "f428d7e9-922a-4e22-f373-9c8a2eb56f85"
      },
      "source": [
        "bplot = sns.boxplot(y='age', x='gender', \n",
        "                 data=expired, \n",
        "                 width=0.5,\n",
        "                 palette=\"colorblind\",)"
      ],
      "execution_count": 84,
      "outputs": [
        {
          "output_type": "display_data",
          "data": {
            "image/png": "[encoded data removed]",
            "text/plain": [
              "<Figure size 432x288 with 1 Axes>"
            ]
          },
          "metadata": {
            "tags": [],
            "needs_background": "light"
          }
        }
      ]
    },
    {
      "cell_type": "markdown",
      "metadata": {
        "id": "qoFBilFfK9td",
        "colab_type": "text"
      },
      "source": [
        ""
      ]
    },
    {
      "cell_type": "code",
      "metadata": {
        "id": "VYQEoJEYNbUs",
        "colab_type": "code",
        "colab": {}
      },
      "source": [
        "%%bigquery --project $project_id race\n",
        "select uniquepid, ethnicity\n",
        "from `physionet-data.eicu_crd.patient` \n",
        "group by uniquepid,ethnicity\n",
        "order by uniquepid;"
      ],
      "execution_count": 0,
      "outputs": []
    },
    {
      "cell_type": "code",
      "metadata": {
        "id": "ZVS4Mq1ZNy1b",
        "colab_type": "code",
        "colab": {
          "base_uri": "https://localhost:8080/",
          "height": 402
        },
        "outputId": "4c459672-1ca2-4ddc-87e3-7d25ac594e36"
      },
      "source": [
        "race"
      ],
      "execution_count": 86,
      "outputs": [
        {
          "output_type": "execute_result",
          "data": {
            "text/html": [
              "<div>\n",
              "<style scoped>\n",
              "    .dataframe tbody tr th:only-of-type {\n",
              "        vertical-align: middle;\n",
              "    }\n",
              "\n",
              "    .dataframe tbody tr th {\n",
              "        vertical-align: top;\n",
              "    }\n",
              "\n",
              "    .dataframe thead th {\n",
              "        text-align: right;\n",
              "    }\n",
              "</style>\n",
              "<table border=\"1\" class=\"dataframe\">\n",
              "  <thead>\n",
              "    <tr style=\"text-align: right;\">\n",
              "      <th></th>\n",
              "      <th>uniquepid</th>\n",
              "      <th>ethnicity</th>\n",
              "    </tr>\n",
              "  </thead>\n",
              "  <tbody>\n",
              "    <tr>\n",
              "      <th>0</th>\n",
              "      <td>002-10009</td>\n",
              "      <td>Caucasian</td>\n",
              "    </tr>\n",
              "    <tr>\n",
              "      <th>1</th>\n",
              "      <td>002-10018</td>\n",
              "      <td>Caucasian</td>\n",
              "    </tr>\n",
              "    <tr>\n",
              "      <th>2</th>\n",
              "      <td>002-10034</td>\n",
              "      <td>Caucasian</td>\n",
              "    </tr>\n",
              "    <tr>\n",
              "      <th>3</th>\n",
              "      <td>002-10050</td>\n",
              "      <td>Caucasian</td>\n",
              "    </tr>\n",
              "    <tr>\n",
              "      <th>4</th>\n",
              "      <td>002-10052</td>\n",
              "      <td>Caucasian</td>\n",
              "    </tr>\n",
              "    <tr>\n",
              "      <th>...</th>\n",
              "      <td>...</td>\n",
              "      <td>...</td>\n",
              "    </tr>\n",
              "    <tr>\n",
              "      <th>140095</th>\n",
              "      <td>035-9957</td>\n",
              "      <td>Caucasian</td>\n",
              "    </tr>\n",
              "    <tr>\n",
              "      <th>140096</th>\n",
              "      <td>035-9959</td>\n",
              "      <td>Caucasian</td>\n",
              "    </tr>\n",
              "    <tr>\n",
              "      <th>140097</th>\n",
              "      <td>035-996</td>\n",
              "      <td>African American</td>\n",
              "    </tr>\n",
              "    <tr>\n",
              "      <th>140098</th>\n",
              "      <td>035-9966</td>\n",
              "      <td>African American</td>\n",
              "    </tr>\n",
              "    <tr>\n",
              "      <th>140099</th>\n",
              "      <td>035-9975</td>\n",
              "      <td>African American</td>\n",
              "    </tr>\n",
              "  </tbody>\n",
              "</table>\n",
              "<p>140100 rows × 2 columns</p>\n",
              "</div>"
            ],
            "text/plain": [
              "        uniquepid         ethnicity\n",
              "0       002-10009         Caucasian\n",
              "1       002-10018         Caucasian\n",
              "2       002-10034         Caucasian\n",
              "3       002-10050         Caucasian\n",
              "4       002-10052         Caucasian\n",
              "...           ...               ...\n",
              "140095   035-9957         Caucasian\n",
              "140096   035-9959         Caucasian\n",
              "140097    035-996  African American\n",
              "140098   035-9966  African American\n",
              "140099   035-9975  African American\n",
              "\n",
              "[140100 rows x 2 columns]"
            ]
          },
          "metadata": {
            "tags": []
          },
          "execution_count": 86
        }
      ]
    },
    {
      "cell_type": "code",
      "metadata": {
        "id": "B9gXp6I6K_7s",
        "colab_type": "code",
        "colab": {
          "base_uri": "https://localhost:8080/",
          "height": 264
        },
        "outputId": "b6f39c4a-e78d-418f-af65-596dd64acaf2"
      },
      "source": [
        "a=race.ethnicity[race.ethnicity=='Native American'].count()\n",
        "b=race.ethnicity[race.ethnicity=='Asian'].count()\n",
        "c=race.ethnicity[race.ethnicity=='Hispanic'].count()\n",
        "d=race.ethnicity[race.ethnicity=='African American'].count()\n",
        "e=race.ethnicity[race.ethnicity=='Caucasian'].count()\n",
        "#f=race.ethnicity[race.ethnicity==' '].count()\n",
        "\n",
        "races = [a,b,c,d,e]\n",
        "\n",
        "\n",
        "labels = 'Native American','Asian','Hispanic','African American','Caucasian'\n",
        "plt.pie(races,autopct='%1.2f%%',pctdistance=1.5,labeldistance = 2)\n",
        "plt.title('Patients ethnicity distribution')\n",
        "plt.legend(labels,title='Ethnicity', loc =\"lower right\")\n",
        "plt.axis('equal')\n",
        "plt.show()"
      ],
      "execution_count": 87,
      "outputs": [
        {
          "output_type": "display_data",
          "data": {
            "image/png": "[encoded data removed]",
            "text/plain": [
              "<Figure size 432x288 with 1 Axes>"
            ]
          },
          "metadata": {
            "tags": []
          }
        }
      ]
    }
  ]
}
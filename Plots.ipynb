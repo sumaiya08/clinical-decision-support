{
  "nbformat": 4,
  "nbformat_minor": 0,
  "metadata": {
    "colab": {
      "name": "Plots.ipynb",
      "provenance": [],
      "authorship_tag": "ABX9TyNOtG+lIGkqfPGxMHVF4C79",
      "include_colab_link": true
    },
    "kernelspec": {
      "name": "python3",
      "display_name": "Python 3"
    }
  },
  "cells": [
    {
      "cell_type": "markdown",
      "metadata": {
        "id": "view-in-github",
        "colab_type": "text"
      },
      "source": [
        "<a href=\"https://colab.research.google.com/github/sumaiya08/medicaldata/blob/master/Plots.ipynb\" target=\"_parent\"><img src=\"https://colab.research.google.com/assets/colab-badge.svg\" alt=\"Open In Colab\"/></a>"
      ]
    },
    {
      "cell_type": "code",
      "metadata": {
        "id": "2xE3MfvqUOc8",
        "colab_type": "code",
        "colab": {}
      },
      "source": [
        "import os\n",
        "import numpy as np\n",
        "import pandas as pd\n",
        "import matplotlib.pyplot as plt\n",
        "import seaborn as sns\n",
        "\n",
        "# Access data using Google BigQuery.\n",
        "from google.colab import auth\n",
        "from google.cloud import bigquery"
      ],
      "execution_count": 0,
      "outputs": []
    },
    {
      "cell_type": "code",
      "metadata": {
        "id": "zUIoyRGJUliZ",
        "colab_type": "code",
        "outputId": "ae24cc30-5f11-4a46-8bc4-987c67c6661d",
        "colab": {
          "base_uri": "https://localhost:8080/",
          "height": 34
        }
      },
      "source": [
        "auth.authenticate_user()\n",
        "print('Authenticated')"
      ],
      "execution_count": 76,
      "outputs": [
        {
          "output_type": "stream",
          "text": [
            "Authenticated\n"
          ],
          "name": "stdout"
        }
      ]
    },
    {
      "cell_type": "code",
      "metadata": {
        "id": "-bXGFBIpUns_",
        "colab_type": "code",
        "colab": {}
      },
      "source": [
        "project_id='eicudata'"
      ],
      "execution_count": 0,
      "outputs": []
    },
    {
      "cell_type": "markdown",
      "metadata": {
        "id": "IMamUZ2hYCXD",
        "colab_type": "text"
      },
      "source": [
        "Frequency of hospital admission"
      ]
    },
    {
      "cell_type": "code",
      "metadata": {
        "id": "4u7iOPniYE5C",
        "colab_type": "code",
        "colab": {}
      },
      "source": [
        "%%bigquery --project $project_id freq\n",
        "select uniquepid, count(patienthealthsystemstayid) as numvisit\n",
        "from `physionet-data.eicu_crd.patient` \n",
        "group by uniquepid\n",
        "order by uniquepid"
      ],
      "execution_count": 0,
      "outputs": []
    },
    {
      "cell_type": "code",
      "metadata": {
        "id": "l-xXh4mCYMOp",
        "colab_type": "code",
        "outputId": "f28b7a72-22c4-488c-df6a-8cdb6c1fe49f",
        "colab": {
          "base_uri": "https://localhost:8080/",
          "height": 34
        }
      },
      "source": [
        "freq\n",
        "print('Total number of patients -', len(freq))"
      ],
      "execution_count": 79,
      "outputs": [
        {
          "output_type": "stream",
          "text": [
            "Total number of patients - 139367\n"
          ],
          "name": "stdout"
        }
      ]
    },
    {
      "cell_type": "code",
      "metadata": {
        "id": "MhCVpSi3Y7Gj",
        "colab_type": "code",
        "outputId": "3d7069d1-e053-4f62-8d55-5aae1100439c",
        "colab": {
          "base_uri": "https://localhost:8080/",
          "height": 264
        }
      },
      "source": [
        "a=freq.numvisit[freq.numvisit==1].count()\n",
        "b=freq.numvisit[freq.numvisit==2].count()\n",
        "c=freq.numvisit[freq.numvisit==3].count()\n",
        "d=freq.numvisit[freq.numvisit>=4].count()\n",
        "visits = [a,b,c,d]\n",
        "\n",
        "\n",
        "labels = '1','2','3','4 or more'\n",
        "plt.pie(visits,autopct='%1.0f%%')\n",
        "plt.title('Frequency of patient visits')\n",
        "plt.legend(labels,title='Number of visits', loc =\"lower right\")\n",
        "plt.text(1.5,0.5,'Total number of patients = 139367 ',bbox=dict(facecolor='grey',alpha=0.5))\n",
        "plt.axis('equal')\n",
        "plt.show()"
      ],
      "execution_count": 80,
      "outputs": [
        {
          "output_type": "display_data",
          "data": {
            "image/png": "[encoded data removed]",
            "text/plain": [
              "<Figure size 432x288 with 1 Axes>"
            ]
          },
          "metadata": {
            "tags": []
          }
        }
      ]
    },
    {
      "cell_type": "code",
      "metadata": {
        "id": "Hb1gpMBKZTWZ",
        "colab_type": "code",
        "colab": {}
      },
      "source": [
        "%%bigquery --project $project_id patient\n",
        "select * from `physionet-data.eicu_crd.patient`;\n",
        "\n"
      ],
      "execution_count": 0,
      "outputs": []
    },
    {
      "cell_type": "code",
      "metadata": {
        "id": "70ChzG06r5cW",
        "colab_type": "code",
        "outputId": "a2406d51-701c-4839-8504-68bf5a76c79e",
        "colab": {
          "base_uri": "https://localhost:8080/",
          "height": 346
        }
      },
      "source": [
        "ages=[\"15-19\",\"20-24\",\"25-29\",\"30-34\",\"35-39\",\"40-44\",\"45-49\",\"50-54\",\"55-59\",\"60-64\",\"65-69\",\"70-74\",\"75-79\",\"80-84\",\"85+\"]\n",
        "alive = patient[(patient.unitdischargestatus=='Alive')]\n",
        "#alive.dtypes\n",
        "#alive['age'] = pd.to_numeric(alive['age'])\n",
        "#alive.astype({\"age\":int})df[\"a\"] = pd.to_numeric(df[\"a\"])\n",
        "a1 = alive.age[(alive.age>='15') & (alive.age<'20')].count()\n",
        "a2 = alive.age[(alive.age>='20') & (alive.age<'25')].count()\n",
        "a3 = alive.age[(alive.age>='25') & (alive.age<'30')].count()\n",
        "a4 = alive.age[(alive.age>='30') & (alive.age<'35')].count()\n",
        "a5 = alive.age[(alive.age>='35') & (alive.age<'40')].count()\n",
        "a6 = alive.age[(alive.age>='40') & (alive.age<'45')].count()\n",
        "a7 = alive.age[(alive.age>='45') & (alive.age<'50')].count()\n",
        "a8 = alive.age[(alive.age>='50') & (alive.age<'55')].count()\n",
        "a9 = alive.age[(alive.age>='55') & (alive.age<'60')].count()\n",
        "a10 = alive.age[(alive.age>='60') & (alive.age<'65')].count()\n",
        "a11 = alive.age[(alive.age>='65') & (alive.age<'70')].count()\n",
        "a12 = alive.age[(alive.age>='70') & (alive.age<'75')].count()\n",
        "a13 = alive.age[(alive.age>='75') & (alive.age<'80')].count()\n",
        "a14 = alive.age[(alive.age>='80') & (alive.age<'85')].count()\n",
        "a15 = alive.age[(alive.age>='85') & (alive.age=='> 89')].count()\n",
        "print(a1,a2,a3,a4,a5,a6,a7,a8,a9,a10,a11,a12,a13,a14,a15)\n",
        "values = [a1,a2,a3,a4,a5,a6,a7,a8,a9,a10,a11,a12,a13,a14,a15]\n",
        "\n",
        "#a=freq.numvisit[freq.numvisit==1].count()\n",
        "#alive = alive.set_index(\"unitdischargestatus\")\n",
        "#alive = alive.drop(\"Expired\", axis=0)\n",
        "expired = patient[patient.unitdischargestatus=='Expired']\n",
        "e1 = expired.age[(expired.age>='15') & (expired.age<'20')].count()\n",
        "e2 = expired.age[(expired.age>='20') & (expired.age<'25')].count()\n",
        "e3 = expired.age[(expired.age>='25') & (expired.age<'30')].count()\n",
        "e4 = expired.age[(expired.age>='30') & (expired.age<'35')].count()\n",
        "e5 = expired.age[(expired.age>='35') & (expired.age<'40')].count()\n",
        "e6 = expired.age[(expired.age>='40') & (expired.age<'45')].count()\n",
        "e7 = expired.age[(expired.age>='45') & (expired.age<'50')].count()\n",
        "e8 = expired.age[(expired.age>='50') & (expired.age<'55')].count()\n",
        "e9 = expired.age[(expired.age>='55') & (expired.age<'60')].count()\n",
        "e10 = expired.age[(expired.age>='60') & (expired.age<'65')].count()\n",
        "e11 = expired.age[(expired.age>='65') & (expired.age<'70')].count()\n",
        "e12 = expired.age[(expired.age>='70') & (expired.age<'75')].count()\n",
        "e13 = expired.age[(expired.age>='75') & (expired.age<'80')].count()\n",
        "e14 = expired.age[(expired.age>='80') & (expired.age<'85')].count()\n",
        "e15 = expired.age[(expired.age>='85') & (expired.age=='> 89')].count()\n",
        "print(e1,e2,e3,e4,e5,e6,e7,e8,e9,e10,e11,e12,e13,e14,e15)\n",
        "values1 = [e1,e2,e3,e4,e5,e6,e7,e8,e9,e10,e11,e12,e13,e14,e15]\n",
        "\n",
        "#print(alive)\n",
        "#zero = alive.groupby('uniquepid')\n",
        "#len(zero.count())\n",
        "#zero1 = expired.groupby('uniquepid')\n",
        "#len(zero1.count())\n",
        "#zero = alive.unitdischargestatus.count()\n",
        "\n",
        "#zero1=expired.unitdischargestatus.count()\n",
        "#values = [zero,zero1]\n",
        "N=15\n",
        "ind = np.arange(N)\n",
        "#index = np.arange(len(ages))\n",
        "#score_label = np.arange(0,12500,2500)\n",
        "width = 0.75\n",
        "p1 = plt.bar(ages,values1,width,color=\"red\",label=\"Expired\")\n",
        "p2 = plt.bar(ages,values,width,color=\"blue\",label=\"Alive\",bottom=values1)\n",
        "plt.xlabel('Age')\n",
        "plt.ylabel('Frequency of ICU admission')\n",
        "plt.title('Patients ICU admission frequencies among different age group')\n",
        "plt.xticks(ind, ages,rotation =45)\n",
        "#plt.set_xticklabels(ages, rotation = 45, ha=\"right\")\n",
        "plt.yticks(np.arange(0, 25000, 2500))\n",
        "plt.legend((p1[0], p2[0]), ('Expired', 'Alive'))\n",
        "plt.show()\n"
      ],
      "execution_count": 82,
      "outputs": [
        {
          "output_type": "stream",
          "text": [
            "1628 3933 4553 5164 5832 7270 10460 15532 18709 20398 22222 21242 19058 15833 6437\n",
            "35 92 108 148 191 217 394 677 878 1145 1307 1350 1406 1319 644\n"
          ],
          "name": "stdout"
        },
        {
          "output_type": "display_data",
          "data": {
            "image/png": "[encoded data removed]",
            "text/plain": [
              "<Figure size 432x288 with 1 Axes>"
            ]
          },
          "metadata": {
            "tags": [],
            "needs_background": "light"
          }
        }
      ]
    },
    {
      "cell_type": "code",
      "metadata": {
        "id": "lrc5qJcIoKqy",
        "colab_type": "code",
        "outputId": "7565e01c-e443-46ca-951b-5353d4ff88fa",
        "colab": {
          "base_uri": "https://localhost:8080/",
          "height": 121
        }
      },
      "source": [
        "expired\n",
        "female = expired[(expired.gender=='Female')]\n",
        "print(len(female))\n",
        "male = expired[(expired.gender=='Male')]\n",
        "f1 = female.age[(female.age>='15')&(female.age<'20')].count()\n",
        "f2 = female.age[(female.age>='20')&(female.age<'25')].count()\n",
        "f3 = female.age[(female.age>='25')&(female.age<'30')].count()\n",
        "f4 = female.age[(female.age>='30')&(female.age<'35')].count()\n",
        "f5 = female.age[(female.age>='35')&(female.age<'40')].count()\n",
        "f6 = female.age[(female.age>='40')&(female.age<'45')].count()\n",
        "f7 = female.age[(female.age>='45')&(female.age<'50')].count()\n",
        "f8 = female.age[(female.age>='50')&(female.age<'55')].count()\n",
        "f9 = female.age[(female.age>='55')&(female.age<'60')].count()\n",
        "f10 = female.age[(female.age>='60')&(female.age<'65')].count()\n",
        "f11 = female.age[(female.age>='65')&(female.age<'70')].count()\n",
        "f12 = female.age[(female.age>='70')&(female.age<'75')].count()\n",
        "f13 = female.age[(female.age>='75')&(female.age<'80')].count()\n",
        "f14 = female.age[(female.age>='80')&(female.age<'85')].count()\n",
        "f15 = female.age[(female.age>='85')&(female.age=='> 89')].count()\n",
        "\n",
        "print(f1,f2,f3,f4,f5,f6,f7,f8,f9,f10,f11,f12,f13,f14,f15)\n",
        "mor_fem = [f1/len(female),f2/len(female),f3/len(female),f4/len(female),f5/len(female),f6/len(female),f7/len(female),f8/len(female),f9/len(female),f10/len(female),f11/len(female),f12/len(female),f13/len(female),f14/len(female),f15/len(female)]\n",
        "print(mor_fem)\n",
        "\n",
        "m1 = male.age[(male.age>='15')&(male.age<'20')].count()\n",
        "m2 = male.age[(male.age>='20')&(male.age<'25')].count()\n",
        "m3 = male.age[(male.age>='25')&(male.age<'30')].count()\n",
        "m4 = male.age[(male.age>='30')&(male.age<'35')].count()\n",
        "m5 = male.age[(male.age>='35')&(male.age<'40')].count()\n",
        "m6 = male.age[(male.age>='40')&(male.age<'45')].count()\n",
        "m7 = male.age[(male.age>='45')&(male.age<'50')].count()\n",
        "m8 = male.age[(male.age>='50')&(male.age<'55')].count()\n",
        "m9 = male.age[(male.age>='55')&(male.age<'60')].count()\n",
        "m10 = male.age[(male.age>='60')&(male.age<'65')].count()\n",
        "m11 = male.age[(male.age>='65')&(male.age<'70')].count()\n",
        "m12 = male.age[(male.age>='70')&(male.age<'75')].count()\n",
        "m13 = male.age[(male.age>='75')&(male.age<'80')].count()\n",
        "m14 = male.age[(male.age>='80')&(male.age<'85')].count()\n",
        "m15 = male.age[(male.age>='85')&(male.age=='> 89')].count()\n",
        "\n",
        "print(m1,m2,m3,m4,m5,m6,m7,m8,m9,m10,m11,m12,m13,m14,m15)\n",
        "mor_male = [m1/len(male),m2/len(male),m3/len(male),m4/len(male),m5/len(male),m6/len(male),m7/len(male),m8/len(male),m9/len(male),m10/len(male),m11/len(male),m12/len(male),m13/len(male),m14/len(male),m15/len(male)]\n",
        "print(mor_male)\n"
      ],
      "execution_count": 83,
      "outputs": [
        {
          "output_type": "stream",
          "text": [
            "4965\n",
            "12 30 45 56 76 99 156 297 383 472 626 573 640 633 366\n",
            "[0.002416918429003021, 0.006042296072507553, 0.00906344410876133, 0.011278952668680765, 0.015307150050352467, 0.019939577039274924, 0.03141993957703928, 0.05981873111782477, 0.0771399798590131, 0.09506545820745217, 0.12608257804632428, 0.11540785498489425, 0.12890231621349446, 0.12749244712990937, 0.07371601208459215]\n",
            "23 62 63 92 115 118 238 380 495 673 681 777 765 685 266\n",
            "[0.003883167313861219, 0.010467668411278068, 0.010636501772750296, 0.015532669255444876, 0.019415836569306094, 0.019922336653722776, 0.04018234003039001, 0.06415667735944623, 0.08357251392875233, 0.11362485227080871, 0.11497551916258653, 0.13118352186392032, 0.1291575215262536, 0.11565085260847544, 0.04490967415161236]\n"
          ],
          "name": "stdout"
        }
      ]
    },
    {
      "cell_type": "code",
      "metadata": {
        "id": "gE48vmt5MOYg",
        "colab_type": "code",
        "outputId": "cb895f1c-4505-4cba-91b7-181159f13a6f",
        "colab": {
          "base_uri": "https://localhost:8080/",
          "height": 313
        }
      },
      "source": [
        "N=15\n",
        "ind = np.arange(N)\n",
        "#index = np.arange(len(ages))\n",
        "#score_label = np.arange(0,12500,2500)\n",
        "width = 0.4\n",
        "p1 = plt.bar(ind,mor_fem,width,color=\"red\",label=\"Female\")\n",
        "p2 = plt.bar(ind+width,mor_male,width,color=\"blue\",label=\"Male\")\n",
        "plt.xlabel('Age')\n",
        "plt.ylabel('Unit Mortality Rate')\n",
        "plt.title('Patients ICU mortality rate per age group and gender')\n",
        "plt.xticks(ind + width/2, ages,rotation =45)\n",
        "#plt.set_xticklabels(ages, rotation = 45, ha=\"right\")\n",
        "plt.yticks(np.arange(0.0, 0.005))\n",
        "plt.legend((p1[0], p2[0]), ('Female', 'Male'))\n",
        "plt.show()"
      ],
      "execution_count": 84,
      "outputs": [
        {
          "output_type": "display_data",
          "data": {
            "image/png": "[encoded data removed]",
            "text/plain": [
              "<Figure size 432x288 with 1 Axes>"
            ]
          },
          "metadata": {
            "tags": [],
            "needs_background": "light"
          }
        }
      ]
    },
    {
      "cell_type": "code",
      "metadata": {
        "id": "J4jDS-FZQGz9",
        "colab_type": "code",
        "outputId": "d8c32f4a-3a6b-45e6-c1e0-dd3497bef57d",
        "colab": {
          "base_uri": "https://localhost:8080/",
          "height": 202
        }
      },
      "source": [
        "#expired.boxplot(column='age',by='gender')\n",
        "expired['age'].replace({'> 89': '90'}, inplace=True)\n",
        "expired['age'] = pd.to_numeric(expired['age'])\n",
        "#print(expired)\n",
        "#expired.dtypes\n",
        "#expired.drop(expired.age=='> 89')\n",
        "#expired['age'] = pd.to_numeric(expired['age'])\n",
        "\n",
        "#expired.boxplot(column='age',by='gender',patch_artist = True, grid = False)\n",
        "#bp.ylabel('Age')"
      ],
      "execution_count": 85,
      "outputs": [
        {
          "output_type": "stream",
          "text": [
            "/usr/local/lib/python3.6/dist-packages/pandas/core/generic.py:6746: SettingWithCopyWarning: \n",
            "A value is trying to be set on a copy of a slice from a DataFrame\n",
            "\n",
            "See the caveats in the documentation: https://pandas.pydata.org/pandas-docs/stable/user_guide/indexing.html#returning-a-view-versus-a-copy\n",
            "  self._update_inplace(new_data)\n",
            "/usr/local/lib/python3.6/dist-packages/ipykernel_launcher.py:3: SettingWithCopyWarning: \n",
            "A value is trying to be set on a copy of a slice from a DataFrame.\n",
            "Try using .loc[row_indexer,col_indexer] = value instead\n",
            "\n",
            "See the caveats in the documentation: https://pandas.pydata.org/pandas-docs/stable/user_guide/indexing.html#returning-a-view-versus-a-copy\n",
            "  This is separate from the ipykernel package so we can avoid doing imports until\n"
          ],
          "name": "stderr"
        }
      ]
    },
    {
      "cell_type": "markdown",
      "metadata": {
        "id": "MZUDwFCZK1gP",
        "colab_type": "text"
      },
      "source": [
        "Age distribution of patients who died in ICU based on gender \n"
      ]
    },
    {
      "cell_type": "code",
      "metadata": {
        "id": "TOnHkan9JbBJ",
        "colab_type": "code",
        "outputId": "3bce821e-8e64-485a-be17-c8b24e9796e1",
        "colab": {
          "base_uri": "https://localhost:8080/",
          "height": 279
        }
      },
      "source": [
        "bplot = sns.boxplot(y='age', x='gender', \n",
        "                 data=expired, \n",
        "                 width=0.5,\n",
        "                 palette=\"colorblind\",)"
      ],
      "execution_count": 86,
      "outputs": [
        {
          "output_type": "display_data",
          "data": {
            "image/png": "[encoded data removed]",
            "text/plain": [
              "<Figure size 432x288 with 1 Axes>"
            ]
          },
          "metadata": {
            "tags": [],
            "needs_background": "light"
          }
        }
      ]
    },
    {
      "cell_type": "code",
      "metadata": {
        "id": "VYQEoJEYNbUs",
        "colab_type": "code",
        "colab": {}
      },
      "source": [
        "%%bigquery --project $project_id race\n",
        "select uniquepid, ethnicity\n",
        "from `physionet-data.eicu_crd.patient` \n",
        "group by uniquepid,ethnicity\n",
        "order by uniquepid;"
      ],
      "execution_count": 0,
      "outputs": []
    },
    {
      "cell_type": "code",
      "metadata": {
        "id": "ZVS4Mq1ZNy1b",
        "colab_type": "code",
        "outputId": "b4006f92-fe53-4386-a945-1c7b1b43ac90",
        "colab": {
          "base_uri": "https://localhost:8080/",
          "height": 402
        }
      },
      "source": [
        "race"
      ],
      "execution_count": 88,
      "outputs": [
        {
          "output_type": "execute_result",
          "data": {
            "text/html": [
              "<div>\n",
              "<style scoped>\n",
              "    .dataframe tbody tr th:only-of-type {\n",
              "        vertical-align: middle;\n",
              "    }\n",
              "\n",
              "    .dataframe tbody tr th {\n",
              "        vertical-align: top;\n",
              "    }\n",
              "\n",
              "    .dataframe thead th {\n",
              "        text-align: right;\n",
              "    }\n",
              "</style>\n",
              "<table border=\"1\" class=\"dataframe\">\n",
              "  <thead>\n",
              "    <tr style=\"text-align: right;\">\n",
              "      <th></th>\n",
              "      <th>uniquepid</th>\n",
              "      <th>ethnicity</th>\n",
              "    </tr>\n",
              "  </thead>\n",
              "  <tbody>\n",
              "    <tr>\n",
              "      <th>0</th>\n",
              "      <td>002-10009</td>\n",
              "      <td>Caucasian</td>\n",
              "    </tr>\n",
              "    <tr>\n",
              "      <th>1</th>\n",
              "      <td>002-10018</td>\n",
              "      <td>Caucasian</td>\n",
              "    </tr>\n",
              "    <tr>\n",
              "      <th>2</th>\n",
              "      <td>002-10034</td>\n",
              "      <td>Caucasian</td>\n",
              "    </tr>\n",
              "    <tr>\n",
              "      <th>3</th>\n",
              "      <td>002-10050</td>\n",
              "      <td>Caucasian</td>\n",
              "    </tr>\n",
              "    <tr>\n",
              "      <th>4</th>\n",
              "      <td>002-10052</td>\n",
              "      <td>Caucasian</td>\n",
              "    </tr>\n",
              "    <tr>\n",
              "      <th>...</th>\n",
              "      <td>...</td>\n",
              "      <td>...</td>\n",
              "    </tr>\n",
              "    <tr>\n",
              "      <th>140095</th>\n",
              "      <td>035-9957</td>\n",
              "      <td>Caucasian</td>\n",
              "    </tr>\n",
              "    <tr>\n",
              "      <th>140096</th>\n",
              "      <td>035-9959</td>\n",
              "      <td>Caucasian</td>\n",
              "    </tr>\n",
              "    <tr>\n",
              "      <th>140097</th>\n",
              "      <td>035-996</td>\n",
              "      <td>African American</td>\n",
              "    </tr>\n",
              "    <tr>\n",
              "      <th>140098</th>\n",
              "      <td>035-9966</td>\n",
              "      <td>African American</td>\n",
              "    </tr>\n",
              "    <tr>\n",
              "      <th>140099</th>\n",
              "      <td>035-9975</td>\n",
              "      <td>African American</td>\n",
              "    </tr>\n",
              "  </tbody>\n",
              "</table>\n",
              "<p>140100 rows × 2 columns</p>\n",
              "</div>"
            ],
            "text/plain": [
              "        uniquepid         ethnicity\n",
              "0       002-10009         Caucasian\n",
              "1       002-10018         Caucasian\n",
              "2       002-10034         Caucasian\n",
              "3       002-10050         Caucasian\n",
              "4       002-10052         Caucasian\n",
              "...           ...               ...\n",
              "140095   035-9957         Caucasian\n",
              "140096   035-9959         Caucasian\n",
              "140097    035-996  African American\n",
              "140098   035-9966  African American\n",
              "140099   035-9975  African American\n",
              "\n",
              "[140100 rows x 2 columns]"
            ]
          },
          "metadata": {
            "tags": []
          },
          "execution_count": 88
        }
      ]
    },
    {
      "cell_type": "code",
      "metadata": {
        "id": "B9gXp6I6K_7s",
        "colab_type": "code",
        "outputId": "eaf23428-b32c-4650-fbb2-af044ee70f2b",
        "colab": {
          "base_uri": "https://localhost:8080/",
          "height": 264
        }
      },
      "source": [
        "a=race.ethnicity[race.ethnicity=='Native American'].count()\n",
        "b=race.ethnicity[race.ethnicity=='Asian'].count()\n",
        "c=race.ethnicity[race.ethnicity=='Hispanic'].count()\n",
        "d=race.ethnicity[race.ethnicity=='African American'].count()\n",
        "e=race.ethnicity[race.ethnicity=='Caucasian'].count()\n",
        "#f=race.ethnicity[race.ethnicity=='Other/Unknown '].count()\n",
        "\n",
        "races = [a,b,c,d,e]\n",
        "\n",
        "\n",
        "labels = 'Native American','Asian','Hispanic','African American','Caucasian'\n",
        "plt.pie(races,autopct='%1.2f%%',pctdistance=1.5,labeldistance = 2)\n",
        "plt.title('Patients ethnicity distribution')\n",
        "plt.legend(labels,title='Ethnicity', loc =\"lower right\")\n",
        "plt.axis('equal')\n",
        "plt.show()"
      ],
      "execution_count": 89,
      "outputs": [
        {
          "output_type": "display_data",
          "data": {
            "image/png": "[encoded data removed]",
            "text/plain": [
              "<Figure size 432x288 with 1 Axes>"
            ]
          },
          "metadata": {
            "tags": []
          }
        }
      ]
    },
    {
      "cell_type": "code",
      "metadata": {
        "id": "Wc656V68ZoNd",
        "colab_type": "code",
        "outputId": "da7a1944-50aa-495c-d39a-46f5325ba486",
        "colab": {
          "base_uri": "https://localhost:8080/",
          "height": 138
        }
      },
      "source": [
        "expired\n",
        "aa = expired[(expired.ethnicity=='African American')]\n",
        "print(len(aa))\n",
        "ca = expired[(expired.ethnicity=='Caucasian')]\n",
        "print(len(ca))\n",
        "a1 = aa.age[(aa.age>=15)&(aa.age<20)].count()\n",
        "a2 = aa.age[(aa.age>=20)&(aa.age<25)].count()\n",
        "a3 = aa.age[(aa.age>=25)&(aa.age<30)].count()\n",
        "a4 = aa.age[(aa.age>=30)&(aa.age<35)].count()\n",
        "a5 = aa.age[(aa.age>=35)&(aa.age<40)].count()\n",
        "a6 = aa.age[(aa.age>=40)&(aa.age<45)].count()\n",
        "a7 = aa.age[(aa.age>=45)&(aa.age<50)].count()\n",
        "a8 = aa.age[(aa.age>=50)&(aa.age<55)].count()\n",
        "a9 = aa.age[(aa.age>=55)&(aa.age<60)].count()\n",
        "a10 = aa.age[(aa.age>=60)&(aa.age<65)].count()\n",
        "a11 = aa.age[(aa.age>=65)&(aa.age<70)].count()\n",
        "a12 = aa.age[(aa.age>=70)&(aa.age<75)].count()\n",
        "a13 = aa.age[(aa.age>=75)&(aa.age<80)].count()\n",
        "a14 = aa.age[(aa.age>=80)&(aa.age<85)].count()\n",
        "a15 = aa.age[(aa.age>=85)].count()\n",
        "print(a1,a2,a3,a4,a5,a6,a7,a8,a9,a10,a11,a12,a13,a14,a15)\n",
        "aadeath=[a1,a2,a3,a4,a5,a6,a7,a8,a9,a10,a11,a12,a13,a14,a15]\n",
        "values = [a1/len(aa)*100,a2/len(aa)*100,a3/len(aa)*100,a4/len(aa)*100,a5/len(aa)*100,a6/len(aa)*100,a7/len(aa)*100,a8/len(aa)*100,a9/len(aa)*100,a10/len(aa)*100,a11/len(aa)*100,a12/len(aa)*100,a13/len(aa)*100,a14/len(aa)*100,a15/len(aa)*100]\n",
        "print(values)\n",
        "ca1 = ca.age[(ca.age>=15)&(ca.age<20)].count()\n",
        "ca2 = ca.age[(ca.age>=20)&(ca.age<25)].count()\n",
        "ca3 = ca.age[(ca.age>=25)&(ca.age<30)].count()\n",
        "ca4 = ca.age[(ca.age>=30)&(ca.age<35)].count()\n",
        "ca5 = ca.age[(ca.age>=35)&(ca.age<40)].count()\n",
        "ca6 = ca.age[(ca.age>=40)&(ca.age<45)].count()\n",
        "ca7 = ca.age[(ca.age>=45)&(ca.age<50)].count()\n",
        "ca8 = ca.age[(ca.age>=50)&(ca.age<55)].count()\n",
        "ca9 = ca.age[(ca.age>=55)&(ca.age<60)].count()\n",
        "ca10 = ca.age[(ca.age>=60)&(ca.age<65)].count()\n",
        "ca11 = ca.age[(ca.age>=65)&(ca.age<70)].count()\n",
        "ca12 = ca.age[(ca.age>=70)&(ca.age<75)].count()\n",
        "ca13 = ca.age[(ca.age>=75)&(ca.age<80)].count()\n",
        "ca14 = ca.age[(ca.age>=80)&(ca.age<85)].count()\n",
        "ca15 = ca.age[(ca.age>=85)].count()\n",
        "print(ca1,ca2,ca3,ca4,ca5,ca6,ca7,ca8,ca9,ca10,ca11,ca12,ca13,ca14,ca15)\n",
        "cadeath=[ca1,ca2,ca3,ca4,ca5,ca6,ca7,ca8,ca9,ca10,ca11,ca12,ca13,ca14,ca15]\n",
        "values1= [ca1/len(ca)*100,ca2/len(ca)*100,ca3/len(ca)*100,ca4/len(ca)*100,ca5/len(ca)*100,ca6/len(ca)*100,ca7/len(ca)*100,ca8/len(ca)*100,ca9/len(ca)*100,ca10/len(ca)*100,ca11/len(ca)*100,ca12/len(ca)*100,ca13/len(ca)*100,ca14/len(ca)*100,ca15/len(ca)*100]\n",
        "#values1= [ca1/len(ca)*100,ca2/len(ca),ca3/len(ca),ca4/len(ca),ca5/len(ca),ca6/len(ca),ca7/len(ca),ca8/len(ca),ca9/len(ca),ca10/len(ca),ca11/len(ca),ca12/len(ca),ca13/len(ca),ca14/len(ca),ca15/len(ca)]\n",
        "print(values1)"
      ],
      "execution_count": 90,
      "outputs": [
        {
          "output_type": "stream",
          "text": [
            "1155\n",
            "8450\n",
            "5 17 14 36 33 49 63 99 118 143 151 124 114 89 100\n",
            "[0.4329004329004329, 1.471861471861472, 1.2121212121212122, 3.116883116883117, 2.857142857142857, 4.242424242424243, 5.454545454545454, 8.571428571428571, 10.216450216450216, 12.380952380952381, 13.073593073593074, 10.735930735930737, 9.87012987012987, 7.705627705627706, 8.658008658008658]\n",
            "23 58 72 88 124 128 265 480 648 875 1018 1094 1145 1087 1344\n",
            "[0.27218934911242604, 0.6863905325443788, 0.8520710059171597, 1.0414201183431953, 1.467455621301775, 1.514792899408284, 3.1360946745562135, 5.680473372781065, 7.668639053254438, 10.355029585798817, 12.04733727810651, 12.946745562130177, 13.550295857988164, 12.863905325443787, 15.905325443786984]\n"
          ],
          "name": "stdout"
        }
      ]
    },
    {
      "cell_type": "code",
      "metadata": {
        "id": "Kmww_zQMa3cF",
        "colab_type": "code",
        "outputId": "a4086809-954f-4e8c-ab38-db4995366ba9",
        "colab": {
          "base_uri": "https://localhost:8080/",
          "height": 313
        }
      },
      "source": [
        "N=15\n",
        "ind = np.arange(N)\n",
        "#index = np.arange(len(ages))\n",
        "#score_label = np.arange(0,12500,2500)\n",
        "width = 0.4\n",
        "p1 = plt.bar(ind,values,width,color=\"red\",label=\"African American\")\n",
        "p2 = plt.bar(ind+width,values1,width,color=\"blue\",label=\"Caucasian\")\n",
        "plt.xlabel('Age')\n",
        "plt.ylabel('Unit Mortality Rate')\n",
        "plt.title('Patients ICU mortality rate per age group and ethnicity')\n",
        "plt.xticks(ind + width/2, ages,rotation =45)\n",
        "#plt.set_xticklabels(ages, rotation = 45, ha=\"right\")\n",
        "plt.yticks(np.arange(0,17))\n",
        "plt.legend((p1[0], p2[0]), ('African American', 'Caucasian'))\n",
        "plt.show()"
      ],
      "execution_count": 91,
      "outputs": [
        {
          "output_type": "display_data",
          "data": {
            "image/png": "[encoded data removed]",
            "text/plain": [
              "<Figure size 432x288 with 1 Axes>"
            ]
          },
          "metadata": {
            "tags": [],
            "needs_background": "light"
          }
        }
      ]
    },
    {
      "cell_type": "markdown",
      "metadata": {
        "id": "3-ru5wAPjMSf",
        "colab_type": "text"
      },
      "source": [
        "Age distribution of patients who died in ICU based on different ethnic groups -"
      ]
    },
    {
      "cell_type": "code",
      "metadata": {
        "id": "WpI9tzQAgtw5",
        "colab_type": "code",
        "outputId": "51fa443a-e0d3-428c-a813-2bb381cb1859",
        "colab": {
          "base_uri": "https://localhost:8080/",
          "height": 484
        }
      },
      "source": [
        "bplot = sns.boxplot(y='age', x='ethnicity', \n",
        "                 data=expired, \n",
        "                 width=0.5,\n",
        "                 palette=\"colorblind\")\n",
        "bplot.set_xticklabels(bplot.get_xticklabels(),rotation=45,horizontalalignment='right',fontsize='x-large',fontweight='light')\n",
        "#bplot.xticks(rotation=45)"
      ],
      "execution_count": 92,
      "outputs": [
        {
          "output_type": "execute_result",
          "data": {
            "text/plain": [
              "[Text(0, 0, 'Caucasian'),\n",
              " Text(0, 0, 'African American'),\n",
              " Text(0, 0, 'Hispanic'),\n",
              " Text(0, 0, ''),\n",
              " Text(0, 0, 'Other/Unknown'),\n",
              " Text(0, 0, 'Asian'),\n",
              " Text(0, 0, 'Native American')]"
            ]
          },
          "metadata": {
            "tags": []
          },
          "execution_count": 92
        },
        {
          "output_type": "display_data",
          "data": {
            "image/png": "[encoded data removed]",
            "text/plain": [
              "<Figure size 432x288 with 1 Axes>"
            ]
          },
          "metadata": {
            "tags": [],
            "needs_background": "light"
          }
        }
      ]
    },
    {
      "cell_type": "code",
      "metadata": {
        "id": "drIkD5gooXni",
        "colab_type": "code",
        "outputId": "d6bb425d-725d-485a-e63b-cacbc7f1cb64",
        "colab": {
          "base_uri": "https://localhost:8080/",
          "height": 491
        }
      },
      "source": [
        "table1={'Age column':ages,'Caucasian Death #':cadeath,'Caucasian Mortality Rate':values1,'African American Death#':aadeath,'African American Mortality Rate':values}\n",
        "table1_df=pd.DataFrame(table1)\n",
        "table1_df"
      ],
      "execution_count": 93,
      "outputs": [
        {
          "output_type": "execute_result",
          "data": {
            "text/html": [
              "<div>\n",
              "<style scoped>\n",
              "    .dataframe tbody tr th:only-of-type {\n",
              "        vertical-align: middle;\n",
              "    }\n",
              "\n",
              "    .dataframe tbody tr th {\n",
              "        vertical-align: top;\n",
              "    }\n",
              "\n",
              "    .dataframe thead th {\n",
              "        text-align: right;\n",
              "    }\n",
              "</style>\n",
              "<table border=\"1\" class=\"dataframe\">\n",
              "  <thead>\n",
              "    <tr style=\"text-align: right;\">\n",
              "      <th></th>\n",
              "      <th>Age column</th>\n",
              "      <th>Caucasian Death #</th>\n",
              "      <th>Caucasian Mortality Rate</th>\n",
              "      <th>African American Death#</th>\n",
              "      <th>African American Mortality Rate</th>\n",
              "    </tr>\n",
              "  </thead>\n",
              "  <tbody>\n",
              "    <tr>\n",
              "      <th>0</th>\n",
              "      <td>15-19</td>\n",
              "      <td>23</td>\n",
              "      <td>0.272189</td>\n",
              "      <td>5</td>\n",
              "      <td>0.432900</td>\n",
              "    </tr>\n",
              "    <tr>\n",
              "      <th>1</th>\n",
              "      <td>20-24</td>\n",
              "      <td>58</td>\n",
              "      <td>0.686391</td>\n",
              "      <td>17</td>\n",
              "      <td>1.471861</td>\n",
              "    </tr>\n",
              "    <tr>\n",
              "      <th>2</th>\n",
              "      <td>25-29</td>\n",
              "      <td>72</td>\n",
              "      <td>0.852071</td>\n",
              "      <td>14</td>\n",
              "      <td>1.212121</td>\n",
              "    </tr>\n",
              "    <tr>\n",
              "      <th>3</th>\n",
              "      <td>30-34</td>\n",
              "      <td>88</td>\n",
              "      <td>1.041420</td>\n",
              "      <td>36</td>\n",
              "      <td>3.116883</td>\n",
              "    </tr>\n",
              "    <tr>\n",
              "      <th>4</th>\n",
              "      <td>35-39</td>\n",
              "      <td>124</td>\n",
              "      <td>1.467456</td>\n",
              "      <td>33</td>\n",
              "      <td>2.857143</td>\n",
              "    </tr>\n",
              "    <tr>\n",
              "      <th>5</th>\n",
              "      <td>40-44</td>\n",
              "      <td>128</td>\n",
              "      <td>1.514793</td>\n",
              "      <td>49</td>\n",
              "      <td>4.242424</td>\n",
              "    </tr>\n",
              "    <tr>\n",
              "      <th>6</th>\n",
              "      <td>45-49</td>\n",
              "      <td>265</td>\n",
              "      <td>3.136095</td>\n",
              "      <td>63</td>\n",
              "      <td>5.454545</td>\n",
              "    </tr>\n",
              "    <tr>\n",
              "      <th>7</th>\n",
              "      <td>50-54</td>\n",
              "      <td>480</td>\n",
              "      <td>5.680473</td>\n",
              "      <td>99</td>\n",
              "      <td>8.571429</td>\n",
              "    </tr>\n",
              "    <tr>\n",
              "      <th>8</th>\n",
              "      <td>55-59</td>\n",
              "      <td>648</td>\n",
              "      <td>7.668639</td>\n",
              "      <td>118</td>\n",
              "      <td>10.216450</td>\n",
              "    </tr>\n",
              "    <tr>\n",
              "      <th>9</th>\n",
              "      <td>60-64</td>\n",
              "      <td>875</td>\n",
              "      <td>10.355030</td>\n",
              "      <td>143</td>\n",
              "      <td>12.380952</td>\n",
              "    </tr>\n",
              "    <tr>\n",
              "      <th>10</th>\n",
              "      <td>65-69</td>\n",
              "      <td>1018</td>\n",
              "      <td>12.047337</td>\n",
              "      <td>151</td>\n",
              "      <td>13.073593</td>\n",
              "    </tr>\n",
              "    <tr>\n",
              "      <th>11</th>\n",
              "      <td>70-74</td>\n",
              "      <td>1094</td>\n",
              "      <td>12.946746</td>\n",
              "      <td>124</td>\n",
              "      <td>10.735931</td>\n",
              "    </tr>\n",
              "    <tr>\n",
              "      <th>12</th>\n",
              "      <td>75-79</td>\n",
              "      <td>1145</td>\n",
              "      <td>13.550296</td>\n",
              "      <td>114</td>\n",
              "      <td>9.870130</td>\n",
              "    </tr>\n",
              "    <tr>\n",
              "      <th>13</th>\n",
              "      <td>80-84</td>\n",
              "      <td>1087</td>\n",
              "      <td>12.863905</td>\n",
              "      <td>89</td>\n",
              "      <td>7.705628</td>\n",
              "    </tr>\n",
              "    <tr>\n",
              "      <th>14</th>\n",
              "      <td>85+</td>\n",
              "      <td>1344</td>\n",
              "      <td>15.905325</td>\n",
              "      <td>100</td>\n",
              "      <td>8.658009</td>\n",
              "    </tr>\n",
              "  </tbody>\n",
              "</table>\n",
              "</div>"
            ],
            "text/plain": [
              "   Age column  ...  African American Mortality Rate\n",
              "0       15-19  ...                         0.432900\n",
              "1       20-24  ...                         1.471861\n",
              "2       25-29  ...                         1.212121\n",
              "3       30-34  ...                         3.116883\n",
              "4       35-39  ...                         2.857143\n",
              "5       40-44  ...                         4.242424\n",
              "6       45-49  ...                         5.454545\n",
              "7       50-54  ...                         8.571429\n",
              "8       55-59  ...                        10.216450\n",
              "9       60-64  ...                        12.380952\n",
              "10      65-69  ...                        13.073593\n",
              "11      70-74  ...                        10.735931\n",
              "12      75-79  ...                         9.870130\n",
              "13      80-84  ...                         7.705628\n",
              "14        85+  ...                         8.658009\n",
              "\n",
              "[15 rows x 5 columns]"
            ]
          },
          "metadata": {
            "tags": []
          },
          "execution_count": 93
        }
      ]
    },
    {
      "cell_type": "code",
      "metadata": {
        "id": "tyxLoVJsqmdq",
        "colab_type": "code",
        "colab": {}
      },
      "source": [
        "%%bigquery --project $project_id topdiseases_death\n",
        "select apacheadmissiondx, count(apacheadmissiondx) as count,count(apacheadmissiondx)*100/(select count(*) from `physionet-data.eicu_crd.patient` where unitdischargestatus='Expired') as morpct\n",
        "from `physionet-data.eicu_crd.patient` \n",
        "where unitdischargestatus='Expired'\n",
        "group by apacheadmissiondx \n",
        "order by count(apacheadmissiondx) desc\n",
        "limit 20;"
      ],
      "execution_count": 0,
      "outputs": []
    },
    {
      "cell_type": "code",
      "metadata": {
        "id": "VaYOEGE1q_f3",
        "colab_type": "code",
        "colab": {
          "base_uri": "https://localhost:8080/",
          "height": 639
        },
        "outputId": "0b79b58b-1071-4701-96e9-42e3351acb8d"
      },
      "source": [
        "topdiseases_death.columns=['Disease','Patients(#)','Mortality(%)']\n",
        "topdiseases_death\n"
      ],
      "execution_count": 95,
      "outputs": [
        {
          "output_type": "execute_result",
          "data": {
            "text/html": [
              "<div>\n",
              "<style scoped>\n",
              "    .dataframe tbody tr th:only-of-type {\n",
              "        vertical-align: middle;\n",
              "    }\n",
              "\n",
              "    .dataframe tbody tr th {\n",
              "        vertical-align: top;\n",
              "    }\n",
              "\n",
              "    .dataframe thead th {\n",
              "        text-align: right;\n",
              "    }\n",
              "</style>\n",
              "<table border=\"1\" class=\"dataframe\">\n",
              "  <thead>\n",
              "    <tr style=\"text-align: right;\">\n",
              "      <th></th>\n",
              "      <th>Disease</th>\n",
              "      <th>Patients(#)</th>\n",
              "      <th>Mortality(%)</th>\n",
              "    </tr>\n",
              "  </thead>\n",
              "  <tbody>\n",
              "    <tr>\n",
              "      <th>0</th>\n",
              "      <td>Cardiac arrest (with or without respiratory ar...</td>\n",
              "      <td>1900</td>\n",
              "      <td>17.420006</td>\n",
              "    </tr>\n",
              "    <tr>\n",
              "      <th>1</th>\n",
              "      <td>Sepsis, pulmonary</td>\n",
              "      <td>1068</td>\n",
              "      <td>9.791877</td>\n",
              "    </tr>\n",
              "    <tr>\n",
              "      <th>2</th>\n",
              "      <td></td>\n",
              "      <td>692</td>\n",
              "      <td>6.344549</td>\n",
              "    </tr>\n",
              "    <tr>\n",
              "      <th>3</th>\n",
              "      <td>Sepsis, GI</td>\n",
              "      <td>391</td>\n",
              "      <td>3.584854</td>\n",
              "    </tr>\n",
              "    <tr>\n",
              "      <th>4</th>\n",
              "      <td>CHF, congestive heart failure</td>\n",
              "      <td>357</td>\n",
              "      <td>3.273127</td>\n",
              "    </tr>\n",
              "    <tr>\n",
              "      <th>5</th>\n",
              "      <td>Pneumonia, bacterial</td>\n",
              "      <td>332</td>\n",
              "      <td>3.043917</td>\n",
              "    </tr>\n",
              "    <tr>\n",
              "      <th>6</th>\n",
              "      <td>Sepsis, renal/UTI (including bladder)</td>\n",
              "      <td>331</td>\n",
              "      <td>3.034748</td>\n",
              "    </tr>\n",
              "    <tr>\n",
              "      <th>7</th>\n",
              "      <td>CVA, cerebrovascular accident/stroke</td>\n",
              "      <td>331</td>\n",
              "      <td>3.034748</td>\n",
              "    </tr>\n",
              "    <tr>\n",
              "      <th>8</th>\n",
              "      <td>Arrest, respiratory (without cardiac arrest)</td>\n",
              "      <td>330</td>\n",
              "      <td>3.025580</td>\n",
              "    </tr>\n",
              "    <tr>\n",
              "      <th>9</th>\n",
              "      <td>Sepsis, unknown</td>\n",
              "      <td>318</td>\n",
              "      <td>2.915559</td>\n",
              "    </tr>\n",
              "    <tr>\n",
              "      <th>10</th>\n",
              "      <td>Hemorrhage/hematoma, intracranial</td>\n",
              "      <td>300</td>\n",
              "      <td>2.750527</td>\n",
              "    </tr>\n",
              "    <tr>\n",
              "      <th>11</th>\n",
              "      <td>Infarction, acute myocardial (MI)</td>\n",
              "      <td>221</td>\n",
              "      <td>2.026222</td>\n",
              "    </tr>\n",
              "    <tr>\n",
              "      <th>12</th>\n",
              "      <td>Respiratory - medical, other</td>\n",
              "      <td>185</td>\n",
              "      <td>1.696158</td>\n",
              "    </tr>\n",
              "    <tr>\n",
              "      <th>13</th>\n",
              "      <td>Sepsis, other</td>\n",
              "      <td>181</td>\n",
              "      <td>1.659485</td>\n",
              "    </tr>\n",
              "    <tr>\n",
              "      <th>14</th>\n",
              "      <td>Emphysema/bronchitis</td>\n",
              "      <td>168</td>\n",
              "      <td>1.540295</td>\n",
              "    </tr>\n",
              "    <tr>\n",
              "      <th>15</th>\n",
              "      <td>Rhythm disturbance (atrial, supraventricular)</td>\n",
              "      <td>140</td>\n",
              "      <td>1.283579</td>\n",
              "    </tr>\n",
              "    <tr>\n",
              "      <th>16</th>\n",
              "      <td>Sepsis, cutaneous/soft tissue</td>\n",
              "      <td>135</td>\n",
              "      <td>1.237737</td>\n",
              "    </tr>\n",
              "    <tr>\n",
              "      <th>17</th>\n",
              "      <td>Coma/change in level of consciousness (for hep...</td>\n",
              "      <td>127</td>\n",
              "      <td>1.164390</td>\n",
              "    </tr>\n",
              "    <tr>\n",
              "      <th>18</th>\n",
              "      <td>Bleeding, upper GI</td>\n",
              "      <td>124</td>\n",
              "      <td>1.136885</td>\n",
              "    </tr>\n",
              "    <tr>\n",
              "      <th>19</th>\n",
              "      <td>Shock, cardiogenic</td>\n",
              "      <td>123</td>\n",
              "      <td>1.127716</td>\n",
              "    </tr>\n",
              "  </tbody>\n",
              "</table>\n",
              "</div>"
            ],
            "text/plain": [
              "                                              Disease  ...  Mortality(%)\n",
              "0   Cardiac arrest (with or without respiratory ar...  ...     17.420006\n",
              "1                                   Sepsis, pulmonary  ...      9.791877\n",
              "2                                                      ...      6.344549\n",
              "3                                          Sepsis, GI  ...      3.584854\n",
              "4                       CHF, congestive heart failure  ...      3.273127\n",
              "5                                Pneumonia, bacterial  ...      3.043917\n",
              "6               Sepsis, renal/UTI (including bladder)  ...      3.034748\n",
              "7                CVA, cerebrovascular accident/stroke  ...      3.034748\n",
              "8        Arrest, respiratory (without cardiac arrest)  ...      3.025580\n",
              "9                                     Sepsis, unknown  ...      2.915559\n",
              "10                  Hemorrhage/hematoma, intracranial  ...      2.750527\n",
              "11                  Infarction, acute myocardial (MI)  ...      2.026222\n",
              "12                       Respiratory - medical, other  ...      1.696158\n",
              "13                                      Sepsis, other  ...      1.659485\n",
              "14                               Emphysema/bronchitis  ...      1.540295\n",
              "15      Rhythm disturbance (atrial, supraventricular)  ...      1.283579\n",
              "16                      Sepsis, cutaneous/soft tissue  ...      1.237737\n",
              "17  Coma/change in level of consciousness (for hep...  ...      1.164390\n",
              "18                                 Bleeding, upper GI  ...      1.136885\n",
              "19                                 Shock, cardiogenic  ...      1.127716\n",
              "\n",
              "[20 rows x 3 columns]"
            ]
          },
          "metadata": {
            "tags": []
          },
          "execution_count": 95
        }
      ]
    },
    {
      "cell_type": "code",
      "metadata": {
        "id": "kAra2iDDrwyV",
        "colab_type": "code",
        "colab": {}
      },
      "source": [
        "%%bigquery --project $project_id topdiseases_hospdeath\n",
        "select apacheadmissiondx, count(apacheadmissiondx) as count,count(apacheadmissiondx)*100/(select count(*) from `physionet-data.eicu_crd.patient` where hospitaldischargestatus='Expired') as morpct\n",
        "from `physionet-data.eicu_crd.patient` \n",
        "where hospitaldischargestatus='Expired'\n",
        "group by apacheadmissiondx \n",
        "order by count(apacheadmissiondx) desc\n",
        "limit 20;"
      ],
      "execution_count": 0,
      "outputs": []
    },
    {
      "cell_type": "code",
      "metadata": {
        "id": "PCfe670Cr52r",
        "colab_type": "code",
        "colab": {
          "base_uri": "https://localhost:8080/",
          "height": 639
        },
        "outputId": "60ce97e8-ec45-497c-875c-087dbab47293"
      },
      "source": [
        "topdiseases_hospdeath.columns=['Disease','Patients(#)','Mortality(%)']\n",
        "topdiseases_hospdeath"
      ],
      "execution_count": 97,
      "outputs": [
        {
          "output_type": "execute_result",
          "data": {
            "text/html": [
              "<div>\n",
              "<style scoped>\n",
              "    .dataframe tbody tr th:only-of-type {\n",
              "        vertical-align: middle;\n",
              "    }\n",
              "\n",
              "    .dataframe tbody tr th {\n",
              "        vertical-align: top;\n",
              "    }\n",
              "\n",
              "    .dataframe thead th {\n",
              "        text-align: right;\n",
              "    }\n",
              "</style>\n",
              "<table border=\"1\" class=\"dataframe\">\n",
              "  <thead>\n",
              "    <tr style=\"text-align: right;\">\n",
              "      <th></th>\n",
              "      <th>Disease</th>\n",
              "      <th>Patients(#)</th>\n",
              "      <th>Mortality(%)</th>\n",
              "    </tr>\n",
              "  </thead>\n",
              "  <tbody>\n",
              "    <tr>\n",
              "      <th>0</th>\n",
              "      <td>Cardiac arrest (with or without respiratory ar...</td>\n",
              "      <td>2345</td>\n",
              "      <td>13.024883</td>\n",
              "    </tr>\n",
              "    <tr>\n",
              "      <th>1</th>\n",
              "      <td>Sepsis, pulmonary</td>\n",
              "      <td>1641</td>\n",
              "      <td>9.114641</td>\n",
              "    </tr>\n",
              "    <tr>\n",
              "      <th>2</th>\n",
              "      <td></td>\n",
              "      <td>1481</td>\n",
              "      <td>8.225950</td>\n",
              "    </tr>\n",
              "    <tr>\n",
              "      <th>3</th>\n",
              "      <td>CHF, congestive heart failure</td>\n",
              "      <td>683</td>\n",
              "      <td>3.793601</td>\n",
              "    </tr>\n",
              "    <tr>\n",
              "      <th>4</th>\n",
              "      <td>CVA, cerebrovascular accident/stroke</td>\n",
              "      <td>662</td>\n",
              "      <td>3.676961</td>\n",
              "    </tr>\n",
              "    <tr>\n",
              "      <th>5</th>\n",
              "      <td>Sepsis, renal/UTI (including bladder)</td>\n",
              "      <td>591</td>\n",
              "      <td>3.282604</td>\n",
              "    </tr>\n",
              "    <tr>\n",
              "      <th>6</th>\n",
              "      <td>Pneumonia, bacterial</td>\n",
              "      <td>585</td>\n",
              "      <td>3.249278</td>\n",
              "    </tr>\n",
              "    <tr>\n",
              "      <th>7</th>\n",
              "      <td>Sepsis, GI</td>\n",
              "      <td>579</td>\n",
              "      <td>3.215952</td>\n",
              "    </tr>\n",
              "    <tr>\n",
              "      <th>8</th>\n",
              "      <td>Arrest, respiratory (without cardiac arrest)</td>\n",
              "      <td>566</td>\n",
              "      <td>3.143746</td>\n",
              "    </tr>\n",
              "    <tr>\n",
              "      <th>9</th>\n",
              "      <td>Sepsis, unknown</td>\n",
              "      <td>480</td>\n",
              "      <td>2.666074</td>\n",
              "    </tr>\n",
              "    <tr>\n",
              "      <th>10</th>\n",
              "      <td>Hemorrhage/hematoma, intracranial</td>\n",
              "      <td>467</td>\n",
              "      <td>2.593868</td>\n",
              "    </tr>\n",
              "    <tr>\n",
              "      <th>11</th>\n",
              "      <td>Infarction, acute myocardial (MI)</td>\n",
              "      <td>345</td>\n",
              "      <td>1.916241</td>\n",
              "    </tr>\n",
              "    <tr>\n",
              "      <th>12</th>\n",
              "      <td>Emphysema/bronchitis</td>\n",
              "      <td>328</td>\n",
              "      <td>1.821817</td>\n",
              "    </tr>\n",
              "    <tr>\n",
              "      <th>13</th>\n",
              "      <td>Respiratory - medical, other</td>\n",
              "      <td>322</td>\n",
              "      <td>1.788491</td>\n",
              "    </tr>\n",
              "    <tr>\n",
              "      <th>14</th>\n",
              "      <td>Sepsis, other</td>\n",
              "      <td>308</td>\n",
              "      <td>1.710731</td>\n",
              "    </tr>\n",
              "    <tr>\n",
              "      <th>15</th>\n",
              "      <td>Rhythm disturbance (atrial, supraventricular)</td>\n",
              "      <td>285</td>\n",
              "      <td>1.582982</td>\n",
              "    </tr>\n",
              "    <tr>\n",
              "      <th>16</th>\n",
              "      <td>Coma/change in level of consciousness (for hep...</td>\n",
              "      <td>260</td>\n",
              "      <td>1.444124</td>\n",
              "    </tr>\n",
              "    <tr>\n",
              "      <th>17</th>\n",
              "      <td>Sepsis, cutaneous/soft tissue</td>\n",
              "      <td>219</td>\n",
              "      <td>1.216396</td>\n",
              "    </tr>\n",
              "    <tr>\n",
              "      <th>18</th>\n",
              "      <td>Bleeding, upper GI</td>\n",
              "      <td>201</td>\n",
              "      <td>1.116419</td>\n",
              "    </tr>\n",
              "    <tr>\n",
              "      <th>19</th>\n",
              "      <td>Renal failure, acute</td>\n",
              "      <td>198</td>\n",
              "      <td>1.099756</td>\n",
              "    </tr>\n",
              "  </tbody>\n",
              "</table>\n",
              "</div>"
            ],
            "text/plain": [
              "                                              Disease  ...  Mortality(%)\n",
              "0   Cardiac arrest (with or without respiratory ar...  ...     13.024883\n",
              "1                                   Sepsis, pulmonary  ...      9.114641\n",
              "2                                                      ...      8.225950\n",
              "3                       CHF, congestive heart failure  ...      3.793601\n",
              "4                CVA, cerebrovascular accident/stroke  ...      3.676961\n",
              "5               Sepsis, renal/UTI (including bladder)  ...      3.282604\n",
              "6                                Pneumonia, bacterial  ...      3.249278\n",
              "7                                          Sepsis, GI  ...      3.215952\n",
              "8        Arrest, respiratory (without cardiac arrest)  ...      3.143746\n",
              "9                                     Sepsis, unknown  ...      2.666074\n",
              "10                  Hemorrhage/hematoma, intracranial  ...      2.593868\n",
              "11                  Infarction, acute myocardial (MI)  ...      1.916241\n",
              "12                               Emphysema/bronchitis  ...      1.821817\n",
              "13                       Respiratory - medical, other  ...      1.788491\n",
              "14                                      Sepsis, other  ...      1.710731\n",
              "15      Rhythm disturbance (atrial, supraventricular)  ...      1.582982\n",
              "16  Coma/change in level of consciousness (for hep...  ...      1.444124\n",
              "17                      Sepsis, cutaneous/soft tissue  ...      1.216396\n",
              "18                                 Bleeding, upper GI  ...      1.116419\n",
              "19                               Renal failure, acute  ...      1.099756\n",
              "\n",
              "[20 rows x 3 columns]"
            ]
          },
          "metadata": {
            "tags": []
          },
          "execution_count": 97
        }
      ]
    }
  ]
}
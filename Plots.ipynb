{
  "nbformat": 4,
  "nbformat_minor": 0,
  "metadata": {
    "colab": {
      "name": "Plots.ipynb",
      "provenance": [],
      "authorship_tag": "ABX9TyMmxhsD6rOz9nr8Af1lClzz",
      "include_colab_link": true
    },
    "kernelspec": {
      "name": "python3",
      "display_name": "Python 3"
    }
  },
  "cells": [
    {
      "cell_type": "markdown",
      "metadata": {
        "id": "view-in-github",
        "colab_type": "text"
      },
      "source": [
        "<a href=\"https://colab.research.google.com/github/sumaiya08/medicaldata/blob/master/Plots.ipynb\" target=\"_parent\"><img src=\"https://colab.research.google.com/assets/colab-badge.svg\" alt=\"Open In Colab\"/></a>"
      ]
    },
    {
      "cell_type": "markdown",
      "metadata": {
        "id": "3Sr7LjCVxO9i",
        "colab_type": "text"
      },
      "source": [
        "# **Exploratory Analysis of clinical data (ICU clinical research)**\n",
        "Dataset obtained by requesting access - [eICU Collaborative Research Database](https://eicu-crd.mit.edu/)\n",
        "\n",
        "We are exploring tables belonging to the *eicu_crd* dataset. It contains vast clinical data for over 200,000 deidentified patients like age, ethnicity, vital signs, diagnosis and drugname.\n",
        "\n",
        "To give a better meaning to this analysis, we will also visually represent it using various plots.  \n",
        "\n",
        "Verified obtained results from [here](https://www.medrxiv.org/content/10.1101/2020.03.29.20042028v1)."
      ]
    },
    {
      "cell_type": "code",
      "metadata": {
        "id": "2xE3MfvqUOc8",
        "colab_type": "code",
        "colab": {}
      },
      "source": [
        "import os\n",
        "import numpy as np\n",
        "import pandas as pd\n",
        "import matplotlib.pyplot as plt\n",
        "import seaborn as sns\n",
        "import pandas.util.testing as tm\n",
        "sns.set()\n",
        "\n",
        "# Access data using Google BigQuery.\n",
        "from google.colab import auth\n",
        "from google.cloud import bigquery"
      ],
      "execution_count": 0,
      "outputs": []
    },
    {
      "cell_type": "code",
      "metadata": {
        "id": "zUIoyRGJUliZ",
        "colab_type": "code",
        "outputId": "2f849631-bf94-4b02-dd69-009408138f0d",
        "colab": {
          "base_uri": "https://localhost:8080/",
          "height": 34
        }
      },
      "source": [
        "auth.authenticate_user()\n",
        "print('Authenticated')"
      ],
      "execution_count": 0,
      "outputs": [
        {
          "output_type": "stream",
          "text": [
            "Authenticated\n"
          ],
          "name": "stdout"
        }
      ]
    },
    {
      "cell_type": "code",
      "metadata": {
        "id": "-bXGFBIpUns_",
        "colab_type": "code",
        "colab": {}
      },
      "source": [
        "project_id='eicudata'"
      ],
      "execution_count": 0,
      "outputs": []
    },
    {
      "cell_type": "markdown",
      "metadata": {
        "id": "IMamUZ2hYCXD",
        "colab_type": "text"
      },
      "source": [
        "## Frequency of hospital admission amongst patients\n",
        "### 1.  Query to find total number of unique patients and the count of their visits"
      ]
    },
    {
      "cell_type": "code",
      "metadata": {
        "id": "4u7iOPniYE5C",
        "colab_type": "code",
        "colab": {}
      },
      "source": [
        "%%bigquery --project $project_id freq\n",
        "select uniquepid, count(patienthealthsystemstayid) as numvisit\n",
        "from `physionet-data.eicu_crd.patient` \n",
        "group by uniquepid\n",
        "order by uniquepid"
      ],
      "execution_count": 0,
      "outputs": []
    },
    {
      "cell_type": "code",
      "metadata": {
        "id": "l-xXh4mCYMOp",
        "colab_type": "code",
        "outputId": "ec265dfb-1de7-4c50-815c-95bd1079ce7d",
        "colab": {
          "base_uri": "https://localhost:8080/",
          "height": 34
        }
      },
      "source": [
        "freq\n",
        "print('Total number of patients -', len(freq))"
      ],
      "execution_count": 0,
      "outputs": [
        {
          "output_type": "stream",
          "text": [
            "Total number of patients - 139367\n"
          ],
          "name": "stdout"
        }
      ]
    },
    {
      "cell_type": "markdown",
      "metadata": {
        "id": "Z9eszqL7UzzW",
        "colab_type": "text"
      },
      "source": [
        "# Visualising the frequency of admission of patients to the hospital:\n",
        "## 1. Obtaining count of frequency of vists\n",
        "## 2. Plotting a pie chart to visualise this data"
      ]
    },
    {
      "cell_type": "code",
      "metadata": {
        "id": "MhCVpSi3Y7Gj",
        "colab_type": "code",
        "outputId": "b0d05896-c82d-4404-9ff2-b1278bf40879",
        "colab": {
          "base_uri": "https://localhost:8080/",
          "height": 264
        }
      },
      "source": [
        "a=freq.numvisit[freq.numvisit==1].count()\n",
        "b=freq.numvisit[freq.numvisit==2].count()\n",
        "c=freq.numvisit[freq.numvisit==3].count()\n",
        "d=freq.numvisit[freq.numvisit>=4].count()\n",
        "visits = [a,b,c,d]\n",
        "\n",
        "\n",
        "labels = '1','2','3','4 or more'\n",
        "plt.pie(visits,autopct='%1.0f%%')\n",
        "plt.title('Frequency of patient visits')\n",
        "plt.legend(labels,title='Number of visits', loc =\"best\")\n",
        "plt.text(1.5,-1.0,'Total number of patients = 139367 ',bbox=dict(facecolor='grey',alpha=0.5))\n",
        "plt.axis('equal')\n",
        "plt.show()"
      ],
      "execution_count": 0,
      "outputs": [
        {
          "output_type": "display_data",
          "data": {
            "image/png": "[encoded data removed]",
            "text/plain": [
              "<Figure size 432x288 with 1 Axes>"
            ]
          },
          "metadata": {
            "tags": []
          }
        }
      ]
    },
    {
      "cell_type": "markdown",
      "metadata": {
        "id": "KJexhoRQVW0k",
        "colab_type": "text"
      },
      "source": [
        "# Visualising some of the demographic factors (age,gender) of the patient table in eicu dataset :\n",
        "## Data Pre-processing\n",
        "### 1. Extract patient table from the dataset"
      ]
    },
    {
      "cell_type": "code",
      "metadata": {
        "id": "Hb1gpMBKZTWZ",
        "colab_type": "code",
        "colab": {}
      },
      "source": [
        "%%bigquery --project $project_id patient\n",
        "select * from `physionet-data.eicu_crd.patient`;"
      ],
      "execution_count": 0,
      "outputs": []
    },
    {
      "cell_type": "markdown",
      "metadata": {
        "id": "BwzmFVO8nHU_",
        "colab_type": "text"
      },
      "source": [
        "### 2. Clean the data extracted (treat missing and unknown values)"
      ]
    },
    {
      "cell_type": "code",
      "metadata": {
        "id": "XR5iagG31Buz",
        "colab_type": "code",
        "outputId": "f642bec8-012c-4a1d-ae87-dff9ba05603e",
        "colab": {
          "base_uri": "https://localhost:8080/",
          "height": 640
        }
      },
      "source": [
        "missing = patient[(patient['gender'] == '') |(patient['gender'] == 'Other')|(patient['gender'] == 'Unknown')| (patient['ethnicity'] == '')|(patient['ethnicity'] == 'Other/Unknown')|(patient['unitdischargestatus']=='')|(patient['hospitaldischargestatus']=='')|(patient['age']=='')].index\n",
        "patient = patient.drop(index=missing)\n",
        "patient"
      ],
      "execution_count": 0,
      "outputs": [
        {
          "output_type": "execute_result",
          "data": {
            "text/html": [
              "<div>\n",
              "<style scoped>\n",
              "    .dataframe tbody tr th:only-of-type {\n",
              "        vertical-align: middle;\n",
              "    }\n",
              "\n",
              "    .dataframe tbody tr th {\n",
              "        vertical-align: top;\n",
              "    }\n",
              "\n",
              "    .dataframe thead th {\n",
              "        text-align: right;\n",
              "    }\n",
              "</style>\n",
              "<table border=\"1\" class=\"dataframe\">\n",
              "  <thead>\n",
              "    <tr style=\"text-align: right;\">\n",
              "      <th></th>\n",
              "      <th>patientunitstayid</th>\n",
              "      <th>patienthealthsystemstayid</th>\n",
              "      <th>gender</th>\n",
              "      <th>age</th>\n",
              "      <th>ethnicity</th>\n",
              "      <th>hospitalid</th>\n",
              "      <th>wardid</th>\n",
              "      <th>apacheadmissiondx</th>\n",
              "      <th>admissionheight</th>\n",
              "      <th>hospitaladmittime24</th>\n",
              "      <th>hospitaladmitoffset</th>\n",
              "      <th>hospitaladmitsource</th>\n",
              "      <th>hospitaldischargeyear</th>\n",
              "      <th>hospitaldischargetime24</th>\n",
              "      <th>hospitaldischargeoffset</th>\n",
              "      <th>hospitaldischargelocation</th>\n",
              "      <th>hospitaldischargestatus</th>\n",
              "      <th>unittype</th>\n",
              "      <th>unitadmittime24</th>\n",
              "      <th>unitadmitsource</th>\n",
              "      <th>unitvisitnumber</th>\n",
              "      <th>unitstaytype</th>\n",
              "      <th>admissionweight</th>\n",
              "      <th>dischargeweight</th>\n",
              "      <th>unitdischargetime24</th>\n",
              "      <th>unitdischargeoffset</th>\n",
              "      <th>unitdischargelocation</th>\n",
              "      <th>unitdischargestatus</th>\n",
              "      <th>uniquepid</th>\n",
              "    </tr>\n",
              "  </thead>\n",
              "  <tbody>\n",
              "    <tr>\n",
              "      <th>1</th>\n",
              "      <td>3036927</td>\n",
              "      <td>2462651</td>\n",
              "      <td>Male</td>\n",
              "      <td>51</td>\n",
              "      <td>Caucasian</td>\n",
              "      <td>420</td>\n",
              "      <td>1026</td>\n",
              "      <td>Cardiovascular medical, other</td>\n",
              "      <td>177.8</td>\n",
              "      <td>19:38:00</td>\n",
              "      <td>-240</td>\n",
              "      <td>Emergency Department</td>\n",
              "      <td>2015</td>\n",
              "      <td>22:00:00</td>\n",
              "      <td>14302</td>\n",
              "      <td>Home</td>\n",
              "      <td>Alive</td>\n",
              "      <td>Med-Surg ICU</td>\n",
              "      <td>23:38:00</td>\n",
              "      <td></td>\n",
              "      <td>1</td>\n",
              "      <td>admit</td>\n",
              "      <td>NaN</td>\n",
              "      <td>NaN</td>\n",
              "      <td>23:38:00</td>\n",
              "      <td>0</td>\n",
              "      <td>Other ICU</td>\n",
              "      <td>Alive</td>\n",
              "      <td>030-57208</td>\n",
              "    </tr>\n",
              "    <tr>\n",
              "      <th>2</th>\n",
              "      <td>3058863</td>\n",
              "      <td>2481889</td>\n",
              "      <td>Female</td>\n",
              "      <td>31</td>\n",
              "      <td>Caucasian</td>\n",
              "      <td>420</td>\n",
              "      <td>1026</td>\n",
              "      <td>Diabetic ketoacidosis</td>\n",
              "      <td>162.6</td>\n",
              "      <td>03:29:00</td>\n",
              "      <td>-292</td>\n",
              "      <td>Emergency Department</td>\n",
              "      <td>2015</td>\n",
              "      <td>23:00:00</td>\n",
              "      <td>879</td>\n",
              "      <td>Home</td>\n",
              "      <td>Alive</td>\n",
              "      <td>Med-Surg ICU</td>\n",
              "      <td>08:21:00</td>\n",
              "      <td></td>\n",
              "      <td>1</td>\n",
              "      <td>admit</td>\n",
              "      <td>NaN</td>\n",
              "      <td>NaN</td>\n",
              "      <td>08:21:00</td>\n",
              "      <td>0</td>\n",
              "      <td>Other ICU</td>\n",
              "      <td>Alive</td>\n",
              "      <td>030-13634</td>\n",
              "    </tr>\n",
              "    <tr>\n",
              "      <th>3</th>\n",
              "      <td>3072720</td>\n",
              "      <td>2494105</td>\n",
              "      <td>Male</td>\n",
              "      <td>58</td>\n",
              "      <td>Caucasian</td>\n",
              "      <td>420</td>\n",
              "      <td>1026</td>\n",
              "      <td></td>\n",
              "      <td>173.0</td>\n",
              "      <td>00:10:00</td>\n",
              "      <td>0</td>\n",
              "      <td>Other Hospital</td>\n",
              "      <td>2015</td>\n",
              "      <td>17:30:00</td>\n",
              "      <td>5360</td>\n",
              "      <td>Home</td>\n",
              "      <td>Alive</td>\n",
              "      <td>Med-Surg ICU</td>\n",
              "      <td>00:10:00</td>\n",
              "      <td></td>\n",
              "      <td>1</td>\n",
              "      <td>admit</td>\n",
              "      <td>NaN</td>\n",
              "      <td>NaN</td>\n",
              "      <td>00:10:00</td>\n",
              "      <td>0</td>\n",
              "      <td>Other ICU</td>\n",
              "      <td>Alive</td>\n",
              "      <td>030-53536</td>\n",
              "    </tr>\n",
              "    <tr>\n",
              "      <th>4</th>\n",
              "      <td>3075429</td>\n",
              "      <td>2496542</td>\n",
              "      <td>Female</td>\n",
              "      <td>68</td>\n",
              "      <td>Caucasian</td>\n",
              "      <td>420</td>\n",
              "      <td>1026</td>\n",
              "      <td></td>\n",
              "      <td>165.1</td>\n",
              "      <td>22:38:00</td>\n",
              "      <td>-1</td>\n",
              "      <td>Other Hospital</td>\n",
              "      <td>2014</td>\n",
              "      <td>23:05:00</td>\n",
              "      <td>12986</td>\n",
              "      <td>Death</td>\n",
              "      <td>Expired</td>\n",
              "      <td>Med-Surg ICU</td>\n",
              "      <td>22:39:00</td>\n",
              "      <td></td>\n",
              "      <td>1</td>\n",
              "      <td>admit</td>\n",
              "      <td>NaN</td>\n",
              "      <td>NaN</td>\n",
              "      <td>22:39:00</td>\n",
              "      <td>0</td>\n",
              "      <td>Other ICU</td>\n",
              "      <td>Alive</td>\n",
              "      <td>030-59276</td>\n",
              "    </tr>\n",
              "    <tr>\n",
              "      <th>5</th>\n",
              "      <td>3076905</td>\n",
              "      <td>2497834</td>\n",
              "      <td>Female</td>\n",
              "      <td>51</td>\n",
              "      <td>Caucasian</td>\n",
              "      <td>420</td>\n",
              "      <td>1026</td>\n",
              "      <td>ARDS-adult respiratory distress syndrome, non-...</td>\n",
              "      <td>165.1</td>\n",
              "      <td>01:32:00</td>\n",
              "      <td>0</td>\n",
              "      <td>Other Hospital</td>\n",
              "      <td>2015</td>\n",
              "      <td>06:11:00</td>\n",
              "      <td>279</td>\n",
              "      <td>Death</td>\n",
              "      <td>Expired</td>\n",
              "      <td>Med-Surg ICU</td>\n",
              "      <td>01:32:00</td>\n",
              "      <td></td>\n",
              "      <td>1</td>\n",
              "      <td>admit</td>\n",
              "      <td>NaN</td>\n",
              "      <td>NaN</td>\n",
              "      <td>01:32:00</td>\n",
              "      <td>0</td>\n",
              "      <td>Other ICU</td>\n",
              "      <td>Alive</td>\n",
              "      <td>030-43695</td>\n",
              "    </tr>\n",
              "    <tr>\n",
              "      <th>...</th>\n",
              "      <td>...</td>\n",
              "      <td>...</td>\n",
              "      <td>...</td>\n",
              "      <td>...</td>\n",
              "      <td>...</td>\n",
              "      <td>...</td>\n",
              "      <td>...</td>\n",
              "      <td>...</td>\n",
              "      <td>...</td>\n",
              "      <td>...</td>\n",
              "      <td>...</td>\n",
              "      <td>...</td>\n",
              "      <td>...</td>\n",
              "      <td>...</td>\n",
              "      <td>...</td>\n",
              "      <td>...</td>\n",
              "      <td>...</td>\n",
              "      <td>...</td>\n",
              "      <td>...</td>\n",
              "      <td>...</td>\n",
              "      <td>...</td>\n",
              "      <td>...</td>\n",
              "      <td>...</td>\n",
              "      <td>...</td>\n",
              "      <td>...</td>\n",
              "      <td>...</td>\n",
              "      <td>...</td>\n",
              "      <td>...</td>\n",
              "      <td>...</td>\n",
              "    </tr>\n",
              "    <tr>\n",
              "      <th>200854</th>\n",
              "      <td>2096032</td>\n",
              "      <td>1661752</td>\n",
              "      <td>Female</td>\n",
              "      <td>47</td>\n",
              "      <td>Caucasian</td>\n",
              "      <td>307</td>\n",
              "      <td>766</td>\n",
              "      <td>Coma/change in level of consciousness (for hep...</td>\n",
              "      <td>149.9</td>\n",
              "      <td>11:03:00</td>\n",
              "      <td>-3570</td>\n",
              "      <td></td>\n",
              "      <td>2015</td>\n",
              "      <td>20:40:00</td>\n",
              "      <td>11407</td>\n",
              "      <td>Death</td>\n",
              "      <td>Expired</td>\n",
              "      <td>Med-Surg ICU</td>\n",
              "      <td>22:33:00</td>\n",
              "      <td>Step-Down Unit (SDU)</td>\n",
              "      <td>2</td>\n",
              "      <td>transfer</td>\n",
              "      <td>57.2</td>\n",
              "      <td>64.40</td>\n",
              "      <td>20:40:00</td>\n",
              "      <td>11407</td>\n",
              "      <td>Death</td>\n",
              "      <td>Expired</td>\n",
              "      <td>021-104956</td>\n",
              "    </tr>\n",
              "    <tr>\n",
              "      <th>200855</th>\n",
              "      <td>2122777</td>\n",
              "      <td>1682592</td>\n",
              "      <td>Female</td>\n",
              "      <td>46</td>\n",
              "      <td>Asian</td>\n",
              "      <td>307</td>\n",
              "      <td>766</td>\n",
              "      <td>Asthma</td>\n",
              "      <td>162.6</td>\n",
              "      <td>02:49:00</td>\n",
              "      <td>-1469</td>\n",
              "      <td></td>\n",
              "      <td>2015</td>\n",
              "      <td>16:37:00</td>\n",
              "      <td>5119</td>\n",
              "      <td>Home</td>\n",
              "      <td>Alive</td>\n",
              "      <td>Med-Surg ICU</td>\n",
              "      <td>03:18:00</td>\n",
              "      <td>Step-Down Unit (SDU)</td>\n",
              "      <td>3</td>\n",
              "      <td>admit</td>\n",
              "      <td>43.1</td>\n",
              "      <td>43.23</td>\n",
              "      <td>15:18:00</td>\n",
              "      <td>2160</td>\n",
              "      <td>Telemetry</td>\n",
              "      <td>Alive</td>\n",
              "      <td>021-39849</td>\n",
              "    </tr>\n",
              "    <tr>\n",
              "      <th>200856</th>\n",
              "      <td>2128239</td>\n",
              "      <td>1686820</td>\n",
              "      <td>Male</td>\n",
              "      <td>66</td>\n",
              "      <td>Caucasian</td>\n",
              "      <td>307</td>\n",
              "      <td>766</td>\n",
              "      <td>Pneumonia, bacterial</td>\n",
              "      <td>190.5</td>\n",
              "      <td>04:23:54</td>\n",
              "      <td>-13812</td>\n",
              "      <td></td>\n",
              "      <td>2014</td>\n",
              "      <td>00:47:00</td>\n",
              "      <td>21972</td>\n",
              "      <td>Skilled Nursing Facility</td>\n",
              "      <td>Alive</td>\n",
              "      <td>Med-Surg ICU</td>\n",
              "      <td>18:35:00</td>\n",
              "      <td>Step-Down Unit (SDU)</td>\n",
              "      <td>2</td>\n",
              "      <td>transfer</td>\n",
              "      <td>86.4</td>\n",
              "      <td>NaN</td>\n",
              "      <td>20:23:00</td>\n",
              "      <td>4428</td>\n",
              "      <td>Acute Care/Floor</td>\n",
              "      <td>Alive</td>\n",
              "      <td>021-182987</td>\n",
              "    </tr>\n",
              "    <tr>\n",
              "      <th>200857</th>\n",
              "      <td>2179970</td>\n",
              "      <td>1726952</td>\n",
              "      <td>Male</td>\n",
              "      <td>69</td>\n",
              "      <td>Caucasian</td>\n",
              "      <td>307</td>\n",
              "      <td>766</td>\n",
              "      <td>GI obstruction</td>\n",
              "      <td>175.3</td>\n",
              "      <td>22:46:00</td>\n",
              "      <td>-11480</td>\n",
              "      <td></td>\n",
              "      <td>2015</td>\n",
              "      <td>18:51:00</td>\n",
              "      <td>25725</td>\n",
              "      <td>Home</td>\n",
              "      <td>Alive</td>\n",
              "      <td>Med-Surg ICU</td>\n",
              "      <td>22:06:00</td>\n",
              "      <td>Step-Down Unit (SDU)</td>\n",
              "      <td>4</td>\n",
              "      <td>admit</td>\n",
              "      <td>85.5</td>\n",
              "      <td>NaN</td>\n",
              "      <td>22:39:00</td>\n",
              "      <td>33</td>\n",
              "      <td>Step-Down Unit (SDU)</td>\n",
              "      <td>Alive</td>\n",
              "      <td>021-249258</td>\n",
              "    </tr>\n",
              "    <tr>\n",
              "      <th>200858</th>\n",
              "      <td>2226510</td>\n",
              "      <td>1763121</td>\n",
              "      <td>Female</td>\n",
              "      <td>68</td>\n",
              "      <td>Caucasian</td>\n",
              "      <td>307</td>\n",
              "      <td>766</td>\n",
              "      <td>Sepsis, pulmonary</td>\n",
              "      <td>172.7</td>\n",
              "      <td>14:39:00</td>\n",
              "      <td>-2714</td>\n",
              "      <td></td>\n",
              "      <td>2015</td>\n",
              "      <td>19:04:00</td>\n",
              "      <td>17711</td>\n",
              "      <td>Death</td>\n",
              "      <td>Expired</td>\n",
              "      <td>Med-Surg ICU</td>\n",
              "      <td>11:53:00</td>\n",
              "      <td>Step-Down Unit (SDU)</td>\n",
              "      <td>2</td>\n",
              "      <td>transfer</td>\n",
              "      <td>117.7</td>\n",
              "      <td>125.50</td>\n",
              "      <td>00:18:00</td>\n",
              "      <td>9385</td>\n",
              "      <td>ICU</td>\n",
              "      <td>Alive</td>\n",
              "      <td>021-156855</td>\n",
              "    </tr>\n",
              "  </tbody>\n",
              "</table>\n",
              "<p>187378 rows × 29 columns</p>\n",
              "</div>"
            ],
            "text/plain": [
              "        patientunitstayid  ...   uniquepid\n",
              "1                 3036927  ...   030-57208\n",
              "2                 3058863  ...   030-13634\n",
              "3                 3072720  ...   030-53536\n",
              "4                 3075429  ...   030-59276\n",
              "5                 3076905  ...   030-43695\n",
              "...                   ...  ...         ...\n",
              "200854            2096032  ...  021-104956\n",
              "200855            2122777  ...   021-39849\n",
              "200856            2128239  ...  021-182987\n",
              "200857            2179970  ...  021-249258\n",
              "200858            2226510  ...  021-156855\n",
              "\n",
              "[187378 rows x 29 columns]"
            ]
          },
          "metadata": {
            "tags": []
          },
          "execution_count": 156
        }
      ]
    },
    {
      "cell_type": "markdown",
      "metadata": {
        "id": "NKn4ZgKvCR1F",
        "colab_type": "text"
      },
      "source": [
        "### 3. Convert datatype of age column to numeric from str"
      ]
    },
    {
      "cell_type": "code",
      "metadata": {
        "id": "FQ1q7zlroDMg",
        "colab_type": "code",
        "outputId": "00d32262-f3a5-4d4d-ff8c-090de2acc71f",
        "colab": {
          "base_uri": "https://localhost:8080/",
          "height": 218
        }
      },
      "source": [
        "patient['age'].replace({'> 89': '89'}, inplace=True)\n",
        "patient['age']=patient['age'].apply(pd.to_numeric)\n",
        "patient['age']"
      ],
      "execution_count": 0,
      "outputs": [
        {
          "output_type": "execute_result",
          "data": {
            "text/plain": [
              "1         51\n",
              "2         31\n",
              "3         58\n",
              "4         68\n",
              "5         51\n",
              "          ..\n",
              "200854    47\n",
              "200855    46\n",
              "200856    66\n",
              "200857    69\n",
              "200858    68\n",
              "Name: age, Length: 187378, dtype: int64"
            ]
          },
          "metadata": {
            "tags": []
          },
          "execution_count": 157
        }
      ]
    },
    {
      "cell_type": "markdown",
      "metadata": {
        "id": "A2g3-W-OVkAY",
        "colab_type": "text"
      },
      "source": [
        "# Visualisation of demographic factors\n"
      ]
    },
    {
      "cell_type": "markdown",
      "metadata": {
        "id": "ZAfpqF41u0tY",
        "colab_type": "text"
      },
      "source": [
        "## 1. Extracting alive patients from the data.\n",
        "## 2. Categorizing alive patients data based on the age groups like (15-19),(20-24), etc."
      ]
    },
    {
      "cell_type": "code",
      "metadata": {
        "id": "70ChzG06r5cW",
        "colab_type": "code",
        "outputId": "318c00d5-dce0-4a64-a97c-3d761754dfb9",
        "colab": {
          "base_uri": "https://localhost:8080/",
          "height": 134
        }
      },
      "source": [
        "#Creating a label ages for plots\n",
        "plt_ages=[\"15-19\",\"20-24\",\"25-29\",\"30-34\",\"35-39\",\"40-44\",\"45-49\",\"50-54\",\"55-59\",\"60-64\",\"65-69\",\"70-74\",\"75-79\",\"80-84\",\"85+\"]\n",
        "alive = patient[(patient.unitdischargestatus=='Alive')]\n",
        "print(f'Highest age of an alive patient is {alive.age.max()},\\nLowest age of an alive patient is {alive.age.min() }')\n",
        "print(f'Unique age values are \\n {alive.age.unique()}')"
      ],
      "execution_count": 0,
      "outputs": [
        {
          "output_type": "stream",
          "text": [
            "Highest age of an alive patient is 89,\n",
            "Lowest age of an alive patient is 0\n",
            "Unique age values are \n",
            " [51 31 58 68 82 66 72 46 84 67 69 83 89 35 57 49 53 43 88 74 42 73 36 56\n",
            " 38 44 18 78 77 70 76 71 85 65 61 24 47 60 54 45 87 79 81 55 20 52 80 62\n",
            " 59 64 63 22 75 21 15 30 19 40 86 50 23 48 39 28 34 32 29 41 26 25 16  0\n",
            " 10  1 37 27 33 17 13 14 12  3  2  7 11  9  8  5  4  6]\n"
          ],
          "name": "stdout"
        }
      ]
    },
    {
      "cell_type": "code",
      "metadata": {
        "id": "fzZJzYMUIJGr",
        "colab_type": "code",
        "outputId": "2a4811ca-c57e-4072-94fa-8a3b32a10809",
        "colab": {
          "base_uri": "https://localhost:8080/",
          "height": 269
        }
      },
      "source": [
        "ages=range(15,86,5)\n",
        "ages_upper = range(19, 90, 5)\n",
        "#ages = [15, 20, 25...]\n",
        "#ages_uppers = [19, 24, 29...]\n",
        "alive_counts = []\n",
        "for age_l, age_u in zip(ages, ages_upper):\n",
        "  count = len(alive[(alive['age']>=age_l) & (alive['age']<=age_u)])\n",
        "  alive_counts.append(count)\n",
        "  print(f'Age Group {age_l}-{age_u} -> Count ={count}')"
      ],
      "execution_count": 0,
      "outputs": [
        {
          "output_type": "stream",
          "text": [
            "Age Group 15-19 -> Count =1454\n",
            "Age Group 20-24 -> Count =3566\n",
            "Age Group 25-29 -> Count =4111\n",
            "Age Group 30-34 -> Count =4702\n",
            "Age Group 35-39 -> Count =5288\n",
            "Age Group 40-44 -> Count =6686\n",
            "Age Group 45-49 -> Count =9676\n",
            "Age Group 50-54 -> Count =14442\n",
            "Age Group 55-59 -> Count =17489\n",
            "Age Group 60-64 -> Count =19133\n",
            "Age Group 65-69 -> Count =20847\n",
            "Age Group 70-74 -> Count =19978\n",
            "Age Group 75-79 -> Count =17869\n",
            "Age Group 80-84 -> Count =14887\n",
            "Age Group 85-89 -> Count =16940\n"
          ],
          "name": "stdout"
        }
      ]
    },
    {
      "cell_type": "markdown",
      "metadata": {
        "id": "YPNCe6MKMXhW",
        "colab_type": "text"
      },
      "source": [
        "## 1. Extracting expired patients from the data.\n",
        "## 2. Categorizing expired patients data based on the age groups like (15-19),(20-24), etc."
      ]
    },
    {
      "cell_type": "code",
      "metadata": {
        "id": "PKVI7cWCkvJS",
        "colab_type": "code",
        "outputId": "9178a41f-1ebe-43b4-e32d-d341c942e42f",
        "colab": {
          "base_uri": "https://localhost:8080/",
          "height": 134
        }
      },
      "source": [
        "expired = patient[patient.unitdischargestatus=='Expired']\n",
        "print(f'Highest age of an expired patient is {expired.age.max()} \\nLowest age of an expired patient is {expired.age.min()}')\n",
        "print(f'Unique age values of expired patients: \\n{expired.age.unique()}')\n"
      ],
      "execution_count": 0,
      "outputs": [
        {
          "output_type": "stream",
          "text": [
            "Highest age of an expired patient is 89 \n",
            "Lowest age of an expired patient is 14\n",
            "Unique age values of expired patients: \n",
            "[64 88 63 85 83 57 84 80 51 66 86 58 89 78 59 55 47 70 82 69 67 73 34 81\n",
            " 79 56 68 53 46 60 52 44 43 49 29 41 61 72 71 65 74 54 77 40 75 37 76 28\n",
            " 23 62 38 50 87 25 39 32 36 48 42 30 33 21 35 31 45 27 26 24 18 20 22 19\n",
            " 17 16 15 14]\n"
          ],
          "name": "stdout"
        }
      ]
    },
    {
      "cell_type": "code",
      "metadata": {
        "id": "U2zE52dTMIRj",
        "colab_type": "code",
        "outputId": "2832ea18-0fb2-4322-e3b6-8e0ec2571c92",
        "colab": {
          "base_uri": "https://localhost:8080/",
          "height": 286
        }
      },
      "source": [
        "print('Expired patient count based on age group')\n",
        "exp_counts = []\n",
        "for age_l, age_u in zip(ages, ages_upper):\n",
        "  count = len(expired[(expired['age']>=age_l) & (expired['age']<=age_u)])\n",
        "  exp_counts.append(count)\n",
        "  print(f'Age Group {age_l}-{age_u} -> Count ={count}')"
      ],
      "execution_count": 0,
      "outputs": [
        {
          "output_type": "stream",
          "text": [
            "Expired patient count based on age group\n",
            "Age Group 15-19 -> Count =32\n",
            "Age Group 20-24 -> Count =83\n",
            "Age Group 25-29 -> Count =97\n",
            "Age Group 30-34 -> Count =136\n",
            "Age Group 35-39 -> Count =181\n",
            "Age Group 40-44 -> Count =196\n",
            "Age Group 45-49 -> Count =358\n",
            "Age Group 50-54 -> Count =633\n",
            "Age Group 55-59 -> Count =812\n",
            "Age Group 60-64 -> Count =1074\n",
            "Age Group 65-69 -> Count =1213\n",
            "Age Group 70-74 -> Count =1260\n",
            "Age Group 75-79 -> Count =1326\n",
            "Age Group 80-84 -> Count =1249\n",
            "Age Group 85-89 -> Count =1535\n"
          ],
          "name": "stdout"
        }
      ]
    },
    {
      "cell_type": "markdown",
      "metadata": {
        "id": "N4-MbylzWspa",
        "colab_type": "text"
      },
      "source": [
        "## Visual representation of admission frequencies of patients based on different age groups - "
      ]
    },
    {
      "cell_type": "code",
      "metadata": {
        "id": "gkIiiejfXMFD",
        "colab_type": "code",
        "outputId": "66cac8e1-4c7e-402f-ccb2-ac441ab3af3c",
        "colab": {
          "base_uri": "https://localhost:8080/",
          "height": 320
        }
      },
      "source": [
        "N=15\n",
        "ind = np.arange(N)\n",
        "#index = np.arange(len(ages))\n",
        "#score_label = np.arange(0,12500,2500)\n",
        "width = 0.75\n",
        "p1 = plt.bar(plt_ages,exp_counts,width,color=\"red\",label=\"Expired\")\n",
        "p2 = plt.bar(plt_ages,alive_counts,width,color=\"blue\",label=\"Alive\",bottom=exp_counts)\n",
        "plt.xlabel('Age')\n",
        "plt.ylabel('Frequency of ICU admission')\n",
        "plt.title('Patients ICU admission frequencies among different age group')\n",
        "plt.xticks(ind, plt_ages,rotation =45)\n",
        "#plt.set_xticklabels(ages, rotation = 45, ha=\"right\")\n",
        "plt.yticks(np.arange(0, 25000, 2500))\n",
        "plt.legend((p1[0], p2[0]), ('Expired', 'Alive'))\n",
        "plt.show()"
      ],
      "execution_count": 0,
      "outputs": [
        {
          "output_type": "display_data",
          "data": {
            "image/png": "[encoded data removed]",
            "text/plain": [
              "<Figure size 432x288 with 1 Axes>"
            ]
          },
          "metadata": {
            "tags": []
          }
        }
      ]
    },
    {
      "cell_type": "markdown",
      "metadata": {
        "id": "xgmhNj2OXpWM",
        "colab_type": "text"
      },
      "source": [
        "# Visualising expired patients based on gender\n"
      ]
    },
    {
      "cell_type": "markdown",
      "metadata": {
        "id": "I7Ole49svODq",
        "colab_type": "text"
      },
      "source": [
        "## 1. Extracting expired patients data from 'expired' dataframe based on gender."
      ]
    },
    {
      "cell_type": "code",
      "metadata": {
        "id": "lrc5qJcIoKqy",
        "colab_type": "code",
        "colab": {}
      },
      "source": [
        "female = expired[(expired.gender=='Female')]\n",
        "male = expired[(expired.gender=='Male')]"
      ],
      "execution_count": 0,
      "outputs": []
    },
    {
      "cell_type": "markdown",
      "metadata": {
        "id": "RYwD8g9JOIAX",
        "colab_type": "text"
      },
      "source": [
        "### 2. Categorizing expired female data based on age groups."
      ]
    },
    {
      "cell_type": "code",
      "metadata": {
        "id": "z93or_wJkE_V",
        "colab_type": "code",
        "outputId": "d4eef6df-f7ef-421a-9649-aa4fc98bd9ae",
        "colab": {
          "base_uri": "https://localhost:8080/"
        }
      },
      "source": [
        "print('Expired female patient count based on age group')\n",
        "fem_counts = []\n",
        "for age_l, age_u in zip(ages, ages_upper):\n",
        "  count = len(female[(female['age']>=age_l) & (female['age']<=age_u)])\n",
        "  fem_counts.append(count)\n",
        "  print(f'Age Group {age_l}-{age_u} -> Count ={count}')"
      ],
      "execution_count": 0,
      "outputs": [
        {
          "output_type": "stream",
          "text": [
            "Expired female patient count based on age group\n",
            "Age Group 15-19 -> Count =12\n",
            "Age Group 20-24 -> Count =27\n",
            "Age Group 25-29 -> Count =40\n",
            "Age Group 30-34 -> Count =48\n",
            "Age Group 35-39 -> Count =70\n",
            "Age Group 40-44 -> Count =90\n",
            "Age Group 45-49 -> Count =147\n",
            "Age Group 50-54 -> Count =277\n",
            "Age Group 55-59 -> Count =353\n",
            "Age Group 60-64 -> Count =444\n",
            "Age Group 65-69 -> Count =590\n",
            "Age Group 70-74 -> Count =539\n",
            "Age Group 75-79 -> Count =616\n",
            "Age Group 80-84 -> Count =598\n",
            "Age Group 85-89 -> Count =821\n"
          ],
          "name": "stdout"
        }
      ]
    },
    {
      "cell_type": "markdown",
      "metadata": {
        "id": "JERo8gncOuvT",
        "colab_type": "text"
      },
      "source": [
        "### 3. Categorizing expired male data based on age groups."
      ]
    },
    {
      "cell_type": "code",
      "metadata": {
        "id": "QdhrTmeFPA95",
        "colab_type": "code",
        "outputId": "d63cf8b3-a245-4f1d-b031-7cbff699fa6d",
        "colab": {
          "base_uri": "https://localhost:8080/"
        }
      },
      "source": [
        "print('Expired male patient count based on age group')\n",
        "male_counts = []\n",
        "for age_l, age_u in zip(ages, ages_upper):\n",
        "  count = len(male[(male['age']>=age_l) & (male['age']<=age_u)])\n",
        "  male_counts.append(count)\n",
        "  print(f'Age Group {age_l}-{age_u} -> Count ={count}')"
      ],
      "execution_count": 0,
      "outputs": [
        {
          "output_type": "stream",
          "text": [
            "Expired male patient count based on age group\n",
            "Age Group 15-19 -> Count =20\n",
            "Age Group 20-24 -> Count =56\n",
            "Age Group 25-29 -> Count =57\n",
            "Age Group 30-34 -> Count =88\n",
            "Age Group 35-39 -> Count =111\n",
            "Age Group 40-44 -> Count =106\n",
            "Age Group 45-49 -> Count =211\n",
            "Age Group 50-54 -> Count =356\n",
            "Age Group 55-59 -> Count =459\n",
            "Age Group 60-64 -> Count =630\n",
            "Age Group 65-69 -> Count =623\n",
            "Age Group 70-74 -> Count =721\n",
            "Age Group 75-79 -> Count =710\n",
            "Age Group 80-84 -> Count =651\n",
            "Age Group 85-89 -> Count =714\n"
          ],
          "name": "stdout"
        }
      ]
    },
    {
      "cell_type": "markdown",
      "metadata": {
        "id": "8rJOk6lzPN4t",
        "colab_type": "text"
      },
      "source": [
        "### 4. Calculating mortality rate for this categorized data (for both male and female)\n"
      ]
    },
    {
      "cell_type": "code",
      "metadata": {
        "id": "DrMqoyrOPX8W",
        "colab_type": "code",
        "outputId": "7a984e40-7ac1-41a4-b96a-47a84999ad81",
        "colab": {
          "base_uri": "https://localhost:8080/",
          "height": 286
        }
      },
      "source": [
        "print('Mortality rate for female patients')\n",
        "mor_fem =[]\n",
        "for i in range(15):\n",
        "  val = fem_counts[i]/len(expired)*100\n",
        "  mor_fem.append(val)\n",
        "  print(f'Mortality rate(%) for age group {plt_ages[i]} is {val}')"
      ],
      "execution_count": 0,
      "outputs": [
        {
          "output_type": "stream",
          "text": [
            "Mortality rate for female patients\n",
            "Mortality rate(%) for age group 15-19 is 0.11780875711761242\n",
            "Mortality rate(%) for age group 20-24 is 0.26506970351462794\n",
            "Mortality rate(%) for age group 25-29 is 0.3926958570587081\n",
            "Mortality rate(%) for age group 30-34 is 0.4712350284704497\n",
            "Mortality rate(%) for age group 35-39 is 0.6872177498527391\n",
            "Mortality rate(%) for age group 40-44 is 0.8835656783820931\n",
            "Mortality rate(%) for age group 45-49 is 1.443157274690752\n",
            "Mortality rate(%) for age group 50-54 is 2.719418810131553\n",
            "Mortality rate(%) for age group 55-59 is 3.465540938543098\n",
            "Mortality rate(%) for age group 60-64 is 4.3589240133516585\n",
            "Mortality rate(%) for age group 65-69 is 5.792263891615943\n",
            "Mortality rate(%) for age group 70-74 is 5.291576673866091\n",
            "Mortality rate(%) for age group 75-79 is 6.047516198704104\n",
            "Mortality rate(%) for age group 80-84 is 5.870803063027685\n",
            "Mortality rate(%) for age group 85+ is 8.060082466129982\n"
          ],
          "name": "stdout"
        }
      ]
    },
    {
      "cell_type": "code",
      "metadata": {
        "id": "zKpTH5WzRvt6",
        "colab_type": "code",
        "outputId": "e2e7945c-1d9b-452f-ba72-520e864fb025",
        "colab": {
          "base_uri": "https://localhost:8080/",
          "height": 286
        }
      },
      "source": [
        "print('Mortality rate for male patients')\n",
        "mor_male =[]\n",
        "for i in range(15):\n",
        "  val = male_counts[i]/len(expired)*100\n",
        "  mor_male.append(val)\n",
        "  print(f'Mortality rate(%) for age group {plt_ages[i]} is {val}')"
      ],
      "execution_count": 0,
      "outputs": [
        {
          "output_type": "stream",
          "text": [
            "Mortality rate for male patients\n",
            "Mortality rate(%) for age group 15-19 is 0.19634792852935404\n",
            "Mortality rate(%) for age group 20-24 is 0.5497741998821912\n",
            "Mortality rate(%) for age group 25-29 is 0.559591596308659\n",
            "Mortality rate(%) for age group 30-34 is 0.8639308855291578\n",
            "Mortality rate(%) for age group 35-39 is 1.0897310033379146\n",
            "Mortality rate(%) for age group 40-44 is 1.0406440212055763\n",
            "Mortality rate(%) for age group 45-49 is 2.0714706459846846\n",
            "Mortality rate(%) for age group 50-54 is 3.4949931278225015\n",
            "Mortality rate(%) for age group 55-59 is 4.5061849597486745\n",
            "Mortality rate(%) for age group 60-64 is 6.184959748674652\n",
            "Mortality rate(%) for age group 65-69 is 6.116237973689378\n",
            "Mortality rate(%) for age group 70-74 is 7.078342823483212\n",
            "Mortality rate(%) for age group 75-79 is 6.970351462792069\n",
            "Mortality rate(%) for age group 80-84 is 6.391125073630473\n",
            "Mortality rate(%) for age group 85+ is 7.009621048497938\n"
          ],
          "name": "stdout"
        }
      ]
    },
    {
      "cell_type": "markdown",
      "metadata": {
        "id": "W7Gc2E0OY2dh",
        "colab_type": "text"
      },
      "source": [
        "# Visualising patients ICU mortality rate per age group and gender -"
      ]
    },
    {
      "cell_type": "code",
      "metadata": {
        "id": "gE48vmt5MOYg",
        "colab_type": "code",
        "outputId": "f602a620-7c8d-4fe3-f1c9-368a5f4e6b60",
        "colab": {
          "base_uri": "https://localhost:8080/",
          "height": 320
        }
      },
      "source": [
        "N=15\n",
        "ind = np.arange(N)\n",
        "#index = np.arange(len(ages))\n",
        "#score_label = np.arange(0,12500,2500)\n",
        "width = 0.4\n",
        "#plt.grid()\n",
        "p1 = plt.bar(ind,mor_fem,width,color=\"red\",label=\"Female\")\n",
        "p2 = plt.bar(ind+width,mor_male,width,color=\"blue\",label=\"Male\")\n",
        "plt.xlabel('Age')\n",
        "plt.ylabel('Mortality Rate (%)')\n",
        "plt.title('Patients ICU mortality rate per age group and gender')\n",
        "plt.xticks(ind + width/2, plt_ages,rotation =45)\n",
        "#plt.set_xticklabels(ages, rotation = 45, ha=\"right\")\n",
        "plt.yticks(np.arange(0.0, 11.5))\n",
        "plt.legend((p1[0], p2[0]), ('Female', 'Male'))\n",
        "plt.show()"
      ],
      "execution_count": 0,
      "outputs": [
        {
          "output_type": "display_data",
          "data": {
            "image/png": "[encoded data removed]",
            "text/plain": [
              "<Figure size 432x288 with 1 Axes>"
            ]
          },
          "metadata": {
            "tags": []
          }
        }
      ]
    },
    {
      "cell_type": "markdown",
      "metadata": {
        "id": "CLM_ha1SZDYZ",
        "colab_type": "text"
      },
      "source": [
        "# Visualising age distribution of expired patients based on gender - "
      ]
    },
    {
      "cell_type": "markdown",
      "metadata": {
        "id": "MZUDwFCZK1gP",
        "colab_type": "text"
      },
      "source": [
        "## Age distribution of patients who died in ICU based on gender \n"
      ]
    },
    {
      "cell_type": "code",
      "metadata": {
        "id": "TOnHkan9JbBJ",
        "colab_type": "code",
        "outputId": "31d64c55-a179-45e0-bd8c-39101781cb27",
        "colab": {
          "base_uri": "https://localhost:8080/",
          "height": 285
        }
      },
      "source": [
        "bplot = sns.boxplot(y='age', x='gender', \n",
        "                 data=expired, \n",
        "                 width=0.5,\n",
        "                 palette=\"colorblind\",)"
      ],
      "execution_count": 0,
      "outputs": [
        {
          "output_type": "display_data",
          "data": {
            "image/png": "[encoded data removed]",
            "text/plain": [
              "<Figure size 432x288 with 1 Axes>"
            ]
          },
          "metadata": {
            "tags": []
          }
        }
      ]
    },
    {
      "cell_type": "markdown",
      "metadata": {
        "id": "RiXKa_chZsw5",
        "colab_type": "text"
      },
      "source": [
        "# Extract ethnicity distribution of patients - "
      ]
    },
    {
      "cell_type": "code",
      "metadata": {
        "id": "VYQEoJEYNbUs",
        "colab_type": "code",
        "outputId": "1c7810ea-07e6-42a2-ab49-b9fd785d2c41",
        "colab": {
          "base_uri": "https://localhost:8080/",
          "height": 402
        }
      },
      "source": [
        "race = patient[['uniquepid','ethnicity']]\n",
        "race.uniquepid.drop_duplicates\n",
        "race.sort_values(by=['uniquepid'])\n",
        "race"
      ],
      "execution_count": 0,
      "outputs": [
        {
          "output_type": "execute_result",
          "data": {
            "text/html": [
              "<div>\n",
              "<style scoped>\n",
              "    .dataframe tbody tr th:only-of-type {\n",
              "        vertical-align: middle;\n",
              "    }\n",
              "\n",
              "    .dataframe tbody tr th {\n",
              "        vertical-align: top;\n",
              "    }\n",
              "\n",
              "    .dataframe thead th {\n",
              "        text-align: right;\n",
              "    }\n",
              "</style>\n",
              "<table border=\"1\" class=\"dataframe\">\n",
              "  <thead>\n",
              "    <tr style=\"text-align: right;\">\n",
              "      <th></th>\n",
              "      <th>uniquepid</th>\n",
              "      <th>ethnicity</th>\n",
              "    </tr>\n",
              "  </thead>\n",
              "  <tbody>\n",
              "    <tr>\n",
              "      <th>1</th>\n",
              "      <td>030-57208</td>\n",
              "      <td>Caucasian</td>\n",
              "    </tr>\n",
              "    <tr>\n",
              "      <th>2</th>\n",
              "      <td>030-13634</td>\n",
              "      <td>Caucasian</td>\n",
              "    </tr>\n",
              "    <tr>\n",
              "      <th>3</th>\n",
              "      <td>030-53536</td>\n",
              "      <td>Caucasian</td>\n",
              "    </tr>\n",
              "    <tr>\n",
              "      <th>4</th>\n",
              "      <td>030-59276</td>\n",
              "      <td>Caucasian</td>\n",
              "    </tr>\n",
              "    <tr>\n",
              "      <th>5</th>\n",
              "      <td>030-43695</td>\n",
              "      <td>Caucasian</td>\n",
              "    </tr>\n",
              "    <tr>\n",
              "      <th>...</th>\n",
              "      <td>...</td>\n",
              "      <td>...</td>\n",
              "    </tr>\n",
              "    <tr>\n",
              "      <th>200854</th>\n",
              "      <td>021-104956</td>\n",
              "      <td>Caucasian</td>\n",
              "    </tr>\n",
              "    <tr>\n",
              "      <th>200855</th>\n",
              "      <td>021-39849</td>\n",
              "      <td>Asian</td>\n",
              "    </tr>\n",
              "    <tr>\n",
              "      <th>200856</th>\n",
              "      <td>021-182987</td>\n",
              "      <td>Caucasian</td>\n",
              "    </tr>\n",
              "    <tr>\n",
              "      <th>200857</th>\n",
              "      <td>021-249258</td>\n",
              "      <td>Caucasian</td>\n",
              "    </tr>\n",
              "    <tr>\n",
              "      <th>200858</th>\n",
              "      <td>021-156855</td>\n",
              "      <td>Caucasian</td>\n",
              "    </tr>\n",
              "  </tbody>\n",
              "</table>\n",
              "<p>187378 rows × 2 columns</p>\n",
              "</div>"
            ],
            "text/plain": [
              "         uniquepid  ethnicity\n",
              "1        030-57208  Caucasian\n",
              "2        030-13634  Caucasian\n",
              "3        030-53536  Caucasian\n",
              "4        030-59276  Caucasian\n",
              "5        030-43695  Caucasian\n",
              "...            ...        ...\n",
              "200854  021-104956  Caucasian\n",
              "200855   021-39849      Asian\n",
              "200856  021-182987  Caucasian\n",
              "200857  021-249258  Caucasian\n",
              "200858  021-156855  Caucasian\n",
              "\n",
              "[187378 rows x 2 columns]"
            ]
          },
          "metadata": {
            "tags": []
          },
          "execution_count": 170
        }
      ]
    },
    {
      "cell_type": "code",
      "metadata": {
        "id": "OUKvHxcGUenh",
        "colab_type": "code",
        "colab": {}
      },
      "source": [
        "## SQL QUERY (WE WILL NOT USE THIS HERE AS WE WILL CONTINUE TO WORK WITH OUR PROCESSED DATA\n",
        "#%%bigquery --project $project_id race\n",
        "#select uniquepid, ethnicity\n",
        "#from `physionet-data.eicu_crd.patient` \n",
        "#group by uniquepid,ethnicity\n",
        "#order by uniquepid;"
      ],
      "execution_count": 0,
      "outputs": []
    },
    {
      "cell_type": "markdown",
      "metadata": {
        "id": "qCtSJf8_Z5kZ",
        "colab_type": "text"
      },
      "source": [
        "## 1. Finding number of each patients for each ethnicity"
      ]
    },
    {
      "cell_type": "code",
      "metadata": {
        "id": "8uEb_IBDY4CN",
        "colab_type": "code",
        "outputId": "438255b4-8f41-401c-8c79-ca544d54809f",
        "colab": {
          "base_uri": "https://localhost:8080/",
          "height": 101
        }
      },
      "source": [
        "race_count = []\n",
        "races = ['Native American','Asian','Hispanic','African American','Caucasian']\n",
        "for x in races:\n",
        "  val=race.ethnicity[race.ethnicity==x].count()\n",
        "  race_count.append(val)\n",
        "  print(f'Race count for {x} : {val}')"
      ],
      "execution_count": 0,
      "outputs": [
        {
          "output_type": "stream",
          "text": [
            "Race count for Native American : 1688\n",
            "Race count for Asian : 3221\n",
            "Race count for Hispanic : 7426\n",
            "Race count for African American : 21127\n",
            "Race count for Caucasian : 153916\n"
          ],
          "name": "stdout"
        }
      ]
    },
    {
      "cell_type": "markdown",
      "metadata": {
        "id": "NZ4ejdSDZp4A",
        "colab_type": "text"
      },
      "source": [
        "## Visualising ethnicity distribution of patients using pie chart"
      ]
    },
    {
      "cell_type": "code",
      "metadata": {
        "id": "B9gXp6I6K_7s",
        "colab_type": "code",
        "outputId": "80ac9aa5-e518-4e12-95e5-c65033b6110b",
        "colab": {
          "base_uri": "https://localhost:8080/",
          "height": 264
        }
      },
      "source": [
        "plt.pie(race_count,autopct='%1.2f%%',pctdistance=1.5,labeldistance = 2)\n",
        "plt.title('Patients ethnicity distribution')\n",
        "plt.legend(races,title='Ethnicity', loc =\"best\")\n",
        "plt.axis('equal')\n",
        "plt.show()"
      ],
      "execution_count": 0,
      "outputs": [
        {
          "output_type": "display_data",
          "data": {
            "image/png": "[encoded data removed]",
            "text/plain": [
              "<Figure size 432x288 with 1 Axes>"
            ]
          },
          "metadata": {
            "tags": []
          }
        }
      ]
    },
    {
      "cell_type": "markdown",
      "metadata": {
        "id": "-S0Xu2VzaVZy",
        "colab_type": "text"
      },
      "source": [
        "# Visualising ICU mortality rate per age group and ethnicity -"
      ]
    },
    {
      "cell_type": "markdown",
      "metadata": {
        "id": "aiDlh6jKv702",
        "colab_type": "text"
      },
      "source": [
        "## 1. Extracting expired patients data based on ethnicity"
      ]
    },
    {
      "cell_type": "code",
      "metadata": {
        "id": "BsEJTr_darvb",
        "colab_type": "code",
        "outputId": "ad53a455-5c42-407e-b1af-401259387d20",
        "colab": {
          "base_uri": "https://localhost:8080/",
          "height": 50
        }
      },
      "source": [
        "aa = expired[(expired.ethnicity=='African American')]\n",
        "print('Total deaths in African American patients:',len(aa))\n",
        "ca = expired[(expired.ethnicity=='Caucasian')]\n",
        "print('Total deaths in Caucasian patients:',len(ca))"
      ],
      "execution_count": 0,
      "outputs": [
        {
          "output_type": "stream",
          "text": [
            "Total deaths in African American patients: 1151\n",
            "Total deaths in Caucasian patients: 8399\n"
          ],
          "name": "stdout"
        }
      ]
    },
    {
      "cell_type": "markdown",
      "metadata": {
        "id": "QIS_9E3laKnj",
        "colab_type": "text"
      },
      "source": [
        "### 2. Categorising this extracted data as per age groups for African Americans -\n"
      ]
    },
    {
      "cell_type": "code",
      "metadata": {
        "id": "MKBCaQdMaJlQ",
        "colab_type": "code",
        "outputId": "6533ec46-cb2b-4c0d-c0f4-0801299085ef",
        "colab": {
          "base_uri": "https://localhost:8080/"
        }
      },
      "source": [
        "print('Expired African American patient count based on age group')\n",
        "aa_counts = []\n",
        "for age_l, age_u in zip(ages, ages_upper):\n",
        "  count = len(aa[(aa['age']>=age_l) & (aa['age']<=age_u)])\n",
        "  aa_counts.append(count)\n",
        "  print(f'Age Group {age_l}-{age_u} -> Count ={count}')"
      ],
      "execution_count": 0,
      "outputs": [
        {
          "output_type": "stream",
          "text": [
            "Expired African American patient count based on age group\n",
            "Age Group 15-19 -> Count =5\n",
            "Age Group 20-24 -> Count =17\n",
            "Age Group 25-29 -> Count =14\n",
            "Age Group 30-34 -> Count =36\n",
            "Age Group 35-39 -> Count =33\n",
            "Age Group 40-44 -> Count =49\n",
            "Age Group 45-49 -> Count =63\n",
            "Age Group 50-54 -> Count =99\n",
            "Age Group 55-59 -> Count =118\n",
            "Age Group 60-64 -> Count =142\n",
            "Age Group 65-69 -> Count =150\n",
            "Age Group 70-74 -> Count =124\n",
            "Age Group 75-79 -> Count =113\n",
            "Age Group 80-84 -> Count =89\n",
            "Age Group 85-89 -> Count =99\n"
          ],
          "name": "stdout"
        }
      ]
    },
    {
      "cell_type": "markdown",
      "metadata": {
        "id": "Ji_yjh_9a0Uv",
        "colab_type": "text"
      },
      "source": [
        "### 3. Categorising this extracted data as per age groups for Caucasians -\n"
      ]
    },
    {
      "cell_type": "code",
      "metadata": {
        "id": "a_SYw1RGa7tA",
        "colab_type": "code",
        "outputId": "bc51f8f1-5e1e-4254-a6b1-2920ea7d69b3",
        "colab": {
          "base_uri": "https://localhost:8080/"
        }
      },
      "source": [
        "print('Expired Caucasian patient count based on age group')\n",
        "ca_counts = []\n",
        "for age_l, age_u in zip(ages, ages_upper):\n",
        "  count = len(ca[(ca['age']>=age_l) & (ca['age']<=age_u)])\n",
        "  ca_counts.append(count)\n",
        "  print(f'Age Group {age_l}-{age_u} -> Count ={count}')"
      ],
      "execution_count": 0,
      "outputs": [
        {
          "output_type": "stream",
          "text": [
            "Expired Caucasian patient count based on age group\n",
            "Age Group 15-19 -> Count =23\n",
            "Age Group 20-24 -> Count =58\n",
            "Age Group 25-29 -> Count =72\n",
            "Age Group 30-34 -> Count =87\n",
            "Age Group 35-39 -> Count =124\n",
            "Age Group 40-44 -> Count =127\n",
            "Age Group 45-49 -> Count =264\n",
            "Age Group 50-54 -> Count =478\n",
            "Age Group 55-59 -> Count =643\n",
            "Age Group 60-64 -> Count =870\n",
            "Age Group 65-69 -> Count =1013\n",
            "Age Group 70-74 -> Count =1088\n",
            "Age Group 75-79 -> Count =1139\n",
            "Age Group 80-84 -> Count =1080\n",
            "Age Group 85-89 -> Count =1332\n"
          ],
          "name": "stdout"
        }
      ]
    },
    {
      "cell_type": "markdown",
      "metadata": {
        "id": "Qf4BkchmbLmw",
        "colab_type": "text"
      },
      "source": [
        "### 4. Calculating mortality rate for the categorised data  - (for both African American and Caucasian patients)"
      ]
    },
    {
      "cell_type": "code",
      "metadata": {
        "id": "3Gsj77DTbX4T",
        "colab_type": "code",
        "outputId": "32bc1f7d-836b-40b6-be37-0b1bcfcc64e0",
        "colab": {
          "base_uri": "https://localhost:8080/",
          "height": 286
        }
      },
      "source": [
        "print('Mortality rate(%) for African Americans for each age group')\n",
        "mor_aa =[]\n",
        "for i in range(15):\n",
        "  val = aa_counts[i]/len(expired)*100\n",
        "  mor_aa.append(val)\n",
        "  print(f'Mortality rate(%) for age group {plt_ages[i]} is {val}')"
      ],
      "execution_count": 0,
      "outputs": [
        {
          "output_type": "stream",
          "text": [
            "Mortality rate(%) for African Americans for each age group\n",
            "Mortality rate(%) for age group 15-19 is 0.04908698213233851\n",
            "Mortality rate(%) for age group 20-24 is 0.16689573924995094\n",
            "Mortality rate(%) for age group 25-29 is 0.1374435499705478\n",
            "Mortality rate(%) for age group 30-34 is 0.3534262713528373\n",
            "Mortality rate(%) for age group 35-39 is 0.32397408207343414\n",
            "Mortality rate(%) for age group 40-44 is 0.48105242489691735\n",
            "Mortality rate(%) for age group 45-49 is 0.6184959748674651\n",
            "Mortality rate(%) for age group 50-54 is 0.9719222462203023\n",
            "Mortality rate(%) for age group 55-59 is 1.1584527783231886\n",
            "Mortality rate(%) for age group 60-64 is 1.3940702925584134\n",
            "Mortality rate(%) for age group 65-69 is 1.472609463970155\n",
            "Mortality rate(%) for age group 70-74 is 1.217357156881995\n",
            "Mortality rate(%) for age group 75-79 is 1.1093657961908503\n",
            "Mortality rate(%) for age group 80-84 is 0.8737482819556254\n",
            "Mortality rate(%) for age group 85+ is 0.9719222462203023\n"
          ],
          "name": "stdout"
        }
      ]
    },
    {
      "cell_type": "code",
      "metadata": {
        "id": "4wrHVbCMbgCP",
        "colab_type": "code",
        "outputId": "6fe9b28c-00a2-4f61-9dd5-8447dda07387",
        "colab": {
          "base_uri": "https://localhost:8080/",
          "height": 286
        }
      },
      "source": [
        "print('Mortality rate(%) for Caucasians for each age group')\n",
        "mor_ca =[]\n",
        "for i in range(15):\n",
        "  val = ca_counts[i]/len(expired)*100\n",
        "  mor_ca.append(val)\n",
        "  print(f'Mortality rate(%) for age group {plt_ages[i]} is {val}')"
      ],
      "execution_count": 0,
      "outputs": [
        {
          "output_type": "stream",
          "text": [
            "Mortality rate(%) for Caucasians for each age group\n",
            "Mortality rate(%) for age group 15-19 is 0.2258001178087571\n",
            "Mortality rate(%) for age group 20-24 is 0.5694089927351267\n",
            "Mortality rate(%) for age group 25-29 is 0.7068525427056745\n",
            "Mortality rate(%) for age group 30-34 is 0.85411348910269\n",
            "Mortality rate(%) for age group 35-39 is 1.217357156881995\n",
            "Mortality rate(%) for age group 40-44 is 1.2468093461613978\n",
            "Mortality rate(%) for age group 45-49 is 2.591792656587473\n",
            "Mortality rate(%) for age group 50-54 is 4.692715491851561\n",
            "Mortality rate(%) for age group 55-59 is 6.312585902218731\n",
            "Mortality rate(%) for age group 60-64 is 8.5411348910269\n",
            "Mortality rate(%) for age group 65-69 is 9.94502258001178\n",
            "Mortality rate(%) for age group 70-74 is 10.68132731199686\n",
            "Mortality rate(%) for age group 75-79 is 11.182014529746711\n",
            "Mortality rate(%) for age group 80-84 is 10.602788140585115\n",
            "Mortality rate(%) for age group 85+ is 13.076772040054976\n"
          ],
          "name": "stdout"
        }
      ]
    },
    {
      "cell_type": "markdown",
      "metadata": {
        "id": "gzIINbAkcVj6",
        "colab_type": "text"
      },
      "source": [
        "# Visualisation of mortality rate per age group and ethnicity-"
      ]
    },
    {
      "cell_type": "code",
      "metadata": {
        "id": "Kmww_zQMa3cF",
        "colab_type": "code",
        "outputId": "1114c574-7f6a-473f-b68d-91107f20881f",
        "colab": {
          "base_uri": "https://localhost:8080/",
          "height": 320
        }
      },
      "source": [
        "N=15\n",
        "ind = np.arange(N)\n",
        "#index = np.arange(len(ages))\n",
        "#score_label = np.arange(0,12500,2500)\n",
        "width = 0.4\n",
        "p1 = plt.bar(ind,mor_aa,width,color=\"red\",label=\"African American\")\n",
        "p2 = plt.bar(ind+width,mor_ca,width,color=\"blue\",label=\"Caucasian\")\n",
        "plt.xlabel('Age')\n",
        "plt.ylabel('Mortality Rate(%)')\n",
        "plt.title('Patients ICU mortality rate per age group and ethnicity')\n",
        "plt.xticks(ind + width/2, plt_ages,rotation =45)\n",
        "#plt.set_xticklabels(ages, rotation = 45, ha=\"right\")\n",
        "plt.yticks(np.arange(0,15))\n",
        "plt.legend((p1[0], p2[0]), ('African American', 'Caucasian'))\n",
        "plt.show()"
      ],
      "execution_count": 0,
      "outputs": [
        {
          "output_type": "display_data",
          "data": {
            "image/png": "[encoded data removed]",
            "text/plain": [
              "<Figure size 432x288 with 1 Axes>"
            ]
          },
          "metadata": {
            "tags": []
          }
        }
      ]
    },
    {
      "cell_type": "markdown",
      "metadata": {
        "id": "3-ru5wAPjMSf",
        "colab_type": "text"
      },
      "source": [
        "# Visualisation depicting age distribution of patients who died in ICU based on different ethnic groups"
      ]
    },
    {
      "cell_type": "code",
      "metadata": {
        "id": "WpI9tzQAgtw5",
        "colab_type": "code",
        "outputId": "39b8c146-b141-4813-9570-77cdddc731f3",
        "colab": {
          "base_uri": "https://localhost:8080/",
          "height": 476
        }
      },
      "source": [
        "bplot = sns.boxplot(y='age', x='ethnicity', \n",
        "                 data=expired, \n",
        "                 width=0.5,\n",
        "                 palette=\"colorblind\")\n",
        "bplot.set_xticklabels(bplot.get_xticklabels(),rotation=45,horizontalalignment='right',fontsize='x-large',fontweight='light')\n",
        "#bplot.xticks(rotation=45)"
      ],
      "execution_count": 0,
      "outputs": [
        {
          "output_type": "execute_result",
          "data": {
            "text/plain": [
              "[Text(0, 0, 'Caucasian'),\n",
              " Text(0, 0, 'African American'),\n",
              " Text(0, 0, 'Hispanic'),\n",
              " Text(0, 0, 'Asian'),\n",
              " Text(0, 0, 'Native American')]"
            ]
          },
          "metadata": {
            "tags": []
          },
          "execution_count": 180
        },
        {
          "output_type": "display_data",
          "data": {
            "image/png": "[encoded data removed]",
            "text/plain": [
              "<Figure size 432x288 with 1 Axes>"
            ]
          },
          "metadata": {
            "tags": []
          }
        }
      ]
    },
    {
      "cell_type": "markdown",
      "metadata": {
        "id": "mhU10KuBcjrP",
        "colab_type": "text"
      },
      "source": [
        "# Dataframe that includes total deaths and mortality rate for each age group based on ethnicity -"
      ]
    },
    {
      "cell_type": "code",
      "metadata": {
        "id": "drIkD5gooXni",
        "colab_type": "code",
        "outputId": "9e14bdca-344a-4a18-f0a0-383eba8ac91f",
        "colab": {
          "base_uri": "https://localhost:8080/",
          "height": 491
        }
      },
      "source": [
        "table1={'Age column':plt_ages,'Caucasian Death #':ca_counts,'Caucasian Mortality Rate':mor_ca,'African American Death#':aa_counts,'African American Mortality Rate':mor_aa}\n",
        "table1_df=pd.DataFrame(table1)\n",
        "table1_df"
      ],
      "execution_count": 0,
      "outputs": [
        {
          "output_type": "execute_result",
          "data": {
            "text/html": [
              "<div>\n",
              "<style scoped>\n",
              "    .dataframe tbody tr th:only-of-type {\n",
              "        vertical-align: middle;\n",
              "    }\n",
              "\n",
              "    .dataframe tbody tr th {\n",
              "        vertical-align: top;\n",
              "    }\n",
              "\n",
              "    .dataframe thead th {\n",
              "        text-align: right;\n",
              "    }\n",
              "</style>\n",
              "<table border=\"1\" class=\"dataframe\">\n",
              "  <thead>\n",
              "    <tr style=\"text-align: right;\">\n",
              "      <th></th>\n",
              "      <th>Age column</th>\n",
              "      <th>Caucasian Death #</th>\n",
              "      <th>Caucasian Mortality Rate</th>\n",
              "      <th>African American Death#</th>\n",
              "      <th>African American Mortality Rate</th>\n",
              "    </tr>\n",
              "  </thead>\n",
              "  <tbody>\n",
              "    <tr>\n",
              "      <th>0</th>\n",
              "      <td>15-19</td>\n",
              "      <td>23</td>\n",
              "      <td>0.225800</td>\n",
              "      <td>5</td>\n",
              "      <td>0.049087</td>\n",
              "    </tr>\n",
              "    <tr>\n",
              "      <th>1</th>\n",
              "      <td>20-24</td>\n",
              "      <td>58</td>\n",
              "      <td>0.569409</td>\n",
              "      <td>17</td>\n",
              "      <td>0.166896</td>\n",
              "    </tr>\n",
              "    <tr>\n",
              "      <th>2</th>\n",
              "      <td>25-29</td>\n",
              "      <td>72</td>\n",
              "      <td>0.706853</td>\n",
              "      <td>14</td>\n",
              "      <td>0.137444</td>\n",
              "    </tr>\n",
              "    <tr>\n",
              "      <th>3</th>\n",
              "      <td>30-34</td>\n",
              "      <td>87</td>\n",
              "      <td>0.854113</td>\n",
              "      <td>36</td>\n",
              "      <td>0.353426</td>\n",
              "    </tr>\n",
              "    <tr>\n",
              "      <th>4</th>\n",
              "      <td>35-39</td>\n",
              "      <td>124</td>\n",
              "      <td>1.217357</td>\n",
              "      <td>33</td>\n",
              "      <td>0.323974</td>\n",
              "    </tr>\n",
              "    <tr>\n",
              "      <th>5</th>\n",
              "      <td>40-44</td>\n",
              "      <td>127</td>\n",
              "      <td>1.246809</td>\n",
              "      <td>49</td>\n",
              "      <td>0.481052</td>\n",
              "    </tr>\n",
              "    <tr>\n",
              "      <th>6</th>\n",
              "      <td>45-49</td>\n",
              "      <td>264</td>\n",
              "      <td>2.591793</td>\n",
              "      <td>63</td>\n",
              "      <td>0.618496</td>\n",
              "    </tr>\n",
              "    <tr>\n",
              "      <th>7</th>\n",
              "      <td>50-54</td>\n",
              "      <td>478</td>\n",
              "      <td>4.692715</td>\n",
              "      <td>99</td>\n",
              "      <td>0.971922</td>\n",
              "    </tr>\n",
              "    <tr>\n",
              "      <th>8</th>\n",
              "      <td>55-59</td>\n",
              "      <td>643</td>\n",
              "      <td>6.312586</td>\n",
              "      <td>118</td>\n",
              "      <td>1.158453</td>\n",
              "    </tr>\n",
              "    <tr>\n",
              "      <th>9</th>\n",
              "      <td>60-64</td>\n",
              "      <td>870</td>\n",
              "      <td>8.541135</td>\n",
              "      <td>142</td>\n",
              "      <td>1.394070</td>\n",
              "    </tr>\n",
              "    <tr>\n",
              "      <th>10</th>\n",
              "      <td>65-69</td>\n",
              "      <td>1013</td>\n",
              "      <td>9.945023</td>\n",
              "      <td>150</td>\n",
              "      <td>1.472609</td>\n",
              "    </tr>\n",
              "    <tr>\n",
              "      <th>11</th>\n",
              "      <td>70-74</td>\n",
              "      <td>1088</td>\n",
              "      <td>10.681327</td>\n",
              "      <td>124</td>\n",
              "      <td>1.217357</td>\n",
              "    </tr>\n",
              "    <tr>\n",
              "      <th>12</th>\n",
              "      <td>75-79</td>\n",
              "      <td>1139</td>\n",
              "      <td>11.182015</td>\n",
              "      <td>113</td>\n",
              "      <td>1.109366</td>\n",
              "    </tr>\n",
              "    <tr>\n",
              "      <th>13</th>\n",
              "      <td>80-84</td>\n",
              "      <td>1080</td>\n",
              "      <td>10.602788</td>\n",
              "      <td>89</td>\n",
              "      <td>0.873748</td>\n",
              "    </tr>\n",
              "    <tr>\n",
              "      <th>14</th>\n",
              "      <td>85+</td>\n",
              "      <td>1332</td>\n",
              "      <td>13.076772</td>\n",
              "      <td>99</td>\n",
              "      <td>0.971922</td>\n",
              "    </tr>\n",
              "  </tbody>\n",
              "</table>\n",
              "</div>"
            ],
            "text/plain": [
              "   Age column  ...  African American Mortality Rate\n",
              "0       15-19  ...                         0.049087\n",
              "1       20-24  ...                         0.166896\n",
              "2       25-29  ...                         0.137444\n",
              "3       30-34  ...                         0.353426\n",
              "4       35-39  ...                         0.323974\n",
              "5       40-44  ...                         0.481052\n",
              "6       45-49  ...                         0.618496\n",
              "7       50-54  ...                         0.971922\n",
              "8       55-59  ...                         1.158453\n",
              "9       60-64  ...                         1.394070\n",
              "10      65-69  ...                         1.472609\n",
              "11      70-74  ...                         1.217357\n",
              "12      75-79  ...                         1.109366\n",
              "13      80-84  ...                         0.873748\n",
              "14        85+  ...                         0.971922\n",
              "\n",
              "[15 rows x 5 columns]"
            ]
          },
          "metadata": {
            "tags": []
          },
          "execution_count": 181
        }
      ]
    },
    {
      "cell_type": "markdown",
      "metadata": {
        "id": "EOR0w93ScycM",
        "colab_type": "text"
      },
      "source": [
        "# Query to find most frequent diseases with highest mortality rates based on ICU discharge status - (TOP 20) "
      ]
    },
    {
      "cell_type": "markdown",
      "metadata": {
        "id": "oK5zSWDwwhDf",
        "colab_type": "text"
      },
      "source": [
        "## *Note - There are 2 types of discharge status in the dataset - ICU and hospital "
      ]
    },
    {
      "cell_type": "code",
      "metadata": {
        "id": "tyxLoVJsqmdq",
        "colab_type": "code",
        "colab": {}
      },
      "source": [
        "%%bigquery --project $project_id topdiseases_death\n",
        "select apacheadmissiondx, count(apacheadmissiondx) as count,count(apacheadmissiondx)*100/(select count(*) from `physionet-data.eicu_crd.patient` where unitdischargestatus='Expired') as morpct\n",
        "from `physionet-data.eicu_crd.patient` \n",
        "where unitdischargestatus='Expired'\n",
        "group by apacheadmissiondx \n",
        "order by count(apacheadmissiondx) desc\n",
        "limit 20;"
      ],
      "execution_count": 0,
      "outputs": []
    },
    {
      "cell_type": "code",
      "metadata": {
        "id": "VaYOEGE1q_f3",
        "colab_type": "code",
        "outputId": "b19da162-ff60-46b4-d820-caa094e9a987",
        "colab": {
          "base_uri": "https://localhost:8080/",
          "height": 639
        }
      },
      "source": [
        "topdiseases_death.columns=['Disease','Patients(#)','Mortality(%)']\n",
        "topdiseases_death\n"
      ],
      "execution_count": 0,
      "outputs": [
        {
          "output_type": "execute_result",
          "data": {
            "text/html": [
              "<div>\n",
              "<style scoped>\n",
              "    .dataframe tbody tr th:only-of-type {\n",
              "        vertical-align: middle;\n",
              "    }\n",
              "\n",
              "    .dataframe tbody tr th {\n",
              "        vertical-align: top;\n",
              "    }\n",
              "\n",
              "    .dataframe thead th {\n",
              "        text-align: right;\n",
              "    }\n",
              "</style>\n",
              "<table border=\"1\" class=\"dataframe\">\n",
              "  <thead>\n",
              "    <tr style=\"text-align: right;\">\n",
              "      <th></th>\n",
              "      <th>Disease</th>\n",
              "      <th>Patients(#)</th>\n",
              "      <th>Mortality(%)</th>\n",
              "    </tr>\n",
              "  </thead>\n",
              "  <tbody>\n",
              "    <tr>\n",
              "      <th>0</th>\n",
              "      <td>Cardiac arrest (with or without respiratory ar...</td>\n",
              "      <td>1900</td>\n",
              "      <td>17.420006</td>\n",
              "    </tr>\n",
              "    <tr>\n",
              "      <th>1</th>\n",
              "      <td>Sepsis, pulmonary</td>\n",
              "      <td>1068</td>\n",
              "      <td>9.791877</td>\n",
              "    </tr>\n",
              "    <tr>\n",
              "      <th>2</th>\n",
              "      <td></td>\n",
              "      <td>692</td>\n",
              "      <td>6.344549</td>\n",
              "    </tr>\n",
              "    <tr>\n",
              "      <th>3</th>\n",
              "      <td>Sepsis, GI</td>\n",
              "      <td>391</td>\n",
              "      <td>3.584854</td>\n",
              "    </tr>\n",
              "    <tr>\n",
              "      <th>4</th>\n",
              "      <td>CHF, congestive heart failure</td>\n",
              "      <td>357</td>\n",
              "      <td>3.273127</td>\n",
              "    </tr>\n",
              "    <tr>\n",
              "      <th>5</th>\n",
              "      <td>Pneumonia, bacterial</td>\n",
              "      <td>332</td>\n",
              "      <td>3.043917</td>\n",
              "    </tr>\n",
              "    <tr>\n",
              "      <th>6</th>\n",
              "      <td>Sepsis, renal/UTI (including bladder)</td>\n",
              "      <td>331</td>\n",
              "      <td>3.034748</td>\n",
              "    </tr>\n",
              "    <tr>\n",
              "      <th>7</th>\n",
              "      <td>CVA, cerebrovascular accident/stroke</td>\n",
              "      <td>331</td>\n",
              "      <td>3.034748</td>\n",
              "    </tr>\n",
              "    <tr>\n",
              "      <th>8</th>\n",
              "      <td>Arrest, respiratory (without cardiac arrest)</td>\n",
              "      <td>330</td>\n",
              "      <td>3.025580</td>\n",
              "    </tr>\n",
              "    <tr>\n",
              "      <th>9</th>\n",
              "      <td>Sepsis, unknown</td>\n",
              "      <td>318</td>\n",
              "      <td>2.915559</td>\n",
              "    </tr>\n",
              "    <tr>\n",
              "      <th>10</th>\n",
              "      <td>Hemorrhage/hematoma, intracranial</td>\n",
              "      <td>300</td>\n",
              "      <td>2.750527</td>\n",
              "    </tr>\n",
              "    <tr>\n",
              "      <th>11</th>\n",
              "      <td>Infarction, acute myocardial (MI)</td>\n",
              "      <td>221</td>\n",
              "      <td>2.026222</td>\n",
              "    </tr>\n",
              "    <tr>\n",
              "      <th>12</th>\n",
              "      <td>Respiratory - medical, other</td>\n",
              "      <td>185</td>\n",
              "      <td>1.696158</td>\n",
              "    </tr>\n",
              "    <tr>\n",
              "      <th>13</th>\n",
              "      <td>Sepsis, other</td>\n",
              "      <td>181</td>\n",
              "      <td>1.659485</td>\n",
              "    </tr>\n",
              "    <tr>\n",
              "      <th>14</th>\n",
              "      <td>Emphysema/bronchitis</td>\n",
              "      <td>168</td>\n",
              "      <td>1.540295</td>\n",
              "    </tr>\n",
              "    <tr>\n",
              "      <th>15</th>\n",
              "      <td>Rhythm disturbance (atrial, supraventricular)</td>\n",
              "      <td>140</td>\n",
              "      <td>1.283579</td>\n",
              "    </tr>\n",
              "    <tr>\n",
              "      <th>16</th>\n",
              "      <td>Sepsis, cutaneous/soft tissue</td>\n",
              "      <td>135</td>\n",
              "      <td>1.237737</td>\n",
              "    </tr>\n",
              "    <tr>\n",
              "      <th>17</th>\n",
              "      <td>Coma/change in level of consciousness (for hep...</td>\n",
              "      <td>127</td>\n",
              "      <td>1.164390</td>\n",
              "    </tr>\n",
              "    <tr>\n",
              "      <th>18</th>\n",
              "      <td>Bleeding, upper GI</td>\n",
              "      <td>124</td>\n",
              "      <td>1.136885</td>\n",
              "    </tr>\n",
              "    <tr>\n",
              "      <th>19</th>\n",
              "      <td>Shock, cardiogenic</td>\n",
              "      <td>123</td>\n",
              "      <td>1.127716</td>\n",
              "    </tr>\n",
              "  </tbody>\n",
              "</table>\n",
              "</div>"
            ],
            "text/plain": [
              "                                              Disease  ...  Mortality(%)\n",
              "0   Cardiac arrest (with or without respiratory ar...  ...     17.420006\n",
              "1                                   Sepsis, pulmonary  ...      9.791877\n",
              "2                                                      ...      6.344549\n",
              "3                                          Sepsis, GI  ...      3.584854\n",
              "4                       CHF, congestive heart failure  ...      3.273127\n",
              "5                                Pneumonia, bacterial  ...      3.043917\n",
              "6               Sepsis, renal/UTI (including bladder)  ...      3.034748\n",
              "7                CVA, cerebrovascular accident/stroke  ...      3.034748\n",
              "8        Arrest, respiratory (without cardiac arrest)  ...      3.025580\n",
              "9                                     Sepsis, unknown  ...      2.915559\n",
              "10                  Hemorrhage/hematoma, intracranial  ...      2.750527\n",
              "11                  Infarction, acute myocardial (MI)  ...      2.026222\n",
              "12                       Respiratory - medical, other  ...      1.696158\n",
              "13                                      Sepsis, other  ...      1.659485\n",
              "14                               Emphysema/bronchitis  ...      1.540295\n",
              "15      Rhythm disturbance (atrial, supraventricular)  ...      1.283579\n",
              "16                      Sepsis, cutaneous/soft tissue  ...      1.237737\n",
              "17  Coma/change in level of consciousness (for hep...  ...      1.164390\n",
              "18                                 Bleeding, upper GI  ...      1.136885\n",
              "19                                 Shock, cardiogenic  ...      1.127716\n",
              "\n",
              "[20 rows x 3 columns]"
            ]
          },
          "metadata": {
            "tags": []
          },
          "execution_count": 183
        }
      ]
    },
    {
      "cell_type": "markdown",
      "metadata": {
        "id": "353h6s4Udj-d",
        "colab_type": "text"
      },
      "source": [
        "# Query to find most frequent diseases with highest mortality rates based on hospital discharge status - (TOP 20) "
      ]
    },
    {
      "cell_type": "code",
      "metadata": {
        "id": "kAra2iDDrwyV",
        "colab_type": "code",
        "colab": {}
      },
      "source": [
        "%%bigquery --project $project_id topdiseases_hospdeath\n",
        "select apacheadmissiondx, count(apacheadmissiondx) as count,count(apacheadmissiondx)*100/(select count(*) from `physionet-data.eicu_crd.patient` where hospitaldischargestatus='Expired') as morpct\n",
        "from `physionet-data.eicu_crd.patient` \n",
        "where hospitaldischargestatus='Expired'\n",
        "group by apacheadmissiondx \n",
        "order by count(apacheadmissiondx) desc\n",
        "limit 20;"
      ],
      "execution_count": 0,
      "outputs": []
    },
    {
      "cell_type": "code",
      "metadata": {
        "id": "PCfe670Cr52r",
        "colab_type": "code",
        "outputId": "52e03537-8f9a-45d3-c170-f0f3cd55f855",
        "colab": {
          "base_uri": "https://localhost:8080/",
          "height": 639
        }
      },
      "source": [
        "topdiseases_hospdeath.columns=['Disease','Patients(#)','Mortality(%)']\n",
        "topdiseases_hospdeath"
      ],
      "execution_count": 0,
      "outputs": [
        {
          "output_type": "execute_result",
          "data": {
            "text/html": [
              "<div>\n",
              "<style scoped>\n",
              "    .dataframe tbody tr th:only-of-type {\n",
              "        vertical-align: middle;\n",
              "    }\n",
              "\n",
              "    .dataframe tbody tr th {\n",
              "        vertical-align: top;\n",
              "    }\n",
              "\n",
              "    .dataframe thead th {\n",
              "        text-align: right;\n",
              "    }\n",
              "</style>\n",
              "<table border=\"1\" class=\"dataframe\">\n",
              "  <thead>\n",
              "    <tr style=\"text-align: right;\">\n",
              "      <th></th>\n",
              "      <th>Disease</th>\n",
              "      <th>Patients(#)</th>\n",
              "      <th>Mortality(%)</th>\n",
              "    </tr>\n",
              "  </thead>\n",
              "  <tbody>\n",
              "    <tr>\n",
              "      <th>0</th>\n",
              "      <td>Cardiac arrest (with or without respiratory ar...</td>\n",
              "      <td>2345</td>\n",
              "      <td>13.024883</td>\n",
              "    </tr>\n",
              "    <tr>\n",
              "      <th>1</th>\n",
              "      <td>Sepsis, pulmonary</td>\n",
              "      <td>1641</td>\n",
              "      <td>9.114641</td>\n",
              "    </tr>\n",
              "    <tr>\n",
              "      <th>2</th>\n",
              "      <td></td>\n",
              "      <td>1481</td>\n",
              "      <td>8.225950</td>\n",
              "    </tr>\n",
              "    <tr>\n",
              "      <th>3</th>\n",
              "      <td>CHF, congestive heart failure</td>\n",
              "      <td>683</td>\n",
              "      <td>3.793601</td>\n",
              "    </tr>\n",
              "    <tr>\n",
              "      <th>4</th>\n",
              "      <td>CVA, cerebrovascular accident/stroke</td>\n",
              "      <td>662</td>\n",
              "      <td>3.676961</td>\n",
              "    </tr>\n",
              "    <tr>\n",
              "      <th>5</th>\n",
              "      <td>Sepsis, renal/UTI (including bladder)</td>\n",
              "      <td>591</td>\n",
              "      <td>3.282604</td>\n",
              "    </tr>\n",
              "    <tr>\n",
              "      <th>6</th>\n",
              "      <td>Pneumonia, bacterial</td>\n",
              "      <td>585</td>\n",
              "      <td>3.249278</td>\n",
              "    </tr>\n",
              "    <tr>\n",
              "      <th>7</th>\n",
              "      <td>Sepsis, GI</td>\n",
              "      <td>579</td>\n",
              "      <td>3.215952</td>\n",
              "    </tr>\n",
              "    <tr>\n",
              "      <th>8</th>\n",
              "      <td>Arrest, respiratory (without cardiac arrest)</td>\n",
              "      <td>566</td>\n",
              "      <td>3.143746</td>\n",
              "    </tr>\n",
              "    <tr>\n",
              "      <th>9</th>\n",
              "      <td>Sepsis, unknown</td>\n",
              "      <td>480</td>\n",
              "      <td>2.666074</td>\n",
              "    </tr>\n",
              "    <tr>\n",
              "      <th>10</th>\n",
              "      <td>Hemorrhage/hematoma, intracranial</td>\n",
              "      <td>467</td>\n",
              "      <td>2.593868</td>\n",
              "    </tr>\n",
              "    <tr>\n",
              "      <th>11</th>\n",
              "      <td>Infarction, acute myocardial (MI)</td>\n",
              "      <td>345</td>\n",
              "      <td>1.916241</td>\n",
              "    </tr>\n",
              "    <tr>\n",
              "      <th>12</th>\n",
              "      <td>Emphysema/bronchitis</td>\n",
              "      <td>328</td>\n",
              "      <td>1.821817</td>\n",
              "    </tr>\n",
              "    <tr>\n",
              "      <th>13</th>\n",
              "      <td>Respiratory - medical, other</td>\n",
              "      <td>322</td>\n",
              "      <td>1.788491</td>\n",
              "    </tr>\n",
              "    <tr>\n",
              "      <th>14</th>\n",
              "      <td>Sepsis, other</td>\n",
              "      <td>308</td>\n",
              "      <td>1.710731</td>\n",
              "    </tr>\n",
              "    <tr>\n",
              "      <th>15</th>\n",
              "      <td>Rhythm disturbance (atrial, supraventricular)</td>\n",
              "      <td>285</td>\n",
              "      <td>1.582982</td>\n",
              "    </tr>\n",
              "    <tr>\n",
              "      <th>16</th>\n",
              "      <td>Coma/change in level of consciousness (for hep...</td>\n",
              "      <td>260</td>\n",
              "      <td>1.444124</td>\n",
              "    </tr>\n",
              "    <tr>\n",
              "      <th>17</th>\n",
              "      <td>Sepsis, cutaneous/soft tissue</td>\n",
              "      <td>219</td>\n",
              "      <td>1.216396</td>\n",
              "    </tr>\n",
              "    <tr>\n",
              "      <th>18</th>\n",
              "      <td>Bleeding, upper GI</td>\n",
              "      <td>201</td>\n",
              "      <td>1.116419</td>\n",
              "    </tr>\n",
              "    <tr>\n",
              "      <th>19</th>\n",
              "      <td>Renal failure, acute</td>\n",
              "      <td>198</td>\n",
              "      <td>1.099756</td>\n",
              "    </tr>\n",
              "  </tbody>\n",
              "</table>\n",
              "</div>"
            ],
            "text/plain": [
              "                                              Disease  ...  Mortality(%)\n",
              "0   Cardiac arrest (with or without respiratory ar...  ...     13.024883\n",
              "1                                   Sepsis, pulmonary  ...      9.114641\n",
              "2                                                      ...      8.225950\n",
              "3                       CHF, congestive heart failure  ...      3.793601\n",
              "4                CVA, cerebrovascular accident/stroke  ...      3.676961\n",
              "5               Sepsis, renal/UTI (including bladder)  ...      3.282604\n",
              "6                                Pneumonia, bacterial  ...      3.249278\n",
              "7                                          Sepsis, GI  ...      3.215952\n",
              "8        Arrest, respiratory (without cardiac arrest)  ...      3.143746\n",
              "9                                     Sepsis, unknown  ...      2.666074\n",
              "10                  Hemorrhage/hematoma, intracranial  ...      2.593868\n",
              "11                  Infarction, acute myocardial (MI)  ...      1.916241\n",
              "12                               Emphysema/bronchitis  ...      1.821817\n",
              "13                       Respiratory - medical, other  ...      1.788491\n",
              "14                                      Sepsis, other  ...      1.710731\n",
              "15      Rhythm disturbance (atrial, supraventricular)  ...      1.582982\n",
              "16  Coma/change in level of consciousness (for hep...  ...      1.444124\n",
              "17                      Sepsis, cutaneous/soft tissue  ...      1.216396\n",
              "18                                 Bleeding, upper GI  ...      1.116419\n",
              "19                               Renal failure, acute  ...      1.099756\n",
              "\n",
              "[20 rows x 3 columns]"
            ]
          },
          "metadata": {
            "tags": []
          },
          "execution_count": 185
        }
      ]
    }
  ]
}
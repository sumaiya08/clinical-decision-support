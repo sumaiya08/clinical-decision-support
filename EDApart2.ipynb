{
  "nbformat": 4,
  "nbformat_minor": 0,
  "metadata": {
    "colab": {
      "name": "EDA.ipynb",
      "provenance": [],
      "collapsed_sections": [],
      "authorship_tag": "ABX9TyPQ06GzcLjMH3L7VvKXPTNs",
      "include_colab_link": true
    },
    "kernelspec": {
      "name": "python3",
      "display_name": "Python 3"
    }
  },
  "cells": [
    {
      "cell_type": "markdown",
      "metadata": {
        "id": "view-in-github",
        "colab_type": "text"
      },
      "source": [
        "<a href=\"https://colab.research.google.com/github/sumaiya08/medicaldata/blob/master/EDApart2.ipynb\" target=\"_parent\"><img src=\"https://colab.research.google.com/assets/colab-badge.svg\" alt=\"Open In Colab\"/></a>"
      ]
    },
    {
      "cell_type": "code",
      "metadata": {
        "id": "CF91RAclQKQw",
        "colab_type": "code",
        "colab": {}
      },
      "source": [
        "import os\n",
        "import numpy as np\n",
        "import pandas as pd\n",
        "import matplotlib.pyplot as plt\n",
        "\n",
        "# Access data using Google BigQuery.\n",
        "from google.colab import auth\n",
        "from google.cloud import bigquery"
      ],
      "execution_count": 0,
      "outputs": []
    },
    {
      "cell_type": "code",
      "metadata": {
        "id": "nlvum-qEQYrx",
        "colab_type": "code",
        "colab": {}
      },
      "source": [
        "auth.authenticate_user()\n",
        "print('Authenticated')\n"
      ],
      "execution_count": 0,
      "outputs": []
    },
    {
      "cell_type": "code",
      "metadata": {
        "id": "7-ZgHULDQyj5",
        "colab_type": "code",
        "colab": {}
      },
      "source": [
        "project_id='eicudata'\n"
      ],
      "execution_count": 0,
      "outputs": []
    },
    {
      "cell_type": "markdown",
      "metadata": {
        "id": "23FHQWios2ez",
        "colab_type": "text"
      },
      "source": [
        "Total number of hospitals in the database -"
      ]
    },
    {
      "cell_type": "code",
      "metadata": {
        "id": "cP645fqjs2_k",
        "colab_type": "code",
        "colab": {}
      },
      "source": [
        "%%bigquery --project $project_id totalhosp\n",
        "Select COUNT (DISTINCT hospitalid)\n",
        "from `physionet-data.eicu_crd.hospital`;"
      ],
      "execution_count": 0,
      "outputs": []
    },
    {
      "cell_type": "code",
      "metadata": {
        "id": "LYBC4g20tTRa",
        "colab_type": "code",
        "colab": {
          "base_uri": "https://localhost:8080/",
          "height": 77
        },
        "outputId": "6700c7ee-11ed-4585-d4cc-1ba0a05c2133"
      },
      "source": [
        "totalhosp"
      ],
      "execution_count": 19,
      "outputs": [
        {
          "output_type": "execute_result",
          "data": {
            "text/html": [
              "<div>\n",
              "<style scoped>\n",
              "    .dataframe tbody tr th:only-of-type {\n",
              "        vertical-align: middle;\n",
              "    }\n",
              "\n",
              "    .dataframe tbody tr th {\n",
              "        vertical-align: top;\n",
              "    }\n",
              "\n",
              "    .dataframe thead th {\n",
              "        text-align: right;\n",
              "    }\n",
              "</style>\n",
              "<table border=\"1\" class=\"dataframe\">\n",
              "  <thead>\n",
              "    <tr style=\"text-align: right;\">\n",
              "      <th></th>\n",
              "      <th>f0_</th>\n",
              "    </tr>\n",
              "  </thead>\n",
              "  <tbody>\n",
              "    <tr>\n",
              "      <th>0</th>\n",
              "      <td>208</td>\n",
              "    </tr>\n",
              "  </tbody>\n",
              "</table>\n",
              "</div>"
            ],
            "text/plain": [
              "   f0_\n",
              "0  208"
            ]
          },
          "metadata": {
            "tags": []
          },
          "execution_count": 19
        }
      ]
    },
    {
      "cell_type": "markdown",
      "metadata": {
        "id": "ixE6fSZzspXP",
        "colab_type": "text"
      },
      "source": [
        "Total number of ICU'S - "
      ]
    },
    {
      "cell_type": "code",
      "metadata": {
        "id": "fimNNmkQRA9w",
        "colab_type": "code",
        "colab": {}
      },
      "source": [
        "%%bigquery --project $project_id totalicu\n",
        "SELECT COUNT (DISTINCT wardid )\n",
        "FROM `physionet-data.eicu_crd.patient`\n"
      ],
      "execution_count": 0,
      "outputs": []
    },
    {
      "cell_type": "code",
      "metadata": {
        "id": "L67HY-U1RjR8",
        "colab_type": "code",
        "outputId": "7fa89219-dd7d-4e6c-f9d6-c3e25d154279",
        "colab": {
          "base_uri": "https://localhost:8080/",
          "height": 77
        }
      },
      "source": [
        "totalicu"
      ],
      "execution_count": 21,
      "outputs": [
        {
          "output_type": "execute_result",
          "data": {
            "text/html": [
              "<div>\n",
              "<style scoped>\n",
              "    .dataframe tbody tr th:only-of-type {\n",
              "        vertical-align: middle;\n",
              "    }\n",
              "\n",
              "    .dataframe tbody tr th {\n",
              "        vertical-align: top;\n",
              "    }\n",
              "\n",
              "    .dataframe thead th {\n",
              "        text-align: right;\n",
              "    }\n",
              "</style>\n",
              "<table border=\"1\" class=\"dataframe\">\n",
              "  <thead>\n",
              "    <tr style=\"text-align: right;\">\n",
              "      <th></th>\n",
              "      <th>f0_</th>\n",
              "    </tr>\n",
              "  </thead>\n",
              "  <tbody>\n",
              "    <tr>\n",
              "      <th>0</th>\n",
              "      <td>335</td>\n",
              "    </tr>\n",
              "  </tbody>\n",
              "</table>\n",
              "</div>"
            ],
            "text/plain": [
              "   f0_\n",
              "0  335"
            ]
          },
          "metadata": {
            "tags": []
          },
          "execution_count": 21
        }
      ]
    },
    {
      "cell_type": "markdown",
      "metadata": {
        "id": "riATLPBHtoOP",
        "colab_type": "text"
      },
      "source": [
        "Procedures that have ICD 9/10 codes available -"
      ]
    },
    {
      "cell_type": "code",
      "metadata": {
        "id": "QmjhviPloidy",
        "colab_type": "code",
        "colab": {}
      },
      "source": [
        "%%bigquery --project $project_id icdcode\n",
        "select diagnosisstring,icd9code,count(*) as count\n",
        "from `physionet-data.eicu_crd.diagnosis` \n",
        "where icd9code is not null\n",
        "group by diagnosisstring, icd9code\n"
      ],
      "execution_count": 0,
      "outputs": []
    },
    {
      "cell_type": "code",
      "metadata": {
        "id": "C5_09LQfpJP9",
        "colab_type": "code",
        "colab": {
          "base_uri": "https://localhost:8080/",
          "height": 402
        },
        "outputId": "db2f6966-cb54-47b8-94de-149be56c0ef8"
      },
      "source": [
        "icdcode"
      ],
      "execution_count": 25,
      "outputs": [
        {
          "output_type": "execute_result",
          "data": {
            "text/html": [
              "<div>\n",
              "<style scoped>\n",
              "    .dataframe tbody tr th:only-of-type {\n",
              "        vertical-align: middle;\n",
              "    }\n",
              "\n",
              "    .dataframe tbody tr th {\n",
              "        vertical-align: top;\n",
              "    }\n",
              "\n",
              "    .dataframe thead th {\n",
              "        text-align: right;\n",
              "    }\n",
              "</style>\n",
              "<table border=\"1\" class=\"dataframe\">\n",
              "  <thead>\n",
              "    <tr style=\"text-align: right;\">\n",
              "      <th></th>\n",
              "      <th>diagnosisstring</th>\n",
              "      <th>icd9code</th>\n",
              "      <th>count</th>\n",
              "    </tr>\n",
              "  </thead>\n",
              "  <tbody>\n",
              "    <tr>\n",
              "      <th>0</th>\n",
              "      <td>cardiovascular|shock / hypotension|hypovolemic...</td>\n",
              "      <td>785.59, R57.1, R58</td>\n",
              "      <td>3249</td>\n",
              "    </tr>\n",
              "    <tr>\n",
              "      <th>1</th>\n",
              "      <td>cardiovascular|diseases of the aorta|aortic an...</td>\n",
              "      <td>441.4, I71.4</td>\n",
              "      <td>727</td>\n",
              "    </tr>\n",
              "    <tr>\n",
              "      <th>2</th>\n",
              "      <td>cardiovascular|diseases of the aorta|aortic an...</td>\n",
              "      <td>441.9, I71.9</td>\n",
              "      <td>81</td>\n",
              "    </tr>\n",
              "    <tr>\n",
              "      <th>3</th>\n",
              "      <td>pulmonary|disorders of the airways|asthma / br...</td>\n",
              "      <td>493.90, J45</td>\n",
              "      <td>7593</td>\n",
              "    </tr>\n",
              "    <tr>\n",
              "      <th>4</th>\n",
              "      <td>oncology|hematologic malignancy|leukemia|chron...</td>\n",
              "      <td>204.10, C91.10</td>\n",
              "      <td>394</td>\n",
              "    </tr>\n",
              "    <tr>\n",
              "      <th>...</th>\n",
              "      <td>...</td>\n",
              "      <td>...</td>\n",
              "      <td>...</td>\n",
              "    </tr>\n",
              "    <tr>\n",
              "      <th>3928</th>\n",
              "      <td>renal|disorder of acid base|metabolic acidosis...</td>\n",
              "      <td>276.2, E87.2</td>\n",
              "      <td>5</td>\n",
              "    </tr>\n",
              "    <tr>\n",
              "      <th>3929</th>\n",
              "      <td>surgery|neurosurgical issues|seizures|from tumor</td>\n",
              "      <td>345.90, R56.9</td>\n",
              "      <td>1</td>\n",
              "    </tr>\n",
              "    <tr>\n",
              "      <th>3930</th>\n",
              "      <td>pulmonary|respiratory failure|acute respirator...</td>\n",
              "      <td>518.81, J96.00</td>\n",
              "      <td>1</td>\n",
              "    </tr>\n",
              "    <tr>\n",
              "      <th>3931</th>\n",
              "      <td>surgery|respiratory failure|ventilatory failur...</td>\n",
              "      <td>518.81, J96.00</td>\n",
              "      <td>1</td>\n",
              "    </tr>\n",
              "    <tr>\n",
              "      <th>3932</th>\n",
              "      <td>surgery|respiratory failure|ventilatory failur...</td>\n",
              "      <td>518.81, J96.00</td>\n",
              "      <td>1</td>\n",
              "    </tr>\n",
              "  </tbody>\n",
              "</table>\n",
              "<p>3933 rows × 3 columns</p>\n",
              "</div>"
            ],
            "text/plain": [
              "                                        diagnosisstring  ... count\n",
              "0     cardiovascular|shock / hypotension|hypovolemic...  ...  3249\n",
              "1     cardiovascular|diseases of the aorta|aortic an...  ...   727\n",
              "2     cardiovascular|diseases of the aorta|aortic an...  ...    81\n",
              "3     pulmonary|disorders of the airways|asthma / br...  ...  7593\n",
              "4     oncology|hematologic malignancy|leukemia|chron...  ...   394\n",
              "...                                                 ...  ...   ...\n",
              "3928  renal|disorder of acid base|metabolic acidosis...  ...     5\n",
              "3929   surgery|neurosurgical issues|seizures|from tumor  ...     1\n",
              "3930  pulmonary|respiratory failure|acute respirator...  ...     1\n",
              "3931  surgery|respiratory failure|ventilatory failur...  ...     1\n",
              "3932  surgery|respiratory failure|ventilatory failur...  ...     1\n",
              "\n",
              "[3933 rows x 3 columns]"
            ]
          },
          "metadata": {
            "tags": []
          },
          "execution_count": 25
        }
      ]
    },
    {
      "cell_type": "markdown",
      "metadata": {
        "id": "K5BO3YPsuSnx",
        "colab_type": "text"
      },
      "source": [
        "Top 10 diseases common amongst patients -"
      ]
    },
    {
      "cell_type": "code",
      "metadata": {
        "id": "kbArsf8JvH-y",
        "colab_type": "code",
        "colab": {}
      },
      "source": [
        "%%bigquery --project $project_id topdiseases \n",
        "select apacheadmissiondx, count(apacheadmissiondx) as count\n",
        "from `physionet-data.eicu_crd.patient` \n",
        "group by apacheadmissiondx \n",
        "order by count(apacheadmissiondx) desc\n",
        "limit 10;"
      ],
      "execution_count": 0,
      "outputs": []
    },
    {
      "cell_type": "code",
      "metadata": {
        "id": "Bq13MRMZvQCj",
        "colab_type": "code",
        "colab": {
          "base_uri": "https://localhost:8080/",
          "height": 343
        },
        "outputId": "dba9ff2c-56db-40e9-8179-54e1a0601dc4"
      },
      "source": [
        "topdiseases"
      ],
      "execution_count": 37,
      "outputs": [
        {
          "output_type": "execute_result",
          "data": {
            "text/html": [
              "<div>\n",
              "<style scoped>\n",
              "    .dataframe tbody tr th:only-of-type {\n",
              "        vertical-align: middle;\n",
              "    }\n",
              "\n",
              "    .dataframe tbody tr th {\n",
              "        vertical-align: top;\n",
              "    }\n",
              "\n",
              "    .dataframe thead th {\n",
              "        text-align: right;\n",
              "    }\n",
              "</style>\n",
              "<table border=\"1\" class=\"dataframe\">\n",
              "  <thead>\n",
              "    <tr style=\"text-align: right;\">\n",
              "      <th></th>\n",
              "      <th>apacheadmissiondx</th>\n",
              "      <th>count</th>\n",
              "    </tr>\n",
              "  </thead>\n",
              "  <tbody>\n",
              "    <tr>\n",
              "      <th>0</th>\n",
              "      <td></td>\n",
              "      <td>22996</td>\n",
              "    </tr>\n",
              "    <tr>\n",
              "      <th>1</th>\n",
              "      <td>Sepsis, pulmonary</td>\n",
              "      <td>8862</td>\n",
              "    </tr>\n",
              "    <tr>\n",
              "      <th>2</th>\n",
              "      <td>Infarction, acute myocardial (MI)</td>\n",
              "      <td>7228</td>\n",
              "    </tr>\n",
              "    <tr>\n",
              "      <th>3</th>\n",
              "      <td>CVA, cerebrovascular accident/stroke</td>\n",
              "      <td>6647</td>\n",
              "    </tr>\n",
              "    <tr>\n",
              "      <th>4</th>\n",
              "      <td>CHF, congestive heart failure</td>\n",
              "      <td>6617</td>\n",
              "    </tr>\n",
              "    <tr>\n",
              "      <th>5</th>\n",
              "      <td>Sepsis, renal/UTI (including bladder)</td>\n",
              "      <td>5273</td>\n",
              "    </tr>\n",
              "    <tr>\n",
              "      <th>6</th>\n",
              "      <td>Rhythm disturbance (atrial, supraventricular)</td>\n",
              "      <td>4827</td>\n",
              "    </tr>\n",
              "    <tr>\n",
              "      <th>7</th>\n",
              "      <td>Diabetic ketoacidosis</td>\n",
              "      <td>4825</td>\n",
              "    </tr>\n",
              "    <tr>\n",
              "      <th>8</th>\n",
              "      <td>Cardiac arrest (with or without respiratory ar...</td>\n",
              "      <td>4580</td>\n",
              "    </tr>\n",
              "    <tr>\n",
              "      <th>9</th>\n",
              "      <td>CABG alone, coronary artery bypass grafting</td>\n",
              "      <td>4543</td>\n",
              "    </tr>\n",
              "  </tbody>\n",
              "</table>\n",
              "</div>"
            ],
            "text/plain": [
              "                                   apacheadmissiondx  count\n",
              "0                                                     22996\n",
              "1                                  Sepsis, pulmonary   8862\n",
              "2                  Infarction, acute myocardial (MI)   7228\n",
              "3               CVA, cerebrovascular accident/stroke   6647\n",
              "4                      CHF, congestive heart failure   6617\n",
              "5              Sepsis, renal/UTI (including bladder)   5273\n",
              "6      Rhythm disturbance (atrial, supraventricular)   4827\n",
              "7                              Diabetic ketoacidosis   4825\n",
              "8  Cardiac arrest (with or without respiratory ar...   4580\n",
              "9        CABG alone, coronary artery bypass grafting   4543"
            ]
          },
          "metadata": {
            "tags": []
          },
          "execution_count": 37
        }
      ]
    },
    {
      "cell_type": "markdown",
      "metadata": {
        "id": "lT0Yw_qQv9Gh",
        "colab_type": "text"
      },
      "source": [
        "Identifying patients with heart diseases using related drug name - "
      ]
    },
    {
      "cell_type": "code",
      "metadata": {
        "id": "SEPh3tqrvRN9",
        "colab_type": "code",
        "colab": {}
      },
      "source": [
        "%%bigquery --project $project_id heartpatients \n",
        "select gender, age, ethnicity,apacheadmissiondx,drugname\n",
        "from `physionet-data.eicu_crd.admissiondrug` a\n",
        "join `physionet-data.eicu_crd.patient` b ON (\n",
        "a.patientunitstayid =b.patientunitstayid\n",
        ")\n",
        "where drugname like '%CLOPIDOGREL%' # can also look for drug WARFARIN"
      ],
      "execution_count": 0,
      "outputs": []
    },
    {
      "cell_type": "code",
      "metadata": {
        "id": "xfSqUfSxwie7",
        "colab_type": "code",
        "colab": {
          "base_uri": "https://localhost:8080/",
          "height": 402
        },
        "outputId": "3efbb6b2-7fb9-431e-af01-4a420097acdb"
      },
      "source": [
        "heartpatients"
      ],
      "execution_count": 42,
      "outputs": [
        {
          "output_type": "execute_result",
          "data": {
            "text/html": [
              "<div>\n",
              "<style scoped>\n",
              "    .dataframe tbody tr th:only-of-type {\n",
              "        vertical-align: middle;\n",
              "    }\n",
              "\n",
              "    .dataframe tbody tr th {\n",
              "        vertical-align: top;\n",
              "    }\n",
              "\n",
              "    .dataframe thead th {\n",
              "        text-align: right;\n",
              "    }\n",
              "</style>\n",
              "<table border=\"1\" class=\"dataframe\">\n",
              "  <thead>\n",
              "    <tr style=\"text-align: right;\">\n",
              "      <th></th>\n",
              "      <th>gender</th>\n",
              "      <th>age</th>\n",
              "      <th>ethnicity</th>\n",
              "      <th>apacheadmissiondx</th>\n",
              "      <th>drugname</th>\n",
              "    </tr>\n",
              "  </thead>\n",
              "  <tbody>\n",
              "    <tr>\n",
              "      <th>0</th>\n",
              "      <td>Male</td>\n",
              "      <td>74</td>\n",
              "      <td></td>\n",
              "      <td>Endarterectomy, carotid</td>\n",
              "      <td>CLOPIDOGREL                                   ...</td>\n",
              "    </tr>\n",
              "    <tr>\n",
              "      <th>1</th>\n",
              "      <td>Male</td>\n",
              "      <td>68</td>\n",
              "      <td>Hispanic</td>\n",
              "      <td>Bleeding, upper GI</td>\n",
              "      <td>CLOPIDOGREL                                   ...</td>\n",
              "    </tr>\n",
              "    <tr>\n",
              "      <th>2</th>\n",
              "      <td>Female</td>\n",
              "      <td>74</td>\n",
              "      <td></td>\n",
              "      <td>Endarterectomy, carotid</td>\n",
              "      <td>CLOPIDOGREL                                   ...</td>\n",
              "    </tr>\n",
              "    <tr>\n",
              "      <th>3</th>\n",
              "      <td>Male</td>\n",
              "      <td>69</td>\n",
              "      <td>Caucasian</td>\n",
              "      <td>Hematoma subdural, surgery for</td>\n",
              "      <td>CLOPIDOGREL                                   ...</td>\n",
              "    </tr>\n",
              "    <tr>\n",
              "      <th>4</th>\n",
              "      <td>Male</td>\n",
              "      <td>53</td>\n",
              "      <td>Caucasian</td>\n",
              "      <td>Hemorrhage (for gastrointestinal bleeding GI-s...</td>\n",
              "      <td>CLOPIDOGREL                                   ...</td>\n",
              "    </tr>\n",
              "    <tr>\n",
              "      <th>...</th>\n",
              "      <td>...</td>\n",
              "      <td>...</td>\n",
              "      <td>...</td>\n",
              "      <td>...</td>\n",
              "      <td>...</td>\n",
              "    </tr>\n",
              "    <tr>\n",
              "      <th>1724</th>\n",
              "      <td>Female</td>\n",
              "      <td>85</td>\n",
              "      <td>African American</td>\n",
              "      <td>Hematologic medical, other</td>\n",
              "      <td>CLOPIDOGREL                                   ...</td>\n",
              "    </tr>\n",
              "    <tr>\n",
              "      <th>1725</th>\n",
              "      <td>Male</td>\n",
              "      <td>77</td>\n",
              "      <td>Caucasian</td>\n",
              "      <td>Infarction, acute myocardial (MI)</td>\n",
              "      <td>CLOPIDOGREL                                   ...</td>\n",
              "    </tr>\n",
              "    <tr>\n",
              "      <th>1726</th>\n",
              "      <td>Male</td>\n",
              "      <td>73</td>\n",
              "      <td>African American</td>\n",
              "      <td>Seizures (primary-no structural brain disease)</td>\n",
              "      <td>CLOPIDOGREL                                   ...</td>\n",
              "    </tr>\n",
              "    <tr>\n",
              "      <th>1727</th>\n",
              "      <td>Male</td>\n",
              "      <td>73</td>\n",
              "      <td>African American</td>\n",
              "      <td>CVA, cerebrovascular accident/stroke</td>\n",
              "      <td>CLOPIDOGREL                                   ...</td>\n",
              "    </tr>\n",
              "    <tr>\n",
              "      <th>1728</th>\n",
              "      <td>Male</td>\n",
              "      <td>72</td>\n",
              "      <td>Caucasian</td>\n",
              "      <td>Sepsis, renal/UTI (including bladder)</td>\n",
              "      <td>CLOPIDOGREL                                   ...</td>\n",
              "    </tr>\n",
              "  </tbody>\n",
              "</table>\n",
              "<p>1729 rows × 5 columns</p>\n",
              "</div>"
            ],
            "text/plain": [
              "      gender  ...                                           drugname\n",
              "0       Male  ...  CLOPIDOGREL                                   ...\n",
              "1       Male  ...  CLOPIDOGREL                                   ...\n",
              "2     Female  ...  CLOPIDOGREL                                   ...\n",
              "3       Male  ...  CLOPIDOGREL                                   ...\n",
              "4       Male  ...  CLOPIDOGREL                                   ...\n",
              "...      ...  ...                                                ...\n",
              "1724  Female  ...  CLOPIDOGREL                                   ...\n",
              "1725    Male  ...  CLOPIDOGREL                                   ...\n",
              "1726    Male  ...  CLOPIDOGREL                                   ...\n",
              "1727    Male  ...  CLOPIDOGREL                                   ...\n",
              "1728    Male  ...  CLOPIDOGREL                                   ...\n",
              "\n",
              "[1729 rows x 5 columns]"
            ]
          },
          "metadata": {
            "tags": []
          },
          "execution_count": 42
        }
      ]
    }
  ]
}